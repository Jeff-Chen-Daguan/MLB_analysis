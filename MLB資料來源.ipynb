{
 "cells": [
  {
   "cell_type": "markdown",
   "metadata": {},
   "source": [
    "# MLB 資料來源 2021.01.25"
   ]
  },
  {
   "cell_type": "code",
   "execution_count": 1,
   "metadata": {},
   "outputs": [],
   "source": [
    "import sys\n",
    "sys.path.append('G:\\我的雲端硬碟\\python')\n",
    "\n",
    "from polib.CsvEngn import *\n",
    "import glob\n",
    "# import mlbgame\n",
    "from tqdm import tqdm\n",
    "import requests as rs\n",
    "from bs4 import BeautifulSoup\n",
    "import time"
   ]
  },
  {
   "cell_type": "markdown",
   "metadata": {},
   "source": [
    "## 1. Lahman_db"
   ]
  },
  {
   "cell_type": "markdown",
   "metadata": {},
   "source": [
    "有各球員、球隊、年度的表現、薪資、球員個人資訊、明星賽資訊\n",
    "- [說明網頁&下載點 (每年覆蓋整版)](http://www.seanlahman.com/baseball-archive/statistics/)\n",
    "- 存放位置: G:\\我的雲端硬碟\\learning\\論文今年會寫完\\0.資源包\\2.資料\\1.Lahman_db_2019"
   ]
  },
  {
   "cell_type": "markdown",
   "metadata": {},
   "source": [
    "> 2020的資料預計2021.02 會更新"
   ]
  },
  {
   "cell_type": "code",
   "execution_count": 3,
   "metadata": {},
   "outputs": [
    {
     "name": "stdout",
     "output_type": "stream",
     "text": [
      "Pitching.csv\n",
      "People.csv\n",
      "BattingPost.csv\n",
      "Parks.csv\n",
      "Batting.csv\n",
      "ManagersHalf.csv\n",
      "Managers.csv\n",
      "HomeGames.csv\n",
      "HallOfFame.csv\n",
      "FieldingPost.csv\n",
      "FieldingOFsplit.csv\n",
      "FieldingOF.csv\n",
      "Fielding.csv\n",
      "TeamsHalf.csv\n",
      "TeamsFranchises.csv\n",
      "AwardsSharePlayers.csv\n",
      "AwardsShareManagers.csv\n",
      "AwardsPlayers.csv\n",
      "AwardsManagers.csv\n",
      "Appearances.csv\n",
      "Teams.csv\n",
      "SeriesPost.csv\n",
      "Schools.csv\n",
      "Salaries.csv\n",
      "PitchingPost.csv\n",
      "CollegePlaying.csv\n",
      "AllstarFull.csv\n",
      "\n",
      ">> 有 27個檔案\n"
     ]
    }
   ],
   "source": [
    "path = r\"G:\\我的雲端硬碟\\learning\\論文今年會寫完\\0.資源包\\2.資料\\1.Lahman_db_2019\\core\\*\"\n",
    "n=0\n",
    "for g in glob.glob(path):\n",
    "    if g.split(\"\\\\\")[-1][-3:] == \"csv\":\n",
    "        print(g.split(\"\\\\\")[-1])\n",
    "        n = n+1\n",
    "print(f\"\\n>> 有 {n}個檔案\")"
   ]
  },
  {
   "cell_type": "code",
   "execution_count": 29,
   "metadata": {},
   "outputs": [
    {
     "name": "stdout",
     "output_type": "stream",
     "text": [
      "  >> 讀取:: G:\\我的雲端硬碟\\learning\\論文今年會寫完\\0.資源包\\2.資料\\1.Lahman_db_2019\\core\\People.csv\n"
     ]
    }
   ],
   "source": [
    "path = r\"G:\\我的雲端硬碟\\learning\\論文今年會寫完\\0.資源包\\2.資料\\1.Lahman_db_2019\\core\\People.csv\"\n",
    "df = read_data_dir_fPathExt(path)"
   ]
  },
  {
   "cell_type": "code",
   "execution_count": 30,
   "metadata": {},
   "outputs": [
    {
     "data": {
      "text/html": [
       "<div>\n",
       "<style scoped>\n",
       "    .dataframe tbody tr th:only-of-type {\n",
       "        vertical-align: middle;\n",
       "    }\n",
       "\n",
       "    .dataframe tbody tr th {\n",
       "        vertical-align: top;\n",
       "    }\n",
       "\n",
       "    .dataframe thead th {\n",
       "        text-align: right;\n",
       "    }\n",
       "</style>\n",
       "<table border=\"1\" class=\"dataframe\">\n",
       "  <thead>\n",
       "    <tr style=\"text-align: right;\">\n",
       "      <th></th>\n",
       "      <th>playerID</th>\n",
       "      <th>birthYear</th>\n",
       "      <th>birthMonth</th>\n",
       "      <th>birthDay</th>\n",
       "      <th>birthCountry</th>\n",
       "      <th>birthState</th>\n",
       "      <th>birthCity</th>\n",
       "      <th>deathYear</th>\n",
       "      <th>deathMonth</th>\n",
       "      <th>deathDay</th>\n",
       "      <th>...</th>\n",
       "      <th>nameLast</th>\n",
       "      <th>nameGiven</th>\n",
       "      <th>weight</th>\n",
       "      <th>height</th>\n",
       "      <th>bats</th>\n",
       "      <th>throws</th>\n",
       "      <th>debut</th>\n",
       "      <th>finalGame</th>\n",
       "      <th>retroID</th>\n",
       "      <th>bbrefID</th>\n",
       "    </tr>\n",
       "  </thead>\n",
       "  <tbody>\n",
       "    <tr>\n",
       "      <th>0</th>\n",
       "      <td>aardsda01</td>\n",
       "      <td>1981.0</td>\n",
       "      <td>12.0</td>\n",
       "      <td>27.0</td>\n",
       "      <td>USA</td>\n",
       "      <td>CO</td>\n",
       "      <td>Denver</td>\n",
       "      <td>NaN</td>\n",
       "      <td>NaN</td>\n",
       "      <td>NaN</td>\n",
       "      <td>...</td>\n",
       "      <td>Aardsma</td>\n",
       "      <td>David Allan</td>\n",
       "      <td>215.0</td>\n",
       "      <td>75.0</td>\n",
       "      <td>R</td>\n",
       "      <td>R</td>\n",
       "      <td>2004-04-06</td>\n",
       "      <td>2015-08-23</td>\n",
       "      <td>aardd001</td>\n",
       "      <td>aardsda01</td>\n",
       "    </tr>\n",
       "    <tr>\n",
       "      <th>1</th>\n",
       "      <td>aaronha01</td>\n",
       "      <td>1934.0</td>\n",
       "      <td>2.0</td>\n",
       "      <td>5.0</td>\n",
       "      <td>USA</td>\n",
       "      <td>AL</td>\n",
       "      <td>Mobile</td>\n",
       "      <td>NaN</td>\n",
       "      <td>NaN</td>\n",
       "      <td>NaN</td>\n",
       "      <td>...</td>\n",
       "      <td>Aaron</td>\n",
       "      <td>Henry Louis</td>\n",
       "      <td>180.0</td>\n",
       "      <td>72.0</td>\n",
       "      <td>R</td>\n",
       "      <td>R</td>\n",
       "      <td>1954-04-13</td>\n",
       "      <td>1976-10-03</td>\n",
       "      <td>aaroh101</td>\n",
       "      <td>aaronha01</td>\n",
       "    </tr>\n",
       "    <tr>\n",
       "      <th>2</th>\n",
       "      <td>aaronto01</td>\n",
       "      <td>1939.0</td>\n",
       "      <td>8.0</td>\n",
       "      <td>5.0</td>\n",
       "      <td>USA</td>\n",
       "      <td>AL</td>\n",
       "      <td>Mobile</td>\n",
       "      <td>1984.0</td>\n",
       "      <td>8.0</td>\n",
       "      <td>16.0</td>\n",
       "      <td>...</td>\n",
       "      <td>Aaron</td>\n",
       "      <td>Tommie Lee</td>\n",
       "      <td>190.0</td>\n",
       "      <td>75.0</td>\n",
       "      <td>R</td>\n",
       "      <td>R</td>\n",
       "      <td>1962-04-10</td>\n",
       "      <td>1971-09-26</td>\n",
       "      <td>aarot101</td>\n",
       "      <td>aaronto01</td>\n",
       "    </tr>\n",
       "    <tr>\n",
       "      <th>3</th>\n",
       "      <td>aasedo01</td>\n",
       "      <td>1954.0</td>\n",
       "      <td>9.0</td>\n",
       "      <td>8.0</td>\n",
       "      <td>USA</td>\n",
       "      <td>CA</td>\n",
       "      <td>Orange</td>\n",
       "      <td>NaN</td>\n",
       "      <td>NaN</td>\n",
       "      <td>NaN</td>\n",
       "      <td>...</td>\n",
       "      <td>Aase</td>\n",
       "      <td>Donald William</td>\n",
       "      <td>190.0</td>\n",
       "      <td>75.0</td>\n",
       "      <td>R</td>\n",
       "      <td>R</td>\n",
       "      <td>1977-07-26</td>\n",
       "      <td>1990-10-03</td>\n",
       "      <td>aased001</td>\n",
       "      <td>aasedo01</td>\n",
       "    </tr>\n",
       "    <tr>\n",
       "      <th>4</th>\n",
       "      <td>abadan01</td>\n",
       "      <td>1972.0</td>\n",
       "      <td>8.0</td>\n",
       "      <td>25.0</td>\n",
       "      <td>USA</td>\n",
       "      <td>FL</td>\n",
       "      <td>Palm Beach</td>\n",
       "      <td>NaN</td>\n",
       "      <td>NaN</td>\n",
       "      <td>NaN</td>\n",
       "      <td>...</td>\n",
       "      <td>Abad</td>\n",
       "      <td>Fausto Andres</td>\n",
       "      <td>184.0</td>\n",
       "      <td>73.0</td>\n",
       "      <td>L</td>\n",
       "      <td>L</td>\n",
       "      <td>2001-09-10</td>\n",
       "      <td>2006-04-13</td>\n",
       "      <td>abada001</td>\n",
       "      <td>abadan01</td>\n",
       "    </tr>\n",
       "  </tbody>\n",
       "</table>\n",
       "<p>5 rows × 24 columns</p>\n",
       "</div>"
      ],
      "text/plain": [
       "    playerID  birthYear  birthMonth  birthDay birthCountry birthState  \\\n",
       "0  aardsda01     1981.0        12.0      27.0          USA         CO   \n",
       "1  aaronha01     1934.0         2.0       5.0          USA         AL   \n",
       "2  aaronto01     1939.0         8.0       5.0          USA         AL   \n",
       "3   aasedo01     1954.0         9.0       8.0          USA         CA   \n",
       "4   abadan01     1972.0         8.0      25.0          USA         FL   \n",
       "\n",
       "    birthCity  deathYear  deathMonth  deathDay  ... nameLast       nameGiven  \\\n",
       "0      Denver        NaN         NaN       NaN  ...  Aardsma     David Allan   \n",
       "1      Mobile        NaN         NaN       NaN  ...    Aaron     Henry Louis   \n",
       "2      Mobile     1984.0         8.0      16.0  ...    Aaron      Tommie Lee   \n",
       "3      Orange        NaN         NaN       NaN  ...     Aase  Donald William   \n",
       "4  Palm Beach        NaN         NaN       NaN  ...     Abad   Fausto Andres   \n",
       "\n",
       "  weight height bats throws       debut   finalGame   retroID    bbrefID  \n",
       "0  215.0   75.0    R      R  2004-04-06  2015-08-23  aardd001  aardsda01  \n",
       "1  180.0   72.0    R      R  1954-04-13  1976-10-03  aaroh101  aaronha01  \n",
       "2  190.0   75.0    R      R  1962-04-10  1971-09-26  aarot101  aaronto01  \n",
       "3  190.0   75.0    R      R  1977-07-26  1990-10-03  aased001   aasedo01  \n",
       "4  184.0   73.0    L      L  2001-09-10  2006-04-13  abada001   abadan01  \n",
       "\n",
       "[5 rows x 24 columns]"
      ]
     },
     "execution_count": 30,
     "metadata": {},
     "output_type": "execute_result"
    }
   ],
   "source": [
    "df.head()"
   ]
  },
  {
   "cell_type": "code",
   "execution_count": 19,
   "metadata": {},
   "outputs": [
    {
     "data": {
      "text/html": [
       "<div>\n",
       "<style scoped>\n",
       "    .dataframe tbody tr th:only-of-type {\n",
       "        vertical-align: middle;\n",
       "    }\n",
       "\n",
       "    .dataframe tbody tr th {\n",
       "        vertical-align: top;\n",
       "    }\n",
       "\n",
       "    .dataframe thead th {\n",
       "        text-align: right;\n",
       "    }\n",
       "</style>\n",
       "<table border=\"1\" class=\"dataframe\">\n",
       "  <thead>\n",
       "    <tr style=\"text-align: right;\">\n",
       "      <th></th>\n",
       "      <th>playerID</th>\n",
       "      <th>birthYear</th>\n",
       "      <th>birthMonth</th>\n",
       "      <th>birthDay</th>\n",
       "      <th>birthCountry</th>\n",
       "      <th>birthState</th>\n",
       "      <th>birthCity</th>\n",
       "      <th>deathYear</th>\n",
       "      <th>deathMonth</th>\n",
       "      <th>deathDay</th>\n",
       "      <th>...</th>\n",
       "      <th>nameLast</th>\n",
       "      <th>nameGiven</th>\n",
       "      <th>weight</th>\n",
       "      <th>height</th>\n",
       "      <th>bats</th>\n",
       "      <th>throws</th>\n",
       "      <th>debut</th>\n",
       "      <th>finalGame</th>\n",
       "      <th>retroID</th>\n",
       "      <th>bbrefID</th>\n",
       "    </tr>\n",
       "  </thead>\n",
       "  <tbody>\n",
       "    <tr>\n",
       "      <th>0</th>\n",
       "      <td>aardsda01</td>\n",
       "      <td>1981.0</td>\n",
       "      <td>12.0</td>\n",
       "      <td>27.0</td>\n",
       "      <td>USA</td>\n",
       "      <td>CO</td>\n",
       "      <td>Denver</td>\n",
       "      <td>NaN</td>\n",
       "      <td>NaN</td>\n",
       "      <td>NaN</td>\n",
       "      <td>...</td>\n",
       "      <td>Aardsma</td>\n",
       "      <td>David Allan</td>\n",
       "      <td>215.0</td>\n",
       "      <td>75.0</td>\n",
       "      <td>R</td>\n",
       "      <td>R</td>\n",
       "      <td>2004-04-06</td>\n",
       "      <td>2015-08-23</td>\n",
       "      <td>aardd001</td>\n",
       "      <td>aardsda01</td>\n",
       "    </tr>\n",
       "    <tr>\n",
       "      <th>1</th>\n",
       "      <td>aaronha01</td>\n",
       "      <td>1934.0</td>\n",
       "      <td>2.0</td>\n",
       "      <td>5.0</td>\n",
       "      <td>USA</td>\n",
       "      <td>AL</td>\n",
       "      <td>Mobile</td>\n",
       "      <td>NaN</td>\n",
       "      <td>NaN</td>\n",
       "      <td>NaN</td>\n",
       "      <td>...</td>\n",
       "      <td>Aaron</td>\n",
       "      <td>Henry Louis</td>\n",
       "      <td>180.0</td>\n",
       "      <td>72.0</td>\n",
       "      <td>R</td>\n",
       "      <td>R</td>\n",
       "      <td>1954-04-13</td>\n",
       "      <td>1976-10-03</td>\n",
       "      <td>aaroh101</td>\n",
       "      <td>aaronha01</td>\n",
       "    </tr>\n",
       "    <tr>\n",
       "      <th>2</th>\n",
       "      <td>aaronto01</td>\n",
       "      <td>1939.0</td>\n",
       "      <td>8.0</td>\n",
       "      <td>5.0</td>\n",
       "      <td>USA</td>\n",
       "      <td>AL</td>\n",
       "      <td>Mobile</td>\n",
       "      <td>1984.0</td>\n",
       "      <td>8.0</td>\n",
       "      <td>16.0</td>\n",
       "      <td>...</td>\n",
       "      <td>Aaron</td>\n",
       "      <td>Tommie Lee</td>\n",
       "      <td>190.0</td>\n",
       "      <td>75.0</td>\n",
       "      <td>R</td>\n",
       "      <td>R</td>\n",
       "      <td>1962-04-10</td>\n",
       "      <td>1971-09-26</td>\n",
       "      <td>aarot101</td>\n",
       "      <td>aaronto01</td>\n",
       "    </tr>\n",
       "    <tr>\n",
       "      <th>3</th>\n",
       "      <td>aasedo01</td>\n",
       "      <td>1954.0</td>\n",
       "      <td>9.0</td>\n",
       "      <td>8.0</td>\n",
       "      <td>USA</td>\n",
       "      <td>CA</td>\n",
       "      <td>Orange</td>\n",
       "      <td>NaN</td>\n",
       "      <td>NaN</td>\n",
       "      <td>NaN</td>\n",
       "      <td>...</td>\n",
       "      <td>Aase</td>\n",
       "      <td>Donald William</td>\n",
       "      <td>190.0</td>\n",
       "      <td>75.0</td>\n",
       "      <td>R</td>\n",
       "      <td>R</td>\n",
       "      <td>1977-07-26</td>\n",
       "      <td>1990-10-03</td>\n",
       "      <td>aased001</td>\n",
       "      <td>aasedo01</td>\n",
       "    </tr>\n",
       "    <tr>\n",
       "      <th>4</th>\n",
       "      <td>abadan01</td>\n",
       "      <td>1972.0</td>\n",
       "      <td>8.0</td>\n",
       "      <td>25.0</td>\n",
       "      <td>USA</td>\n",
       "      <td>FL</td>\n",
       "      <td>Palm Beach</td>\n",
       "      <td>NaN</td>\n",
       "      <td>NaN</td>\n",
       "      <td>NaN</td>\n",
       "      <td>...</td>\n",
       "      <td>Abad</td>\n",
       "      <td>Fausto Andres</td>\n",
       "      <td>184.0</td>\n",
       "      <td>73.0</td>\n",
       "      <td>L</td>\n",
       "      <td>L</td>\n",
       "      <td>2001-09-10</td>\n",
       "      <td>2006-04-13</td>\n",
       "      <td>abada001</td>\n",
       "      <td>abadan01</td>\n",
       "    </tr>\n",
       "  </tbody>\n",
       "</table>\n",
       "<p>5 rows × 24 columns</p>\n",
       "</div>"
      ],
      "text/plain": [
       "    playerID  birthYear  birthMonth  birthDay birthCountry birthState  \\\n",
       "0  aardsda01     1981.0        12.0      27.0          USA         CO   \n",
       "1  aaronha01     1934.0         2.0       5.0          USA         AL   \n",
       "2  aaronto01     1939.0         8.0       5.0          USA         AL   \n",
       "3   aasedo01     1954.0         9.0       8.0          USA         CA   \n",
       "4   abadan01     1972.0         8.0      25.0          USA         FL   \n",
       "\n",
       "    birthCity  deathYear  deathMonth  deathDay  ... nameLast       nameGiven  \\\n",
       "0      Denver        NaN         NaN       NaN  ...  Aardsma     David Allan   \n",
       "1      Mobile        NaN         NaN       NaN  ...    Aaron     Henry Louis   \n",
       "2      Mobile     1984.0         8.0      16.0  ...    Aaron      Tommie Lee   \n",
       "3      Orange        NaN         NaN       NaN  ...     Aase  Donald William   \n",
       "4  Palm Beach        NaN         NaN       NaN  ...     Abad   Fausto Andres   \n",
       "\n",
       "  weight height bats throws       debut   finalGame   retroID    bbrefID  \n",
       "0  215.0   75.0    R      R  2004-04-06  2015-08-23  aardd001  aardsda01  \n",
       "1  180.0   72.0    R      R  1954-04-13  1976-10-03  aaroh101  aaronha01  \n",
       "2  190.0   75.0    R      R  1962-04-10  1971-09-26  aarot101  aaronto01  \n",
       "3  190.0   75.0    R      R  1977-07-26  1990-10-03  aased001   aasedo01  \n",
       "4  184.0   73.0    L      L  2001-09-10  2006-04-13  abada001   abadan01  \n",
       "\n",
       "[5 rows x 24 columns]"
      ]
     },
     "execution_count": 19,
     "metadata": {},
     "output_type": "execute_result"
    }
   ],
   "source": [
    "df.head()"
   ]
  },
  {
   "cell_type": "code",
   "execution_count": 31,
   "metadata": {},
   "outputs": [
    {
     "data": {
      "text/plain": [
       "Index(['playerID', 'birthYear', 'birthMonth', 'birthDay', 'birthCountry',\n",
       "       'birthState', 'birthCity', 'deathYear', 'deathMonth', 'deathDay',\n",
       "       'deathCountry', 'deathState', 'deathCity', 'nameFirst', 'nameLast',\n",
       "       'nameGiven', 'weight', 'height', 'bats', 'throws', 'debut', 'finalGame',\n",
       "       'retroID', 'bbrefID'],\n",
       "      dtype='object')"
      ]
     },
     "execution_count": 31,
     "metadata": {},
     "output_type": "execute_result"
    }
   ],
   "source": [
    "df.columns"
   ]
  },
  {
   "cell_type": "code",
   "execution_count": 52,
   "metadata": {},
   "outputs": [
    {
     "name": "stdout",
     "output_type": "stream",
     "text": [
      " ==輸出備份xlsx== ::: David_20210125_20.29.03.xlsx\n"
     ]
    }
   ],
   "source": [
    "name = \"David Price\"\n",
    "f_name = \"David\"\n",
    "# l_name = \"Mark\"\n",
    "mask = (df['nameFirst'].str.find(f_name)>=0)\n",
    "# (df['nameLast'].str.contains(l_name).fillna(False)) \n",
    "# & (df['nameFirst'].str.contains(f_name).fillna(False))\n",
    "formtoXlsx(df[mask][['nameFirst', 'nameLast', 'nameGiven','playerID']], \"David\")"
   ]
  },
  {
   "cell_type": "markdown",
   "metadata": {},
   "source": [
    "## 2. baseball-reference"
   ]
  },
  {
   "cell_type": "markdown",
   "metadata": {},
   "source": [
    "有各年各球員的WAR數據，區分投、打\n",
    "- [說明網頁&下載點](https://www.baseball-reference.com/about/war_explained.shtml)\n",
    "- 存放位置: G:\\我的雲端硬碟\\learning\\論文今年會寫完\\0.資源包\\2.資料\\2.baseball_reference"
   ]
  },
  {
   "cell_type": "code",
   "execution_count": 2,
   "metadata": {},
   "outputs": [],
   "source": [
    "war_bat_path =  \"https://www.baseball-reference.com/data/war_daily_bat.txt\"\n",
    "war_pitch_path =  \"https://www.baseball-reference.com/data/war_daily_pitch.txt\"\n",
    "\n",
    "war_bat_df = pd.read_csv(war_bat_path)\n",
    "war_pitch_df = pd.read_csv(war_pitch_path)"
   ]
  },
  {
   "cell_type": "code",
   "execution_count": 3,
   "metadata": {},
   "outputs": [
    {
     "name": "stdout",
     "output_type": "stream",
     "text": [
      "<class 'pandas.core.frame.DataFrame'>\n",
      "RangeIndex: 108719 entries, 0 to 108718\n",
      "Data columns (total 49 columns):\n",
      "name_common           108719 non-null object\n",
      "age                   108570 non-null float64\n",
      "mlb_ID                108671 non-null float64\n",
      "player_ID             108719 non-null object\n",
      "year_ID               108719 non-null int64\n",
      "team_ID               108719 non-null object\n",
      "stint_ID              108719 non-null int64\n",
      "lg_ID                 107983 non-null object\n",
      "PA                    108014 non-null float64\n",
      "G                     108719 non-null int64\n",
      "Inn                   72463 non-null float64\n",
      "runs_bat              108719 non-null float64\n",
      "runs_br               108719 non-null float64\n",
      "runs_dp               108719 non-null float64\n",
      "runs_field            108719 non-null float64\n",
      "runs_infield          72463 non-null float64\n",
      "runs_outfield         72463 non-null float64\n",
      "runs_catcher          72463 non-null float64\n",
      "runs_good_plays       25471 non-null float64\n",
      "runs_defense          108719 non-null float64\n",
      "runs_position         108014 non-null float64\n",
      "runs_position_p       108719 non-null float64\n",
      "runs_replacement      108014 non-null float64\n",
      "runs_above_rep        108014 non-null float64\n",
      "runs_above_avg        108014 non-null float64\n",
      "runs_above_avg_off    108014 non-null float64\n",
      "runs_above_avg_def    108014 non-null float64\n",
      "WAA                   100212 non-null float64\n",
      "WAA_off               100212 non-null float64\n",
      "WAA_def               100212 non-null float64\n",
      "WAR                   100212 non-null float64\n",
      "WAR_def               100212 non-null float64\n",
      "WAR_off               100212 non-null float64\n",
      "WAR_rep               100212 non-null float64\n",
      "salary                41089 non-null float64\n",
      "pitcher               108719 non-null object\n",
      "teamRpG               100212 non-null float64\n",
      "oppRpG                108719 non-null float64\n",
      "oppRpPA_rep           108719 non-null float64\n",
      "oppRpG_rep            100212 non-null float64\n",
      "pyth_exponent         100212 non-null float64\n",
      "pyth_exponent_rep     100212 non-null float64\n",
      "waa_win_perc          100212 non-null float64\n",
      "waa_win_perc_off      100212 non-null float64\n",
      "waa_win_perc_def      100212 non-null float64\n",
      "waa_win_perc_rep      100212 non-null float64\n",
      "OPS_plus              91135 non-null float64\n",
      "TOB_lg                108716 non-null float64\n",
      "TB_lg                 108716 non-null float64\n",
      "dtypes: float64(41), int64(3), object(5)\n",
      "memory usage: 40.6+ MB\n"
     ]
    }
   ],
   "source": [
    "war_bat_df.info()"
   ]
  },
  {
   "cell_type": "code",
   "execution_count": 4,
   "metadata": {},
   "outputs": [
    {
     "name": "stdout",
     "output_type": "stream",
     "text": [
      "<class 'pandas.core.frame.DataFrame'>\n",
      "RangeIndex: 48477 entries, 0 to 48476\n",
      "Data columns (total 43 columns):\n",
      "name_common              48477 non-null object\n",
      "age                      48446 non-null float64\n",
      "mlb_ID                   48461 non-null float64\n",
      "player_ID                48477 non-null object\n",
      "year_ID                  48477 non-null int64\n",
      "team_ID                  48477 non-null object\n",
      "stint_ID                 48477 non-null int64\n",
      "lg_ID                    48341 non-null object\n",
      "G                        48477 non-null int64\n",
      "GS                       48477 non-null int64\n",
      "IPouts                   48477 non-null int64\n",
      "IPouts_start             45189 non-null float64\n",
      "IPouts_relief            45189 non-null float64\n",
      "RA                       48477 non-null int64\n",
      "xRA                      48477 non-null float64\n",
      "xRA_sprp_adj             48282 non-null float64\n",
      "xRA_extras_adj           770 non-null float64\n",
      "xRA_def_pitcher          48477 non-null float64\n",
      "PPF                      48477 non-null int64\n",
      "PPF_custom               45104 non-null float64\n",
      "xRA_final                48282 non-null float64\n",
      "BIP                      48477 non-null int64\n",
      "BIP_perc                 48477 non-null float64\n",
      "RS_def_total             48477 non-null float64\n",
      "runs_above_avg           48282 non-null float64\n",
      "runs_above_avg_adj       48282 non-null float64\n",
      "runs_above_rep           48282 non-null float64\n",
      "RpO_replacement          48477 non-null float64\n",
      "GR_leverage_index_avg    48477 non-null float64\n",
      "WAR                      48282 non-null float64\n",
      "salary                   18602 non-null float64\n",
      "teamRpG                  48477 non-null float64\n",
      "oppRpG                   48282 non-null float64\n",
      "pyth_exponent            48282 non-null float64\n",
      "waa_win_perc             48282 non-null float64\n",
      "WAA                      48282 non-null float64\n",
      "WAA_adj                  48477 non-null float64\n",
      "oppRpG_rep               48381 non-null float64\n",
      "pyth_exponent_rep        48381 non-null float64\n",
      "waa_win_perc_rep         48381 non-null float64\n",
      "WAR_rep                  48393 non-null float64\n",
      "ERA_plus                 47018 non-null float64\n",
      "ER_lg                    48477 non-null float64\n",
      "dtypes: float64(31), int64(8), object(4)\n",
      "memory usage: 15.9+ MB\n"
     ]
    }
   ],
   "source": [
    "war_pitch_df.info()"
   ]
  },
  {
   "cell_type": "code",
   "execution_count": 5,
   "metadata": {},
   "outputs": [
    {
     "name": "stdout",
     "output_type": "stream",
     "text": [
      " ==輸出備份csv==::: WAR_bat_org_20210307_18.24.25.csv\n",
      " >>> 建立今天的工作區: 0307\n",
      " ==輸出備份csv==::: WAR_pitch_org_20210307_18.24.47.csv\n"
     ]
    }
   ],
   "source": [
    "# 原始資料輸出\n",
    "formtoCsv(war_bat_df, \"WAR_bat_org\")\n",
    "formtoCsv(war_pitch_df, \"WAR_pitch_org\")"
   ]
  },
  {
   "cell_type": "code",
   "execution_count": 19,
   "metadata": {},
   "outputs": [],
   "source": [
    "# 挑選2000~2020之間的資料\n",
    "mask_bat = war_bat_df['year_ID'].isin([year for year in range(2000,2020+1)])\n",
    "war_bat_df[mask_bat].reset_index(drop=True, inplace=True)\n",
    "\n",
    "mask_pitch = war_pitch_df['year_ID'].isin([year for year in range(2000,2020+1)])\n",
    "war_pitch_df[mask_pitch].reset_index(drop=True, inplace=True)"
   ]
  },
  {
   "cell_type": "code",
   "execution_count": 20,
   "metadata": {},
   "outputs": [
    {
     "name": "stdout",
     "output_type": "stream",
     "text": [
      " ==輸出備份csv==::: WAR_pitch_2000to2020_20210125_10.54.38.csv\n"
     ]
    }
   ],
   "source": [
    "# # 輸出\n",
    "# formtoCsv(war_bat_df, \"WAR_bat_2000to2020\")\n",
    "# formtoCsv(war_pitch_df, \"WAR_pitch_2000to2020\")"
   ]
  },
  {
   "cell_type": "code",
   "execution_count": 53,
   "metadata": {},
   "outputs": [
    {
     "name": "stdout",
     "output_type": "stream",
     "text": [
      "  >> 讀取:: G:\\我的雲端硬碟\\learning\\論文今年會寫完\\0.資源包\\2.資料\\2.baseball_reference\\WAR_pitch_2000to2020_20210125_10.54.38.csv\n"
     ]
    }
   ],
   "source": [
    "path = r\"G:\\我的雲端硬碟\\learning\\論文今年會寫完\\0.資源包\\2.資料\\2.baseball_reference\\WAR_pitch_2000to2020_20210125_10.54.38.csv\"\n",
    "playerID = \"priceda01\"\n",
    "df = read_data_dir_fPathExt(path)"
   ]
  },
  {
   "cell_type": "code",
   "execution_count": 55,
   "metadata": {},
   "outputs": [
    {
     "data": {
      "text/plain": [
       "34951    0.49\n",
       "34952    0.91\n",
       "34953    4.67\n",
       "34954    3.31\n",
       "34955    6.63\n",
       "34956    2.62\n",
       "34957    1.67\n",
       "34958    2.71\n",
       "34959    3.70\n",
       "34960    2.58\n",
       "34961    2.88\n",
       "34962    1.60\n",
       "34963    4.19\n",
       "34964    1.76\n",
       "Name: WAR, dtype: float64"
      ]
     },
     "execution_count": 55,
     "metadata": {},
     "output_type": "execute_result"
    }
   ],
   "source": [
    "df[df['player_ID'].isin([playerID])]['WAR']"
   ]
  },
  {
   "cell_type": "markdown",
   "metadata": {},
   "source": [
    "## 3. Pro Sports Transactions "
   ]
  },
  {
   "cell_type": "markdown",
   "metadata": {},
   "source": [
    "有每日各全隊的球員交易資訊、傷兵消息、合約消息\n",
    "- [查詢網站](http://www.prosportstransactions.com/baseball/Search/Search.php)\n",
    "- [爬蟲程式](https://drive.google.com/open?id=11TZgYE75_sXsnOyHeUEJJoffdQ7xY7VO&authuser=ap105424002%40g.ncu.edu.tw&usp=drive_fs)\n",
    "- 存放位置 : G:\\我的雲端硬碟\\learning\\論文今年會寫完\\0.資源包\\2.資料\\3.ProSportsTransactions\\rawdata"
   ]
  },
  {
   "cell_type": "markdown",
   "metadata": {},
   "source": [
    ">TODO: 還需要對Notes 做進一步的分類處理 "
   ]
  },
  {
   "cell_type": "code",
   "execution_count": 32,
   "metadata": {},
   "outputs": [],
   "source": [
    "pst_path = r\"G:\\我的雲端硬碟\\learning\\論文今年會寫完\\0.資源包\\2.資料\\3.ProSportsTransactions\\rawdata\\MLB合約資料(每日)_2000年_20210119_09.35.27.pkl\""
   ]
  },
  {
   "cell_type": "code",
   "execution_count": 33,
   "metadata": {},
   "outputs": [
    {
     "name": "stdout",
     "output_type": "stream",
     "text": [
      "  >> 讀取:: G:\\我的雲端硬碟\\learning\\論文今年會寫完\\0.資源包\\2.資料\\3.ProSportsTransactions\\rawdata\\MLB合約資料(每日)_2000年_20210119_09.35.27.pkl\n"
     ]
    }
   ],
   "source": [
    "pst_df = read_data_dir_fPathExt(pst_path)"
   ]
  },
  {
   "cell_type": "code",
   "execution_count": 34,
   "metadata": {},
   "outputs": [
    {
     "data": {
      "text/html": [
       "<div>\n",
       "<style scoped>\n",
       "    .dataframe tbody tr th:only-of-type {\n",
       "        vertical-align: middle;\n",
       "    }\n",
       "\n",
       "    .dataframe tbody tr th {\n",
       "        vertical-align: top;\n",
       "    }\n",
       "\n",
       "    .dataframe thead th {\n",
       "        text-align: right;\n",
       "    }\n",
       "</style>\n",
       "<table border=\"1\" class=\"dataframe\">\n",
       "  <thead>\n",
       "    <tr style=\"text-align: right;\">\n",
       "      <th></th>\n",
       "      <th>Date</th>\n",
       "      <th>Team</th>\n",
       "      <th>Acquired</th>\n",
       "      <th>Relinquished</th>\n",
       "      <th>Notes</th>\n",
       "    </tr>\n",
       "  </thead>\n",
       "  <tbody>\n",
       "    <tr>\n",
       "      <th>0</th>\n",
       "      <td>2000-01-01</td>\n",
       "      <td>Braves</td>\n",
       "      <td>• Brayan Pena</td>\n",
       "      <td>NaN</td>\n",
       "      <td>signed free agent (N)</td>\n",
       "    </tr>\n",
       "    <tr>\n",
       "      <th>1</th>\n",
       "      <td>2000-01-01</td>\n",
       "      <td>Red Sox</td>\n",
       "      <td>• Ron Johnson (David)</td>\n",
       "      <td>NaN</td>\n",
       "      <td>hired as A manager (date approximate)</td>\n",
       "    </tr>\n",
       "    <tr>\n",
       "      <th>2</th>\n",
       "      <td>2000-01-01</td>\n",
       "      <td>Royals</td>\n",
       "      <td>• Jaime Garcia (a)</td>\n",
       "      <td>NaN</td>\n",
       "      <td>(minor league) coach</td>\n",
       "    </tr>\n",
       "    <tr>\n",
       "      <th>3</th>\n",
       "      <td>2000-01-01</td>\n",
       "      <td>White Sox</td>\n",
       "      <td>• Mike Shirley</td>\n",
       "      <td>NaN</td>\n",
       "      <td>hired as part-time area scout (date spproximate)</td>\n",
       "    </tr>\n",
       "    <tr>\n",
       "      <th>4</th>\n",
       "      <td>2000-01-03</td>\n",
       "      <td>Brewers</td>\n",
       "      <td>• Jose Fernandez (Mayobanex)</td>\n",
       "      <td>NaN</td>\n",
       "      <td>signed free agent</td>\n",
       "    </tr>\n",
       "  </tbody>\n",
       "</table>\n",
       "</div>"
      ],
      "text/plain": [
       "         Date       Team                      Acquired Relinquished  \\\n",
       "0  2000-01-01     Braves                 • Brayan Pena          NaN   \n",
       "1  2000-01-01    Red Sox         • Ron Johnson (David)          NaN   \n",
       "2  2000-01-01     Royals            • Jaime Garcia (a)          NaN   \n",
       "3  2000-01-01  White Sox                • Mike Shirley          NaN   \n",
       "4  2000-01-03    Brewers  • Jose Fernandez (Mayobanex)          NaN   \n",
       "\n",
       "                                              Notes  \n",
       "0                             signed free agent (N)  \n",
       "1             hired as A manager (date approximate)  \n",
       "2                              (minor league) coach  \n",
       "3  hired as part-time area scout (date spproximate)  \n",
       "4                                 signed free agent  "
      ]
     },
     "execution_count": 34,
     "metadata": {},
     "output_type": "execute_result"
    }
   ],
   "source": [
    "pst_df.head()"
   ]
  },
  {
   "cell_type": "code",
   "execution_count": 39,
   "metadata": {},
   "outputs": [
    {
     "data": {
      "text/plain": [
       "signed free agent                                                                                  130\n",
       "player became a free agent                                                                         116\n",
       "assigned to minor league camp                                                                       91\n",
       "assigned to AAA                                                                                     78\n",
       "released                                                                                            71\n",
       "                                                                                                  ... \n",
       "2000 MLB draft 40th round pick (#1193 overall)                                                       1\n",
       "2000 MLB draft fourth round pick (#126 overall)                                                      1\n",
       "2000 MLB draft 23rd round pick (#692 overall)                                                        1\n",
       "2000 MLB draft eleventh round pick (#340 overall)                                                    1\n",
       "received from Blue Jays as player to be named later in earlier trade involving Mickey Morandini      1\n",
       "Name: Notes, Length: 1848, dtype: int64"
      ]
     },
     "execution_count": 39,
     "metadata": {},
     "output_type": "execute_result"
    }
   ],
   "source": [
    "pst_df['Notes'].value_counts() "
   ]
  },
  {
   "cell_type": "code",
   "execution_count": 36,
   "metadata": {},
   "outputs": [
    {
     "data": {
      "text/plain": [
       "signed free agent                                                                         130\n",
       "player became a free agent                                                                116\n",
       "signed non-drafted free agent                                                              51\n",
       "signed free agent to a minor league contract                                               13\n",
       "player refused minor league assignment and became a free agent                              8\n",
       "re-signed free agent                                                                        4\n",
       "signed undrafted free agent                                                                 4\n",
       "re-signed free agent to a minor league contract                                             2\n",
       "team declined to exercise contract option, making player a free agent                       2\n",
       "signed free agent to a 3-year contract through 2003 with a 1-year team option for 2004      2\n",
       "received from Devil Rays as compensation for free agent Steve Trachsel                      1\n",
       "received from MLB as compensation for free agent Mike Mussina                               1\n",
       "sent to Red Sox as compensation for free agent Rheal Cormier                                1\n",
       "player exercised option to become a free agent                                              1\n",
       "signed free agent to a 1-year contract                                                      1\n",
       "received from Indians as compensation for free agent Ellis Burks                            1\n",
       "cleared waivers and became a free agent                                                     1\n",
       "sent to Cardinals as compensation for free agent Darren Oliver                              1\n",
       "signed free agent to a 2-year contract                                                      1\n",
       "signed free agent (from Royals) to a 1-year contract                                        1\n",
       "re-signed free agent to a 1-year contract                                                   1\n",
       "signed non-drafted free agent to a minor league contract                                    1\n",
       "received from Yankees as compensation for free agent Mike Mussina                           1\n",
       "signed free agent (from Mariners) to a 1-year contract                                      1\n",
       "received from Phillies as compensation for free agent Rheal Cormier                         1\n",
       "signed free agent (from Yankees) to a 1-year contract                                       1\n",
       "received from MLB as compensation for free agent Ellis Burks                                1\n",
       "team declined to tender contract, making player a free agent                                1\n",
       "signed free agent (N)                                                                       1\n",
       "received from MLB as compensation for free agent Aaron Sele                                 1\n",
       "signed as a free agent by Independent Adirondack (Northern)                                 1\n",
       "received from MLB as compensation for free agent Julian Tavarez                             1\n",
       "sent to Mariners as compensation for free agent Jose Mesa (R.N.)                            1\n",
       "received from Rangers as compensation for free agent Darren Oliver                          1\n",
       "received from Devil Rays as compensation for free agent Juan Guzman (Andres)                1\n",
       "sent to Orioles as compensation for free agent Mike Mussina                                 1\n",
       "received from Mariners as compensation for free agent Aaron Sele                            1\n",
       "signed free agent to a 4-year contract                                                      1\n",
       "received from MLB as compensation for free agent Juan Guzman (Andres)                       1\n",
       "sent to Reds as compensation for free agent Juan Guzman (Andres)                            1\n",
       "received from Phillies as compensation for free agent Jose Mesa (R.N.)                      1\n",
       "re-signed free agent to a 3-year contract with team option for 2004                         1\n",
       "sent to Cubs as compensation for free agent Steve Trachsel                                  1\n",
       "sent to Rangers as compensation for free agent Aaron Sele                                   1\n",
       "signed free agent to a 6-year contract                                                      1\n",
       "sent to Giants as compensation for free agent Ellis Burks                                   1\n",
       "Name: Notes, dtype: int64"
      ]
     },
     "execution_count": 36,
     "metadata": {},
     "output_type": "execute_result"
    }
   ],
   "source": [
    "# Note 提到 free agent\n",
    "mask = pst_df['Notes'].str.contains(\"free agent\")\n",
    "pst_df.loc[mask, 'Notes'].value_counts() "
   ]
  },
  {
   "cell_type": "code",
   "execution_count": 40,
   "metadata": {},
   "outputs": [
    {
     "data": {
      "text/plain": [
       "released                                  71\n",
       "released (team bought out contract)        1\n",
       "released (date 11-27 per some sources)     1\n",
       "Name: Notes, dtype: int64"
      ]
     },
     "execution_count": 40,
     "metadata": {},
     "output_type": "execute_result"
    }
   ],
   "source": [
    "# Note 提到 released\n",
    "mask = pst_df['Notes'].str.contains(\"released\")\n",
    "pst_df.loc[mask, 'Notes'].value_counts()"
   ]
  },
  {
   "cell_type": "code",
   "execution_count": 38,
   "metadata": {},
   "outputs": [
    {
     "data": {
      "text/plain": [
       "signed to a minor league contract                                  63\n",
       "signed to a 1-year contract                                        34\n",
       "re-signed to a 1-year contract                                     18\n",
       "signed free agent to a minor league contract                       13\n",
       "team exercised contract option for 2001                             8\n",
       "                                                                   ..\n",
       "re-signed to a 4-year contract                                      1\n",
       "team exercised contract option for 01                               1\n",
       "re-signed as manager to a 2-year contract                           1\n",
       "signed to a 1-year contract extension with team option for 2003     1\n",
       "re-signed as manager to a 1-year contract extension                 1\n",
       "Name: Notes, Length: 69, dtype: int64"
      ]
     },
     "execution_count": 38,
     "metadata": {},
     "output_type": "execute_result"
    }
   ],
   "source": [
    "# Note 提到 contract\n",
    "mask = pst_df['Notes'].str.contains(\"contract\")\n",
    "pst_df.loc[mask, 'Notes'].value_counts() "
   ]
  },
  {
   "cell_type": "markdown",
   "metadata": {},
   "source": []
  },
  {
   "cell_type": "markdown",
   "metadata": {},
   "source": [
    "## 4. retrosheet gamelog"
   ]
  },
  {
   "cell_type": "markdown",
   "metadata": {},
   "source": [
    "有每場比賽的詳細消息:出賽球員、總計投打結果、每局得分，區分主客隊\n",
    "- [說明網頁&下載點](https://www.retrosheet.org/gamelogs/index.html)\n",
    "- 存放位置: G:\\我的雲端硬碟\\learning\\論文今年會寫完\\0.資源包\\2.資料\\4.retrosheet_gamelog"
   ]
  },
  {
   "cell_type": "code",
   "execution_count": 24,
   "metadata": {},
   "outputs": [
    {
     "name": "stdout",
     "output_type": "stream",
     "text": [
      "  >> 讀取:: G:\\我的雲端硬碟\\learning\\論文今年會寫完\\0.資源包\\2.資料\\4.retrosheet_gamelog\\game_logs.csv\n"
     ]
    },
    {
     "name": "stderr",
     "output_type": "stream",
     "text": [
      "C:\\Users\\EMCT_Jeff\\anaconda3\\lib\\site-packages\\IPython\\core\\interactiveshell.py:3263: DtypeWarning: Columns (12,13,14,15,19,20,81,83,85,87,93,94,95,96,97,98,99,100,105,106,108,109,111,112,114,115,117,118,120,121,123,124,126,127,129,130,132,133,135,136,138,139,141,142,144,145,147,148,150,151,153,154,156,157,160) have mixed types. Specify dtype option on import or set low_memory=False.\n",
      "  if (await self.run_code(code, result,  async_=asy)):\n"
     ]
    }
   ],
   "source": [
    "path = r\"G:\\我的雲端硬碟\\learning\\論文今年會寫完\\0.資源包\\2.資料\\4.retrosheet_gamelog\\game_logs.csv\"\n",
    "retrosheet_game_log_df = read_data_dir_fPathExt(path)"
   ]
  },
  {
   "cell_type": "code",
   "execution_count": 30,
   "metadata": {},
   "outputs": [
    {
     "data": {
      "text/plain": [
       "{'date': 18710504,\n",
       " 'number_of_game': 0,\n",
       " 'day_of_week': 'Thu',\n",
       " 'v_name': 'CL1',\n",
       " 'v_league': 'na',\n",
       " 'v_game_number': 1,\n",
       " 'h_name': 'FW1',\n",
       " 'h_league': 'na',\n",
       " 'h_game_number': 1,\n",
       " 'v_score': 0,\n",
       " 'h_score': 2,\n",
       " 'length_outs': 54.0,\n",
       " 'day_night': 'D',\n",
       " 'completion': nan,\n",
       " 'forefeit': nan,\n",
       " 'protest': nan,\n",
       " 'park_id': 'FOR01',\n",
       " 'attendance': 200.0,\n",
       " 'length_minutes': 120.0,\n",
       " 'v_line_score': '000000000',\n",
       " 'h_line_score': '010010000',\n",
       " 'v_at_bats': 30.0,\n",
       " 'v_hits': 4.0,\n",
       " 'v_doubles': 1.0,\n",
       " 'v_triples': 0.0,\n",
       " 'v_homeruns': 0.0,\n",
       " 'v_rbi': 0.0,\n",
       " 'v_sacrifice_hits': 0.0,\n",
       " 'v_sacrifice_flies': 0.0,\n",
       " 'v_hit_by_pitch': 0.0,\n",
       " 'v_walks': 1.0,\n",
       " 'v_intentional walks': -1.0,\n",
       " 'v_strikeouts': 6.0,\n",
       " 'v_stolen_bases': 1.0,\n",
       " 'v_caught_stealing': -1.0,\n",
       " 'v_grounded_into_double': -1.0,\n",
       " 'v_first_catcher_interference': -1.0,\n",
       " 'v_left_on_base': 4.0,\n",
       " 'v_pitchers_used': 1.0,\n",
       " 'v_individual_earned_runs': 1.0,\n",
       " 'v_team_earned_runs': 1.0,\n",
       " 'v_wild_pitches': 0.0,\n",
       " 'v_balks': 0.0,\n",
       " 'v_putouts': 27.0,\n",
       " 'v_assists': 9.0,\n",
       " 'v_errors': 0.0,\n",
       " 'v_passed_balls': 3.0,\n",
       " 'v_double_plays': 0.0,\n",
       " 'v_triple_plays': 0.0,\n",
       " 'h_at_bats': 31.0,\n",
       " 'h_hits': 4.0,\n",
       " 'h_doubles': 1.0,\n",
       " 'h_triples': 0.0,\n",
       " 'h_homeruns': 0.0,\n",
       " 'h_rbi': 2.0,\n",
       " 'h_sacrifice_hits': 0.0,\n",
       " 'h_sacrifice_flies': 0.0,\n",
       " 'h_hit_by_pitch': 0.0,\n",
       " 'h_walks': 1.0,\n",
       " 'h_intentional walks': -1.0,\n",
       " 'h_strikeouts': 0.0,\n",
       " 'h_stolen_bases': 0.0,\n",
       " 'h_caught_stealing': -1.0,\n",
       " 'h_grounded_into_double': -1.0,\n",
       " 'h_first_catcher_interference': -1.0,\n",
       " 'h_left_on_base': 3.0,\n",
       " 'h_pitchers_used': 1.0,\n",
       " 'h_individual_earned_runs': 0.0,\n",
       " 'h_team_earned_runs': 0.0,\n",
       " 'h_wild_pitches': 0.0,\n",
       " 'h_balks': 0.0,\n",
       " 'h_putouts': 27.0,\n",
       " 'h_assists': 3.0,\n",
       " 'h_errors': 3.0,\n",
       " 'h_passed_balls': 1.0,\n",
       " 'h_double_plays': 1.0,\n",
       " 'h_triple_plays': 0.0,\n",
       " 'hp_umpire_id': 'boakj901',\n",
       " 'hp_umpire_name': 'John Boake',\n",
       " '1b_umpire_id': nan,\n",
       " '1b_umpire_name': '(none)',\n",
       " '2b_umpire_id': nan,\n",
       " '2b_umpire_name': '(none)',\n",
       " '3b_umpire_id': nan,\n",
       " '3b_umpire_name': '(none)',\n",
       " 'lf_umpire_id': nan,\n",
       " 'lf_umpire_name': '(none)',\n",
       " 'rf_umpire_id': nan,\n",
       " 'rf_umpire_name': '(none)',\n",
       " 'v_manager_id': 'paboc101',\n",
       " 'v_manager_name': 'Charlie Pabor',\n",
       " 'h_manager_id': 'lennb101',\n",
       " 'h_manager_name': 'Bill Lennon',\n",
       " 'winning_pitcher_id': 'mathb101',\n",
       " 'winning_pitcher_name': 'Bobby Mathews',\n",
       " 'losing_pitcher_id': 'prata101',\n",
       " 'losing_pitcher_name': 'Al Pratt',\n",
       " 'saving_pitcher_id': nan,\n",
       " 'saving_pitcher_name': '(none)',\n",
       " 'winning_rbi_batter_id': nan,\n",
       " 'winning_rbi_batter_id_name': '(none)',\n",
       " 'v_starting_pitcher_id': 'prata101',\n",
       " 'v_starting_pitcher_name': 'Al Pratt',\n",
       " 'h_starting_pitcher_id': 'mathb101',\n",
       " 'h_starting_pitcher_name': 'Bobby Mathews',\n",
       " 'v_player_1_id': 'whitd102',\n",
       " 'v_player_1_name': 'Deacon White',\n",
       " 'v_player_1_def_pos': 2.0,\n",
       " 'v_player_2_id': 'kimbg101',\n",
       " 'v_player_2_name': 'Gene Kimball',\n",
       " 'v_player_2_def_pos': 4.0,\n",
       " 'v_player_3_id': 'paboc101',\n",
       " 'v_player_3_name': 'Charlie Pabor',\n",
       " 'v_player_3_def_pos': 7.0,\n",
       " 'v_player_4_id': 'allia101',\n",
       " 'v_player_4_name': 'Art Allison',\n",
       " 'v_player_4_def_pos': 8.0,\n",
       " 'v_player_5_id': 'white104',\n",
       " 'v_player_5_name': 'Elmer White',\n",
       " 'v_player_5_def_pos': 9.0,\n",
       " 'v_player_6_id': 'prata101',\n",
       " 'v_player_6_name': 'Al Pratt',\n",
       " 'v_player_6_def_pos': 1.0,\n",
       " 'v_player_7_id': 'sutte101',\n",
       " 'v_player_7_name': 'Ezra Sutton',\n",
       " 'v_player_7_def_pos': 5.0,\n",
       " 'v_player_8_id': 'carlj102',\n",
       " 'v_player_8_name': 'Jim Carleton',\n",
       " 'v_player_8_def_pos': 3.0,\n",
       " 'v_player_9_id': 'bassj101',\n",
       " 'v_player_9_name': 'John Bass',\n",
       " 'v_player_9_def_pos': 6.0,\n",
       " 'h_player_1_id': 'selmf101',\n",
       " 'h_player_1_name': 'Frank Sellman',\n",
       " 'h_player_1_def_pos': 5.0,\n",
       " 'h_player_2_id': 'mathb101',\n",
       " 'h_player_2_name': 'Bobby Mathews',\n",
       " 'h_player_2_def_pos': 1.0,\n",
       " 'h_player_3_id': 'foraj101',\n",
       " 'h_player_3_name': 'Jim Foran',\n",
       " 'h_player_3_def_pos': 3.0,\n",
       " 'h_player_4_id': 'goldw101',\n",
       " 'h_player_4_name': 'Wally Goldsmith',\n",
       " 'h_player_4_def_pos': 6.0,\n",
       " 'h_player_5_id': 'lennb101',\n",
       " 'h_player_5_name': 'Bill Lennon',\n",
       " 'h_player_5_def_pos': 2.0,\n",
       " 'h_player_6_id': 'caret101',\n",
       " 'h_player_6_name': 'Tom Carey',\n",
       " 'h_player_6_def_pos': 4.0,\n",
       " 'h_player_7_id': 'mince101',\n",
       " 'h_player_7_name': 'Ed Mincher',\n",
       " 'h_player_7_def_pos': 7.0,\n",
       " 'h_player_8_id': 'mcdej101',\n",
       " 'h_player_8_name': 'James McDermott',\n",
       " 'h_player_8_def_pos': 8.0,\n",
       " 'h_player_9_id': 'kellb105',\n",
       " 'h_player_9_name': 'Bill Kelly',\n",
       " 'h_player_9_def_pos': 9.0,\n",
       " 'additional_info': nan,\n",
       " 'acquisition_info': 'Y'}"
      ]
     },
     "execution_count": 30,
     "metadata": {},
     "output_type": "execute_result"
    }
   ],
   "source": [
    "retrosheet_game_log_df.iloc[0].to_dict()"
   ]
  },
  {
   "cell_type": "code",
   "execution_count": null,
   "metadata": {},
   "outputs": [],
   "source": []
  },
  {
   "cell_type": "markdown",
   "metadata": {},
   "source": [
    "## 5. MLB Game API"
   ]
  },
  {
   "cell_type": "markdown",
   "metadata": {},
   "source": [
    "可獲得每場比賽的詳細資訊: 每局戰況、每球球速、投打結果\n",
    "- [說明文件](https://panz.io/mlbgame/)\n",
    "- [github](https://github.com/panzarino/mlbgame)"
   ]
  },
  {
   "cell_type": "code",
   "execution_count": 2,
   "metadata": {},
   "outputs": [
    {
     "name": "stdout",
     "output_type": "stream",
     "text": [
      "C:\\Users\\EMCT_Jeff\\anaconda3\\lib\\site-packages\\mlbgame\\__init__.py\n"
     ]
    }
   ],
   "source": [
    "from __future__ import print_function\n",
    "import mlbgame\n",
    "print(mlbgame.__file__)"
   ]
  },
  {
   "cell_type": "code",
   "execution_count": 10,
   "metadata": {},
   "outputs": [],
   "source": [
    "import lxml.etree as etree\n",
    "\n",
    "import mlbgame.data\n",
    "import mlbgame.object"
   ]
  },
  {
   "cell_type": "code",
   "execution_count": 3,
   "metadata": {},
   "outputs": [
    {
     "name": "stdout",
     "output_type": "stream",
     "text": [
      "Giants (5) at Mets (0)\n",
      "Giants (8) at Mets (5)\n",
      "Giants (4) at Mets (5)\n",
      "Braves (3) at Mets (5)\n",
      "Braves (5) at Mets (3)\n",
      "Braves (8) at Mets (10)\n",
      "Blue Jays (3) at Mets (4)\n",
      "Blue Jays (2) at Mets (3)\n",
      "Reds (1) at Mets (2)\n",
      "Reds (1) at Mets (2)\n",
      "Reds (1) at Mets (2)\n",
      "Cubs (1) at Mets (0)\n"
     ]
    }
   ],
   "source": [
    "month = mlbgame.games(2015, 6, home='Mets')\n",
    "games = mlbgame.combine_games(month)\n",
    "for game in games:\n",
    "    print(game)"
   ]
  },
  {
   "cell_type": "code",
   "execution_count": 4,
   "metadata": {},
   "outputs": [
    {
     "name": "stdout",
     "output_type": "stream",
     "text": [
      "Winning pitcher: Yordano Ventura (Royals) - Losing Pitcher: C.J. Wilson (Angels)\n"
     ]
    }
   ],
   "source": [
    "day = mlbgame.day(2015, 4, 12, home='Royals', away='Royals')\n",
    "game = day[0]\n",
    "output = 'Winning pitcher: %s (%s) - Losing Pitcher: %s (%s)'\n",
    "print(output % (game.w_pitcher, game.w_team, game.l_pitcher, game.l_team))"
   ]
  },
  {
   "cell_type": "code",
   "execution_count": 5,
   "metadata": {},
   "outputs": [
    {
     "data": {
      "text/plain": [
       "'2015_04_12_kcamlb_anamlb_1'"
      ]
     },
     "execution_count": 5,
     "metadata": {},
     "output_type": "execute_result"
    }
   ],
   "source": [
    "gid = game.game_id\n",
    "gid"
   ]
  },
  {
   "cell_type": "code",
   "execution_count": 17,
   "metadata": {},
   "outputs": [],
   "source": [
    "events = mlbgame.events.game_events(gid)"
   ]
  },
  {
   "cell_type": "code",
   "execution_count": 22,
   "metadata": {},
   "outputs": [
    {
     "data": {
      "text/plain": [
       "dict_keys(['1', '2', '3', '4', '5', '6', '7', '8', '9'])"
      ]
     },
     "execution_count": 22,
     "metadata": {},
     "output_type": "execute_result"
    }
   ],
   "source": [
    "# 打了9局\n",
    "events.keys()"
   ]
  },
  {
   "cell_type": "code",
   "execution_count": 23,
   "metadata": {},
   "outputs": [
    {
     "data": {
      "text/plain": [
       "dict_keys(['top', 'bottom'])"
      ]
     },
     "execution_count": 23,
     "metadata": {},
     "output_type": "execute_result"
    }
   ],
   "source": [
    "# 第1局分上、下半場\n",
    "events['1'].keys()"
   ]
  },
  {
   "cell_type": "code",
   "execution_count": 30,
   "metadata": {},
   "outputs": [
    {
     "data": {
      "text/plain": [
       "4"
      ]
     },
     "execution_count": 30,
     "metadata": {},
     "output_type": "execute_result"
    }
   ],
   "source": [
    "# 1局上半有4個打數\n",
    "len(events['1']['top'])"
   ]
  },
  {
   "cell_type": "code",
   "execution_count": 26,
   "metadata": {},
   "outputs": [
    {
     "data": {
      "text/plain": [
       "dict_keys(['tag', '_endpoint', 'num', 'away_team_runs', 'home_team_runs', 'play_guid', 'event_es', 'event', 'event_num', 'des_es', 'des', 'p_throws', 'pitcher', 'b_height', 'stand', 'batter', 'end_tfs_zulu', 'start_tfs_zulu', 'start_tfs', 'o', 's', 'b', 'pitches'])"
      ]
     },
     "execution_count": 26,
     "metadata": {},
     "output_type": "execute_result"
    }
   ],
   "source": [
    "# 1局上半第一個打數的欄位\n",
    "events['1']['top'][0].keys()"
   ]
  },
  {
   "cell_type": "code",
   "execution_count": 32,
   "metadata": {},
   "outputs": [
    {
     "data": {
      "text/plain": [
       "5"
      ]
     },
     "execution_count": 32,
     "metadata": {},
     "output_type": "execute_result"
    }
   ],
   "source": [
    "# 1局上半第一個打數總共用了5球\n",
    "len(events['1']['top'][0]['pitches'])"
   ]
  },
  {
   "cell_type": "code",
   "execution_count": 34,
   "metadata": {},
   "outputs": [
    {
     "data": {
      "text/plain": [
       "dict_keys(['_endpoint', 'id', 'event_num', 'des_es', 'des', 'mt', 'cc', 'spin_rate', 'spin_dir', 'play_guid', 'nasty', 'zone', 'type_confidence', 'pitch_type', 'break_length', 'break_angle', 'break_y', 'az', 'ay', 'ax', 'vz0', 'vy0', 'vx0', 'z0', 'y0', 'x0', 'pz', 'px', 'pfx_z', 'pfx_x', 'end_speed', 'start_speed', 'sv_id', 'tfs_zulu', 'sz_bot', 'sz_top', 'y', 'x', 'tfs', 'code', 'type'])"
      ]
     },
     "execution_count": 34,
     "metadata": {},
     "output_type": "execute_result"
    }
   ],
   "source": [
    "# 1局上半第一個打數第一球的欄位\n",
    "events['1']['top'][0]['pitches'][0].keys()"
   ]
  },
  {
   "cell_type": "markdown",
   "metadata": {},
   "source": [
    "## 6. ESPN freeagents"
   ]
  },
  {
   "cell_type": "markdown",
   "metadata": {},
   "source": [
    "- [連結](https://www.espn.com/mlb/freeagents/_/year/2019) "
   ]
  },
  {
   "cell_type": "code",
   "execution_count": 20,
   "metadata": {},
   "outputs": [
    {
     "name": "stdout",
     "output_type": "stream",
     "text": [
      ">> 2006 年 210\n",
      ">> 2007 年 190\n",
      ">> 2008 年 217\n",
      ">> 2009 年 222\n",
      ">> 2010 年 227\n",
      ">> 2011 年 191\n",
      ">> 2012 年 182\n",
      ">> 2013 年 225\n",
      ">> 2014 年 137\n",
      ">> 2015 年 163\n",
      ">> 2016 年 203\n",
      ">> 2017 年 203\n",
      ">> 2018 年 277\n",
      ">> 2019 年 265\n",
      ">> 2020 年 301\n",
      "<class 'pandas.core.frame.DataFrame'>\n",
      "RangeIndex: 3213 entries, 0 to 3212\n",
      "Data columns (total 10 columns):\n",
      "AGE         3211 non-null object\n",
      "DOLLARS     3213 non-null object\n",
      "NEW TEAM    3213 non-null object\n",
      "ORG TEAM    3213 non-null object\n",
      "PLAYER      3213 non-null object\n",
      "POS         3213 non-null object\n",
      "RK          3213 non-null object\n",
      "STATUS      3213 non-null object\n",
      "YEAR        3213 non-null float64\n",
      "YRS         1588 non-null object\n",
      "dtypes: float64(1), object(9)\n",
      "memory usage: 251.1+ KB\n",
      ">>OVER!! None\n"
     ]
    }
   ],
   "source": [
    "cols_name = ['PLAYER', 'POS', 'AGE', 'STATUS', 'ORG TEAM', 'NEW TEAM', 'YRS', 'RK', 'DOLLARS']\n",
    "all_df = pd.DataFrame(columns=cols_name)\n",
    "\n",
    "for y in range(2006,2020+1):\n",
    "    #呼叫\n",
    "    espn_url = f\"https://www.espn.com/mlb/freeagents/_/year/{y}\"\n",
    "    df = pd.read_html(espn_url)\n",
    "    \n",
    "    #擷取\n",
    "    the_df = df[0].iloc[2:,:]\n",
    "    the_df.columns =  df[0].iloc[1,:]\n",
    "    \n",
    "    #清理\n",
    "    the_df_clean = the_df[~the_df[\"AGE\"].isin([\"AGE\"])].reset_index(drop=True)\n",
    "    the_df_clean.rename(columns={f\"{y} TEAM\": \"ORG TEAM\"}, inplace=True)\n",
    "    \n",
    "    #合併\n",
    "    the_df_clean.loc[:, \"YEAR\"] = y\n",
    "    all_df = all_df.append(the_df_clean, sort=True)\n",
    "    print(\">>\", y, \"年\", len(the_df_clean))\n",
    "\n",
    "all_df = all_df.reset_index(drop=True)\n",
    "print(\">>OVER!!\", all_df.info())"
   ]
  },
  {
   "cell_type": "code",
   "execution_count": 21,
   "metadata": {},
   "outputs": [
    {
     "name": "stdout",
     "output_type": "stream",
     "text": [
      " ==輸出備份csv==::: ESPN_FreeAgent_2006to2020_20210208_17.45.26.csv\n",
      " >>> 建立今天的工作區: 0208\n"
     ]
    }
   ],
   "source": [
    "#存檔\n",
    "formtoCsv(all_df, \"ESPN_FreeAgent_2006to2020\")"
   ]
  },
  {
   "cell_type": "markdown",
   "metadata": {},
   "source": [
    "## 7. Baseball Reference freeagents (資料數較多)"
   ]
  },
  {
   "cell_type": "markdown",
   "metadata": {},
   "source": [
    "- [連結](https://www.baseball-reference.com/leagues/MLB/2000-free-agents.shtml)"
   ]
  },
  {
   "cell_type": "code",
   "execution_count": 38,
   "metadata": {},
   "outputs": [
    {
     "name": "stdout",
     "output_type": "stream",
     "text": [
      ">> 2000 年 339\n",
      ">> 2001 年 358\n",
      ">> 2002 年 442\n",
      ">> 2003 年 542\n",
      ">> 2004 年 529\n",
      ">> 2005 年 453\n",
      ">> 2006 年 429\n",
      ">> 2007 年 419\n",
      ">> 2008 年 452\n",
      ">> 2009 年 461\n",
      ">> 2010 年 460\n",
      ">> 2011 年 437\n",
      ">> 2012 年 441\n",
      ">> 2013 年 425\n",
      ">> 2014 年 413\n",
      ">> 2015 年 446\n",
      ">> 2016 年 416\n",
      ">> 2017 年 407\n",
      ">> 2018 年 388\n",
      ">> 2019 年 411\n",
      ">> 2020 年 226\n",
      "<class 'pandas.core.frame.DataFrame'>\n",
      "RangeIndex: 8894 entries, 0 to 8893\n",
      "Data columns (total 33 columns):\n",
      "AB           7176 non-null float64\n",
      "Age          8894 non-null object\n",
      "BA           6481 non-null float64\n",
      "BB           7173 non-null float64\n",
      "BB.1         3688 non-null float64\n",
      "Date         8894 non-null object\n",
      "ERA          3688 non-null float64\n",
      "From Team    8894 non-null object\n",
      "G            7176 non-null float64\n",
      "G.1          3688 non-null float64\n",
      "GS           3688 non-null float64\n",
      "H            7173 non-null float64\n",
      "H.1          3688 non-null float64\n",
      "HR           7173 non-null float64\n",
      "HR.1         3688 non-null float64\n",
      "IP           3688 non-null float64\n",
      "L            3688 non-null float64\n",
      "Name         8894 non-null object\n",
      "OBP          6511 non-null float64\n",
      "OPS          6481 non-null float64\n",
      "R            7173 non-null float64\n",
      "RBI          7173 non-null float64\n",
      "Rk           8894 non-null object\n",
      "SB           7173 non-null float64\n",
      "SLG          6481 non-null float64\n",
      "SO           3688 non-null float64\n",
      "SV           3688 non-null float64\n",
      "To Team      8857 non-null object\n",
      "W            3688 non-null float64\n",
      "WAR3         8330 non-null float64\n",
      "WHIP         3686 non-null float64\n",
      "YEAR         8894 non-null float64\n",
      "Yrs          8894 non-null object\n",
      "dtypes: float64(26), object(7)\n",
      "memory usage: 2.2+ MB\n",
      ">>OVER!! None\n"
     ]
    }
   ],
   "source": [
    "\n",
    "cols_name = ['Rk', 'Name', 'Date', 'To Team', 'From Team', 'Age', 'WAR3', 'Yrs', 'G',\n",
    "       'AB', 'R', 'H', 'HR', 'RBI', 'SB', 'BB', 'BA', 'OBP', 'SLG', 'OPS', 'W',\n",
    "       'L', 'ERA', 'WHIP', 'G.1', 'GS', 'SV', 'IP', 'H.1', 'HR.1', 'BB.1',\n",
    "       'SO']\n",
    "all_df = pd.DataFrame(columns=cols_name)\n",
    "\n",
    "for y in range(2000,2020+1):\n",
    "    #呼叫\n",
    "    BR_url = f\"https://www.baseball-reference.com/leagues/MLB/{y}-free-agents.shtml\"\n",
    "    df = pd.read_html(BR_url)\n",
    "    \n",
    "    #擷取\n",
    "    the_df = df[0]\n",
    "    \n",
    "    #合併\n",
    "    the_df.loc[:, \"YEAR\"] = y\n",
    "    all_df = all_df.append(the_df, sort=True)\n",
    "    print(\">>\", y, \"年\", len(the_df))\n",
    "\n",
    "all_df = all_df.drop_duplicates().reset_index(drop=True)\n",
    "print(\">>OVER!!\", all_df.info())"
   ]
  },
  {
   "cell_type": "code",
   "execution_count": 39,
   "metadata": {},
   "outputs": [
    {
     "name": "stdout",
     "output_type": "stream",
     "text": [
      " ==輸出備份csv==::: BR_FreeAgent_2000to2020_20210208_18.02.07.csv\n"
     ]
    }
   ],
   "source": [
    "#存檔\n",
    "formtoCsv(all_df, \"BR_FreeAgent_2000to2020\")"
   ]
  },
  {
   "cell_type": "markdown",
   "metadata": {},
   "source": [
    "## 8. ESPN FA合約、年薪資料(含簽約與未簽約的FA)"
   ]
  },
  {
   "cell_type": "code",
   "execution_count": 2,
   "metadata": {},
   "outputs": [
    {
     "name": "stdout",
     "output_type": "stream",
     "text": [
      ">> 2006\n",
      ">> 2007\n",
      ">> 2008\n",
      ">> 2009\n",
      ">> 2010\n",
      ">> 2011\n",
      ">> 2012\n",
      ">> 2013\n",
      ">> 2014\n",
      ">> 2015\n",
      ">> 2016\n",
      ">> 2017\n",
      ">> 2018\n",
      ">> 2019\n",
      "<class 'pandas.core.frame.DataFrame'>\n",
      "RangeIndex: 2910 entries, 0 to 2909\n",
      "Data columns (total 11 columns):\n",
      "PLAYER      2910 non-null object\n",
      "POS         2910 non-null object\n",
      "AGE         2909 non-null object\n",
      "STATUS      2910 non-null object\n",
      "ORG TEAM    2910 non-null object\n",
      "NEW TEAM    2910 non-null object\n",
      "YRS         1529 non-null object\n",
      "RK          2910 non-null object\n",
      "DOLLARS     2910 non-null object\n",
      "YEAR        2910 non-null int64\n",
      "link        2910 non-null object\n",
      "dtypes: int64(1), object(10)\n",
      "memory usage: 250.2+ KB\n"
     ]
    }
   ],
   "source": [
    "df_all = pd.DataFrame()\n",
    "for year in range(2006, 2019+1):\n",
    "    print(f\">> {year}\")\n",
    "    url = f\"https://www.espn.com/mlb/freeagents/_/year/{year}/type\"\n",
    "    \n",
    "    # Clean & Mark\n",
    "    df = pd.read_html(url,header=1)[0]\n",
    "    df = df[~(df.loc[:,\"PLAYER\"].isin(['PLAYER', 'Total:']))].reset_index(drop=True)\n",
    "    df.loc[:,\"YEAR\"] = year\n",
    "    df.rename(columns={f\"{year} TEAM\":\"ORG TEAM\"}, inplace=True)\n",
    "    \n",
    "    # add Links\n",
    "    response = rs.get(url)\n",
    "    soup = BeautifulSoup(response.text, 'html.parser')\n",
    "    table = soup.find('table')\n",
    "\n",
    "    links = []\n",
    "    for tr in table.findAll(\"tr\"):\n",
    "        trs = tr.findAll(\"td\")\n",
    "        for each in trs:\n",
    "            try:\n",
    "                link = each.find('a')['href']\n",
    "                links.append(link)\n",
    "            except:\n",
    "                pass\n",
    "    if year==2009: # 特例處裡 Noel Arguelles:沒有link 拿掉\n",
    "        df = df[~df[\"PLAYER\"].isin([\n",
    "            \"Noel Arguelles\", \"Ryota Igarashi\"])].reset_index(drop=True)\n",
    "    df[\"link\"] = links\n",
    "    \n",
    "    #串檔\n",
    "    df_all = pd.concat([df_all,df])\n",
    "df_all.reset_index(drop=True, inplace=True)\n",
    "df_all.info()"
   ]
  },
  {
   "cell_type": "markdown",
   "metadata": {},
   "source": [
    "#### 檢查link與球員名稱是否接對應"
   ]
  },
  {
   "cell_type": "code",
   "execution_count": 8,
   "metadata": {},
   "outputs": [],
   "source": [
    "df_all[\"is_PLAYER_link_check\"] = df_all.apply(\n",
    "    lambda row: \"-\".join(row[\"PLAYER\"].split(\" \")).lower() in row[\"link\"]  , axis=1)"
   ]
  },
  {
   "cell_type": "code",
   "execution_count": 9,
   "metadata": {},
   "outputs": [
    {
     "data": {
      "text/plain": [
       "True     2900\n",
       "False      10\n",
       "Name: is_PLAYER_link_check, dtype: int64"
      ]
     },
     "execution_count": 9,
     "metadata": {},
     "output_type": "execute_result"
    }
   ],
   "source": [
    "df_all[\"is_PLAYER_link_check\"].value_counts()"
   ]
  },
  {
   "cell_type": "code",
   "execution_count": 5,
   "metadata": {},
   "outputs": [
    {
     "data": {
      "text/html": [
       "<div>\n",
       "<style scoped>\n",
       "    .dataframe tbody tr th:only-of-type {\n",
       "        vertical-align: middle;\n",
       "    }\n",
       "\n",
       "    .dataframe tbody tr th {\n",
       "        vertical-align: top;\n",
       "    }\n",
       "\n",
       "    .dataframe thead th {\n",
       "        text-align: right;\n",
       "    }\n",
       "</style>\n",
       "<table border=\"1\" class=\"dataframe\">\n",
       "  <thead>\n",
       "    <tr style=\"text-align: right;\">\n",
       "      <th></th>\n",
       "      <th>PLAYER</th>\n",
       "      <th>POS</th>\n",
       "      <th>AGE</th>\n",
       "      <th>STATUS</th>\n",
       "      <th>ORG TEAM</th>\n",
       "      <th>NEW TEAM</th>\n",
       "      <th>YRS</th>\n",
       "      <th>RK</th>\n",
       "      <th>DOLLARS</th>\n",
       "      <th>YEAR</th>\n",
       "      <th>link</th>\n",
       "      <th>is_PLAYER_link_check</th>\n",
       "    </tr>\n",
       "  </thead>\n",
       "  <tbody>\n",
       "    <tr>\n",
       "      <th>333</th>\n",
       "      <td>José Molina</td>\n",
       "      <td>RP</td>\n",
       "      <td>45</td>\n",
       "      <td>Signed</td>\n",
       "      <td>Yankees</td>\n",
       "      <td>Yankees</td>\n",
       "      <td>2</td>\n",
       "      <td>NR</td>\n",
       "      <td>$4,000,000</td>\n",
       "      <td>2007</td>\n",
       "      <td>https://www.espn.com/mlb/player/_/id/4169/jos%...</td>\n",
       "      <td>False</td>\n",
       "    </tr>\n",
       "    <tr>\n",
       "      <th>580</th>\n",
       "      <td>Iván Rodríguez</td>\n",
       "      <td>C</td>\n",
       "      <td>49</td>\n",
       "      <td>Signed</td>\n",
       "      <td>Yankees</td>\n",
       "      <td>Astros</td>\n",
       "      <td>1</td>\n",
       "      <td>46</td>\n",
       "      <td>$1,500,000</td>\n",
       "      <td>2008</td>\n",
       "      <td>https://www.espn.com/mlb/player/_/id/2523/iv%C...</td>\n",
       "      <td>False</td>\n",
       "    </tr>\n",
       "    <tr>\n",
       "      <th>618</th>\n",
       "      <td>Alfredo Amézaga</td>\n",
       "      <td>SS</td>\n",
       "      <td>43</td>\n",
       "      <td>Signed</td>\n",
       "      <td>Marlins</td>\n",
       "      <td>Dodgers</td>\n",
       "      <td>NaN</td>\n",
       "      <td>NR</td>\n",
       "      <td>Minor Lg</td>\n",
       "      <td>2009</td>\n",
       "      <td>https://www.espn.com/mlb/player/_/id/5066/alfr...</td>\n",
       "      <td>False</td>\n",
       "    </tr>\n",
       "    <tr>\n",
       "      <th>761</th>\n",
       "      <td>José Molina</td>\n",
       "      <td>RP</td>\n",
       "      <td>45</td>\n",
       "      <td>Signed</td>\n",
       "      <td>Yankees</td>\n",
       "      <td>Blue Jays</td>\n",
       "      <td>1</td>\n",
       "      <td>NR</td>\n",
       "      <td>$400,000</td>\n",
       "      <td>2009</td>\n",
       "      <td>https://www.espn.com/mlb/player/_/id/4169/jos%...</td>\n",
       "      <td>False</td>\n",
       "    </tr>\n",
       "    <tr>\n",
       "      <th>794</th>\n",
       "      <td>Iván Rodríguez</td>\n",
       "      <td>C</td>\n",
       "      <td>49</td>\n",
       "      <td>Signed (B)</td>\n",
       "      <td>Rangers</td>\n",
       "      <td>Nationals</td>\n",
       "      <td>2</td>\n",
       "      <td>NR</td>\n",
       "      <td>$6,000,000</td>\n",
       "      <td>2009</td>\n",
       "      <td>https://www.espn.com/mlb/player/_/id/2523/iv%C...</td>\n",
       "      <td>False</td>\n",
       "    </tr>\n",
       "    <tr>\n",
       "      <th>871</th>\n",
       "      <td>Jorge Cantú</td>\n",
       "      <td>3B</td>\n",
       "      <td>39</td>\n",
       "      <td>Signed</td>\n",
       "      <td>Rays</td>\n",
       "      <td>Padres</td>\n",
       "      <td>1</td>\n",
       "      <td>NR</td>\n",
       "      <td>$850,000</td>\n",
       "      <td>2010</td>\n",
       "      <td>https://www.espn.com/mlb/player/_/id/6033/jorg...</td>\n",
       "      <td>False</td>\n",
       "    </tr>\n",
       "    <tr>\n",
       "      <th>1184</th>\n",
       "      <td>José Molina</td>\n",
       "      <td>RP</td>\n",
       "      <td>45</td>\n",
       "      <td>Signed</td>\n",
       "      <td>Blue Jays</td>\n",
       "      <td>Rays</td>\n",
       "      <td>1</td>\n",
       "      <td>NR</td>\n",
       "      <td>$1,500,000</td>\n",
       "      <td>2011</td>\n",
       "      <td>https://www.espn.com/mlb/player/_/id/4169/jos%...</td>\n",
       "      <td>False</td>\n",
       "    </tr>\n",
       "    <tr>\n",
       "      <th>1219</th>\n",
       "      <td>Iván Rodríguez</td>\n",
       "      <td>C</td>\n",
       "      <td>49</td>\n",
       "      <td>FA</td>\n",
       "      <td>Nationals</td>\n",
       "      <td>--</td>\n",
       "      <td>NaN</td>\n",
       "      <td>NR</td>\n",
       "      <td>--</td>\n",
       "      <td>2011</td>\n",
       "      <td>https://www.espn.com/mlb/player/_/id/2523/iv%C...</td>\n",
       "      <td>False</td>\n",
       "    </tr>\n",
       "    <tr>\n",
       "      <th>1574</th>\n",
       "      <td>José Molina</td>\n",
       "      <td>RP</td>\n",
       "      <td>45</td>\n",
       "      <td>Signed</td>\n",
       "      <td>Rays</td>\n",
       "      <td>Rays</td>\n",
       "      <td>2</td>\n",
       "      <td>NR</td>\n",
       "      <td>$4,500,000</td>\n",
       "      <td>2013</td>\n",
       "      <td>https://www.espn.com/mlb/player/_/id/4169/jos%...</td>\n",
       "      <td>False</td>\n",
       "    </tr>\n",
       "    <tr>\n",
       "      <th>1606</th>\n",
       "      <td>Félix Pie</td>\n",
       "      <td>LF</td>\n",
       "      <td>36</td>\n",
       "      <td>Signed</td>\n",
       "      <td>Pirates</td>\n",
       "      <td>Japan</td>\n",
       "      <td>NaN</td>\n",
       "      <td>NR</td>\n",
       "      <td>--</td>\n",
       "      <td>2013</td>\n",
       "      <td>https://www.espn.com/mlb/player/_/id/6475/f%C3...</td>\n",
       "      <td>False</td>\n",
       "    </tr>\n",
       "  </tbody>\n",
       "</table>\n",
       "</div>"
      ],
      "text/plain": [
       "               PLAYER POS AGE      STATUS   ORG TEAM   NEW TEAM  YRS  RK  \\\n",
       "333       José Molina  RP  45      Signed    Yankees    Yankees    2  NR   \n",
       "580    Iván Rodríguez   C  49      Signed    Yankees     Astros    1  46   \n",
       "618   Alfredo Amézaga  SS  43      Signed    Marlins    Dodgers  NaN  NR   \n",
       "761       José Molina  RP  45      Signed    Yankees  Blue Jays    1  NR   \n",
       "794    Iván Rodríguez   C  49  Signed (B)    Rangers  Nationals    2  NR   \n",
       "871       Jorge Cantú  3B  39      Signed       Rays     Padres    1  NR   \n",
       "1184      José Molina  RP  45      Signed  Blue Jays       Rays    1  NR   \n",
       "1219   Iván Rodríguez   C  49          FA  Nationals         --  NaN  NR   \n",
       "1574      José Molina  RP  45      Signed       Rays       Rays    2  NR   \n",
       "1606        Félix Pie  LF  36      Signed    Pirates      Japan  NaN  NR   \n",
       "\n",
       "         DOLLARS  YEAR                                               link  \\\n",
       "333   $4,000,000  2007  https://www.espn.com/mlb/player/_/id/4169/jos%...   \n",
       "580   $1,500,000  2008  https://www.espn.com/mlb/player/_/id/2523/iv%C...   \n",
       "618     Minor Lg  2009  https://www.espn.com/mlb/player/_/id/5066/alfr...   \n",
       "761     $400,000  2009  https://www.espn.com/mlb/player/_/id/4169/jos%...   \n",
       "794   $6,000,000  2009  https://www.espn.com/mlb/player/_/id/2523/iv%C...   \n",
       "871     $850,000  2010  https://www.espn.com/mlb/player/_/id/6033/jorg...   \n",
       "1184  $1,500,000  2011  https://www.espn.com/mlb/player/_/id/4169/jos%...   \n",
       "1219          --  2011  https://www.espn.com/mlb/player/_/id/2523/iv%C...   \n",
       "1574  $4,500,000  2013  https://www.espn.com/mlb/player/_/id/4169/jos%...   \n",
       "1606          --  2013  https://www.espn.com/mlb/player/_/id/6475/f%C3...   \n",
       "\n",
       "      is_PLAYER_link_check  \n",
       "333                  False  \n",
       "580                  False  \n",
       "618                  False  \n",
       "761                  False  \n",
       "794                  False  \n",
       "871                  False  \n",
       "1184                 False  \n",
       "1219                 False  \n",
       "1574                 False  \n",
       "1606                 False  "
      ]
     },
     "execution_count": 5,
     "metadata": {},
     "output_type": "execute_result"
    }
   ],
   "source": [
    "df_all[df_all[\"is_PLAYER_link_check\"].isin([False])] # 西班牙文的 base編碼，正常"
   ]
  },
  {
   "cell_type": "code",
   "execution_count": 10,
   "metadata": {},
   "outputs": [],
   "source": [
    "df_all[\"PLAYER_id\"] = df_all[\"link\"].apply(lambda url: int(url.split(\"/id/\")[1].split(\"/\")[0]))"
   ]
  },
  {
   "cell_type": "code",
   "execution_count": 11,
   "metadata": {},
   "outputs": [
    {
     "name": "stdout",
     "output_type": "stream",
     "text": [
      " ==輸出備份csv==::: ESPN_FreeAgent_2006to2020_20210417_12.00.34.csv\n"
     ]
    }
   ],
   "source": [
    "#存檔\n",
    "formtoCsv(df_all, \"ESPN_FreeAgent_2006to2019\")"
   ]
  },
  {
   "cell_type": "markdown",
   "metadata": {},
   "source": [
    "### 從links 抓取球員歷年表現資料、計算年資"
   ]
  },
  {
   "cell_type": "code",
   "execution_count": 12,
   "metadata": {},
   "outputs": [],
   "source": [
    "playerID_link_dict = dict(zip(df_all.PLAYER_id, df_all.link))"
   ]
  },
  {
   "cell_type": "code",
   "execution_count": 13,
   "metadata": {},
   "outputs": [
    {
     "data": {
      "text/plain": [
       "'https://www.espn.com/mlb/player/_/id/43186/sandy-alomar-jr.'"
      ]
     },
     "execution_count": 13,
     "metadata": {},
     "output_type": "execute_result"
    }
   ],
   "source": [
    "playerID_link_dict[43186]"
   ]
  },
  {
   "cell_type": "code",
   "execution_count": 14,
   "metadata": {},
   "outputs": [
    {
     "data": {
      "text/plain": [
       "1454"
      ]
     },
     "execution_count": 14,
     "metadata": {},
     "output_type": "execute_result"
    }
   ],
   "source": [
    "len(playerID_link_dict)"
   ]
  },
  {
   "cell_type": "markdown",
   "metadata": {},
   "source": [
    "### 分開跑"
   ]
  },
  {
   "cell_type": "code",
   "execution_count": 22,
   "metadata": {},
   "outputs": [
    {
     "data": {
      "text/plain": [
       "'https://www.espn.com/mlb/player/_/id/4108/john-mcdonald'"
      ]
     },
     "execution_count": 22,
     "metadata": {},
     "output_type": "execute_result"
    }
   ],
   "source": [
    "playerID_link_dict[4108]"
   ]
  },
  {
   "cell_type": "code",
   "execution_count": 23,
   "metadata": {},
   "outputs": [
    {
     "name": "stderr",
     "output_type": "stream",
     "text": [
      "  3%|██▋                                                                           | 49/1454 [02:37<1:24:32,  3.61s/it]"
     ]
    },
    {
     "name": "stdout",
     "output_type": "stream",
     "text": [
      "https://www.espn.com/mlb/player/stats/_/id/3473/darin-erstad\n"
     ]
    },
    {
     "name": "stderr",
     "output_type": "stream",
     "text": [
      "  6%|████▍                                                                         | 82/1454 [04:41<1:16:52,  3.36s/it]"
     ]
    },
    {
     "name": "stdout",
     "output_type": "stream",
     "text": [
      "https://www.espn.com/mlb/player/stats/_/id/4171/shea-hillenbrand\n"
     ]
    },
    {
     "name": "stderr",
     "output_type": "stream",
     "text": [
      "  6%|████▍                                                                         | 83/1454 [04:49<1:47:49,  4.72s/it]"
     ]
    },
    {
     "name": "stdout",
     "output_type": "stream",
     "text": [
      "https://www.espn.com/mlb/player/stats/_/id/3141/todd-hollandsworth\n"
     ]
    },
    {
     "name": "stderr",
     "output_type": "stream",
     "text": [
      " 10%|███████▎                                                                     | 139/1454 [07:53<1:12:00,  3.29s/it]"
     ]
    },
    {
     "name": "stdout",
     "output_type": "stream",
     "text": [
      "https://www.espn.com/mlb/player/stats/_/id/2936/eduardo-perez\n"
     ]
    },
    {
     "name": "stderr",
     "output_type": "stream",
     "text": [
      " 13%|█████████▋                                                                   | 183/1454 [10:13<1:01:38,  2.91s/it]"
     ]
    },
    {
     "name": "stdout",
     "output_type": "stream",
     "text": [
      "https://www.espn.com/mlb/player/stats/_/id/3539/todd-walker\n"
     ]
    },
    {
     "name": "stderr",
     "output_type": "stream",
     "text": [
      " 17%|█████████████▏                                                               | 248/1454 [13:41<1:04:01,  3.19s/it]"
     ]
    },
    {
     "name": "stdout",
     "output_type": "stream",
     "text": [
      "https://www.espn.com/mlb/player/stats/_/id/6082/jerry-gil\n"
     ]
    },
    {
     "name": "stderr",
     "output_type": "stream",
     "text": [
      " 18%|██████████████▏                                                              | 267/1454 [14:53<1:11:35,  3.62s/it]"
     ]
    },
    {
     "name": "stdout",
     "output_type": "stream",
     "text": [
      "https://www.espn.com/mlb/player/stats/_/id/28869/ryan-ketchner\n"
     ]
    },
    {
     "name": "stderr",
     "output_type": "stream",
     "text": [
      " 20%|███████████████▎                                                             | 290/1454 [16:07<1:01:09,  3.15s/it]"
     ]
    },
    {
     "name": "stdout",
     "output_type": "stream",
     "text": [
      "https://www.espn.com/mlb/player/stats/_/id/4169/jos%C3%A9-molina\n"
     ]
    },
    {
     "name": "stderr",
     "output_type": "stream",
     "text": [
      " 23%|██████████████████▏                                                            | 334/1454 [18:26<55:35,  2.98s/it]"
     ]
    },
    {
     "name": "stdout",
     "output_type": "stream",
     "text": [
      "https://www.espn.com/mlb/player/stats/_/id/29274/mario-alvarez\n"
     ]
    },
    {
     "name": "stderr",
     "output_type": "stream",
     "text": [
      " 25%|███████████████████▏                                                         | 363/1454 [19:54<1:05:39,  3.61s/it]"
     ]
    },
    {
     "name": "stdout",
     "output_type": "stream",
     "text": [
      "https://www.espn.com/mlb/player/stats/_/id/30002/jairo-cuevas\n"
     ]
    },
    {
     "name": "stderr",
     "output_type": "stream",
     "text": [
      " 32%|████████████████████████▉                                                      | 460/1454 [24:47<51:03,  3.08s/it]"
     ]
    },
    {
     "name": "stdout",
     "output_type": "stream",
     "text": [
      "https://www.espn.com/mlb/player/stats/_/id/6196/brian-anderson\n"
     ]
    },
    {
     "name": "stderr",
     "output_type": "stream",
     "text": [
      " 36%|████████████████████████████▍                                                  | 524/1454 [28:02<45:43,  2.95s/it]"
     ]
    },
    {
     "name": "stdout",
     "output_type": "stream",
     "text": [
      "https://www.espn.com/mlb/player/stats/_/id/28651/adam-miller\n"
     ]
    },
    {
     "name": "stderr",
     "output_type": "stream",
     "text": [
      " 37%|████████████████████████████▉                                                  | 532/1454 [28:32<56:21,  3.67s/it]"
     ]
    },
    {
     "name": "stdout",
     "output_type": "stream",
     "text": [
      "https://www.espn.com/mlb/player/stats/_/id/30075/jackson-quezada\n"
     ]
    },
    {
     "name": "stderr",
     "output_type": "stream",
     "text": [
      " 48%|█████████████████████████████████████▌                                         | 692/1454 [36:09<40:55,  3.22s/it]"
     ]
    },
    {
     "name": "stdout",
     "output_type": "stream",
     "text": [
      "https://www.espn.com/mlb/player/stats/_/id/6048/jose-lopez\n"
     ]
    },
    {
     "name": "stderr",
     "output_type": "stream",
     "text": [
      " 53%|█████████████████████████████████████████▌                                     | 764/1454 [40:03<32:31,  2.83s/it]"
     ]
    },
    {
     "name": "stdout",
     "output_type": "stream",
     "text": [
      "https://www.espn.com/mlb/player/stats/_/id/32584/hiroyuki-nakajima\n"
     ]
    },
    {
     "name": "stderr",
     "output_type": "stream",
     "text": [
      " 68%|█████████████████████████████████████████████████████▉                         | 993/1454 [51:55<24:50,  3.23s/it]"
     ]
    },
    {
     "name": "stdout",
     "output_type": "stream",
     "text": [
      "https://www.espn.com/mlb/player/stats/_/id/34840/yaisel-sierra\n"
     ]
    },
    {
     "name": "stderr",
     "output_type": "stream",
     "text": [
      " 72%|████████████████████████████████████████████████████████▍                     | 1053/1454 [54:48<17:23,  2.60s/it]"
     ]
    },
    {
     "name": "stdout",
     "output_type": "stream",
     "text": [
      "https://www.espn.com/mlb/player/stats/_/id/34855/yorman-landa\n"
     ]
    },
    {
     "name": "stderr",
     "output_type": "stream",
     "text": [
      " 73%|████████████████████████████████████████████████████████▉                     | 1062/1454 [55:14<18:48,  2.88s/it]"
     ]
    },
    {
     "name": "stdout",
     "output_type": "stream",
     "text": [
      "https://www.espn.com/mlb/player/stats/_/id/33566/thomas-milone\n"
     ]
    },
    {
     "name": "stderr",
     "output_type": "stream",
     "text": [
      "100%|████████████████████████████████████████████████████████████████████████████| 1454/1454 [1:15:10<00:00,  3.10s/it]\n"
     ]
    }
   ],
   "source": [
    "player_stats_all = pd.DataFrame()\n",
    "stats_no_data_player_lst = []\n",
    "\n",
    "for i, (_id, url) in enumerate(tqdm(playerID_link_dict.items())):\n",
    "    head, tail = url.split(\"/_/\")\n",
    "    # Stats\n",
    "    stats_url = head + \"/stats/_/\" + tail\n",
    "    try:\n",
    "        r = pd.read_html(stats_url)\n",
    "        df_temp = pd.concat([r[0].loc[:len(r[0])-3,:], r[1].loc[:len(r[1])-3,:]], sort=False, axis=1)\n",
    "        df_temp[\"playerID\"] = _id\n",
    "\n",
    "        # 年資就是對出賽賽季(已排序)做Label Encoding+1\n",
    "        df_temp.season = pd.Categorical(df_temp.season)\n",
    "        df_temp[\"Yrs\"] = df_temp.season.cat.codes+1\n",
    "        \n",
    "        player_stats_all = pd.concat([player_stats_all,df_temp],sort=False)\n",
    "    except:\n",
    "        print(stats_url)\n",
    "        stats_no_data_player_lst.append(_id)\n",
    "        pass\n",
    "\n",
    "    \n",
    "    time.sleep(1)\n",
    "\n",
    "player_stats_all.reset_index(drop=True, inplace=True)"
   ]
  },
  {
   "cell_type": "code",
   "execution_count": 62,
   "metadata": {},
   "outputs": [
    {
     "name": "stderr",
     "output_type": "stream",
     "text": [
      " 35%|███████████████████████████▋                                                   | 509/1454 [18:22<50:51,  3.23s/it]"
     ]
    },
    {
     "name": "stdout",
     "output_type": "stream",
     "text": [
      "https://www.espn.com/mlb/player/bio/_/id/23283/mike-jacobs\n"
     ]
    },
    {
     "name": "stderr",
     "output_type": "stream",
     "text": [
      "100%|██████████████████████████████████████████████████████████████████████████████| 1454/1454 [52:16<00:00,  2.16s/it]\n"
     ]
    }
   ],
   "source": [
    "player_bio_all = pd.DataFrame()\n",
    "bio_no_data_player_lst = []\n",
    "\n",
    "for i, (_id, url) in enumerate(tqdm(playerID_link_dict.items())):\n",
    "    head, tail = url.split(\"/_/\")\n",
    "    df_temp = pd.DataFrame(index=[0])\n",
    "    df_temp[\"playerID\"] = _id\n",
    "    # Bio\n",
    "    bio_url = head + \"/bio/_/\" + tail\n",
    "    try:\n",
    "        response = rs.get(bio_url)\n",
    "        soup = BeautifulSoup(response.text, 'html.parser')\n",
    "        spans = soup.find_all('span')\n",
    "        span_lst = []\n",
    "        for i, span in enumerate(spans):\n",
    "            span_lst.append(span.string)\n",
    "            if \"Position\" in str(span_lst[i-1]):\n",
    "                POS = span.string\n",
    "\n",
    "            if \"DOB\" in str(span_lst[i-1]):\n",
    "                DOB = span.string\n",
    "\n",
    "            if \"Birthplace\" in str(span_lst[i-1]):\n",
    "                Birthplace = span.string\n",
    "\n",
    "        df_temp[\"POS\"] = POS\n",
    "        df_temp[\"DOB\"] = DOB\n",
    "        df_temp[\"Birthplace\"] = Birthplace\n",
    "\n",
    "        if \"Pitcher\" in POS:\n",
    "            df_temp[\"TYPE\"] = \"pitch\"\n",
    "            player_bio_all = pd.concat([player_bio_all,df_temp],sort=False)\n",
    "\n",
    "        else:\n",
    "            df_temp[\"TYPE\"] = \"bat\"\n",
    "            player_bio_all = pd.concat([player_bio_all,df_temp],sort=False)\n",
    "\n",
    "    except:\n",
    "        print(bio_url)\n",
    "        bio_no_data_player_lst.append(_id)\n",
    "        pass\n",
    "\n",
    "    time.sleep(1)\n",
    "\n",
    "player_bio_all.reset_index(drop=True, inplace=True)"
   ]
  },
  {
   "cell_type": "code",
   "execution_count": 63,
   "metadata": {},
   "outputs": [
    {
     "name": "stdout",
     "output_type": "stream",
     "text": [
      " ==輸出備份csv==::: ESPN_player_bio_all_20210417_15.23.45.csv\n"
     ]
    }
   ],
   "source": [
    "#存檔\n",
    "formtoCsv(player_stats_all, \"ESPN_player_stats_all\")\n",
    "formtoCsv(player_bio_all, \"ESPN_player_bio_all\")"
   ]
  },
  {
   "cell_type": "code",
   "execution_count": 64,
   "metadata": {},
   "outputs": [
    {
     "name": "stdout",
     "output_type": "stream",
     "text": [
      "18 1\n"
     ]
    }
   ],
   "source": [
    "print(len(stats_no_data_player_lst), len(bio_no_data_player_lst))"
   ]
  },
  {
   "cell_type": "code",
   "execution_count": 27,
   "metadata": {},
   "outputs": [
    {
     "data": {
      "text/plain": [
       "[3473,\n",
       " 4171,\n",
       " 3141,\n",
       " 2936,\n",
       " 3539,\n",
       " 6082,\n",
       " 28869,\n",
       " 4169,\n",
       " 29274,\n",
       " 30002,\n",
       " 6196,\n",
       " 28651,\n",
       " 30075,\n",
       " 6048,\n",
       " 32584,\n",
       " 34840,\n",
       " 34855,\n",
       " 33566]"
      ]
     },
     "execution_count": 27,
     "metadata": {},
     "output_type": "execute_result"
    }
   ],
   "source": [
    "stats_no_data_player_lst"
   ]
  },
  {
   "cell_type": "code",
   "execution_count": null,
   "metadata": {},
   "outputs": [],
   "source": []
  }
 ],
 "metadata": {
  "kernelspec": {
   "display_name": "Python 3",
   "language": "python",
   "name": "python3"
  },
  "language_info": {
   "codemirror_mode": {
    "name": "ipython",
    "version": 3
   },
   "file_extension": ".py",
   "mimetype": "text/x-python",
   "name": "python",
   "nbconvert_exporter": "python",
   "pygments_lexer": "ipython3",
   "version": "3.8.5"
  },
  "toc-showmarkdowntxt": false
 },
 "nbformat": 4,
 "nbformat_minor": 4
}
