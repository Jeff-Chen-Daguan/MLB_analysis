{
 "cells": [
  {
   "cell_type": "markdown",
   "metadata": {},
   "source": [
    "# MLB 資料來源 2021.01.25"
   ]
  },
  {
   "cell_type": "code",
   "execution_count": 1,
   "metadata": {},
   "outputs": [],
   "source": [
    "import sys\n",
    "sys.path.append('G:\\我的雲端硬碟\\python')\n",
    "\n",
    "from polib.CsvEngn import *\n",
    "import glob\n",
    "# import mlbgame\n",
    "from tqdm import tqdm\n",
    "import requests as rs\n",
    "from bs4 import BeautifulSoup\n",
    "import time"
   ]
  },
  {
   "cell_type": "markdown",
   "metadata": {},
   "source": [
    "## 1. Lahman_db"
   ]
  },
  {
   "cell_type": "markdown",
   "metadata": {},
   "source": [
    "有各球員、球隊、年度的表現、薪資、球員個人資訊、明星賽資訊\n",
    "- [說明網頁&下載點 (每年覆蓋整版)](http://www.seanlahman.com/baseball-archive/statistics/)\n",
    "- 存放位置: G:\\我的雲端硬碟\\learning\\論文今年會寫完\\0.資源包\\2.資料\\1.Lahman_db_2019"
   ]
  },
  {
   "cell_type": "markdown",
   "metadata": {},
   "source": [
    "> 2020的資料預計2021.02 會更新"
   ]
  },
  {
   "cell_type": "code",
   "execution_count": 3,
   "metadata": {},
   "outputs": [
    {
     "name": "stdout",
     "output_type": "stream",
     "text": [
      "Pitching.csv\n",
      "People.csv\n",
      "BattingPost.csv\n",
      "Parks.csv\n",
      "Batting.csv\n",
      "ManagersHalf.csv\n",
      "Managers.csv\n",
      "HomeGames.csv\n",
      "HallOfFame.csv\n",
      "FieldingPost.csv\n",
      "FieldingOFsplit.csv\n",
      "FieldingOF.csv\n",
      "Fielding.csv\n",
      "TeamsHalf.csv\n",
      "TeamsFranchises.csv\n",
      "AwardsSharePlayers.csv\n",
      "AwardsShareManagers.csv\n",
      "AwardsPlayers.csv\n",
      "AwardsManagers.csv\n",
      "Appearances.csv\n",
      "Teams.csv\n",
      "SeriesPost.csv\n",
      "Schools.csv\n",
      "Salaries.csv\n",
      "PitchingPost.csv\n",
      "CollegePlaying.csv\n",
      "AllstarFull.csv\n",
      "\n",
      ">> 有 27個檔案\n"
     ]
    }
   ],
   "source": [
    "path = r\"G:\\我的雲端硬碟\\learning\\論文今年會寫完\\0.資源包\\2.資料\\1.Lahman_db_2019\\core\\*\"\n",
    "n=0\n",
    "for g in glob.glob(path):\n",
    "    if g.split(\"\\\\\")[-1][-3:] == \"csv\":\n",
    "        print(g.split(\"\\\\\")[-1])\n",
    "        n = n+1\n",
    "print(f\"\\n>> 有 {n}個檔案\")"
   ]
  },
  {
   "cell_type": "code",
   "execution_count": 29,
   "metadata": {},
   "outputs": [
    {
     "name": "stdout",
     "output_type": "stream",
     "text": [
      "  >> 讀取:: G:\\我的雲端硬碟\\learning\\論文今年會寫完\\0.資源包\\2.資料\\1.Lahman_db_2019\\core\\People.csv\n"
     ]
    }
   ],
   "source": [
    "path = r\"G:\\我的雲端硬碟\\learning\\論文今年會寫完\\0.資源包\\2.資料\\1.Lahman_db_2019\\core\\People.csv\"\n",
    "df = read_data_dir_fPathExt(path)"
   ]
  },
  {
   "cell_type": "code",
   "execution_count": 30,
   "metadata": {},
   "outputs": [
    {
     "data": {
      "text/html": [
       "<div>\n",
       "<style scoped>\n",
       "    .dataframe tbody tr th:only-of-type {\n",
       "        vertical-align: middle;\n",
       "    }\n",
       "\n",
       "    .dataframe tbody tr th {\n",
       "        vertical-align: top;\n",
       "    }\n",
       "\n",
       "    .dataframe thead th {\n",
       "        text-align: right;\n",
       "    }\n",
       "</style>\n",
       "<table border=\"1\" class=\"dataframe\">\n",
       "  <thead>\n",
       "    <tr style=\"text-align: right;\">\n",
       "      <th></th>\n",
       "      <th>playerID</th>\n",
       "      <th>birthYear</th>\n",
       "      <th>birthMonth</th>\n",
       "      <th>birthDay</th>\n",
       "      <th>birthCountry</th>\n",
       "      <th>birthState</th>\n",
       "      <th>birthCity</th>\n",
       "      <th>deathYear</th>\n",
       "      <th>deathMonth</th>\n",
       "      <th>deathDay</th>\n",
       "      <th>...</th>\n",
       "      <th>nameLast</th>\n",
       "      <th>nameGiven</th>\n",
       "      <th>weight</th>\n",
       "      <th>height</th>\n",
       "      <th>bats</th>\n",
       "      <th>throws</th>\n",
       "      <th>debut</th>\n",
       "      <th>finalGame</th>\n",
       "      <th>retroID</th>\n",
       "      <th>bbrefID</th>\n",
       "    </tr>\n",
       "  </thead>\n",
       "  <tbody>\n",
       "    <tr>\n",
       "      <th>0</th>\n",
       "      <td>aardsda01</td>\n",
       "      <td>1981.0</td>\n",
       "      <td>12.0</td>\n",
       "      <td>27.0</td>\n",
       "      <td>USA</td>\n",
       "      <td>CO</td>\n",
       "      <td>Denver</td>\n",
       "      <td>NaN</td>\n",
       "      <td>NaN</td>\n",
       "      <td>NaN</td>\n",
       "      <td>...</td>\n",
       "      <td>Aardsma</td>\n",
       "      <td>David Allan</td>\n",
       "      <td>215.0</td>\n",
       "      <td>75.0</td>\n",
       "      <td>R</td>\n",
       "      <td>R</td>\n",
       "      <td>2004-04-06</td>\n",
       "      <td>2015-08-23</td>\n",
       "      <td>aardd001</td>\n",
       "      <td>aardsda01</td>\n",
       "    </tr>\n",
       "    <tr>\n",
       "      <th>1</th>\n",
       "      <td>aaronha01</td>\n",
       "      <td>1934.0</td>\n",
       "      <td>2.0</td>\n",
       "      <td>5.0</td>\n",
       "      <td>USA</td>\n",
       "      <td>AL</td>\n",
       "      <td>Mobile</td>\n",
       "      <td>NaN</td>\n",
       "      <td>NaN</td>\n",
       "      <td>NaN</td>\n",
       "      <td>...</td>\n",
       "      <td>Aaron</td>\n",
       "      <td>Henry Louis</td>\n",
       "      <td>180.0</td>\n",
       "      <td>72.0</td>\n",
       "      <td>R</td>\n",
       "      <td>R</td>\n",
       "      <td>1954-04-13</td>\n",
       "      <td>1976-10-03</td>\n",
       "      <td>aaroh101</td>\n",
       "      <td>aaronha01</td>\n",
       "    </tr>\n",
       "    <tr>\n",
       "      <th>2</th>\n",
       "      <td>aaronto01</td>\n",
       "      <td>1939.0</td>\n",
       "      <td>8.0</td>\n",
       "      <td>5.0</td>\n",
       "      <td>USA</td>\n",
       "      <td>AL</td>\n",
       "      <td>Mobile</td>\n",
       "      <td>1984.0</td>\n",
       "      <td>8.0</td>\n",
       "      <td>16.0</td>\n",
       "      <td>...</td>\n",
       "      <td>Aaron</td>\n",
       "      <td>Tommie Lee</td>\n",
       "      <td>190.0</td>\n",
       "      <td>75.0</td>\n",
       "      <td>R</td>\n",
       "      <td>R</td>\n",
       "      <td>1962-04-10</td>\n",
       "      <td>1971-09-26</td>\n",
       "      <td>aarot101</td>\n",
       "      <td>aaronto01</td>\n",
       "    </tr>\n",
       "    <tr>\n",
       "      <th>3</th>\n",
       "      <td>aasedo01</td>\n",
       "      <td>1954.0</td>\n",
       "      <td>9.0</td>\n",
       "      <td>8.0</td>\n",
       "      <td>USA</td>\n",
       "      <td>CA</td>\n",
       "      <td>Orange</td>\n",
       "      <td>NaN</td>\n",
       "      <td>NaN</td>\n",
       "      <td>NaN</td>\n",
       "      <td>...</td>\n",
       "      <td>Aase</td>\n",
       "      <td>Donald William</td>\n",
       "      <td>190.0</td>\n",
       "      <td>75.0</td>\n",
       "      <td>R</td>\n",
       "      <td>R</td>\n",
       "      <td>1977-07-26</td>\n",
       "      <td>1990-10-03</td>\n",
       "      <td>aased001</td>\n",
       "      <td>aasedo01</td>\n",
       "    </tr>\n",
       "    <tr>\n",
       "      <th>4</th>\n",
       "      <td>abadan01</td>\n",
       "      <td>1972.0</td>\n",
       "      <td>8.0</td>\n",
       "      <td>25.0</td>\n",
       "      <td>USA</td>\n",
       "      <td>FL</td>\n",
       "      <td>Palm Beach</td>\n",
       "      <td>NaN</td>\n",
       "      <td>NaN</td>\n",
       "      <td>NaN</td>\n",
       "      <td>...</td>\n",
       "      <td>Abad</td>\n",
       "      <td>Fausto Andres</td>\n",
       "      <td>184.0</td>\n",
       "      <td>73.0</td>\n",
       "      <td>L</td>\n",
       "      <td>L</td>\n",
       "      <td>2001-09-10</td>\n",
       "      <td>2006-04-13</td>\n",
       "      <td>abada001</td>\n",
       "      <td>abadan01</td>\n",
       "    </tr>\n",
       "  </tbody>\n",
       "</table>\n",
       "<p>5 rows × 24 columns</p>\n",
       "</div>"
      ],
      "text/plain": [
       "    playerID  birthYear  birthMonth  birthDay birthCountry birthState  \\\n",
       "0  aardsda01     1981.0        12.0      27.0          USA         CO   \n",
       "1  aaronha01     1934.0         2.0       5.0          USA         AL   \n",
       "2  aaronto01     1939.0         8.0       5.0          USA         AL   \n",
       "3   aasedo01     1954.0         9.0       8.0          USA         CA   \n",
       "4   abadan01     1972.0         8.0      25.0          USA         FL   \n",
       "\n",
       "    birthCity  deathYear  deathMonth  deathDay  ... nameLast       nameGiven  \\\n",
       "0      Denver        NaN         NaN       NaN  ...  Aardsma     David Allan   \n",
       "1      Mobile        NaN         NaN       NaN  ...    Aaron     Henry Louis   \n",
       "2      Mobile     1984.0         8.0      16.0  ...    Aaron      Tommie Lee   \n",
       "3      Orange        NaN         NaN       NaN  ...     Aase  Donald William   \n",
       "4  Palm Beach        NaN         NaN       NaN  ...     Abad   Fausto Andres   \n",
       "\n",
       "  weight height bats throws       debut   finalGame   retroID    bbrefID  \n",
       "0  215.0   75.0    R      R  2004-04-06  2015-08-23  aardd001  aardsda01  \n",
       "1  180.0   72.0    R      R  1954-04-13  1976-10-03  aaroh101  aaronha01  \n",
       "2  190.0   75.0    R      R  1962-04-10  1971-09-26  aarot101  aaronto01  \n",
       "3  190.0   75.0    R      R  1977-07-26  1990-10-03  aased001   aasedo01  \n",
       "4  184.0   73.0    L      L  2001-09-10  2006-04-13  abada001   abadan01  \n",
       "\n",
       "[5 rows x 24 columns]"
      ]
     },
     "execution_count": 30,
     "metadata": {},
     "output_type": "execute_result"
    }
   ],
   "source": [
    "df.head()"
   ]
  },
  {
   "cell_type": "code",
   "execution_count": 19,
   "metadata": {},
   "outputs": [
    {
     "data": {
      "text/html": [
       "<div>\n",
       "<style scoped>\n",
       "    .dataframe tbody tr th:only-of-type {\n",
       "        vertical-align: middle;\n",
       "    }\n",
       "\n",
       "    .dataframe tbody tr th {\n",
       "        vertical-align: top;\n",
       "    }\n",
       "\n",
       "    .dataframe thead th {\n",
       "        text-align: right;\n",
       "    }\n",
       "</style>\n",
       "<table border=\"1\" class=\"dataframe\">\n",
       "  <thead>\n",
       "    <tr style=\"text-align: right;\">\n",
       "      <th></th>\n",
       "      <th>playerID</th>\n",
       "      <th>birthYear</th>\n",
       "      <th>birthMonth</th>\n",
       "      <th>birthDay</th>\n",
       "      <th>birthCountry</th>\n",
       "      <th>birthState</th>\n",
       "      <th>birthCity</th>\n",
       "      <th>deathYear</th>\n",
       "      <th>deathMonth</th>\n",
       "      <th>deathDay</th>\n",
       "      <th>...</th>\n",
       "      <th>nameLast</th>\n",
       "      <th>nameGiven</th>\n",
       "      <th>weight</th>\n",
       "      <th>height</th>\n",
       "      <th>bats</th>\n",
       "      <th>throws</th>\n",
       "      <th>debut</th>\n",
       "      <th>finalGame</th>\n",
       "      <th>retroID</th>\n",
       "      <th>bbrefID</th>\n",
       "    </tr>\n",
       "  </thead>\n",
       "  <tbody>\n",
       "    <tr>\n",
       "      <th>0</th>\n",
       "      <td>aardsda01</td>\n",
       "      <td>1981.0</td>\n",
       "      <td>12.0</td>\n",
       "      <td>27.0</td>\n",
       "      <td>USA</td>\n",
       "      <td>CO</td>\n",
       "      <td>Denver</td>\n",
       "      <td>NaN</td>\n",
       "      <td>NaN</td>\n",
       "      <td>NaN</td>\n",
       "      <td>...</td>\n",
       "      <td>Aardsma</td>\n",
       "      <td>David Allan</td>\n",
       "      <td>215.0</td>\n",
       "      <td>75.0</td>\n",
       "      <td>R</td>\n",
       "      <td>R</td>\n",
       "      <td>2004-04-06</td>\n",
       "      <td>2015-08-23</td>\n",
       "      <td>aardd001</td>\n",
       "      <td>aardsda01</td>\n",
       "    </tr>\n",
       "    <tr>\n",
       "      <th>1</th>\n",
       "      <td>aaronha01</td>\n",
       "      <td>1934.0</td>\n",
       "      <td>2.0</td>\n",
       "      <td>5.0</td>\n",
       "      <td>USA</td>\n",
       "      <td>AL</td>\n",
       "      <td>Mobile</td>\n",
       "      <td>NaN</td>\n",
       "      <td>NaN</td>\n",
       "      <td>NaN</td>\n",
       "      <td>...</td>\n",
       "      <td>Aaron</td>\n",
       "      <td>Henry Louis</td>\n",
       "      <td>180.0</td>\n",
       "      <td>72.0</td>\n",
       "      <td>R</td>\n",
       "      <td>R</td>\n",
       "      <td>1954-04-13</td>\n",
       "      <td>1976-10-03</td>\n",
       "      <td>aaroh101</td>\n",
       "      <td>aaronha01</td>\n",
       "    </tr>\n",
       "    <tr>\n",
       "      <th>2</th>\n",
       "      <td>aaronto01</td>\n",
       "      <td>1939.0</td>\n",
       "      <td>8.0</td>\n",
       "      <td>5.0</td>\n",
       "      <td>USA</td>\n",
       "      <td>AL</td>\n",
       "      <td>Mobile</td>\n",
       "      <td>1984.0</td>\n",
       "      <td>8.0</td>\n",
       "      <td>16.0</td>\n",
       "      <td>...</td>\n",
       "      <td>Aaron</td>\n",
       "      <td>Tommie Lee</td>\n",
       "      <td>190.0</td>\n",
       "      <td>75.0</td>\n",
       "      <td>R</td>\n",
       "      <td>R</td>\n",
       "      <td>1962-04-10</td>\n",
       "      <td>1971-09-26</td>\n",
       "      <td>aarot101</td>\n",
       "      <td>aaronto01</td>\n",
       "    </tr>\n",
       "    <tr>\n",
       "      <th>3</th>\n",
       "      <td>aasedo01</td>\n",
       "      <td>1954.0</td>\n",
       "      <td>9.0</td>\n",
       "      <td>8.0</td>\n",
       "      <td>USA</td>\n",
       "      <td>CA</td>\n",
       "      <td>Orange</td>\n",
       "      <td>NaN</td>\n",
       "      <td>NaN</td>\n",
       "      <td>NaN</td>\n",
       "      <td>...</td>\n",
       "      <td>Aase</td>\n",
       "      <td>Donald William</td>\n",
       "      <td>190.0</td>\n",
       "      <td>75.0</td>\n",
       "      <td>R</td>\n",
       "      <td>R</td>\n",
       "      <td>1977-07-26</td>\n",
       "      <td>1990-10-03</td>\n",
       "      <td>aased001</td>\n",
       "      <td>aasedo01</td>\n",
       "    </tr>\n",
       "    <tr>\n",
       "      <th>4</th>\n",
       "      <td>abadan01</td>\n",
       "      <td>1972.0</td>\n",
       "      <td>8.0</td>\n",
       "      <td>25.0</td>\n",
       "      <td>USA</td>\n",
       "      <td>FL</td>\n",
       "      <td>Palm Beach</td>\n",
       "      <td>NaN</td>\n",
       "      <td>NaN</td>\n",
       "      <td>NaN</td>\n",
       "      <td>...</td>\n",
       "      <td>Abad</td>\n",
       "      <td>Fausto Andres</td>\n",
       "      <td>184.0</td>\n",
       "      <td>73.0</td>\n",
       "      <td>L</td>\n",
       "      <td>L</td>\n",
       "      <td>2001-09-10</td>\n",
       "      <td>2006-04-13</td>\n",
       "      <td>abada001</td>\n",
       "      <td>abadan01</td>\n",
       "    </tr>\n",
       "  </tbody>\n",
       "</table>\n",
       "<p>5 rows × 24 columns</p>\n",
       "</div>"
      ],
      "text/plain": [
       "    playerID  birthYear  birthMonth  birthDay birthCountry birthState  \\\n",
       "0  aardsda01     1981.0        12.0      27.0          USA         CO   \n",
       "1  aaronha01     1934.0         2.0       5.0          USA         AL   \n",
       "2  aaronto01     1939.0         8.0       5.0          USA         AL   \n",
       "3   aasedo01     1954.0         9.0       8.0          USA         CA   \n",
       "4   abadan01     1972.0         8.0      25.0          USA         FL   \n",
       "\n",
       "    birthCity  deathYear  deathMonth  deathDay  ... nameLast       nameGiven  \\\n",
       "0      Denver        NaN         NaN       NaN  ...  Aardsma     David Allan   \n",
       "1      Mobile        NaN         NaN       NaN  ...    Aaron     Henry Louis   \n",
       "2      Mobile     1984.0         8.0      16.0  ...    Aaron      Tommie Lee   \n",
       "3      Orange        NaN         NaN       NaN  ...     Aase  Donald William   \n",
       "4  Palm Beach        NaN         NaN       NaN  ...     Abad   Fausto Andres   \n",
       "\n",
       "  weight height bats throws       debut   finalGame   retroID    bbrefID  \n",
       "0  215.0   75.0    R      R  2004-04-06  2015-08-23  aardd001  aardsda01  \n",
       "1  180.0   72.0    R      R  1954-04-13  1976-10-03  aaroh101  aaronha01  \n",
       "2  190.0   75.0    R      R  1962-04-10  1971-09-26  aarot101  aaronto01  \n",
       "3  190.0   75.0    R      R  1977-07-26  1990-10-03  aased001   aasedo01  \n",
       "4  184.0   73.0    L      L  2001-09-10  2006-04-13  abada001   abadan01  \n",
       "\n",
       "[5 rows x 24 columns]"
      ]
     },
     "execution_count": 19,
     "metadata": {},
     "output_type": "execute_result"
    }
   ],
   "source": [
    "df.head()"
   ]
  },
  {
   "cell_type": "code",
   "execution_count": 31,
   "metadata": {},
   "outputs": [
    {
     "data": {
      "text/plain": [
       "Index(['playerID', 'birthYear', 'birthMonth', 'birthDay', 'birthCountry',\n",
       "       'birthState', 'birthCity', 'deathYear', 'deathMonth', 'deathDay',\n",
       "       'deathCountry', 'deathState', 'deathCity', 'nameFirst', 'nameLast',\n",
       "       'nameGiven', 'weight', 'height', 'bats', 'throws', 'debut', 'finalGame',\n",
       "       'retroID', 'bbrefID'],\n",
       "      dtype='object')"
      ]
     },
     "execution_count": 31,
     "metadata": {},
     "output_type": "execute_result"
    }
   ],
   "source": [
    "df.columns"
   ]
  },
  {
   "cell_type": "code",
   "execution_count": 52,
   "metadata": {},
   "outputs": [
    {
     "name": "stdout",
     "output_type": "stream",
     "text": [
      " ==輸出備份xlsx== ::: David_20210125_20.29.03.xlsx\n"
     ]
    }
   ],
   "source": [
    "name = \"David Price\"\n",
    "f_name = \"David\"\n",
    "# l_name = \"Mark\"\n",
    "mask = (df['nameFirst'].str.find(f_name)>=0)\n",
    "# (df['nameLast'].str.contains(l_name).fillna(False)) \n",
    "# & (df['nameFirst'].str.contains(f_name).fillna(False))\n",
    "formtoXlsx(df[mask][['nameFirst', 'nameLast', 'nameGiven','playerID']], \"David\")"
   ]
  },
  {
   "cell_type": "markdown",
   "metadata": {},
   "source": [
    "## 2. baseball-reference"
   ]
  },
  {
   "cell_type": "markdown",
   "metadata": {},
   "source": [
    "有各年各球員的WAR數據，區分投、打\n",
    "- [說明網頁&下載點](https://www.baseball-reference.com/about/war_explained.shtml)\n",
    "- 存放位置: G:\\我的雲端硬碟\\learning\\論文今年會寫完\\0.資源包\\2.資料\\2.baseball_reference"
   ]
  },
  {
   "cell_type": "code",
   "execution_count": 2,
   "metadata": {},
   "outputs": [],
   "source": [
    "war_bat_path =  \"https://www.baseball-reference.com/data/war_daily_bat.txt\"\n",
    "war_pitch_path =  \"https://www.baseball-reference.com/data/war_daily_pitch.txt\"\n",
    "\n",
    "war_bat_df = pd.read_csv(war_bat_path)\n",
    "war_pitch_df = pd.read_csv(war_pitch_path)"
   ]
  },
  {
   "cell_type": "code",
   "execution_count": 3,
   "metadata": {},
   "outputs": [
    {
     "name": "stdout",
     "output_type": "stream",
     "text": [
      "<class 'pandas.core.frame.DataFrame'>\n",
      "RangeIndex: 108719 entries, 0 to 108718\n",
      "Data columns (total 49 columns):\n",
      "name_common           108719 non-null object\n",
      "age                   108570 non-null float64\n",
      "mlb_ID                108671 non-null float64\n",
      "player_ID             108719 non-null object\n",
      "year_ID               108719 non-null int64\n",
      "team_ID               108719 non-null object\n",
      "stint_ID              108719 non-null int64\n",
      "lg_ID                 107983 non-null object\n",
      "PA                    108014 non-null float64\n",
      "G                     108719 non-null int64\n",
      "Inn                   72463 non-null float64\n",
      "runs_bat              108719 non-null float64\n",
      "runs_br               108719 non-null float64\n",
      "runs_dp               108719 non-null float64\n",
      "runs_field            108719 non-null float64\n",
      "runs_infield          72463 non-null float64\n",
      "runs_outfield         72463 non-null float64\n",
      "runs_catcher          72463 non-null float64\n",
      "runs_good_plays       25471 non-null float64\n",
      "runs_defense          108719 non-null float64\n",
      "runs_position         108014 non-null float64\n",
      "runs_position_p       108719 non-null float64\n",
      "runs_replacement      108014 non-null float64\n",
      "runs_above_rep        108014 non-null float64\n",
      "runs_above_avg        108014 non-null float64\n",
      "runs_above_avg_off    108014 non-null float64\n",
      "runs_above_avg_def    108014 non-null float64\n",
      "WAA                   100212 non-null float64\n",
      "WAA_off               100212 non-null float64\n",
      "WAA_def               100212 non-null float64\n",
      "WAR                   100212 non-null float64\n",
      "WAR_def               100212 non-null float64\n",
      "WAR_off               100212 non-null float64\n",
      "WAR_rep               100212 non-null float64\n",
      "salary                41089 non-null float64\n",
      "pitcher               108719 non-null object\n",
      "teamRpG               100212 non-null float64\n",
      "oppRpG                108719 non-null float64\n",
      "oppRpPA_rep           108719 non-null float64\n",
      "oppRpG_rep            100212 non-null float64\n",
      "pyth_exponent         100212 non-null float64\n",
      "pyth_exponent_rep     100212 non-null float64\n",
      "waa_win_perc          100212 non-null float64\n",
      "waa_win_perc_off      100212 non-null float64\n",
      "waa_win_perc_def      100212 non-null float64\n",
      "waa_win_perc_rep      100212 non-null float64\n",
      "OPS_plus              91135 non-null float64\n",
      "TOB_lg                108716 non-null float64\n",
      "TB_lg                 108716 non-null float64\n",
      "dtypes: float64(41), int64(3), object(5)\n",
      "memory usage: 40.6+ MB\n"
     ]
    }
   ],
   "source": [
    "war_bat_df.info()"
   ]
  },
  {
   "cell_type": "code",
   "execution_count": 4,
   "metadata": {},
   "outputs": [
    {
     "name": "stdout",
     "output_type": "stream",
     "text": [
      "<class 'pandas.core.frame.DataFrame'>\n",
      "RangeIndex: 48477 entries, 0 to 48476\n",
      "Data columns (total 43 columns):\n",
      "name_common              48477 non-null object\n",
      "age                      48446 non-null float64\n",
      "mlb_ID                   48461 non-null float64\n",
      "player_ID                48477 non-null object\n",
      "year_ID                  48477 non-null int64\n",
      "team_ID                  48477 non-null object\n",
      "stint_ID                 48477 non-null int64\n",
      "lg_ID                    48341 non-null object\n",
      "G                        48477 non-null int64\n",
      "GS                       48477 non-null int64\n",
      "IPouts                   48477 non-null int64\n",
      "IPouts_start             45189 non-null float64\n",
      "IPouts_relief            45189 non-null float64\n",
      "RA                       48477 non-null int64\n",
      "xRA                      48477 non-null float64\n",
      "xRA_sprp_adj             48282 non-null float64\n",
      "xRA_extras_adj           770 non-null float64\n",
      "xRA_def_pitcher          48477 non-null float64\n",
      "PPF                      48477 non-null int64\n",
      "PPF_custom               45104 non-null float64\n",
      "xRA_final                48282 non-null float64\n",
      "BIP                      48477 non-null int64\n",
      "BIP_perc                 48477 non-null float64\n",
      "RS_def_total             48477 non-null float64\n",
      "runs_above_avg           48282 non-null float64\n",
      "runs_above_avg_adj       48282 non-null float64\n",
      "runs_above_rep           48282 non-null float64\n",
      "RpO_replacement          48477 non-null float64\n",
      "GR_leverage_index_avg    48477 non-null float64\n",
      "WAR                      48282 non-null float64\n",
      "salary                   18602 non-null float64\n",
      "teamRpG                  48477 non-null float64\n",
      "oppRpG                   48282 non-null float64\n",
      "pyth_exponent            48282 non-null float64\n",
      "waa_win_perc             48282 non-null float64\n",
      "WAA                      48282 non-null float64\n",
      "WAA_adj                  48477 non-null float64\n",
      "oppRpG_rep               48381 non-null float64\n",
      "pyth_exponent_rep        48381 non-null float64\n",
      "waa_win_perc_rep         48381 non-null float64\n",
      "WAR_rep                  48393 non-null float64\n",
      "ERA_plus                 47018 non-null float64\n",
      "ER_lg                    48477 non-null float64\n",
      "dtypes: float64(31), int64(8), object(4)\n",
      "memory usage: 15.9+ MB\n"
     ]
    }
   ],
   "source": [
    "war_pitch_df.info()"
   ]
  },
  {
   "cell_type": "code",
   "execution_count": 5,
   "metadata": {},
   "outputs": [
    {
     "name": "stdout",
     "output_type": "stream",
     "text": [
      " ==輸出備份csv==::: WAR_bat_org_20210307_18.24.25.csv\n",
      " >>> 建立今天的工作區: 0307\n",
      " ==輸出備份csv==::: WAR_pitch_org_20210307_18.24.47.csv\n"
     ]
    }
   ],
   "source": [
    "# 原始資料輸出\n",
    "formtoCsv(war_bat_df, \"WAR_bat_org\")\n",
    "formtoCsv(war_pitch_df, \"WAR_pitch_org\")"
   ]
  },
  {
   "cell_type": "code",
   "execution_count": 19,
   "metadata": {},
   "outputs": [],
   "source": [
    "# 挑選2000~2020之間的資料\n",
    "mask_bat = war_bat_df['year_ID'].isin([year for year in range(2000,2020+1)])\n",
    "war_bat_df[mask_bat].reset_index(drop=True, inplace=True)\n",
    "\n",
    "mask_pitch = war_pitch_df['year_ID'].isin([year for year in range(2000,2020+1)])\n",
    "war_pitch_df[mask_pitch].reset_index(drop=True, inplace=True)"
   ]
  },
  {
   "cell_type": "code",
   "execution_count": 20,
   "metadata": {},
   "outputs": [
    {
     "name": "stdout",
     "output_type": "stream",
     "text": [
      " ==輸出備份csv==::: WAR_pitch_2000to2020_20210125_10.54.38.csv\n"
     ]
    }
   ],
   "source": [
    "# # 輸出\n",
    "# formtoCsv(war_bat_df, \"WAR_bat_2000to2020\")\n",
    "# formtoCsv(war_pitch_df, \"WAR_pitch_2000to2020\")"
   ]
  },
  {
   "cell_type": "code",
   "execution_count": 53,
   "metadata": {},
   "outputs": [
    {
     "name": "stdout",
     "output_type": "stream",
     "text": [
      "  >> 讀取:: G:\\我的雲端硬碟\\learning\\論文今年會寫完\\0.資源包\\2.資料\\2.baseball_reference\\WAR_pitch_2000to2020_20210125_10.54.38.csv\n"
     ]
    }
   ],
   "source": [
    "path = r\"G:\\我的雲端硬碟\\learning\\論文今年會寫完\\0.資源包\\2.資料\\2.baseball_reference\\WAR_pitch_2000to2020_20210125_10.54.38.csv\"\n",
    "playerID = \"priceda01\"\n",
    "df = read_data_dir_fPathExt(path)"
   ]
  },
  {
   "cell_type": "code",
   "execution_count": 55,
   "metadata": {},
   "outputs": [
    {
     "data": {
      "text/plain": [
       "34951    0.49\n",
       "34952    0.91\n",
       "34953    4.67\n",
       "34954    3.31\n",
       "34955    6.63\n",
       "34956    2.62\n",
       "34957    1.67\n",
       "34958    2.71\n",
       "34959    3.70\n",
       "34960    2.58\n",
       "34961    2.88\n",
       "34962    1.60\n",
       "34963    4.19\n",
       "34964    1.76\n",
       "Name: WAR, dtype: float64"
      ]
     },
     "execution_count": 55,
     "metadata": {},
     "output_type": "execute_result"
    }
   ],
   "source": [
    "df[df['player_ID'].isin([playerID])]['WAR']"
   ]
  },
  {
   "cell_type": "markdown",
   "metadata": {},
   "source": [
    "## 3. Pro Sports Transactions "
   ]
  },
  {
   "cell_type": "markdown",
   "metadata": {},
   "source": [
    "有每日各全隊的球員交易資訊、傷兵消息、合約消息\n",
    "- [查詢網站](http://www.prosportstransactions.com/baseball/Search/Search.php)\n",
    "- [爬蟲程式](https://drive.google.com/open?id=11TZgYE75_sXsnOyHeUEJJoffdQ7xY7VO&authuser=ap105424002%40g.ncu.edu.tw&usp=drive_fs)\n",
    "- 存放位置 : G:\\我的雲端硬碟\\learning\\論文今年會寫完\\0.資源包\\2.資料\\3.ProSportsTransactions\\rawdata"
   ]
  },
  {
   "cell_type": "markdown",
   "metadata": {},
   "source": [
    ">TODO: 還需要對Notes 做進一步的分類處理 "
   ]
  },
  {
   "cell_type": "code",
   "execution_count": 32,
   "metadata": {},
   "outputs": [],
   "source": [
    "pst_path = r\"G:\\我的雲端硬碟\\learning\\論文今年會寫完\\0.資源包\\2.資料\\3.ProSportsTransactions\\rawdata\\MLB合約資料(每日)_2000年_20210119_09.35.27.pkl\""
   ]
  },
  {
   "cell_type": "code",
   "execution_count": 33,
   "metadata": {},
   "outputs": [
    {
     "name": "stdout",
     "output_type": "stream",
     "text": [
      "  >> 讀取:: G:\\我的雲端硬碟\\learning\\論文今年會寫完\\0.資源包\\2.資料\\3.ProSportsTransactions\\rawdata\\MLB合約資料(每日)_2000年_20210119_09.35.27.pkl\n"
     ]
    }
   ],
   "source": [
    "pst_df = read_data_dir_fPathExt(pst_path)"
   ]
  },
  {
   "cell_type": "code",
   "execution_count": 34,
   "metadata": {},
   "outputs": [
    {
     "data": {
      "text/html": [
       "<div>\n",
       "<style scoped>\n",
       "    .dataframe tbody tr th:only-of-type {\n",
       "        vertical-align: middle;\n",
       "    }\n",
       "\n",
       "    .dataframe tbody tr th {\n",
       "        vertical-align: top;\n",
       "    }\n",
       "\n",
       "    .dataframe thead th {\n",
       "        text-align: right;\n",
       "    }\n",
       "</style>\n",
       "<table border=\"1\" class=\"dataframe\">\n",
       "  <thead>\n",
       "    <tr style=\"text-align: right;\">\n",
       "      <th></th>\n",
       "      <th>Date</th>\n",
       "      <th>Team</th>\n",
       "      <th>Acquired</th>\n",
       "      <th>Relinquished</th>\n",
       "      <th>Notes</th>\n",
       "    </tr>\n",
       "  </thead>\n",
       "  <tbody>\n",
       "    <tr>\n",
       "      <th>0</th>\n",
       "      <td>2000-01-01</td>\n",
       "      <td>Braves</td>\n",
       "      <td>• Brayan Pena</td>\n",
       "      <td>NaN</td>\n",
       "      <td>signed free agent (N)</td>\n",
       "    </tr>\n",
       "    <tr>\n",
       "      <th>1</th>\n",
       "      <td>2000-01-01</td>\n",
       "      <td>Red Sox</td>\n",
       "      <td>• Ron Johnson (David)</td>\n",
       "      <td>NaN</td>\n",
       "      <td>hired as A manager (date approximate)</td>\n",
       "    </tr>\n",
       "    <tr>\n",
       "      <th>2</th>\n",
       "      <td>2000-01-01</td>\n",
       "      <td>Royals</td>\n",
       "      <td>• Jaime Garcia (a)</td>\n",
       "      <td>NaN</td>\n",
       "      <td>(minor league) coach</td>\n",
       "    </tr>\n",
       "    <tr>\n",
       "      <th>3</th>\n",
       "      <td>2000-01-01</td>\n",
       "      <td>White Sox</td>\n",
       "      <td>• Mike Shirley</td>\n",
       "      <td>NaN</td>\n",
       "      <td>hired as part-time area scout (date spproximate)</td>\n",
       "    </tr>\n",
       "    <tr>\n",
       "      <th>4</th>\n",
       "      <td>2000-01-03</td>\n",
       "      <td>Brewers</td>\n",
       "      <td>• Jose Fernandez (Mayobanex)</td>\n",
       "      <td>NaN</td>\n",
       "      <td>signed free agent</td>\n",
       "    </tr>\n",
       "  </tbody>\n",
       "</table>\n",
       "</div>"
      ],
      "text/plain": [
       "         Date       Team                      Acquired Relinquished  \\\n",
       "0  2000-01-01     Braves                 • Brayan Pena          NaN   \n",
       "1  2000-01-01    Red Sox         • Ron Johnson (David)          NaN   \n",
       "2  2000-01-01     Royals            • Jaime Garcia (a)          NaN   \n",
       "3  2000-01-01  White Sox                • Mike Shirley          NaN   \n",
       "4  2000-01-03    Brewers  • Jose Fernandez (Mayobanex)          NaN   \n",
       "\n",
       "                                              Notes  \n",
       "0                             signed free agent (N)  \n",
       "1             hired as A manager (date approximate)  \n",
       "2                              (minor league) coach  \n",
       "3  hired as part-time area scout (date spproximate)  \n",
       "4                                 signed free agent  "
      ]
     },
     "execution_count": 34,
     "metadata": {},
     "output_type": "execute_result"
    }
   ],
   "source": [
    "pst_df.head()"
   ]
  },
  {
   "cell_type": "code",
   "execution_count": 39,
   "metadata": {},
   "outputs": [
    {
     "data": {
      "text/plain": [
       "signed free agent                                                                                  130\n",
       "player became a free agent                                                                         116\n",
       "assigned to minor league camp                                                                       91\n",
       "assigned to AAA                                                                                     78\n",
       "released                                                                                            71\n",
       "                                                                                                  ... \n",
       "2000 MLB draft 40th round pick (#1193 overall)                                                       1\n",
       "2000 MLB draft fourth round pick (#126 overall)                                                      1\n",
       "2000 MLB draft 23rd round pick (#692 overall)                                                        1\n",
       "2000 MLB draft eleventh round pick (#340 overall)                                                    1\n",
       "received from Blue Jays as player to be named later in earlier trade involving Mickey Morandini      1\n",
       "Name: Notes, Length: 1848, dtype: int64"
      ]
     },
     "execution_count": 39,
     "metadata": {},
     "output_type": "execute_result"
    }
   ],
   "source": [
    "pst_df['Notes'].value_counts() "
   ]
  },
  {
   "cell_type": "code",
   "execution_count": 36,
   "metadata": {},
   "outputs": [
    {
     "data": {
      "text/plain": [
       "signed free agent                                                                         130\n",
       "player became a free agent                                                                116\n",
       "signed non-drafted free agent                                                              51\n",
       "signed free agent to a minor league contract                                               13\n",
       "player refused minor league assignment and became a free agent                              8\n",
       "re-signed free agent                                                                        4\n",
       "signed undrafted free agent                                                                 4\n",
       "re-signed free agent to a minor league contract                                             2\n",
       "team declined to exercise contract option, making player a free agent                       2\n",
       "signed free agent to a 3-year contract through 2003 with a 1-year team option for 2004      2\n",
       "received from Devil Rays as compensation for free agent Steve Trachsel                      1\n",
       "received from MLB as compensation for free agent Mike Mussina                               1\n",
       "sent to Red Sox as compensation for free agent Rheal Cormier                                1\n",
       "player exercised option to become a free agent                                              1\n",
       "signed free agent to a 1-year contract                                                      1\n",
       "received from Indians as compensation for free agent Ellis Burks                            1\n",
       "cleared waivers and became a free agent                                                     1\n",
       "sent to Cardinals as compensation for free agent Darren Oliver                              1\n",
       "signed free agent to a 2-year contract                                                      1\n",
       "signed free agent (from Royals) to a 1-year contract                                        1\n",
       "re-signed free agent to a 1-year contract                                                   1\n",
       "signed non-drafted free agent to a minor league contract                                    1\n",
       "received from Yankees as compensation for free agent Mike Mussina                           1\n",
       "signed free agent (from Mariners) to a 1-year contract                                      1\n",
       "received from Phillies as compensation for free agent Rheal Cormier                         1\n",
       "signed free agent (from Yankees) to a 1-year contract                                       1\n",
       "received from MLB as compensation for free agent Ellis Burks                                1\n",
       "team declined to tender contract, making player a free agent                                1\n",
       "signed free agent (N)                                                                       1\n",
       "received from MLB as compensation for free agent Aaron Sele                                 1\n",
       "signed as a free agent by Independent Adirondack (Northern)                                 1\n",
       "received from MLB as compensation for free agent Julian Tavarez                             1\n",
       "sent to Mariners as compensation for free agent Jose Mesa (R.N.)                            1\n",
       "received from Rangers as compensation for free agent Darren Oliver                          1\n",
       "received from Devil Rays as compensation for free agent Juan Guzman (Andres)                1\n",
       "sent to Orioles as compensation for free agent Mike Mussina                                 1\n",
       "received from Mariners as compensation for free agent Aaron Sele                            1\n",
       "signed free agent to a 4-year contract                                                      1\n",
       "received from MLB as compensation for free agent Juan Guzman (Andres)                       1\n",
       "sent to Reds as compensation for free agent Juan Guzman (Andres)                            1\n",
       "received from Phillies as compensation for free agent Jose Mesa (R.N.)                      1\n",
       "re-signed free agent to a 3-year contract with team option for 2004                         1\n",
       "sent to Cubs as compensation for free agent Steve Trachsel                                  1\n",
       "sent to Rangers as compensation for free agent Aaron Sele                                   1\n",
       "signed free agent to a 6-year contract                                                      1\n",
       "sent to Giants as compensation for free agent Ellis Burks                                   1\n",
       "Name: Notes, dtype: int64"
      ]
     },
     "execution_count": 36,
     "metadata": {},
     "output_type": "execute_result"
    }
   ],
   "source": [
    "# Note 提到 free agent\n",
    "mask = pst_df['Notes'].str.contains(\"free agent\")\n",
    "pst_df.loc[mask, 'Notes'].value_counts() "
   ]
  },
  {
   "cell_type": "code",
   "execution_count": 40,
   "metadata": {},
   "outputs": [
    {
     "data": {
      "text/plain": [
       "released                                  71\n",
       "released (team bought out contract)        1\n",
       "released (date 11-27 per some sources)     1\n",
       "Name: Notes, dtype: int64"
      ]
     },
     "execution_count": 40,
     "metadata": {},
     "output_type": "execute_result"
    }
   ],
   "source": [
    "# Note 提到 released\n",
    "mask = pst_df['Notes'].str.contains(\"released\")\n",
    "pst_df.loc[mask, 'Notes'].value_counts()"
   ]
  },
  {
   "cell_type": "code",
   "execution_count": 38,
   "metadata": {},
   "outputs": [
    {
     "data": {
      "text/plain": [
       "signed to a minor league contract                                  63\n",
       "signed to a 1-year contract                                        34\n",
       "re-signed to a 1-year contract                                     18\n",
       "signed free agent to a minor league contract                       13\n",
       "team exercised contract option for 2001                             8\n",
       "                                                                   ..\n",
       "re-signed to a 4-year contract                                      1\n",
       "team exercised contract option for 01                               1\n",
       "re-signed as manager to a 2-year contract                           1\n",
       "signed to a 1-year contract extension with team option for 2003     1\n",
       "re-signed as manager to a 1-year contract extension                 1\n",
       "Name: Notes, Length: 69, dtype: int64"
      ]
     },
     "execution_count": 38,
     "metadata": {},
     "output_type": "execute_result"
    }
   ],
   "source": [
    "# Note 提到 contract\n",
    "mask = pst_df['Notes'].str.contains(\"contract\")\n",
    "pst_df.loc[mask, 'Notes'].value_counts() "
   ]
  },
  {
   "cell_type": "markdown",
   "metadata": {},
   "source": []
  },
  {
   "cell_type": "markdown",
   "metadata": {},
   "source": [
    "## 4. retrosheet gamelog"
   ]
  },
  {
   "cell_type": "markdown",
   "metadata": {},
   "source": [
    "有每場比賽的詳細消息:出賽球員、總計投打結果、每局得分，區分主客隊\n",
    "- [說明網頁&下載點](https://www.retrosheet.org/gamelogs/index.html)\n",
    "- 存放位置: G:\\我的雲端硬碟\\learning\\論文今年會寫完\\0.資源包\\2.資料\\4.retrosheet_gamelog"
   ]
  },
  {
   "cell_type": "code",
   "execution_count": 24,
   "metadata": {},
   "outputs": [
    {
     "name": "stdout",
     "output_type": "stream",
     "text": [
      "  >> 讀取:: G:\\我的雲端硬碟\\learning\\論文今年會寫完\\0.資源包\\2.資料\\4.retrosheet_gamelog\\game_logs.csv\n"
     ]
    },
    {
     "name": "stderr",
     "output_type": "stream",
     "text": [
      "C:\\Users\\EMCT_Jeff\\anaconda3\\lib\\site-packages\\IPython\\core\\interactiveshell.py:3263: DtypeWarning: Columns (12,13,14,15,19,20,81,83,85,87,93,94,95,96,97,98,99,100,105,106,108,109,111,112,114,115,117,118,120,121,123,124,126,127,129,130,132,133,135,136,138,139,141,142,144,145,147,148,150,151,153,154,156,157,160) have mixed types. Specify dtype option on import or set low_memory=False.\n",
      "  if (await self.run_code(code, result,  async_=asy)):\n"
     ]
    }
   ],
   "source": [
    "path = r\"G:\\我的雲端硬碟\\learning\\論文今年會寫完\\0.資源包\\2.資料\\4.retrosheet_gamelog\\game_logs.csv\"\n",
    "retrosheet_game_log_df = read_data_dir_fPathExt(path)"
   ]
  },
  {
   "cell_type": "code",
   "execution_count": 30,
   "metadata": {},
   "outputs": [
    {
     "data": {
      "text/plain": [
       "{'date': 18710504,\n",
       " 'number_of_game': 0,\n",
       " 'day_of_week': 'Thu',\n",
       " 'v_name': 'CL1',\n",
       " 'v_league': 'na',\n",
       " 'v_game_number': 1,\n",
       " 'h_name': 'FW1',\n",
       " 'h_league': 'na',\n",
       " 'h_game_number': 1,\n",
       " 'v_score': 0,\n",
       " 'h_score': 2,\n",
       " 'length_outs': 54.0,\n",
       " 'day_night': 'D',\n",
       " 'completion': nan,\n",
       " 'forefeit': nan,\n",
       " 'protest': nan,\n",
       " 'park_id': 'FOR01',\n",
       " 'attendance': 200.0,\n",
       " 'length_minutes': 120.0,\n",
       " 'v_line_score': '000000000',\n",
       " 'h_line_score': '010010000',\n",
       " 'v_at_bats': 30.0,\n",
       " 'v_hits': 4.0,\n",
       " 'v_doubles': 1.0,\n",
       " 'v_triples': 0.0,\n",
       " 'v_homeruns': 0.0,\n",
       " 'v_rbi': 0.0,\n",
       " 'v_sacrifice_hits': 0.0,\n",
       " 'v_sacrifice_flies': 0.0,\n",
       " 'v_hit_by_pitch': 0.0,\n",
       " 'v_walks': 1.0,\n",
       " 'v_intentional walks': -1.0,\n",
       " 'v_strikeouts': 6.0,\n",
       " 'v_stolen_bases': 1.0,\n",
       " 'v_caught_stealing': -1.0,\n",
       " 'v_grounded_into_double': -1.0,\n",
       " 'v_first_catcher_interference': -1.0,\n",
       " 'v_left_on_base': 4.0,\n",
       " 'v_pitchers_used': 1.0,\n",
       " 'v_individual_earned_runs': 1.0,\n",
       " 'v_team_earned_runs': 1.0,\n",
       " 'v_wild_pitches': 0.0,\n",
       " 'v_balks': 0.0,\n",
       " 'v_putouts': 27.0,\n",
       " 'v_assists': 9.0,\n",
       " 'v_errors': 0.0,\n",
       " 'v_passed_balls': 3.0,\n",
       " 'v_double_plays': 0.0,\n",
       " 'v_triple_plays': 0.0,\n",
       " 'h_at_bats': 31.0,\n",
       " 'h_hits': 4.0,\n",
       " 'h_doubles': 1.0,\n",
       " 'h_triples': 0.0,\n",
       " 'h_homeruns': 0.0,\n",
       " 'h_rbi': 2.0,\n",
       " 'h_sacrifice_hits': 0.0,\n",
       " 'h_sacrifice_flies': 0.0,\n",
       " 'h_hit_by_pitch': 0.0,\n",
       " 'h_walks': 1.0,\n",
       " 'h_intentional walks': -1.0,\n",
       " 'h_strikeouts': 0.0,\n",
       " 'h_stolen_bases': 0.0,\n",
       " 'h_caught_stealing': -1.0,\n",
       " 'h_grounded_into_double': -1.0,\n",
       " 'h_first_catcher_interference': -1.0,\n",
       " 'h_left_on_base': 3.0,\n",
       " 'h_pitchers_used': 1.0,\n",
       " 'h_individual_earned_runs': 0.0,\n",
       " 'h_team_earned_runs': 0.0,\n",
       " 'h_wild_pitches': 0.0,\n",
       " 'h_balks': 0.0,\n",
       " 'h_putouts': 27.0,\n",
       " 'h_assists': 3.0,\n",
       " 'h_errors': 3.0,\n",
       " 'h_passed_balls': 1.0,\n",
       " 'h_double_plays': 1.0,\n",
       " 'h_triple_plays': 0.0,\n",
       " 'hp_umpire_id': 'boakj901',\n",
       " 'hp_umpire_name': 'John Boake',\n",
       " '1b_umpire_id': nan,\n",
       " '1b_umpire_name': '(none)',\n",
       " '2b_umpire_id': nan,\n",
       " '2b_umpire_name': '(none)',\n",
       " '3b_umpire_id': nan,\n",
       " '3b_umpire_name': '(none)',\n",
       " 'lf_umpire_id': nan,\n",
       " 'lf_umpire_name': '(none)',\n",
       " 'rf_umpire_id': nan,\n",
       " 'rf_umpire_name': '(none)',\n",
       " 'v_manager_id': 'paboc101',\n",
       " 'v_manager_name': 'Charlie Pabor',\n",
       " 'h_manager_id': 'lennb101',\n",
       " 'h_manager_name': 'Bill Lennon',\n",
       " 'winning_pitcher_id': 'mathb101',\n",
       " 'winning_pitcher_name': 'Bobby Mathews',\n",
       " 'losing_pitcher_id': 'prata101',\n",
       " 'losing_pitcher_name': 'Al Pratt',\n",
       " 'saving_pitcher_id': nan,\n",
       " 'saving_pitcher_name': '(none)',\n",
       " 'winning_rbi_batter_id': nan,\n",
       " 'winning_rbi_batter_id_name': '(none)',\n",
       " 'v_starting_pitcher_id': 'prata101',\n",
       " 'v_starting_pitcher_name': 'Al Pratt',\n",
       " 'h_starting_pitcher_id': 'mathb101',\n",
       " 'h_starting_pitcher_name': 'Bobby Mathews',\n",
       " 'v_player_1_id': 'whitd102',\n",
       " 'v_player_1_name': 'Deacon White',\n",
       " 'v_player_1_def_pos': 2.0,\n",
       " 'v_player_2_id': 'kimbg101',\n",
       " 'v_player_2_name': 'Gene Kimball',\n",
       " 'v_player_2_def_pos': 4.0,\n",
       " 'v_player_3_id': 'paboc101',\n",
       " 'v_player_3_name': 'Charlie Pabor',\n",
       " 'v_player_3_def_pos': 7.0,\n",
       " 'v_player_4_id': 'allia101',\n",
       " 'v_player_4_name': 'Art Allison',\n",
       " 'v_player_4_def_pos': 8.0,\n",
       " 'v_player_5_id': 'white104',\n",
       " 'v_player_5_name': 'Elmer White',\n",
       " 'v_player_5_def_pos': 9.0,\n",
       " 'v_player_6_id': 'prata101',\n",
       " 'v_player_6_name': 'Al Pratt',\n",
       " 'v_player_6_def_pos': 1.0,\n",
       " 'v_player_7_id': 'sutte101',\n",
       " 'v_player_7_name': 'Ezra Sutton',\n",
       " 'v_player_7_def_pos': 5.0,\n",
       " 'v_player_8_id': 'carlj102',\n",
       " 'v_player_8_name': 'Jim Carleton',\n",
       " 'v_player_8_def_pos': 3.0,\n",
       " 'v_player_9_id': 'bassj101',\n",
       " 'v_player_9_name': 'John Bass',\n",
       " 'v_player_9_def_pos': 6.0,\n",
       " 'h_player_1_id': 'selmf101',\n",
       " 'h_player_1_name': 'Frank Sellman',\n",
       " 'h_player_1_def_pos': 5.0,\n",
       " 'h_player_2_id': 'mathb101',\n",
       " 'h_player_2_name': 'Bobby Mathews',\n",
       " 'h_player_2_def_pos': 1.0,\n",
       " 'h_player_3_id': 'foraj101',\n",
       " 'h_player_3_name': 'Jim Foran',\n",
       " 'h_player_3_def_pos': 3.0,\n",
       " 'h_player_4_id': 'goldw101',\n",
       " 'h_player_4_name': 'Wally Goldsmith',\n",
       " 'h_player_4_def_pos': 6.0,\n",
       " 'h_player_5_id': 'lennb101',\n",
       " 'h_player_5_name': 'Bill Lennon',\n",
       " 'h_player_5_def_pos': 2.0,\n",
       " 'h_player_6_id': 'caret101',\n",
       " 'h_player_6_name': 'Tom Carey',\n",
       " 'h_player_6_def_pos': 4.0,\n",
       " 'h_player_7_id': 'mince101',\n",
       " 'h_player_7_name': 'Ed Mincher',\n",
       " 'h_player_7_def_pos': 7.0,\n",
       " 'h_player_8_id': 'mcdej101',\n",
       " 'h_player_8_name': 'James McDermott',\n",
       " 'h_player_8_def_pos': 8.0,\n",
       " 'h_player_9_id': 'kellb105',\n",
       " 'h_player_9_name': 'Bill Kelly',\n",
       " 'h_player_9_def_pos': 9.0,\n",
       " 'additional_info': nan,\n",
       " 'acquisition_info': 'Y'}"
      ]
     },
     "execution_count": 30,
     "metadata": {},
     "output_type": "execute_result"
    }
   ],
   "source": [
    "retrosheet_game_log_df.iloc[0].to_dict()"
   ]
  },
  {
   "cell_type": "code",
   "execution_count": null,
   "metadata": {},
   "outputs": [],
   "source": []
  },
  {
   "cell_type": "markdown",
   "metadata": {},
   "source": [
    "## 5. MLB Game API"
   ]
  },
  {
   "cell_type": "markdown",
   "metadata": {},
   "source": [
    "可獲得每場比賽的詳細資訊: 每局戰況、每球球速、投打結果\n",
    "- [說明文件](https://panz.io/mlbgame/)\n",
    "- [github](https://github.com/panzarino/mlbgame)"
   ]
  },
  {
   "cell_type": "code",
   "execution_count": 2,
   "metadata": {},
   "outputs": [
    {
     "name": "stdout",
     "output_type": "stream",
     "text": [
      "C:\\Users\\EMCT_Jeff\\anaconda3\\lib\\site-packages\\mlbgame\\__init__.py\n"
     ]
    }
   ],
   "source": [
    "from __future__ import print_function\n",
    "import mlbgame\n",
    "print(mlbgame.__file__)"
   ]
  },
  {
   "cell_type": "code",
   "execution_count": 10,
   "metadata": {},
   "outputs": [],
   "source": [
    "import lxml.etree as etree\n",
    "\n",
    "import mlbgame.data\n",
    "import mlbgame.object"
   ]
  },
  {
   "cell_type": "code",
   "execution_count": 3,
   "metadata": {},
   "outputs": [
    {
     "name": "stdout",
     "output_type": "stream",
     "text": [
      "Giants (5) at Mets (0)\n",
      "Giants (8) at Mets (5)\n",
      "Giants (4) at Mets (5)\n",
      "Braves (3) at Mets (5)\n",
      "Braves (5) at Mets (3)\n",
      "Braves (8) at Mets (10)\n",
      "Blue Jays (3) at Mets (4)\n",
      "Blue Jays (2) at Mets (3)\n",
      "Reds (1) at Mets (2)\n",
      "Reds (1) at Mets (2)\n",
      "Reds (1) at Mets (2)\n",
      "Cubs (1) at Mets (0)\n"
     ]
    }
   ],
   "source": [
    "month = mlbgame.games(2015, 6, home='Mets')\n",
    "games = mlbgame.combine_games(month)\n",
    "for game in games:\n",
    "    print(game)"
   ]
  },
  {
   "cell_type": "code",
   "execution_count": 4,
   "metadata": {},
   "outputs": [
    {
     "name": "stdout",
     "output_type": "stream",
     "text": [
      "Winning pitcher: Yordano Ventura (Royals) - Losing Pitcher: C.J. Wilson (Angels)\n"
     ]
    }
   ],
   "source": [
    "day = mlbgame.day(2015, 4, 12, home='Royals', away='Royals')\n",
    "game = day[0]\n",
    "output = 'Winning pitcher: %s (%s) - Losing Pitcher: %s (%s)'\n",
    "print(output % (game.w_pitcher, game.w_team, game.l_pitcher, game.l_team))"
   ]
  },
  {
   "cell_type": "code",
   "execution_count": 5,
   "metadata": {},
   "outputs": [
    {
     "data": {
      "text/plain": [
       "'2015_04_12_kcamlb_anamlb_1'"
      ]
     },
     "execution_count": 5,
     "metadata": {},
     "output_type": "execute_result"
    }
   ],
   "source": [
    "gid = game.game_id\n",
    "gid"
   ]
  },
  {
   "cell_type": "code",
   "execution_count": 17,
   "metadata": {},
   "outputs": [],
   "source": [
    "events = mlbgame.events.game_events(gid)"
   ]
  },
  {
   "cell_type": "code",
   "execution_count": 22,
   "metadata": {},
   "outputs": [
    {
     "data": {
      "text/plain": [
       "dict_keys(['1', '2', '3', '4', '5', '6', '7', '8', '9'])"
      ]
     },
     "execution_count": 22,
     "metadata": {},
     "output_type": "execute_result"
    }
   ],
   "source": [
    "# 打了9局\n",
    "events.keys()"
   ]
  },
  {
   "cell_type": "code",
   "execution_count": 23,
   "metadata": {},
   "outputs": [
    {
     "data": {
      "text/plain": [
       "dict_keys(['top', 'bottom'])"
      ]
     },
     "execution_count": 23,
     "metadata": {},
     "output_type": "execute_result"
    }
   ],
   "source": [
    "# 第1局分上、下半場\n",
    "events['1'].keys()"
   ]
  },
  {
   "cell_type": "code",
   "execution_count": 30,
   "metadata": {},
   "outputs": [
    {
     "data": {
      "text/plain": [
       "4"
      ]
     },
     "execution_count": 30,
     "metadata": {},
     "output_type": "execute_result"
    }
   ],
   "source": [
    "# 1局上半有4個打數\n",
    "len(events['1']['top'])"
   ]
  },
  {
   "cell_type": "code",
   "execution_count": 26,
   "metadata": {},
   "outputs": [
    {
     "data": {
      "text/plain": [
       "dict_keys(['tag', '_endpoint', 'num', 'away_team_runs', 'home_team_runs', 'play_guid', 'event_es', 'event', 'event_num', 'des_es', 'des', 'p_throws', 'pitcher', 'b_height', 'stand', 'batter', 'end_tfs_zulu', 'start_tfs_zulu', 'start_tfs', 'o', 's', 'b', 'pitches'])"
      ]
     },
     "execution_count": 26,
     "metadata": {},
     "output_type": "execute_result"
    }
   ],
   "source": [
    "# 1局上半第一個打數的欄位\n",
    "events['1']['top'][0].keys()"
   ]
  },
  {
   "cell_type": "code",
   "execution_count": 32,
   "metadata": {},
   "outputs": [
    {
     "data": {
      "text/plain": [
       "5"
      ]
     },
     "execution_count": 32,
     "metadata": {},
     "output_type": "execute_result"
    }
   ],
   "source": [
    "# 1局上半第一個打數總共用了5球\n",
    "len(events['1']['top'][0]['pitches'])"
   ]
  },
  {
   "cell_type": "code",
   "execution_count": 34,
   "metadata": {},
   "outputs": [
    {
     "data": {
      "text/plain": [
       "dict_keys(['_endpoint', 'id', 'event_num', 'des_es', 'des', 'mt', 'cc', 'spin_rate', 'spin_dir', 'play_guid', 'nasty', 'zone', 'type_confidence', 'pitch_type', 'break_length', 'break_angle', 'break_y', 'az', 'ay', 'ax', 'vz0', 'vy0', 'vx0', 'z0', 'y0', 'x0', 'pz', 'px', 'pfx_z', 'pfx_x', 'end_speed', 'start_speed', 'sv_id', 'tfs_zulu', 'sz_bot', 'sz_top', 'y', 'x', 'tfs', 'code', 'type'])"
      ]
     },
     "execution_count": 34,
     "metadata": {},
     "output_type": "execute_result"
    }
   ],
   "source": [
    "# 1局上半第一個打數第一球的欄位\n",
    "events['1']['top'][0]['pitches'][0].keys()"
   ]
  },
  {
   "cell_type": "markdown",
   "metadata": {},
   "source": [
    "## 6. ESPN freeagents"
   ]
  },
  {
   "cell_type": "markdown",
   "metadata": {},
   "source": [
    "- [連結](https://www.espn.com/mlb/freeagents/_/year/2019) "
   ]
  },
  {
   "cell_type": "code",
   "execution_count": 20,
   "metadata": {},
   "outputs": [
    {
     "name": "stdout",
     "output_type": "stream",
     "text": [
      ">> 2006 年 210\n",
      ">> 2007 年 190\n",
      ">> 2008 年 217\n",
      ">> 2009 年 222\n",
      ">> 2010 年 227\n",
      ">> 2011 年 191\n",
      ">> 2012 年 182\n",
      ">> 2013 年 225\n",
      ">> 2014 年 137\n",
      ">> 2015 年 163\n",
      ">> 2016 年 203\n",
      ">> 2017 年 203\n",
      ">> 2018 年 277\n",
      ">> 2019 年 265\n",
      ">> 2020 年 301\n",
      "<class 'pandas.core.frame.DataFrame'>\n",
      "RangeIndex: 3213 entries, 0 to 3212\n",
      "Data columns (total 10 columns):\n",
      "AGE         3211 non-null object\n",
      "DOLLARS     3213 non-null object\n",
      "NEW TEAM    3213 non-null object\n",
      "ORG TEAM    3213 non-null object\n",
      "PLAYER      3213 non-null object\n",
      "POS         3213 non-null object\n",
      "RK          3213 non-null object\n",
      "STATUS      3213 non-null object\n",
      "YEAR        3213 non-null float64\n",
      "YRS         1588 non-null object\n",
      "dtypes: float64(1), object(9)\n",
      "memory usage: 251.1+ KB\n",
      ">>OVER!! None\n"
     ]
    }
   ],
   "source": [
    "cols_name = ['PLAYER', 'POS', 'AGE', 'STATUS', 'ORG TEAM', 'NEW TEAM', 'YRS', 'RK', 'DOLLARS']\n",
    "all_df = pd.DataFrame(columns=cols_name)\n",
    "\n",
    "for y in range(2006,2020+1):\n",
    "    #呼叫\n",
    "    espn_url = f\"https://www.espn.com/mlb/freeagents/_/year/{y}\"\n",
    "    df = pd.read_html(espn_url)\n",
    "    \n",
    "    #擷取\n",
    "    the_df = df[0].iloc[2:,:]\n",
    "    the_df.columns =  df[0].iloc[1,:]\n",
    "    \n",
    "    #清理\n",
    "    the_df_clean = the_df[~the_df[\"AGE\"].isin([\"AGE\"])].reset_index(drop=True)\n",
    "    the_df_clean.rename(columns={f\"{y} TEAM\": \"ORG TEAM\"}, inplace=True)\n",
    "    \n",
    "    #合併\n",
    "    the_df_clean.loc[:, \"YEAR\"] = y\n",
    "    all_df = all_df.append(the_df_clean, sort=True)\n",
    "    print(\">>\", y, \"年\", len(the_df_clean))\n",
    "\n",
    "all_df = all_df.reset_index(drop=True)\n",
    "print(\">>OVER!!\", all_df.info())"
   ]
  },
  {
   "cell_type": "code",
   "execution_count": 21,
   "metadata": {},
   "outputs": [
    {
     "name": "stdout",
     "output_type": "stream",
     "text": [
      " ==輸出備份csv==::: ESPN_FreeAgent_2006to2020_20210208_17.45.26.csv\n",
      " >>> 建立今天的工作區: 0208\n"
     ]
    }
   ],
   "source": [
    "#存檔\n",
    "formtoCsv(all_df, \"ESPN_FreeAgent_2006to2020\")"
   ]
  },
  {
   "cell_type": "markdown",
   "metadata": {},
   "source": [
    "## 7. Baseball Reference freeagents (資料數較多)"
   ]
  },
  {
   "cell_type": "markdown",
   "metadata": {},
   "source": [
    "- [連結](https://www.baseball-reference.com/leagues/MLB/2000-free-agents.shtml)"
   ]
  },
  {
   "cell_type": "code",
   "execution_count": 38,
   "metadata": {},
   "outputs": [
    {
     "name": "stdout",
     "output_type": "stream",
     "text": [
      ">> 2000 年 339\n",
      ">> 2001 年 358\n",
      ">> 2002 年 442\n",
      ">> 2003 年 542\n",
      ">> 2004 年 529\n",
      ">> 2005 年 453\n",
      ">> 2006 年 429\n",
      ">> 2007 年 419\n",
      ">> 2008 年 452\n",
      ">> 2009 年 461\n",
      ">> 2010 年 460\n",
      ">> 2011 年 437\n",
      ">> 2012 年 441\n",
      ">> 2013 年 425\n",
      ">> 2014 年 413\n",
      ">> 2015 年 446\n",
      ">> 2016 年 416\n",
      ">> 2017 年 407\n",
      ">> 2018 年 388\n",
      ">> 2019 年 411\n",
      ">> 2020 年 226\n",
      "<class 'pandas.core.frame.DataFrame'>\n",
      "RangeIndex: 8894 entries, 0 to 8893\n",
      "Data columns (total 33 columns):\n",
      "AB           7176 non-null float64\n",
      "Age          8894 non-null object\n",
      "BA           6481 non-null float64\n",
      "BB           7173 non-null float64\n",
      "BB.1         3688 non-null float64\n",
      "Date         8894 non-null object\n",
      "ERA          3688 non-null float64\n",
      "From Team    8894 non-null object\n",
      "G            7176 non-null float64\n",
      "G.1          3688 non-null float64\n",
      "GS           3688 non-null float64\n",
      "H            7173 non-null float64\n",
      "H.1          3688 non-null float64\n",
      "HR           7173 non-null float64\n",
      "HR.1         3688 non-null float64\n",
      "IP           3688 non-null float64\n",
      "L            3688 non-null float64\n",
      "Name         8894 non-null object\n",
      "OBP          6511 non-null float64\n",
      "OPS          6481 non-null float64\n",
      "R            7173 non-null float64\n",
      "RBI          7173 non-null float64\n",
      "Rk           8894 non-null object\n",
      "SB           7173 non-null float64\n",
      "SLG          6481 non-null float64\n",
      "SO           3688 non-null float64\n",
      "SV           3688 non-null float64\n",
      "To Team      8857 non-null object\n",
      "W            3688 non-null float64\n",
      "WAR3         8330 non-null float64\n",
      "WHIP         3686 non-null float64\n",
      "YEAR         8894 non-null float64\n",
      "Yrs          8894 non-null object\n",
      "dtypes: float64(26), object(7)\n",
      "memory usage: 2.2+ MB\n",
      ">>OVER!! None\n"
     ]
    }
   ],
   "source": [
    "\n",
    "cols_name = ['Rk', 'Name', 'Date', 'To Team', 'From Team', 'Age', 'WAR3', 'Yrs', 'G',\n",
    "       'AB', 'R', 'H', 'HR', 'RBI', 'SB', 'BB', 'BA', 'OBP', 'SLG', 'OPS', 'W',\n",
    "       'L', 'ERA', 'WHIP', 'G.1', 'GS', 'SV', 'IP', 'H.1', 'HR.1', 'BB.1',\n",
    "       'SO']\n",
    "all_df = pd.DataFrame(columns=cols_name)\n",
    "\n",
    "for y in range(2000,2020+1):\n",
    "    #呼叫\n",
    "    BR_url = f\"https://www.baseball-reference.com/leagues/MLB/{y}-free-agents.shtml\"\n",
    "    df = pd.read_html(BR_url)\n",
    "    \n",
    "    #擷取\n",
    "    the_df = df[0]\n",
    "    \n",
    "    #合併\n",
    "    the_df.loc[:, \"YEAR\"] = y\n",
    "    all_df = all_df.append(the_df, sort=True)\n",
    "    print(\">>\", y, \"年\", len(the_df))\n",
    "\n",
    "all_df = all_df.drop_duplicates().reset_index(drop=True)\n",
    "print(\">>OVER!!\", all_df.info())"
   ]
  },
  {
   "cell_type": "code",
   "execution_count": 39,
   "metadata": {},
   "outputs": [
    {
     "name": "stdout",
     "output_type": "stream",
     "text": [
      " ==輸出備份csv==::: BR_FreeAgent_2000to2020_20210208_18.02.07.csv\n"
     ]
    }
   ],
   "source": [
    "#存檔\n",
    "formtoCsv(all_df, \"BR_FreeAgent_2000to2020\")"
   ]
  },
  {
   "cell_type": "markdown",
   "metadata": {},
   "source": [
    "## 8. ESPN FA合約、年薪資料(含簽約與未簽約的FA)"
   ]
  },
  {
   "cell_type": "code",
   "execution_count": 2,
   "metadata": {},
   "outputs": [
    {
     "name": "stdout",
     "output_type": "stream",
     "text": [
      ">> 2006\n",
      ">> 2007\n",
      ">> 2008\n",
      ">> 2009\n",
      ">> 2010\n",
      ">> 2011\n",
      ">> 2012\n",
      ">> 2013\n",
      ">> 2014\n",
      ">> 2015\n",
      ">> 2016\n",
      ">> 2017\n",
      ">> 2018\n",
      ">> 2019\n",
      "<class 'pandas.core.frame.DataFrame'>\n",
      "RangeIndex: 2910 entries, 0 to 2909\n",
      "Data columns (total 11 columns):\n",
      "PLAYER      2910 non-null object\n",
      "POS         2910 non-null object\n",
      "AGE         2909 non-null object\n",
      "STATUS      2910 non-null object\n",
      "ORG TEAM    2910 non-null object\n",
      "NEW TEAM    2910 non-null object\n",
      "YRS         1529 non-null object\n",
      "RK          2910 non-null object\n",
      "DOLLARS     2910 non-null object\n",
      "YEAR        2910 non-null int64\n",
      "link        2910 non-null object\n",
      "dtypes: int64(1), object(10)\n",
      "memory usage: 250.2+ KB\n"
     ]
    }
   ],
   "source": [
    "df_all = pd.DataFrame()\n",
    "for year in range(2006, 2019+1):\n",
    "    print(f\">> {year}\")\n",
    "    url = f\"https://www.espn.com/mlb/freeagents/_/year/{year}/type\"\n",
    "    \n",
    "    # Clean & Mark\n",
    "    df = pd.read_html(url,header=1)[0]\n",
    "    df = df[~(df.loc[:,\"PLAYER\"].isin(['PLAYER', 'Total:']))].reset_index(drop=True)\n",
    "    df.loc[:,\"YEAR\"] = year\n",
    "    df.rename(columns={f\"{year} TEAM\":\"ORG TEAM\"}, inplace=True)\n",
    "    \n",
    "    # add Links\n",
    "    response = rs.get(url)\n",
    "    soup = BeautifulSoup(response.text, 'html.parser')\n",
    "    table = soup.find('table')\n",
    "\n",
    "    links = []\n",
    "    for tr in table.findAll(\"tr\"):\n",
    "        trs = tr.findAll(\"td\")\n",
    "        for each in trs:\n",
    "            try:\n",
    "                link = each.find('a')['href']\n",
    "                links.append(link)\n",
    "            except:\n",
    "                pass\n",
    "    if year==2009: # 特例處裡 Noel Arguelles:沒有link 拿掉\n",
    "        df = df[~df[\"PLAYER\"].isin([\n",
    "            \"Noel Arguelles\", \"Ryota Igarashi\"])].reset_index(drop=True)\n",
    "    df[\"link\"] = links\n",
    "    \n",
    "    #串檔\n",
    "    df_all = pd.concat([df_all,df])\n",
    "df_all.reset_index(drop=True, inplace=True)\n",
    "df_all.info()"
   ]
  },
  {
   "cell_type": "markdown",
   "metadata": {},
   "source": [
    "#### 檢查link與球員名稱是否接對應"
   ]
  },
  {
   "cell_type": "code",
   "execution_count": 8,
   "metadata": {},
   "outputs": [],
   "source": [
    "df_all[\"is_PLAYER_link_check\"] = df_all.apply(\n",
    "    lambda row: \"-\".join(row[\"PLAYER\"].split(\" \")).lower() in row[\"link\"]  , axis=1)"
   ]
  },
  {
   "cell_type": "code",
   "execution_count": 9,
   "metadata": {},
   "outputs": [
    {
     "data": {
      "text/plain": [
       "True     2900\n",
       "False      10\n",
       "Name: is_PLAYER_link_check, dtype: int64"
      ]
     },
     "execution_count": 9,
     "metadata": {},
     "output_type": "execute_result"
    }
   ],
   "source": [
    "df_all[\"is_PLAYER_link_check\"].value_counts()"
   ]
  },
  {
   "cell_type": "code",
   "execution_count": 5,
   "metadata": {},
   "outputs": [
    {
     "data": {
      "text/html": [
       "<div>\n",
       "<style scoped>\n",
       "    .dataframe tbody tr th:only-of-type {\n",
       "        vertical-align: middle;\n",
       "    }\n",
       "\n",
       "    .dataframe tbody tr th {\n",
       "        vertical-align: top;\n",
       "    }\n",
       "\n",
       "    .dataframe thead th {\n",
       "        text-align: right;\n",
       "    }\n",
       "</style>\n",
       "<table border=\"1\" class=\"dataframe\">\n",
       "  <thead>\n",
       "    <tr style=\"text-align: right;\">\n",
       "      <th></th>\n",
       "      <th>PLAYER</th>\n",
       "      <th>POS</th>\n",
       "      <th>AGE</th>\n",
       "      <th>STATUS</th>\n",
       "      <th>ORG TEAM</th>\n",
       "      <th>NEW TEAM</th>\n",
       "      <th>YRS</th>\n",
       "      <th>RK</th>\n",
       "      <th>DOLLARS</th>\n",
       "      <th>YEAR</th>\n",
       "      <th>link</th>\n",
       "      <th>is_PLAYER_link_check</th>\n",
       "    </tr>\n",
       "  </thead>\n",
       "  <tbody>\n",
       "    <tr>\n",
       "      <th>333</th>\n",
       "      <td>José Molina</td>\n",
       "      <td>RP</td>\n",
       "      <td>45</td>\n",
       "      <td>Signed</td>\n",
       "      <td>Yankees</td>\n",
       "      <td>Yankees</td>\n",
       "      <td>2</td>\n",
       "      <td>NR</td>\n",
       "      <td>$4,000,000</td>\n",
       "      <td>2007</td>\n",
       "      <td>https://www.espn.com/mlb/player/_/id/4169/jos%...</td>\n",
       "      <td>False</td>\n",
       "    </tr>\n",
       "    <tr>\n",
       "      <th>580</th>\n",
       "      <td>Iván Rodríguez</td>\n",
       "      <td>C</td>\n",
       "      <td>49</td>\n",
       "      <td>Signed</td>\n",
       "      <td>Yankees</td>\n",
       "      <td>Astros</td>\n",
       "      <td>1</td>\n",
       "      <td>46</td>\n",
       "      <td>$1,500,000</td>\n",
       "      <td>2008</td>\n",
       "      <td>https://www.espn.com/mlb/player/_/id/2523/iv%C...</td>\n",
       "      <td>False</td>\n",
       "    </tr>\n",
       "    <tr>\n",
       "      <th>618</th>\n",
       "      <td>Alfredo Amézaga</td>\n",
       "      <td>SS</td>\n",
       "      <td>43</td>\n",
       "      <td>Signed</td>\n",
       "      <td>Marlins</td>\n",
       "      <td>Dodgers</td>\n",
       "      <td>NaN</td>\n",
       "      <td>NR</td>\n",
       "      <td>Minor Lg</td>\n",
       "      <td>2009</td>\n",
       "      <td>https://www.espn.com/mlb/player/_/id/5066/alfr...</td>\n",
       "      <td>False</td>\n",
       "    </tr>\n",
       "    <tr>\n",
       "      <th>761</th>\n",
       "      <td>José Molina</td>\n",
       "      <td>RP</td>\n",
       "      <td>45</td>\n",
       "      <td>Signed</td>\n",
       "      <td>Yankees</td>\n",
       "      <td>Blue Jays</td>\n",
       "      <td>1</td>\n",
       "      <td>NR</td>\n",
       "      <td>$400,000</td>\n",
       "      <td>2009</td>\n",
       "      <td>https://www.espn.com/mlb/player/_/id/4169/jos%...</td>\n",
       "      <td>False</td>\n",
       "    </tr>\n",
       "    <tr>\n",
       "      <th>794</th>\n",
       "      <td>Iván Rodríguez</td>\n",
       "      <td>C</td>\n",
       "      <td>49</td>\n",
       "      <td>Signed (B)</td>\n",
       "      <td>Rangers</td>\n",
       "      <td>Nationals</td>\n",
       "      <td>2</td>\n",
       "      <td>NR</td>\n",
       "      <td>$6,000,000</td>\n",
       "      <td>2009</td>\n",
       "      <td>https://www.espn.com/mlb/player/_/id/2523/iv%C...</td>\n",
       "      <td>False</td>\n",
       "    </tr>\n",
       "    <tr>\n",
       "      <th>871</th>\n",
       "      <td>Jorge Cantú</td>\n",
       "      <td>3B</td>\n",
       "      <td>39</td>\n",
       "      <td>Signed</td>\n",
       "      <td>Rays</td>\n",
       "      <td>Padres</td>\n",
       "      <td>1</td>\n",
       "      <td>NR</td>\n",
       "      <td>$850,000</td>\n",
       "      <td>2010</td>\n",
       "      <td>https://www.espn.com/mlb/player/_/id/6033/jorg...</td>\n",
       "      <td>False</td>\n",
       "    </tr>\n",
       "    <tr>\n",
       "      <th>1184</th>\n",
       "      <td>José Molina</td>\n",
       "      <td>RP</td>\n",
       "      <td>45</td>\n",
       "      <td>Signed</td>\n",
       "      <td>Blue Jays</td>\n",
       "      <td>Rays</td>\n",
       "      <td>1</td>\n",
       "      <td>NR</td>\n",
       "      <td>$1,500,000</td>\n",
       "      <td>2011</td>\n",
       "      <td>https://www.espn.com/mlb/player/_/id/4169/jos%...</td>\n",
       "      <td>False</td>\n",
       "    </tr>\n",
       "    <tr>\n",
       "      <th>1219</th>\n",
       "      <td>Iván Rodríguez</td>\n",
       "      <td>C</td>\n",
       "      <td>49</td>\n",
       "      <td>FA</td>\n",
       "      <td>Nationals</td>\n",
       "      <td>--</td>\n",
       "      <td>NaN</td>\n",
       "      <td>NR</td>\n",
       "      <td>--</td>\n",
       "      <td>2011</td>\n",
       "      <td>https://www.espn.com/mlb/player/_/id/2523/iv%C...</td>\n",
       "      <td>False</td>\n",
       "    </tr>\n",
       "    <tr>\n",
       "      <th>1574</th>\n",
       "      <td>José Molina</td>\n",
       "      <td>RP</td>\n",
       "      <td>45</td>\n",
       "      <td>Signed</td>\n",
       "      <td>Rays</td>\n",
       "      <td>Rays</td>\n",
       "      <td>2</td>\n",
       "      <td>NR</td>\n",
       "      <td>$4,500,000</td>\n",
       "      <td>2013</td>\n",
       "      <td>https://www.espn.com/mlb/player/_/id/4169/jos%...</td>\n",
       "      <td>False</td>\n",
       "    </tr>\n",
       "    <tr>\n",
       "      <th>1606</th>\n",
       "      <td>Félix Pie</td>\n",
       "      <td>LF</td>\n",
       "      <td>36</td>\n",
       "      <td>Signed</td>\n",
       "      <td>Pirates</td>\n",
       "      <td>Japan</td>\n",
       "      <td>NaN</td>\n",
       "      <td>NR</td>\n",
       "      <td>--</td>\n",
       "      <td>2013</td>\n",
       "      <td>https://www.espn.com/mlb/player/_/id/6475/f%C3...</td>\n",
       "      <td>False</td>\n",
       "    </tr>\n",
       "  </tbody>\n",
       "</table>\n",
       "</div>"
      ],
      "text/plain": [
       "               PLAYER POS AGE      STATUS   ORG TEAM   NEW TEAM  YRS  RK  \\\n",
       "333       José Molina  RP  45      Signed    Yankees    Yankees    2  NR   \n",
       "580    Iván Rodríguez   C  49      Signed    Yankees     Astros    1  46   \n",
       "618   Alfredo Amézaga  SS  43      Signed    Marlins    Dodgers  NaN  NR   \n",
       "761       José Molina  RP  45      Signed    Yankees  Blue Jays    1  NR   \n",
       "794    Iván Rodríguez   C  49  Signed (B)    Rangers  Nationals    2  NR   \n",
       "871       Jorge Cantú  3B  39      Signed       Rays     Padres    1  NR   \n",
       "1184      José Molina  RP  45      Signed  Blue Jays       Rays    1  NR   \n",
       "1219   Iván Rodríguez   C  49          FA  Nationals         --  NaN  NR   \n",
       "1574      José Molina  RP  45      Signed       Rays       Rays    2  NR   \n",
       "1606        Félix Pie  LF  36      Signed    Pirates      Japan  NaN  NR   \n",
       "\n",
       "         DOLLARS  YEAR                                               link  \\\n",
       "333   $4,000,000  2007  https://www.espn.com/mlb/player/_/id/4169/jos%...   \n",
       "580   $1,500,000  2008  https://www.espn.com/mlb/player/_/id/2523/iv%C...   \n",
       "618     Minor Lg  2009  https://www.espn.com/mlb/player/_/id/5066/alfr...   \n",
       "761     $400,000  2009  https://www.espn.com/mlb/player/_/id/4169/jos%...   \n",
       "794   $6,000,000  2009  https://www.espn.com/mlb/player/_/id/2523/iv%C...   \n",
       "871     $850,000  2010  https://www.espn.com/mlb/player/_/id/6033/jorg...   \n",
       "1184  $1,500,000  2011  https://www.espn.com/mlb/player/_/id/4169/jos%...   \n",
       "1219          --  2011  https://www.espn.com/mlb/player/_/id/2523/iv%C...   \n",
       "1574  $4,500,000  2013  https://www.espn.com/mlb/player/_/id/4169/jos%...   \n",
       "1606          --  2013  https://www.espn.com/mlb/player/_/id/6475/f%C3...   \n",
       "\n",
       "      is_PLAYER_link_check  \n",
       "333                  False  \n",
       "580                  False  \n",
       "618                  False  \n",
       "761                  False  \n",
       "794                  False  \n",
       "871                  False  \n",
       "1184                 False  \n",
       "1219                 False  \n",
       "1574                 False  \n",
       "1606                 False  "
      ]
     },
     "execution_count": 5,
     "metadata": {},
     "output_type": "execute_result"
    }
   ],
   "source": [
    "df_all[df_all[\"is_PLAYER_link_check\"].isin([False])] # 西班牙文的 base編碼，正常"
   ]
  },
  {
   "cell_type": "code",
   "execution_count": 10,
   "metadata": {},
   "outputs": [],
   "source": [
    "df_all[\"PLAYER_id\"] = df_all[\"link\"].apply(lambda url: int(url.split(\"/id/\")[1].split(\"/\")[0]))"
   ]
  },
  {
   "cell_type": "code",
   "execution_count": 11,
   "metadata": {},
   "outputs": [
    {
     "name": "stdout",
     "output_type": "stream",
     "text": [
      " ==輸出備份csv==::: ESPN_FreeAgent_2006to2020_20210417_12.00.34.csv\n"
     ]
    }
   ],
   "source": [
    "#存檔\n",
    "formtoCsv(df_all, \"ESPN_FreeAgent_2006to2019\")"
   ]
  },
  {
   "cell_type": "markdown",
   "metadata": {},
   "source": [
    "### 從links 抓取球員歷年表現資料、計算年資"
   ]
  },
  {
   "cell_type": "code",
   "execution_count": 12,
   "metadata": {},
   "outputs": [],
   "source": [
    "playerID_link_dict = dict(zip(df_all.PLAYER_id, df_all.link))"
   ]
  },
  {
   "cell_type": "code",
   "execution_count": 13,
   "metadata": {},
   "outputs": [
    {
     "data": {
      "text/plain": [
       "'https://www.espn.com/mlb/player/_/id/43186/sandy-alomar-jr.'"
      ]
     },
     "execution_count": 13,
     "metadata": {},
     "output_type": "execute_result"
    }
   ],
   "source": [
    "playerID_link_dict[43186]"
   ]
  },
  {
   "cell_type": "code",
   "execution_count": 14,
   "metadata": {},
   "outputs": [
    {
     "data": {
      "text/plain": [
       "1454"
      ]
     },
     "execution_count": 14,
     "metadata": {},
     "output_type": "execute_result"
    }
   ],
   "source": [
    "len(playerID_link_dict)"
   ]
  },
  {
   "cell_type": "markdown",
   "metadata": {},
   "source": [
    "### 分開跑"
   ]
  },
  {
   "cell_type": "code",
   "execution_count": 22,
   "metadata": {},
   "outputs": [
    {
     "data": {
      "text/plain": [
       "'https://www.espn.com/mlb/player/_/id/4108/john-mcdonald'"
      ]
     },
     "execution_count": 22,
     "metadata": {},
     "output_type": "execute_result"
    }
   ],
   "source": [
    "playerID_link_dict[4108]"
   ]
  },
  {
   "cell_type": "code",
   "execution_count": 23,
   "metadata": {},
   "outputs": [
    {
     "name": "stderr",
     "output_type": "stream",
     "text": [
      "  3%|██▋                                                                           | 49/1454 [02:37<1:24:32,  3.61s/it]"
     ]
    },
    {
     "name": "stdout",
     "output_type": "stream",
     "text": [
      "https://www.espn.com/mlb/player/stats/_/id/3473/darin-erstad\n"
     ]
    },
    {
     "name": "stderr",
     "output_type": "stream",
     "text": [
      "  6%|████▍                                                                         | 82/1454 [04:41<1:16:52,  3.36s/it]"
     ]
    },
    {
     "name": "stdout",
     "output_type": "stream",
     "text": [
      "https://www.espn.com/mlb/player/stats/_/id/4171/shea-hillenbrand\n"
     ]
    },
    {
     "name": "stderr",
     "output_type": "stream",
     "text": [
      "  6%|████▍                                                                         | 83/1454 [04:49<1:47:49,  4.72s/it]"
     ]
    },
    {
     "name": "stdout",
     "output_type": "stream",
     "text": [
      "https://www.espn.com/mlb/player/stats/_/id/3141/todd-hollandsworth\n"
     ]
    },
    {
     "name": "stderr",
     "output_type": "stream",
     "text": [
      " 10%|███████▎                                                                     | 139/1454 [07:53<1:12:00,  3.29s/it]"
     ]
    },
    {
     "name": "stdout",
     "output_type": "stream",
     "text": [
      "https://www.espn.com/mlb/player/stats/_/id/2936/eduardo-perez\n"
     ]
    },
    {
     "name": "stderr",
     "output_type": "stream",
     "text": [
      " 13%|█████████▋                                                                   | 183/1454 [10:13<1:01:38,  2.91s/it]"
     ]
    },
    {
     "name": "stdout",
     "output_type": "stream",
     "text": [
      "https://www.espn.com/mlb/player/stats/_/id/3539/todd-walker\n"
     ]
    },
    {
     "name": "stderr",
     "output_type": "stream",
     "text": [
      " 17%|█████████████▏                                                               | 248/1454 [13:41<1:04:01,  3.19s/it]"
     ]
    },
    {
     "name": "stdout",
     "output_type": "stream",
     "text": [
      "https://www.espn.com/mlb/player/stats/_/id/6082/jerry-gil\n"
     ]
    },
    {
     "name": "stderr",
     "output_type": "stream",
     "text": [
      " 18%|██████████████▏                                                              | 267/1454 [14:53<1:11:35,  3.62s/it]"
     ]
    },
    {
     "name": "stdout",
     "output_type": "stream",
     "text": [
      "https://www.espn.com/mlb/player/stats/_/id/28869/ryan-ketchner\n"
     ]
    },
    {
     "name": "stderr",
     "output_type": "stream",
     "text": [
      " 20%|███████████████▎                                                             | 290/1454 [16:07<1:01:09,  3.15s/it]"
     ]
    },
    {
     "name": "stdout",
     "output_type": "stream",
     "text": [
      "https://www.espn.com/mlb/player/stats/_/id/4169/jos%C3%A9-molina\n"
     ]
    },
    {
     "name": "stderr",
     "output_type": "stream",
     "text": [
      " 23%|██████████████████▏                                                            | 334/1454 [18:26<55:35,  2.98s/it]"
     ]
    },
    {
     "name": "stdout",
     "output_type": "stream",
     "text": [
      "https://www.espn.com/mlb/player/stats/_/id/29274/mario-alvarez\n"
     ]
    },
    {
     "name": "stderr",
     "output_type": "stream",
     "text": [
      " 25%|███████████████████▏                                                         | 363/1454 [19:54<1:05:39,  3.61s/it]"
     ]
    },
    {
     "name": "stdout",
     "output_type": "stream",
     "text": [
      "https://www.espn.com/mlb/player/stats/_/id/30002/jairo-cuevas\n"
     ]
    },
    {
     "name": "stderr",
     "output_type": "stream",
     "text": [
      " 32%|████████████████████████▉                                                      | 460/1454 [24:47<51:03,  3.08s/it]"
     ]
    },
    {
     "name": "stdout",
     "output_type": "stream",
     "text": [
      "https://www.espn.com/mlb/player/stats/_/id/6196/brian-anderson\n"
     ]
    },
    {
     "name": "stderr",
     "output_type": "stream",
     "text": [
      " 36%|████████████████████████████▍                                                  | 524/1454 [28:02<45:43,  2.95s/it]"
     ]
    },
    {
     "name": "stdout",
     "output_type": "stream",
     "text": [
      "https://www.espn.com/mlb/player/stats/_/id/28651/adam-miller\n"
     ]
    },
    {
     "name": "stderr",
     "output_type": "stream",
     "text": [
      " 37%|████████████████████████████▉                                                  | 532/1454 [28:32<56:21,  3.67s/it]"
     ]
    },
    {
     "name": "stdout",
     "output_type": "stream",
     "text": [
      "https://www.espn.com/mlb/player/stats/_/id/30075/jackson-quezada\n"
     ]
    },
    {
     "name": "stderr",
     "output_type": "stream",
     "text": [
      " 48%|█████████████████████████████████████▌                                         | 692/1454 [36:09<40:55,  3.22s/it]"
     ]
    },
    {
     "name": "stdout",
     "output_type": "stream",
     "text": [
      "https://www.espn.com/mlb/player/stats/_/id/6048/jose-lopez\n"
     ]
    },
    {
     "name": "stderr",
     "output_type": "stream",
     "text": [
      " 53%|█████████████████████████████████████████▌                                     | 764/1454 [40:03<32:31,  2.83s/it]"
     ]
    },
    {
     "name": "stdout",
     "output_type": "stream",
     "text": [
      "https://www.espn.com/mlb/player/stats/_/id/32584/hiroyuki-nakajima\n"
     ]
    },
    {
     "name": "stderr",
     "output_type": "stream",
     "text": [
      " 68%|█████████████████████████████████████████████████████▉                         | 993/1454 [51:55<24:50,  3.23s/it]"
     ]
    },
    {
     "name": "stdout",
     "output_type": "stream",
     "text": [
      "https://www.espn.com/mlb/player/stats/_/id/34840/yaisel-sierra\n"
     ]
    },
    {
     "name": "stderr",
     "output_type": "stream",
     "text": [
      " 72%|████████████████████████████████████████████████████████▍                     | 1053/1454 [54:48<17:23,  2.60s/it]"
     ]
    },
    {
     "name": "stdout",
     "output_type": "stream",
     "text": [
      "https://www.espn.com/mlb/player/stats/_/id/34855/yorman-landa\n"
     ]
    },
    {
     "name": "stderr",
     "output_type": "stream",
     "text": [
      " 73%|████████████████████████████████████████████████████████▉                     | 1062/1454 [55:14<18:48,  2.88s/it]"
     ]
    },
    {
     "name": "stdout",
     "output_type": "stream",
     "text": [
      "https://www.espn.com/mlb/player/stats/_/id/33566/thomas-milone\n"
     ]
    },
    {
     "name": "stderr",
     "output_type": "stream",
     "text": [
      "100%|████████████████████████████████████████████████████████████████████████████| 1454/1454 [1:15:10<00:00,  3.10s/it]\n"
     ]
    }
   ],
   "source": [
    "player_stats_all = pd.DataFrame()\n",
    "stats_no_data_player_lst = []\n",
    "\n",
    "for i, (_id, url) in enumerate(tqdm(playerID_link_dict.items())):\n",
    "    head, tail = url.split(\"/_/\")\n",
    "    # Stats\n",
    "    stats_url = head + \"/stats/_/\" + tail\n",
    "    try:\n",
    "        r = pd.read_html(stats_url)\n",
    "        df_temp = pd.concat([r[0].loc[:len(r[0])-3,:], r[1].loc[:len(r[1])-3,:]], sort=False, axis=1)\n",
    "        df_temp[\"playerID\"] = _id\n",
    "\n",
    "        # 年資就是對出賽賽季(已排序)做Label Encoding+1\n",
    "        df_temp.season = pd.Categorical(df_temp.season)\n",
    "        df_temp[\"Yrs\"] = df_temp.season.cat.codes+1\n",
    "        \n",
    "        player_stats_all = pd.concat([player_stats_all,df_temp],sort=False)\n",
    "    except:\n",
    "        print(stats_url)\n",
    "        stats_no_data_player_lst.append(_id)\n",
    "        pass\n",
    "\n",
    "    \n",
    "    time.sleep(1)\n",
    "\n",
    "player_stats_all.reset_index(drop=True, inplace=True)"
   ]
  },
  {
   "cell_type": "code",
   "execution_count": 62,
   "metadata": {},
   "outputs": [
    {
     "name": "stderr",
     "output_type": "stream",
     "text": [
      " 35%|███████████████████████████▋                                                   | 509/1454 [18:22<50:51,  3.23s/it]"
     ]
    },
    {
     "name": "stdout",
     "output_type": "stream",
     "text": [
      "https://www.espn.com/mlb/player/bio/_/id/23283/mike-jacobs\n"
     ]
    },
    {
     "name": "stderr",
     "output_type": "stream",
     "text": [
      "100%|██████████████████████████████████████████████████████████████████████████████| 1454/1454 [52:16<00:00,  2.16s/it]\n"
     ]
    }
   ],
   "source": [
    "player_bio_all = pd.DataFrame()\n",
    "bio_no_data_player_lst = []\n",
    "\n",
    "for i, (_id, url) in enumerate(tqdm(playerID_link_dict.items())):\n",
    "    head, tail = url.split(\"/_/\")\n",
    "    df_temp = pd.DataFrame(index=[0])\n",
    "    df_temp[\"playerID\"] = _id\n",
    "    # Bio\n",
    "    bio_url = head + \"/bio/_/\" + tail\n",
    "    try:\n",
    "        response = rs.get(bio_url)\n",
    "        soup = BeautifulSoup(response.text, 'html.parser')\n",
    "        spans = soup.find_all('span')\n",
    "        span_lst = []\n",
    "        for i, span in enumerate(spans):\n",
    "            span_lst.append(span.string)\n",
    "            if \"Position\" in str(span_lst[i-1]):\n",
    "                POS = span.string\n",
    "\n",
    "            if \"DOB\" in str(span_lst[i-1]):\n",
    "                DOB = span.string\n",
    "\n",
    "            if \"Birthplace\" in str(span_lst[i-1]):\n",
    "                Birthplace = span.string\n",
    "\n",
    "        df_temp[\"POS\"] = POS\n",
    "        df_temp[\"DOB\"] = DOB\n",
    "        df_temp[\"Birthplace\"] = Birthplace\n",
    "\n",
    "        if \"Pitcher\" in POS:\n",
    "            df_temp[\"TYPE\"] = \"pitch\"\n",
    "            player_bio_all = pd.concat([player_bio_all,df_temp],sort=False)\n",
    "\n",
    "        else:\n",
    "            df_temp[\"TYPE\"] = \"bat\"\n",
    "            player_bio_all = pd.concat([player_bio_all,df_temp],sort=False)\n",
    "\n",
    "    except:\n",
    "        print(bio_url)\n",
    "        bio_no_data_player_lst.append(_id)\n",
    "        pass\n",
    "\n",
    "    time.sleep(1)\n",
    "\n",
    "player_bio_all.reset_index(drop=True, inplace=True)"
   ]
  },
  {
   "cell_type": "code",
   "execution_count": 63,
   "metadata": {},
   "outputs": [
    {
     "name": "stdout",
     "output_type": "stream",
     "text": [
      " ==輸出備份csv==::: ESPN_player_bio_all_20210417_15.23.45.csv\n"
     ]
    }
   ],
   "source": [
    "#存檔\n",
    "formtoCsv(player_stats_all, \"ESPN_player_stats_all\")\n",
    "formtoCsv(player_bio_all, \"ESPN_player_bio_all\")"
   ]
  },
  {
   "cell_type": "code",
   "execution_count": 64,
   "metadata": {},
   "outputs": [
    {
     "name": "stdout",
     "output_type": "stream",
     "text": [
      "18 1\n"
     ]
    }
   ],
   "source": [
    "print(len(stats_no_data_player_lst), len(bio_no_data_player_lst))"
   ]
  },
  {
   "cell_type": "code",
   "execution_count": 27,
   "metadata": {},
   "outputs": [
    {
     "data": {
      "text/plain": [
       "[3473,\n",
       " 4171,\n",
       " 3141,\n",
       " 2936,\n",
       " 3539,\n",
       " 6082,\n",
       " 28869,\n",
       " 4169,\n",
       " 29274,\n",
       " 30002,\n",
       " 6196,\n",
       " 28651,\n",
       " 30075,\n",
       " 6048,\n",
       " 32584,\n",
       " 34840,\n",
       " 34855,\n",
       " 33566]"
      ]
     },
     "execution_count": 27,
     "metadata": {},
     "output_type": "execute_result"
    }
   ],
   "source": [
    "stats_no_data_player_lst"
   ]
  },
  {
   "cell_type": "markdown",
   "metadata": {},
   "source": [
    "## Spotrac(premiun) "
   ]
  },
  {
   "cell_type": "markdown",
   "metadata": {},
   "source": [
    "|編號|  需要的變數 | 資料位置  | 資料時間  | 備註  |\n",
    "|---|---|---|---|---|\n",
    "|1| 球員歷年表現數據(不分球隊)  | https://www.spotrac.com/mlb/arizona-diamondbacks/madison-bumgarner-7510/statistics/  |   |   |\n",
    "|2|  球員基本資料 | https://www.spotrac.com/mlb/arizona-diamondbacks/madison-bumgarner-7510/  |   |  沒有生日，需要從合約串每年的歲數 |\n",
    "|3|  FA紀錄 | https://www.spotrac.com/mlb/free-agents/20XX/  | 2011~2026，但2011資料只有2筆  | 如果跟之前一樣從這邊撈球員ID會缺少從來沒成為過FA的大咖  |\n",
    "|4|  簽約紀錄 | https://www.spotrac.com/mlb/arizona-diamondbacks/madison-bumgarner-7510/  |   |   |\n",
    "|5|  **球隊球員薪水 (切入點)** | https://www.spotrac.com/mlb/arizona-diamondbacks/payroll/20XX/  | 2011~2024  | 可以做完切入點去撈球員ID，在從球員頁面去撈歷年表現、薪資、基本資料、合約紀錄、傷兵天數  |\n",
    "|6| 球員傷兵天數 | https://www.spotrac.com/mlb/arizona-diamondbacks/madison-bumgarner-7510/injuries/  |   |   |"
   ]
  },
  {
   "cell_type": "markdown",
   "metadata": {},
   "source": [
    "> <font size=\"4\">**資料蒐集流程**</font>\n",
    "> - 登入網站並已同一個session 去GET下列動作\n",
    "> - 取得球隊清單>> 取得歷年球隊的所有球員薪水(取得所有球員ID) >>已球員ID到球員個人頁，抓基本資料、合約紀錄、歷年表現數據(分球隊)、傷兵天數紀錄\n",
    "> - 取得FA紀錄 >> 串聯歷年球員表現、基本資料、合約狀態、傷兵紀錄、薪水、基本資料 (大表)\n",
    "> - 可能會遇到的資料處理問題:\n",
    ">   - 球員歷年表現數據是有區分球隊的，如果需要的是個人年度的表現，如何加總?(依照出賽場數加權平均?)\n",
    ">   - 球員基本資料中並沒有生日，需要從合約資料中的AGE去反推\n",
    ">   - FA紀錄中球隊代號會有歷史版本"
   ]
  },
  {
   "cell_type": "markdown",
   "metadata": {},
   "source": [
    "### 登入"
   ]
  },
  {
   "cell_type": "code",
   "execution_count": 2,
   "metadata": {},
   "outputs": [],
   "source": [
    "dicHeaders = {\"User-Agent\": \"Mozilla/5.0 (Windows NT 6.1; Win64; x64) AppleWebKit/537.36 (KHTML, like Gecko) Chrome/75.0.3770.142 Safari/537.36\"}\n",
    "url_login = 'https://www.spotrac.com/signin/submit/'\n",
    "post_dict = {\"email\":\"pedroia4515@gmail.com\", \"password\":\"yankeesuck\"}"
   ]
  },
  {
   "cell_type": "code",
   "execution_count": 3,
   "metadata": {},
   "outputs": [],
   "source": [
    "sssn = rs.session()\n",
    "sssn.headers = dicHeaders\n",
    "sssn.stream = True\n",
    "sssn.verify = False"
   ]
  },
  {
   "cell_type": "code",
   "execution_count": 4,
   "metadata": {},
   "outputs": [],
   "source": [
    "# 關閉連線警告\n",
    "import requests.packages.urllib3\n",
    "requests.packages.urllib3.disable_warnings()"
   ]
  },
  {
   "cell_type": "code",
   "execution_count": 5,
   "metadata": {},
   "outputs": [
    {
     "name": "stdout",
     "output_type": "stream",
     "text": [
      ">> 登入成功!!\n"
     ]
    }
   ],
   "source": [
    "#登入網站\n",
    "response = sssn.post(url_login, data=post_dict, verify=False)\n",
    "if response.status_code == 200:\n",
    "    print('>> 登入成功!!')"
   ]
  },
  {
   "cell_type": "markdown",
   "metadata": {},
   "source": [
    "### 取得球隊清單"
   ]
  },
  {
   "cell_type": "code",
   "execution_count": 6,
   "metadata": {},
   "outputs": [],
   "source": [
    "path = r\"https://www.spotrac.com/mlb/arizona-diamondbacks/payroll/\"\n",
    "r = sssn.get(path)"
   ]
  },
  {
   "cell_type": "code",
   "execution_count": 7,
   "metadata": {},
   "outputs": [
    {
     "name": "stdout",
     "output_type": "stream",
     "text": [
      "team_lst: 30\n"
     ]
    }
   ],
   "source": [
    "# 取得 球隊名稱\n",
    "from bs4 import BeautifulSoup as Soup\n",
    "soup = Soup(r.text)\n",
    "# for option in soup.select(\"option\"):\n",
    "#     print('value: {}, text: {}'.format(option['value'], option.text))\n",
    "#     print(option.text)\n",
    "    \n",
    "team_lst = [option['value'] for option in soup.select(\"option\")][6:-16]\n",
    "print(f\"team_lst: {len(team_lst)}\")"
   ]
  },
  {
   "cell_type": "code",
   "execution_count": 8,
   "metadata": {},
   "outputs": [
    {
     "data": {
      "text/plain": [
       "['arizona-diamondbacks',\n",
       " 'atlanta-braves',\n",
       " 'baltimore-orioles',\n",
       " 'boston-red-sox',\n",
       " 'chicago-cubs',\n",
       " 'chicago-white-sox',\n",
       " 'cincinnati-reds',\n",
       " 'cleveland-indians',\n",
       " 'colorado-rockies',\n",
       " 'detroit-tigers',\n",
       " 'houston-astros',\n",
       " 'kansas-city-royals',\n",
       " 'los-angeles-angels',\n",
       " 'los-angeles-dodgers',\n",
       " 'miami-marlins',\n",
       " 'milwaukee-brewers',\n",
       " 'minnesota-twins',\n",
       " 'new-york-mets',\n",
       " 'new-york-yankees',\n",
       " 'oakland-athletics',\n",
       " 'philadelphia-phillies',\n",
       " 'pittsburgh-pirates',\n",
       " 'san-diego-padres',\n",
       " 'san-francisco-giants',\n",
       " 'seattle-mariners',\n",
       " 'st-louis-cardinals',\n",
       " 'tampa-bay-rays',\n",
       " 'texas-rangers',\n",
       " 'toronto-blue-jays',\n",
       " 'washington-nationals']"
      ]
     },
     "execution_count": 8,
     "metadata": {},
     "output_type": "execute_result"
    }
   ],
   "source": [
    "team_lst"
   ]
  },
  {
   "cell_type": "code",
   "execution_count": 9,
   "metadata": {},
   "outputs": [
    {
     "data": {
      "text/plain": [
       "[2011, 2012, 2013, 2014, 2015, 2016, 2017, 2018, 2019, 2020, 2021]"
      ]
     },
     "execution_count": 9,
     "metadata": {},
     "output_type": "execute_result"
    }
   ],
   "source": [
    "year_lst = [y for y in range(2011,2021+1)]\n",
    "year_lst"
   ]
  },
  {
   "cell_type": "markdown",
   "metadata": {},
   "source": [
    "### 球隊球員薪水頁面"
   ]
  },
  {
   "cell_type": "markdown",
   "metadata": {},
   "source": [
    "- table_0: active players salary\n",
    "- table_1: Injured List players salary (Salaries from players who have been placed on the injured list, still counting against the payroll)\n",
    "- table_2: Retained Salaries (Leftover salaries from players who have been traded or released, or buyouts for declined options)\n",
    "- table_3: Minor/In the System (Salaries from players currently in the system.  denotes a buried salary that counts against the payroll)\n",
    "- table_4: Signing Bonus (Does not count against team payroll)"
   ]
  },
  {
   "cell_type": "code",
   "execution_count": 10,
   "metadata": {
    "collapsed": true,
    "jupyter": {
     "outputs_hidden": true,
     "source_hidden": true
    }
   },
   "outputs": [
    {
     "name": "stdout",
     "output_type": "stream",
     "text": [
      ">> [1/30] arizona-diamondbacks\n"
     ]
    },
    {
     "name": "stderr",
     "output_type": "stream",
     "text": [
      "100%|██████████████████████████████████████████████████████████████████████████████████| 11/11 [00:24<00:00,  2.21s/it]\n"
     ]
    },
    {
     "name": "stdout",
     "output_type": "stream",
     "text": [
      ">> [2/30] atlanta-braves\n"
     ]
    },
    {
     "name": "stderr",
     "output_type": "stream",
     "text": [
      "100%|██████████████████████████████████████████████████████████████████████████████████| 11/11 [00:20<00:00,  1.87s/it]\n"
     ]
    },
    {
     "name": "stdout",
     "output_type": "stream",
     "text": [
      ">> [3/30] baltimore-orioles\n"
     ]
    },
    {
     "name": "stderr",
     "output_type": "stream",
     "text": [
      "100%|██████████████████████████████████████████████████████████████████████████████████| 11/11 [00:21<00:00,  1.98s/it]\n"
     ]
    },
    {
     "name": "stdout",
     "output_type": "stream",
     "text": [
      ">> [4/30] boston-red-sox\n"
     ]
    },
    {
     "name": "stderr",
     "output_type": "stream",
     "text": [
      "100%|██████████████████████████████████████████████████████████████████████████████████| 11/11 [00:26<00:00,  2.42s/it]\n"
     ]
    },
    {
     "name": "stdout",
     "output_type": "stream",
     "text": [
      ">> [5/30] chicago-cubs\n"
     ]
    },
    {
     "name": "stderr",
     "output_type": "stream",
     "text": [
      "100%|██████████████████████████████████████████████████████████████████████████████████| 11/11 [00:24<00:00,  2.26s/it]\n"
     ]
    },
    {
     "name": "stdout",
     "output_type": "stream",
     "text": [
      ">> [6/30] chicago-white-sox\n"
     ]
    },
    {
     "name": "stderr",
     "output_type": "stream",
     "text": [
      "100%|██████████████████████████████████████████████████████████████████████████████████| 11/11 [00:24<00:00,  2.20s/it]\n"
     ]
    },
    {
     "name": "stdout",
     "output_type": "stream",
     "text": [
      ">> [7/30] cincinnati-reds\n"
     ]
    },
    {
     "name": "stderr",
     "output_type": "stream",
     "text": [
      "100%|██████████████████████████████████████████████████████████████████████████████████| 11/11 [00:25<00:00,  2.36s/it]\n"
     ]
    },
    {
     "name": "stdout",
     "output_type": "stream",
     "text": [
      ">> [8/30] cleveland-indians\n"
     ]
    },
    {
     "name": "stderr",
     "output_type": "stream",
     "text": [
      "100%|██████████████████████████████████████████████████████████████████████████████████| 11/11 [00:26<00:00,  2.40s/it]\n"
     ]
    },
    {
     "name": "stdout",
     "output_type": "stream",
     "text": [
      ">> [9/30] colorado-rockies\n"
     ]
    },
    {
     "name": "stderr",
     "output_type": "stream",
     "text": [
      "100%|██████████████████████████████████████████████████████████████████████████████████| 11/11 [00:24<00:00,  2.21s/it]\n"
     ]
    },
    {
     "name": "stdout",
     "output_type": "stream",
     "text": [
      ">> [10/30] detroit-tigers\n"
     ]
    },
    {
     "name": "stderr",
     "output_type": "stream",
     "text": [
      "100%|██████████████████████████████████████████████████████████████████████████████████| 11/11 [00:22<00:00,  2.04s/it]\n"
     ]
    },
    {
     "name": "stdout",
     "output_type": "stream",
     "text": [
      ">> [11/30] houston-astros\n"
     ]
    },
    {
     "name": "stderr",
     "output_type": "stream",
     "text": [
      "100%|██████████████████████████████████████████████████████████████████████████████████| 11/11 [00:25<00:00,  2.30s/it]\n"
     ]
    },
    {
     "name": "stdout",
     "output_type": "stream",
     "text": [
      ">> [12/30] kansas-city-royals\n"
     ]
    },
    {
     "name": "stderr",
     "output_type": "stream",
     "text": [
      "100%|██████████████████████████████████████████████████████████████████████████████████| 11/11 [00:23<00:00,  2.11s/it]\n"
     ]
    },
    {
     "name": "stdout",
     "output_type": "stream",
     "text": [
      ">> [13/30] los-angeles-angels\n"
     ]
    },
    {
     "name": "stderr",
     "output_type": "stream",
     "text": [
      "100%|██████████████████████████████████████████████████████████████████████████████████| 11/11 [00:19<00:00,  1.76s/it]\n"
     ]
    },
    {
     "name": "stdout",
     "output_type": "stream",
     "text": [
      ">> [14/30] los-angeles-dodgers\n"
     ]
    },
    {
     "name": "stderr",
     "output_type": "stream",
     "text": [
      "100%|██████████████████████████████████████████████████████████████████████████████████| 11/11 [00:22<00:00,  2.04s/it]\n"
     ]
    },
    {
     "name": "stdout",
     "output_type": "stream",
     "text": [
      ">> [15/30] miami-marlins\n"
     ]
    },
    {
     "name": "stderr",
     "output_type": "stream",
     "text": [
      "100%|██████████████████████████████████████████████████████████████████████████████████| 11/11 [01:09<00:00,  6.32s/it]\n"
     ]
    },
    {
     "name": "stdout",
     "output_type": "stream",
     "text": [
      ">> [16/30] milwaukee-brewers\n"
     ]
    },
    {
     "name": "stderr",
     "output_type": "stream",
     "text": [
      "100%|██████████████████████████████████████████████████████████████████████████████████| 11/11 [00:27<00:00,  2.47s/it]\n"
     ]
    },
    {
     "name": "stdout",
     "output_type": "stream",
     "text": [
      ">> [17/30] minnesota-twins\n"
     ]
    },
    {
     "name": "stderr",
     "output_type": "stream",
     "text": [
      "100%|██████████████████████████████████████████████████████████████████████████████████| 11/11 [00:27<00:00,  2.52s/it]\n"
     ]
    },
    {
     "name": "stdout",
     "output_type": "stream",
     "text": [
      ">> [18/30] new-york-mets\n"
     ]
    },
    {
     "name": "stderr",
     "output_type": "stream",
     "text": [
      "100%|██████████████████████████████████████████████████████████████████████████████████| 11/11 [00:25<00:00,  2.36s/it]\n"
     ]
    },
    {
     "name": "stdout",
     "output_type": "stream",
     "text": [
      ">> [19/30] new-york-yankees\n"
     ]
    },
    {
     "name": "stderr",
     "output_type": "stream",
     "text": [
      "100%|██████████████████████████████████████████████████████████████████████████████████| 11/11 [00:24<00:00,  2.18s/it]\n"
     ]
    },
    {
     "name": "stdout",
     "output_type": "stream",
     "text": [
      ">> [20/30] oakland-athletics\n"
     ]
    },
    {
     "name": "stderr",
     "output_type": "stream",
     "text": [
      "100%|██████████████████████████████████████████████████████████████████████████████████| 11/11 [00:21<00:00,  1.93s/it]\n"
     ]
    },
    {
     "name": "stdout",
     "output_type": "stream",
     "text": [
      ">> [21/30] philadelphia-phillies\n"
     ]
    },
    {
     "name": "stderr",
     "output_type": "stream",
     "text": [
      "100%|██████████████████████████████████████████████████████████████████████████████████| 11/11 [00:24<00:00,  2.22s/it]\n"
     ]
    },
    {
     "name": "stdout",
     "output_type": "stream",
     "text": [
      ">> [22/30] pittsburgh-pirates\n"
     ]
    },
    {
     "name": "stderr",
     "output_type": "stream",
     "text": [
      "100%|██████████████████████████████████████████████████████████████████████████████████| 11/11 [00:26<00:00,  2.38s/it]\n"
     ]
    },
    {
     "name": "stdout",
     "output_type": "stream",
     "text": [
      ">> [23/30] san-diego-padres\n"
     ]
    },
    {
     "name": "stderr",
     "output_type": "stream",
     "text": [
      "100%|██████████████████████████████████████████████████████████████████████████████████| 11/11 [00:27<00:00,  2.54s/it]\n"
     ]
    },
    {
     "name": "stdout",
     "output_type": "stream",
     "text": [
      ">> [24/30] san-francisco-giants\n"
     ]
    },
    {
     "name": "stderr",
     "output_type": "stream",
     "text": [
      "100%|██████████████████████████████████████████████████████████████████████████████████| 11/11 [00:27<00:00,  2.49s/it]\n"
     ]
    },
    {
     "name": "stdout",
     "output_type": "stream",
     "text": [
      ">> [25/30] seattle-mariners\n"
     ]
    },
    {
     "name": "stderr",
     "output_type": "stream",
     "text": [
      "100%|██████████████████████████████████████████████████████████████████████████████████| 11/11 [00:25<00:00,  2.32s/it]\n"
     ]
    },
    {
     "name": "stdout",
     "output_type": "stream",
     "text": [
      ">> [26/30] st-louis-cardinals\n"
     ]
    },
    {
     "name": "stderr",
     "output_type": "stream",
     "text": [
      "100%|██████████████████████████████████████████████████████████████████████████████████| 11/11 [00:23<00:00,  2.11s/it]\n"
     ]
    },
    {
     "name": "stdout",
     "output_type": "stream",
     "text": [
      ">> [27/30] tampa-bay-rays\n"
     ]
    },
    {
     "name": "stderr",
     "output_type": "stream",
     "text": [
      "100%|██████████████████████████████████████████████████████████████████████████████████| 11/11 [00:22<00:00,  2.01s/it]\n"
     ]
    },
    {
     "name": "stdout",
     "output_type": "stream",
     "text": [
      ">> [28/30] texas-rangers\n"
     ]
    },
    {
     "name": "stderr",
     "output_type": "stream",
     "text": [
      "100%|██████████████████████████████████████████████████████████████████████████████████| 11/11 [00:22<00:00,  2.07s/it]\n"
     ]
    },
    {
     "name": "stdout",
     "output_type": "stream",
     "text": [
      ">> [29/30] toronto-blue-jays\n"
     ]
    },
    {
     "name": "stderr",
     "output_type": "stream",
     "text": [
      "100%|██████████████████████████████████████████████████████████████████████████████████| 11/11 [00:22<00:00,  2.02s/it]\n"
     ]
    },
    {
     "name": "stdout",
     "output_type": "stream",
     "text": [
      ">> [30/30] washington-nationals\n"
     ]
    },
    {
     "name": "stderr",
     "output_type": "stream",
     "text": [
      "100%|██████████████████████████████████████████████████████████████████████████████████| 11/11 [00:29<00:00,  2.69s/it]"
     ]
    },
    {
     "name": "stdout",
     "output_type": "stream",
     "text": [
      ">> 全數完成!!\n"
     ]
    },
    {
     "name": "stderr",
     "output_type": "stream",
     "text": [
      "\n"
     ]
    }
   ],
   "source": [
    "active_salary_df = pd.DataFrame()\n",
    "injured_salary_df = pd.DataFrame()\n",
    "retained_salary_df = pd.DataFrame()\n",
    "minor_salary_df = pd.DataFrame()\n",
    "signing_bonus_df = pd.DataFrame()\n",
    "player_url_dict = {}\n",
    "\n",
    "for i, team in enumerate(team_lst):\n",
    "    print(f\">> [{i+1}/{len(team_lst)}] {team}\")\n",
    "    for year in tqdm(year_lst):\n",
    "\n",
    "        path = f\"https://www.spotrac.com/mlb/{team}/payroll/{year}\"\n",
    "        r = sssn.get(path)\n",
    "        soup = Soup(r.text)\n",
    "        \n",
    "        table_index = 0\n",
    "        table_h2_lst = [a.text for a in soup.select(\"h2\")]\n",
    "\n",
    "        active_salary_df_tmp = pd.read_html(r.text)[table_index]\n",
    "        active_salary_df_tmp.rename(columns={active_salary_df_tmp.columns[0]:\"Player\"}, inplace=True)\n",
    "        active_salary_df_tmp.loc[:,\"team\"] = team\n",
    "        active_salary_df_tmp.loc[:,\"year\"] = year\n",
    "        active_salary_df_tmp.loc[:,\"table_type\"] = \"active\"\n",
    "        active_salary_df = pd.concat([active_salary_df, active_salary_df_tmp], ignore_index=True)\n",
    "\n",
    "        if f\"{year} Injured List\" in table_h2_lst:\n",
    "            table_index += 1\n",
    "            injured_salary_df_tmp = pd.read_html(r.text)[table_index]\n",
    "            injured_salary_df_tmp.rename(columns={injured_salary_df_tmp.columns[0]:\"Player\"}, inplace=True)\n",
    "            injured_salary_df_tmp.loc[:,\"team\"] = team\n",
    "            injured_salary_df_tmp.loc[:,\"year\"] = year\n",
    "            injured_salary_df_tmp.loc[:,\"table_type\"] = \"injured\"\n",
    "            injured_salary_df = pd.concat([injured_salary_df, injured_salary_df_tmp], ignore_index=True)\n",
    "        else:\n",
    "            injured_salary_df = pd.concat([injured_salary_df, pd.DataFrame()], ignore_index=True)\n",
    "\n",
    "        if f\"{year} Retained Salaries\" in table_h2_lst:\n",
    "            table_index += 1\n",
    "            retained_salary_df_tmp = pd.read_html(r.text)[table_index]\n",
    "            retained_salary_df_tmp.rename(columns={retained_salary_df_tmp.columns[0]:\"Player\"}, inplace=True)\n",
    "            retained_salary_df_tmp.loc[:,\"team\"] = team\n",
    "            retained_salary_df_tmp.loc[:,\"year\"] = year\n",
    "            retained_salary_df_tmp.loc[:,\"table_type\"] = \"retained\"\n",
    "            retained_salary_df = pd.concat([retained_salary_df, retained_salary_df_tmp], ignore_index=True)\n",
    "        else:\n",
    "            retained_salary_df = pd.concat([retained_salary_df, pd.DataFrame()], ignore_index=True)\n",
    "            \n",
    "        if f\"{year} Minor/In the System\" in table_h2_lst:\n",
    "            table_index += 1\n",
    "            minor_salary_df_tmp = pd.read_html(r.text)[table_index]\n",
    "            minor_salary_df_tmp.rename(columns={minor_salary_df_tmp.columns[0]:\"Player\"}, inplace=True)\n",
    "            minor_salary_df_tmp.loc[:,\"team\"] = team\n",
    "            minor_salary_df_tmp.loc[:,\"year\"] = year\n",
    "            minor_salary_df_tmp.loc[:,\"table_type\"] = \"minor\"\n",
    "            minor_salary_df = pd.concat([minor_salary_df, minor_salary_df_tmp], ignore_index=True)\n",
    "        else:\n",
    "            minor_salary_df = pd.concat([minor_salary_df, pd.DataFrame()], ignore_index=True)\n",
    "            \n",
    "        if f\"{year} Signing Bonus\" in table_h2_lst:\n",
    "            table_index += 1 \n",
    "            signing_bonus_df_tmp = pd.read_html(r.text)[table_index]\n",
    "            signing_bonus_df_tmp.rename(columns={signing_bonus_df_tmp.columns[0]:\"Player\"}, inplace=True)\n",
    "            signing_bonus_df_tmp.loc[:,\"team\"] = team\n",
    "            signing_bonus_df_tmp.loc[:,\"year\"] = year\n",
    "            signing_bonus_df_tmp.loc[:,\"table_type\"] = \"signing_bonus\"\n",
    "            signing_bonus_df = pd.concat([signing_bonus_df, signing_bonus_df_tmp], ignore_index=True)\n",
    "        else:\n",
    "            signing_bonus_df = pd.concat([signing_bonus_df, pd.DataFrame()], ignore_index=True)\n",
    "\n",
    "        # 取得球員ID & url\n",
    "        player_url_dict_tmp = {a.text:a['href'] for a in soup.select(\"td.player a\")}\n",
    "        player_url_dict.update(player_url_dict_tmp)\n",
    "        \n",
    "active_salary_df.reset_index(drop=True, inplace=True)\n",
    "injured_salary_df.reset_index(drop=True, inplace=True)\n",
    "retained_salary_df.reset_index(drop=True, inplace=True)\n",
    "minor_salary_df.reset_index(drop=True, inplace=True)\n",
    "signing_bonus_df.reset_index(drop=True, inplace=True)\n",
    "\n",
    "print('>> 全數完成!!')"
   ]
  },
  {
   "cell_type": "code",
   "execution_count": 11,
   "metadata": {},
   "outputs": [
    {
     "name": "stdout",
     "output_type": "stream",
     "text": [
      "player_url_dict: 8030\n"
     ]
    }
   ],
   "source": [
    "print(f\"player_url_dict: {len(player_url_dict)}\")"
   ]
  },
  {
   "cell_type": "code",
   "execution_count": 12,
   "metadata": {},
   "outputs": [
    {
     "name": "stdout",
     "output_type": "stream",
     "text": [
      "<class 'pandas.core.frame.DataFrame'>\n",
      "RangeIndex: 12824 entries, 0 to 12823\n",
      "Data columns (total 15 columns):\n",
      " #   Column           Non-Null Count  Dtype  \n",
      "---  ------           --------------  -----  \n",
      " 0   Player           12824 non-null  object \n",
      " 1   Age              12824 non-null  int64  \n",
      " 2   Pos.             12824 non-null  object \n",
      " 3   Status           12790 non-null  object \n",
      " 4   Base Salary      12824 non-null  object \n",
      " 5   Signing Bonus    12824 non-null  object \n",
      " 6   Incentives       12048 non-null  object \n",
      " 7   Payroll Salary   12824 non-null  object \n",
      " 8   Adj. Salary      12824 non-null  object \n",
      " 9   Payroll %        12822 non-null  float64\n",
      " 10  Lux. Tax Salary  12824 non-null  int64  \n",
      " 11  team             12824 non-null  object \n",
      " 12  year             12824 non-null  int64  \n",
      " 13  table_type       12824 non-null  object \n",
      " 14  Waiver Options   418 non-null    float64\n",
      "dtypes: float64(2), int64(3), object(10)\n",
      "memory usage: 1.5+ MB\n"
     ]
    }
   ],
   "source": [
    "active_salary_df.info()"
   ]
  },
  {
   "cell_type": "code",
   "execution_count": 13,
   "metadata": {},
   "outputs": [
    {
     "data": {
      "text/html": [
       "<div>\n",
       "<style scoped>\n",
       "    .dataframe tbody tr th:only-of-type {\n",
       "        vertical-align: middle;\n",
       "    }\n",
       "\n",
       "    .dataframe tbody tr th {\n",
       "        vertical-align: top;\n",
       "    }\n",
       "\n",
       "    .dataframe thead th {\n",
       "        text-align: right;\n",
       "    }\n",
       "</style>\n",
       "<table border=\"1\" class=\"dataframe\">\n",
       "  <thead>\n",
       "    <tr style=\"text-align: right;\">\n",
       "      <th></th>\n",
       "      <th>Player</th>\n",
       "      <th>Age</th>\n",
       "      <th>Pos.</th>\n",
       "      <th>Status</th>\n",
       "      <th>Base Salary</th>\n",
       "      <th>Signing Bonus</th>\n",
       "      <th>Incentives</th>\n",
       "      <th>Payroll Salary</th>\n",
       "      <th>Adj. Salary</th>\n",
       "      <th>Payroll %</th>\n",
       "      <th>Lux. Tax Salary</th>\n",
       "      <th>team</th>\n",
       "      <th>year</th>\n",
       "      <th>table_type</th>\n",
       "      <th>Waiver Options</th>\n",
       "    </tr>\n",
       "  </thead>\n",
       "  <tbody>\n",
       "    <tr>\n",
       "      <th>0</th>\n",
       "      <td>Kelly Johnson</td>\n",
       "      <td>29</td>\n",
       "      <td>2B</td>\n",
       "      <td>Arb 3</td>\n",
       "      <td>$5,850,000</td>\n",
       "      <td>-</td>\n",
       "      <td>-</td>\n",
       "      <td>$5,850,000</td>\n",
       "      <td>$5,850,000</td>\n",
       "      <td>8.89</td>\n",
       "      <td>5800000</td>\n",
       "      <td>arizona-diamondbacks</td>\n",
       "      <td>2011</td>\n",
       "      <td>active</td>\n",
       "      <td>NaN</td>\n",
       "    </tr>\n",
       "    <tr>\n",
       "      <th>1</th>\n",
       "      <td>Joe Saunders</td>\n",
       "      <td>29</td>\n",
       "      <td>SP</td>\n",
       "      <td>Arb 2</td>\n",
       "      <td>$5,500,000</td>\n",
       "      <td>-</td>\n",
       "      <td>-</td>\n",
       "      <td>$5,500,000</td>\n",
       "      <td>$5,500,000</td>\n",
       "      <td>8.36</td>\n",
       "      <td>5500000</td>\n",
       "      <td>arizona-diamondbacks</td>\n",
       "      <td>2011</td>\n",
       "      <td>active</td>\n",
       "      <td>NaN</td>\n",
       "    </tr>\n",
       "    <tr>\n",
       "      <th>2</th>\n",
       "      <td>Chris Young</td>\n",
       "      <td>27</td>\n",
       "      <td>RF</td>\n",
       "      <td>Vet</td>\n",
       "      <td>$5,000,000</td>\n",
       "      <td>$200,000</td>\n",
       "      <td>-</td>\n",
       "      <td>$5,200,000</td>\n",
       "      <td>$5,200,000</td>\n",
       "      <td>7.90</td>\n",
       "      <td>5600000</td>\n",
       "      <td>arizona-diamondbacks</td>\n",
       "      <td>2011</td>\n",
       "      <td>active</td>\n",
       "      <td>NaN</td>\n",
       "    </tr>\n",
       "    <tr>\n",
       "      <th>3</th>\n",
       "      <td>Stephen Drew</td>\n",
       "      <td>28</td>\n",
       "      <td>2B</td>\n",
       "      <td>Arb 2</td>\n",
       "      <td>$4,650,000</td>\n",
       "      <td>-</td>\n",
       "      <td>-</td>\n",
       "      <td>$4,650,000</td>\n",
       "      <td>$4,650,000</td>\n",
       "      <td>7.07</td>\n",
       "      <td>6875000</td>\n",
       "      <td>arizona-diamondbacks</td>\n",
       "      <td>2011</td>\n",
       "      <td>active</td>\n",
       "      <td>NaN</td>\n",
       "    </tr>\n",
       "    <tr>\n",
       "      <th>4</th>\n",
       "      <td>Justin Upton</td>\n",
       "      <td>23</td>\n",
       "      <td>LF</td>\n",
       "      <td>Vet</td>\n",
       "      <td>$4,250,000</td>\n",
       "      <td>$208,333</td>\n",
       "      <td>-</td>\n",
       "      <td>$4,458,333</td>\n",
       "      <td>$4,458,333</td>\n",
       "      <td>6.78</td>\n",
       "      <td>8583333</td>\n",
       "      <td>arizona-diamondbacks</td>\n",
       "      <td>2011</td>\n",
       "      <td>active</td>\n",
       "      <td>NaN</td>\n",
       "    </tr>\n",
       "  </tbody>\n",
       "</table>\n",
       "</div>"
      ],
      "text/plain": [
       "          Player  Age Pos. Status Base Salary Signing Bonus Incentives  \\\n",
       "0  Kelly Johnson   29   2B  Arb 3  $5,850,000             -          -   \n",
       "1   Joe Saunders   29   SP  Arb 2  $5,500,000             -          -   \n",
       "2    Chris Young   27   RF    Vet  $5,000,000      $200,000          -   \n",
       "3   Stephen Drew   28   2B  Arb 2  $4,650,000             -          -   \n",
       "4   Justin Upton   23   LF    Vet  $4,250,000      $208,333          -   \n",
       "\n",
       "  Payroll Salary Adj. Salary  Payroll %  Lux. Tax Salary  \\\n",
       "0     $5,850,000  $5,850,000       8.89          5800000   \n",
       "1     $5,500,000  $5,500,000       8.36          5500000   \n",
       "2     $5,200,000  $5,200,000       7.90          5600000   \n",
       "3     $4,650,000  $4,650,000       7.07          6875000   \n",
       "4     $4,458,333  $4,458,333       6.78          8583333   \n",
       "\n",
       "                   team  year table_type  Waiver Options  \n",
       "0  arizona-diamondbacks  2011     active             NaN  \n",
       "1  arizona-diamondbacks  2011     active             NaN  \n",
       "2  arizona-diamondbacks  2011     active             NaN  \n",
       "3  arizona-diamondbacks  2011     active             NaN  \n",
       "4  arizona-diamondbacks  2011     active             NaN  "
      ]
     },
     "execution_count": 13,
     "metadata": {},
     "output_type": "execute_result"
    }
   ],
   "source": [
    "active_salary_df.head()"
   ]
  },
  {
   "cell_type": "code",
   "execution_count": 20,
   "metadata": {},
   "outputs": [
    {
     "data": {
      "text/html": [
       "<div>\n",
       "<style scoped>\n",
       "    .dataframe tbody tr th:only-of-type {\n",
       "        vertical-align: middle;\n",
       "    }\n",
       "\n",
       "    .dataframe tbody tr th {\n",
       "        vertical-align: top;\n",
       "    }\n",
       "\n",
       "    .dataframe thead th {\n",
       "        text-align: right;\n",
       "    }\n",
       "</style>\n",
       "<table border=\"1\" class=\"dataframe\">\n",
       "  <thead>\n",
       "    <tr style=\"text-align: right;\">\n",
       "      <th></th>\n",
       "      <th>Player</th>\n",
       "      <th>Player_url</th>\n",
       "    </tr>\n",
       "  </thead>\n",
       "  <tbody>\n",
       "    <tr>\n",
       "      <th>0</th>\n",
       "      <td>Kelly Johnson</td>\n",
       "      <td>https://www.spotrac.com/redirect/player/23/</td>\n",
       "    </tr>\n",
       "    <tr>\n",
       "      <th>1</th>\n",
       "      <td>Joe Saunders</td>\n",
       "      <td>https://www.spotrac.com/redirect/player/451/</td>\n",
       "    </tr>\n",
       "    <tr>\n",
       "      <th>2</th>\n",
       "      <td>Chris Young</td>\n",
       "      <td>https://www.spotrac.com/redirect/player/689/</td>\n",
       "    </tr>\n",
       "    <tr>\n",
       "      <th>3</th>\n",
       "      <td>Stephen Drew</td>\n",
       "      <td>https://www.spotrac.com/redirect/player/428/</td>\n",
       "    </tr>\n",
       "    <tr>\n",
       "      <th>4</th>\n",
       "      <td>Justin Upton</td>\n",
       "      <td>https://www.spotrac.com/redirect/player/129/</td>\n",
       "    </tr>\n",
       "    <tr>\n",
       "      <th>...</th>\n",
       "      <td>...</td>\n",
       "      <td>...</td>\n",
       "    </tr>\n",
       "    <tr>\n",
       "      <th>8025</th>\n",
       "      <td>Jean Estrada</td>\n",
       "      <td>https://www.spotrac.com/redirect/player/71239/</td>\n",
       "    </tr>\n",
       "    <tr>\n",
       "      <th>8026</th>\n",
       "      <td>Cristian Batista</td>\n",
       "      <td>https://www.spotrac.com/redirect/player/71232/</td>\n",
       "    </tr>\n",
       "    <tr>\n",
       "      <th>8027</th>\n",
       "      <td>Winder Diaz</td>\n",
       "      <td>https://www.spotrac.com/redirect/player/71233/</td>\n",
       "    </tr>\n",
       "    <tr>\n",
       "      <th>8028</th>\n",
       "      <td>Edward De La Cruz</td>\n",
       "      <td>https://www.spotrac.com/redirect/player/71234/</td>\n",
       "    </tr>\n",
       "    <tr>\n",
       "      <th>8029</th>\n",
       "      <td>Jeffem Leon</td>\n",
       "      <td>https://www.spotrac.com/redirect/player/71240/</td>\n",
       "    </tr>\n",
       "  </tbody>\n",
       "</table>\n",
       "<p>8030 rows × 2 columns</p>\n",
       "</div>"
      ],
      "text/plain": [
       "                 Player                                      Player_url\n",
       "0         Kelly Johnson     https://www.spotrac.com/redirect/player/23/\n",
       "1          Joe Saunders    https://www.spotrac.com/redirect/player/451/\n",
       "2           Chris Young    https://www.spotrac.com/redirect/player/689/\n",
       "3          Stephen Drew    https://www.spotrac.com/redirect/player/428/\n",
       "4          Justin Upton    https://www.spotrac.com/redirect/player/129/\n",
       "...                 ...                                             ...\n",
       "8025       Jean Estrada  https://www.spotrac.com/redirect/player/71239/\n",
       "8026   Cristian Batista  https://www.spotrac.com/redirect/player/71232/\n",
       "8027        Winder Diaz  https://www.spotrac.com/redirect/player/71233/\n",
       "8028  Edward De La Cruz  https://www.spotrac.com/redirect/player/71234/\n",
       "8029        Jeffem Leon  https://www.spotrac.com/redirect/player/71240/\n",
       "\n",
       "[8030 rows x 2 columns]"
      ]
     },
     "execution_count": 20,
     "metadata": {},
     "output_type": "execute_result"
    }
   ],
   "source": [
    "player_url_df = pd.DataFrame.from_dict(player_url_dict, orient='index').reset_index()\n",
    "player_url_df.columns = [\"Player\", \"Player_url\"]\n",
    "player_url_df"
   ]
  },
  {
   "cell_type": "code",
   "execution_count": 21,
   "metadata": {},
   "outputs": [
    {
     "name": "stdout",
     "output_type": "stream",
     "text": [
      " ==輸出備份csv==::: active_salary_df_20210806_08.49.09.csv\n",
      " >>> 建立今天的工作區: 0806\n",
      " ==輸出備份csv==::: injured_salary_df_20210806_08.49.09.csv\n",
      " ==輸出備份csv==::: retained_salary_df_20210806_08.49.09.csv\n",
      " ==輸出備份csv==::: minor_salary_df_20210806_08.49.10.csv\n",
      " ==輸出備份csv==::: signing_bonus_df_20210806_08.49.10.csv\n",
      " ==輸出備份csv==::: player_url_df_20210806_08.49.10.csv\n"
     ]
    }
   ],
   "source": [
    "formtoCsv(active_salary_df, \"active_salary_df\")\n",
    "formtoCsv(injured_salary_df, \"injured_salary_df\")\n",
    "formtoCsv(retained_salary_df, \"retained_salary_df\")\n",
    "formtoCsv(minor_salary_df, \"minor_salary_df\")\n",
    "formtoCsv(signing_bonus_df, \"signing_bonus_df\")\n",
    "formtoCsv(player_url_df, \"player_url_df\")"
   ]
  },
  {
   "cell_type": "code",
   "execution_count": 23,
   "metadata": {},
   "outputs": [
    {
     "data": {
      "text/plain": [
       "<Response [200]>"
      ]
     },
     "execution_count": 23,
     "metadata": {},
     "output_type": "execute_result"
    }
   ],
   "source": [
    "r = rs.get(\"https://www.spotrac.com/redirect/player/129/\") # 必須要登入 才有完整合約內容\n",
    "r"
   ]
  },
  {
   "cell_type": "code",
   "execution_count": 26,
   "metadata": {},
   "outputs": [],
   "source": [
    "# r.text"
   ]
  },
  {
   "cell_type": "markdown",
   "metadata": {},
   "source": [
    "### FA紀錄(直接從premium 工具下載)"
   ]
  },
  {
   "cell_type": "code",
   "execution_count": 8,
   "metadata": {},
   "outputs": [
    {
     "name": "stdout",
     "output_type": "stream",
     "text": [
      "  >> 讀取:: G:\\我的雲端硬碟\\python\\app\\MLB\\spotrac_data\\MLB Free Agents by Players  Spotrac.csv\n"
     ]
    }
   ],
   "source": [
    "path = r\"G:\\我的雲端硬碟\\python\\app\\MLB\\spotrac_data\\MLB Free Agents by Players  Spotrac.csv\"\n",
    "FA_df = read_data_dir_fPathExt(path)"
   ]
  },
  {
   "cell_type": "code",
   "execution_count": 9,
   "metadata": {},
   "outputs": [
    {
     "data": {
      "text/html": [
       "<div>\n",
       "<style scoped>\n",
       "    .dataframe tbody tr th:only-of-type {\n",
       "        vertical-align: middle;\n",
       "    }\n",
       "\n",
       "    .dataframe tbody tr th {\n",
       "        vertical-align: top;\n",
       "    }\n",
       "\n",
       "    .dataframe thead th {\n",
       "        text-align: right;\n",
       "    }\n",
       "</style>\n",
       "<table border=\"1\" class=\"dataframe\">\n",
       "  <thead>\n",
       "    <tr style=\"text-align: right;\">\n",
       "      <th></th>\n",
       "      <th>Rank</th>\n",
       "      <th>Player</th>\n",
       "      <th>Year</th>\n",
       "      <th>Pos</th>\n",
       "      <th>Status</th>\n",
       "      <th>Team From</th>\n",
       "      <th>Team From To</th>\n",
       "      <th>YRS</th>\n",
       "      <th>Value</th>\n",
       "      <th>AAV</th>\n",
       "      <th>Unnamed: 10</th>\n",
       "    </tr>\n",
       "  </thead>\n",
       "  <tbody>\n",
       "    <tr>\n",
       "      <th>0</th>\n",
       "      <td>NaN</td>\n",
       "      <td>Bryce Harper</td>\n",
       "      <td>2019</td>\n",
       "      <td>RF</td>\n",
       "      <td>UFA</td>\n",
       "      <td>WSH</td>\n",
       "      <td>PHI</td>\n",
       "      <td>13</td>\n",
       "      <td>$330,000,000</td>\n",
       "      <td>$25,384,615</td>\n",
       "      <td>NaN</td>\n",
       "    </tr>\n",
       "    <tr>\n",
       "      <th>1</th>\n",
       "      <td>NaN</td>\n",
       "      <td>Gerrit Cole</td>\n",
       "      <td>2020</td>\n",
       "      <td>SP</td>\n",
       "      <td>UFA</td>\n",
       "      <td>HOU</td>\n",
       "      <td>NYY</td>\n",
       "      <td>9</td>\n",
       "      <td>$324,000,000</td>\n",
       "      <td>$36,000,000</td>\n",
       "      <td>NaN</td>\n",
       "    </tr>\n",
       "    <tr>\n",
       "      <th>2</th>\n",
       "      <td>NaN</td>\n",
       "      <td>Manny Machado</td>\n",
       "      <td>2019</td>\n",
       "      <td>3B</td>\n",
       "      <td>UFA</td>\n",
       "      <td>LAD</td>\n",
       "      <td>SD</td>\n",
       "      <td>10</td>\n",
       "      <td>$300,000,000</td>\n",
       "      <td>$30,000,000</td>\n",
       "      <td>NaN</td>\n",
       "    </tr>\n",
       "    <tr>\n",
       "      <th>3</th>\n",
       "      <td>NaN</td>\n",
       "      <td>Stephen Strasburg</td>\n",
       "      <td>2020</td>\n",
       "      <td>SP</td>\n",
       "      <td>UFA</td>\n",
       "      <td>WSH</td>\n",
       "      <td>WSH</td>\n",
       "      <td>7</td>\n",
       "      <td>$245,000,000</td>\n",
       "      <td>$35,000,000</td>\n",
       "      <td>NaN</td>\n",
       "    </tr>\n",
       "    <tr>\n",
       "      <th>4</th>\n",
       "      <td>NaN</td>\n",
       "      <td>Anthony Rendon</td>\n",
       "      <td>2020</td>\n",
       "      <td>3B</td>\n",
       "      <td>UFA</td>\n",
       "      <td>WSH</td>\n",
       "      <td>LAA</td>\n",
       "      <td>7</td>\n",
       "      <td>$245,000,000</td>\n",
       "      <td>$35,000,000</td>\n",
       "      <td>NaN</td>\n",
       "    </tr>\n",
       "    <tr>\n",
       "      <th>...</th>\n",
       "      <td>...</td>\n",
       "      <td>...</td>\n",
       "      <td>...</td>\n",
       "      <td>...</td>\n",
       "      <td>...</td>\n",
       "      <td>...</td>\n",
       "      <td>...</td>\n",
       "      <td>...</td>\n",
       "      <td>...</td>\n",
       "      <td>...</td>\n",
       "      <td>...</td>\n",
       "    </tr>\n",
       "    <tr>\n",
       "      <th>1606</th>\n",
       "      <td>NaN</td>\n",
       "      <td>Wilton Lopez</td>\n",
       "      <td>2015</td>\n",
       "      <td>RP</td>\n",
       "      <td>UFA</td>\n",
       "      <td>COL</td>\n",
       "      <td>TOR</td>\n",
       "      <td>1</td>\n",
       "      <td>$0</td>\n",
       "      <td>$0</td>\n",
       "      <td>NaN</td>\n",
       "    </tr>\n",
       "    <tr>\n",
       "      <th>1607</th>\n",
       "      <td>NaN</td>\n",
       "      <td>Scott Moore</td>\n",
       "      <td>2013</td>\n",
       "      <td>3B</td>\n",
       "      <td>UFA</td>\n",
       "      <td>HOU</td>\n",
       "      <td>OAK</td>\n",
       "      <td>1</td>\n",
       "      <td>$0</td>\n",
       "      <td>$0</td>\n",
       "      <td>NaN</td>\n",
       "    </tr>\n",
       "    <tr>\n",
       "      <th>1608</th>\n",
       "      <td>NaN</td>\n",
       "      <td>Jose Veras</td>\n",
       "      <td>2015</td>\n",
       "      <td>RP</td>\n",
       "      <td>UFA</td>\n",
       "      <td>HOU</td>\n",
       "      <td>ATL</td>\n",
       "      <td>1</td>\n",
       "      <td>$0</td>\n",
       "      <td>$0</td>\n",
       "      <td>NaN</td>\n",
       "    </tr>\n",
       "    <tr>\n",
       "      <th>1609</th>\n",
       "      <td>NaN</td>\n",
       "      <td>Brad Hawpe</td>\n",
       "      <td>2013</td>\n",
       "      <td>RF</td>\n",
       "      <td>UFA</td>\n",
       "      <td>TEX</td>\n",
       "      <td>PIT</td>\n",
       "      <td>1</td>\n",
       "      <td>$0</td>\n",
       "      <td>$0</td>\n",
       "      <td>NaN</td>\n",
       "    </tr>\n",
       "    <tr>\n",
       "      <th>1610</th>\n",
       "      <td>NaN</td>\n",
       "      <td>Andrew Brown</td>\n",
       "      <td>2013</td>\n",
       "      <td>LF</td>\n",
       "      <td>UFA</td>\n",
       "      <td>COL</td>\n",
       "      <td>NYM</td>\n",
       "      <td>1</td>\n",
       "      <td>$0</td>\n",
       "      <td>$0</td>\n",
       "      <td>NaN</td>\n",
       "    </tr>\n",
       "  </tbody>\n",
       "</table>\n",
       "<p>1611 rows × 11 columns</p>\n",
       "</div>"
      ],
      "text/plain": [
       "      Rank             Player  Year Pos Status Team From Team From To  YRS  \\\n",
       "0      NaN       Bryce Harper  2019  RF    UFA       WSH          PHI   13   \n",
       "1      NaN        Gerrit Cole  2020  SP    UFA       HOU          NYY    9   \n",
       "2      NaN      Manny Machado  2019  3B    UFA       LAD           SD   10   \n",
       "3      NaN  Stephen Strasburg  2020  SP    UFA       WSH          WSH    7   \n",
       "4      NaN     Anthony Rendon  2020  3B    UFA       WSH          LAA    7   \n",
       "...    ...                ...   ...  ..    ...       ...          ...  ...   \n",
       "1606   NaN       Wilton Lopez  2015  RP    UFA       COL          TOR    1   \n",
       "1607   NaN        Scott Moore  2013  3B    UFA       HOU          OAK    1   \n",
       "1608   NaN         Jose Veras  2015  RP    UFA       HOU          ATL    1   \n",
       "1609   NaN         Brad Hawpe  2013  RF    UFA       TEX          PIT    1   \n",
       "1610   NaN       Andrew Brown  2013  LF    UFA       COL          NYM    1   \n",
       "\n",
       "             Value          AAV  Unnamed: 10  \n",
       "0     $330,000,000  $25,384,615          NaN  \n",
       "1     $324,000,000  $36,000,000          NaN  \n",
       "2     $300,000,000  $30,000,000          NaN  \n",
       "3     $245,000,000  $35,000,000          NaN  \n",
       "4     $245,000,000  $35,000,000          NaN  \n",
       "...            ...          ...          ...  \n",
       "1606            $0           $0          NaN  \n",
       "1607            $0           $0          NaN  \n",
       "1608            $0           $0          NaN  \n",
       "1609            $0           $0          NaN  \n",
       "1610            $0           $0          NaN  \n",
       "\n",
       "[1611 rows x 11 columns]"
      ]
     },
     "execution_count": 9,
     "metadata": {},
     "output_type": "execute_result"
    }
   ],
   "source": [
    "FA_df #Year 為 YRS 第1年"
   ]
  },
  {
   "cell_type": "code",
   "execution_count": 10,
   "metadata": {},
   "outputs": [
    {
     "data": {
      "text/plain": [
       "2016    255\n",
       "2015    231\n",
       "2013    225\n",
       "2014    215\n",
       "2021    142\n",
       "2020    121\n",
       "2012    115\n",
       "2019    106\n",
       "2017    102\n",
       "2018     99\n",
       "Name: Year, dtype: int64"
      ]
     },
     "execution_count": 10,
     "metadata": {},
     "output_type": "execute_result"
    }
   ],
   "source": [
    "FA_df[\"Year\"].value_counts()"
   ]
  },
  {
   "cell_type": "markdown",
   "metadata": {},
   "source": [
    "### 延長合約資料 (Extension)"
   ]
  },
  {
   "cell_type": "code",
   "execution_count": 11,
   "metadata": {},
   "outputs": [],
   "source": [
    "# 記得要先登入"
   ]
  },
  {
   "cell_type": "code",
   "execution_count": 12,
   "metadata": {},
   "outputs": [
    {
     "name": "stderr",
     "output_type": "stream",
     "text": [
      "100%|██████████████████████████████████████████████████████████████████████████████████| 11/11 [00:15<00:00,  1.45s/it]\n"
     ]
    }
   ],
   "source": [
    "extension_df = pd.DataFrame()\n",
    "for year in tqdm(range(2011, 2021+1)):\n",
    "    url = f\"https://www.spotrac.com/mlb/extensions/{year}/\"\n",
    "    r = sssn.get(url)\n",
    "    soup = Soup(r.text)\n",
    "    player_name_lst = [p.text for p in soup.select(\"table td.player a\")]\n",
    "    extension_tmp = pd.read_html(r.text)[0]\n",
    "    extension_tmp.columns = [t[0] for t in extension_tmp.columns.tolist()]\n",
    "    extension_tmp.loc[:,\"Player\"]= player_name_lst\n",
    "    extension_tmp.loc[:,\"year\"]= year\n",
    "    extension_df = pd.concat([extension_df, extension_tmp], ignore_index=True)"
   ]
  },
  {
   "cell_type": "code",
   "execution_count": 13,
   "metadata": {},
   "outputs": [
    {
     "data": {
      "text/html": [
       "<div>\n",
       "<style scoped>\n",
       "    .dataframe tbody tr th:only-of-type {\n",
       "        vertical-align: middle;\n",
       "    }\n",
       "\n",
       "    .dataframe tbody tr th {\n",
       "        vertical-align: top;\n",
       "    }\n",
       "\n",
       "    .dataframe thead th {\n",
       "        text-align: right;\n",
       "    }\n",
       "</style>\n",
       "<table border=\"1\" class=\"dataframe\">\n",
       "  <thead>\n",
       "    <tr style=\"text-align: right;\">\n",
       "      <th></th>\n",
       "      <th>Player</th>\n",
       "      <th>Pos.</th>\n",
       "      <th>Age @ Sign</th>\n",
       "      <th>Team @ Sign</th>\n",
       "      <th>Yrs</th>\n",
       "      <th>Dollars</th>\n",
       "      <th>AAV</th>\n",
       "      <th>2-Year Cash</th>\n",
       "      <th>3-Year Cash</th>\n",
       "      <th>year</th>\n",
       "    </tr>\n",
       "  </thead>\n",
       "  <tbody>\n",
       "    <tr>\n",
       "      <th>0</th>\n",
       "      <td>Ryan Braun</td>\n",
       "      <td>LF</td>\n",
       "      <td>27</td>\n",
       "      <td>MIL</td>\n",
       "      <td>5</td>\n",
       "      <td>$105,000,000</td>\n",
       "      <td>$21,000,000</td>\n",
       "      <td>$12,000,000</td>\n",
       "      <td>$21,500,000</td>\n",
       "      <td>2011</td>\n",
       "    </tr>\n",
       "    <tr>\n",
       "      <th>1</th>\n",
       "      <td>Koji Uehara</td>\n",
       "      <td>RP</td>\n",
       "      <td>35</td>\n",
       "      <td>BAL</td>\n",
       "      <td>1</td>\n",
       "      <td>$3,000,000</td>\n",
       "      <td>$3,000,000</td>\n",
       "      <td>NaN</td>\n",
       "      <td>NaN</td>\n",
       "      <td>2011</td>\n",
       "    </tr>\n",
       "    <tr>\n",
       "      <th>2</th>\n",
       "      <td>Brandon Phillips</td>\n",
       "      <td>2B</td>\n",
       "      <td>30</td>\n",
       "      <td>CIN</td>\n",
       "      <td>6</td>\n",
       "      <td>$72,500,000</td>\n",
       "      <td>$12,083,333</td>\n",
       "      <td>$22,575,000</td>\n",
       "      <td>$33,650,000</td>\n",
       "      <td>2012</td>\n",
       "    </tr>\n",
       "    <tr>\n",
       "      <th>3</th>\n",
       "      <td>Alexei Ramirez</td>\n",
       "      <td>SS</td>\n",
       "      <td>30</td>\n",
       "      <td>CHW</td>\n",
       "      <td>4</td>\n",
       "      <td>$32,500,000</td>\n",
       "      <td>$8,125,000</td>\n",
       "      <td>$12,000,000</td>\n",
       "      <td>$21,515,000</td>\n",
       "      <td>2012</td>\n",
       "    </tr>\n",
       "    <tr>\n",
       "      <th>4</th>\n",
       "      <td>Clay Buchholz</td>\n",
       "      <td>SP</td>\n",
       "      <td>27</td>\n",
       "      <td>BOS</td>\n",
       "      <td>4</td>\n",
       "      <td>$29,945,000</td>\n",
       "      <td>$7,486,250</td>\n",
       "      <td>$10,050,000</td>\n",
       "      <td>$17,750,000</td>\n",
       "      <td>2012</td>\n",
       "    </tr>\n",
       "    <tr>\n",
       "      <th>...</th>\n",
       "      <td>...</td>\n",
       "      <td>...</td>\n",
       "      <td>...</td>\n",
       "      <td>...</td>\n",
       "      <td>...</td>\n",
       "      <td>...</td>\n",
       "      <td>...</td>\n",
       "      <td>...</td>\n",
       "      <td>...</td>\n",
       "      <td>...</td>\n",
       "    </tr>\n",
       "    <tr>\n",
       "      <th>104</th>\n",
       "      <td>Jonathan Schoop</td>\n",
       "      <td>2B</td>\n",
       "      <td>29</td>\n",
       "      <td>DET</td>\n",
       "      <td>2</td>\n",
       "      <td>$15,000,000</td>\n",
       "      <td>$7,500,000</td>\n",
       "      <td>$12,000,000</td>\n",
       "      <td>NaN</td>\n",
       "      <td>2021</td>\n",
       "    </tr>\n",
       "    <tr>\n",
       "      <th>105</th>\n",
       "      <td>Randy Dobnak</td>\n",
       "      <td>RP</td>\n",
       "      <td>25</td>\n",
       "      <td>MIN</td>\n",
       "      <td>5</td>\n",
       "      <td>$9,250,000</td>\n",
       "      <td>$1,850,000</td>\n",
       "      <td>$1,500,000</td>\n",
       "      <td>$3,000,000</td>\n",
       "      <td>2021</td>\n",
       "    </tr>\n",
       "    <tr>\n",
       "      <th>106</th>\n",
       "      <td>Yulieski Gurriel</td>\n",
       "      <td>1B</td>\n",
       "      <td>36</td>\n",
       "      <td>HOU</td>\n",
       "      <td>1</td>\n",
       "      <td>$7,000,000</td>\n",
       "      <td>$7,000,000</td>\n",
       "      <td>NaN</td>\n",
       "      <td>NaN</td>\n",
       "      <td>2021</td>\n",
       "    </tr>\n",
       "    <tr>\n",
       "      <th>107</th>\n",
       "      <td>Austin Barnes</td>\n",
       "      <td>C</td>\n",
       "      <td>31</td>\n",
       "      <td>LAD</td>\n",
       "      <td>2</td>\n",
       "      <td>$4,300,000</td>\n",
       "      <td>$2,150,000</td>\n",
       "      <td>$4,300,000</td>\n",
       "      <td>NaN</td>\n",
       "      <td>2021</td>\n",
       "    </tr>\n",
       "    <tr>\n",
       "      <th>108</th>\n",
       "      <td>Josh Harrison</td>\n",
       "      <td>2B</td>\n",
       "      <td>33</td>\n",
       "      <td>WSH</td>\n",
       "      <td>1</td>\n",
       "      <td>$1,000,000</td>\n",
       "      <td>$1,000,000</td>\n",
       "      <td>NaN</td>\n",
       "      <td>NaN</td>\n",
       "      <td>2021</td>\n",
       "    </tr>\n",
       "  </tbody>\n",
       "</table>\n",
       "<p>109 rows × 10 columns</p>\n",
       "</div>"
      ],
      "text/plain": [
       "               Player Pos.  Age @ Sign Team @ Sign  Yrs       Dollars  \\\n",
       "0          Ryan Braun   LF          27         MIL    5  $105,000,000   \n",
       "1         Koji Uehara   RP          35         BAL    1    $3,000,000   \n",
       "2    Brandon Phillips   2B          30         CIN    6   $72,500,000   \n",
       "3      Alexei Ramirez   SS          30         CHW    4   $32,500,000   \n",
       "4       Clay Buchholz   SP          27         BOS    4   $29,945,000   \n",
       "..                ...  ...         ...         ...  ...           ...   \n",
       "104   Jonathan Schoop   2B          29         DET    2   $15,000,000   \n",
       "105      Randy Dobnak   RP          25         MIN    5    $9,250,000   \n",
       "106  Yulieski Gurriel   1B          36         HOU    1    $7,000,000   \n",
       "107     Austin Barnes    C          31         LAD    2    $4,300,000   \n",
       "108     Josh Harrison   2B          33         WSH    1    $1,000,000   \n",
       "\n",
       "             AAV  2-Year Cash  3-Year Cash  year  \n",
       "0    $21,000,000  $12,000,000  $21,500,000  2011  \n",
       "1     $3,000,000          NaN          NaN  2011  \n",
       "2    $12,083,333  $22,575,000  $33,650,000  2012  \n",
       "3     $8,125,000  $12,000,000  $21,515,000  2012  \n",
       "4     $7,486,250  $10,050,000  $17,750,000  2012  \n",
       "..           ...          ...          ...   ...  \n",
       "104   $7,500,000  $12,000,000          NaN  2021  \n",
       "105   $1,850,000   $1,500,000   $3,000,000  2021  \n",
       "106   $7,000,000          NaN          NaN  2021  \n",
       "107   $2,150,000   $4,300,000          NaN  2021  \n",
       "108   $1,000,000          NaN          NaN  2021  \n",
       "\n",
       "[109 rows x 10 columns]"
      ]
     },
     "execution_count": 13,
     "metadata": {},
     "output_type": "execute_result"
    }
   ],
   "source": [
    "extension_df"
   ]
  },
  {
   "cell_type": "code",
   "execution_count": 14,
   "metadata": {},
   "outputs": [
    {
     "name": "stdout",
     "output_type": "stream",
     "text": [
      " ==輸出備份csv==::: extension_df_20210826_08.34.47.csv\n",
      " >>> 建立今天的工作區: 0826\n"
     ]
    }
   ],
   "source": [
    "formtoCsv(extension_df, \"extension_df\")"
   ]
  },
  {
   "cell_type": "markdown",
   "metadata": {},
   "source": [
    "### 挑出要爬的球員清單"
   ]
  },
  {
   "cell_type": "code",
   "execution_count": 15,
   "metadata": {},
   "outputs": [
    {
     "data": {
      "text/plain": [
       "1053"
      ]
     },
     "execution_count": 15,
     "metadata": {},
     "output_type": "execute_result"
    }
   ],
   "source": [
    "player_set = set(extension_df[\"Player\"])\n",
    "player_set.update(set(FA_df[\"Player\"]))\n",
    "len(player_set)"
   ]
  },
  {
   "cell_type": "code",
   "execution_count": 16,
   "metadata": {},
   "outputs": [
    {
     "name": "stdout",
     "output_type": "stream",
     "text": [
      "  >> 讀取:: G:\\我的雲端硬碟\\python\\output\\0806\\player_url_df_20210806_08.49.10.csv\n"
     ]
    }
   ],
   "source": [
    "path = r\"G:\\我的雲端硬碟\\python\\output\\0806\\player_url_df_20210806_08.49.10.csv\"\n",
    "player_url_df = read_data_dir_fPathExt(path)"
   ]
  },
  {
   "cell_type": "code",
   "execution_count": 17,
   "metadata": {},
   "outputs": [],
   "source": [
    "player_url_dict = pd.Series(player_url_df.Player_url.values,index=player_url_df.Player).to_dict()\n",
    "player_url_dict_pic = {p:player_url_dict[p] for p in player_url_dict if p in player_set}"
   ]
  },
  {
   "cell_type": "code",
   "execution_count": 18,
   "metadata": {},
   "outputs": [
    {
     "data": {
      "text/plain": [
       "'https://www.spotrac.com/redirect/player/23/'"
      ]
     },
     "execution_count": 18,
     "metadata": {},
     "output_type": "execute_result"
    }
   ],
   "source": [
    "player_url_dict_pic['Kelly Johnson']"
   ]
  },
  {
   "cell_type": "code",
   "execution_count": 30,
   "metadata": {},
   "outputs": [
    {
     "data": {
      "text/html": [
       "<div>\n",
       "<style scoped>\n",
       "    .dataframe tbody tr th:only-of-type {\n",
       "        vertical-align: middle;\n",
       "    }\n",
       "\n",
       "    .dataframe tbody tr th {\n",
       "        vertical-align: top;\n",
       "    }\n",
       "\n",
       "    .dataframe thead th {\n",
       "        text-align: right;\n",
       "    }\n",
       "</style>\n",
       "<table border=\"1\" class=\"dataframe\">\n",
       "  <thead>\n",
       "    <tr style=\"text-align: right;\">\n",
       "      <th></th>\n",
       "      <th>Year</th>\n",
       "      <th>Unnamed: 1</th>\n",
       "      <th>Age</th>\n",
       "      <th>Base Salary</th>\n",
       "      <th>Incentive</th>\n",
       "      <th>Luxury Tax Salary</th>\n",
       "      <th>Payroll Salary</th>\n",
       "      <th>Adjusted Salary</th>\n",
       "      <th>Yearly Cash</th>\n",
       "      <th>Unnamed: 9</th>\n",
       "      <th>Unnamed: 10</th>\n",
       "    </tr>\n",
       "  </thead>\n",
       "  <tbody>\n",
       "    <tr>\n",
       "      <th>0</th>\n",
       "      <td>2016</td>\n",
       "      <td>NaN</td>\n",
       "      <td>34</td>\n",
       "      <td>$2,000,000</td>\n",
       "      <td>$250,000</td>\n",
       "      <td>NaN</td>\n",
       "      <td>$2,250,000</td>\n",
       "      <td>$1,528,693</td>\n",
       "      <td>$1,528,693($1,528,693)</td>\n",
       "      <td>NaN</td>\n",
       "      <td>NaN</td>\n",
       "    </tr>\n",
       "    <tr>\n",
       "      <th>1</th>\n",
       "      <td>2017</td>\n",
       "      <td>NaN</td>\n",
       "      <td>35</td>\n",
       "      <td>UFA</td>\n",
       "      <td>NaN</td>\n",
       "      <td>NaN</td>\n",
       "      <td>NaN</td>\n",
       "      <td>NaN</td>\n",
       "      <td>NaN</td>\n",
       "      <td>NaN</td>\n",
       "      <td>NaN</td>\n",
       "    </tr>\n",
       "    <tr>\n",
       "      <th>2</th>\n",
       "      <td>Contract Notes:Plate Appearances$250,000 each ...</td>\n",
       "      <td>Contract Notes:Plate Appearances$250,000 each ...</td>\n",
       "      <td>Contract Notes:Plate Appearances$250,000 each ...</td>\n",
       "      <td>Contract Notes:Plate Appearances$250,000 each ...</td>\n",
       "      <td>Contract Notes:Plate Appearances$250,000 each ...</td>\n",
       "      <td>Contract Notes:Plate Appearances$250,000 each ...</td>\n",
       "      <td>Contract Notes:Plate Appearances$250,000 each ...</td>\n",
       "      <td>Contract Notes:Plate Appearances$250,000 each ...</td>\n",
       "      <td>Contract Notes:Plate Appearances$250,000 each ...</td>\n",
       "      <td>Contract Notes:Plate Appearances$250,000 each ...</td>\n",
       "      <td>Contract Notes:Plate Appearances$250,000 each ...</td>\n",
       "    </tr>\n",
       "    <tr>\n",
       "      <th>3</th>\n",
       "      <td>Contract Source: Jeff Passan</td>\n",
       "      <td>Contract Source: Jeff Passan</td>\n",
       "      <td>Contract Source: Jeff Passan</td>\n",
       "      <td>Contract Source: Jeff Passan</td>\n",
       "      <td>Contract Source: Jeff Passan</td>\n",
       "      <td>Contract Source: Jeff Passan</td>\n",
       "      <td>Contract Source: Jeff Passan</td>\n",
       "      <td>Contract Source: Jeff Passan</td>\n",
       "      <td>Contract Source: Jeff Passan</td>\n",
       "      <td>Contract Source: Jeff Passan</td>\n",
       "      <td>Contract Source: Jeff Passan</td>\n",
       "    </tr>\n",
       "  </tbody>\n",
       "</table>\n",
       "</div>"
      ],
      "text/plain": [
       "                                                Year  \\\n",
       "0                                               2016   \n",
       "1                                               2017   \n",
       "2  Contract Notes:Plate Appearances$250,000 each ...   \n",
       "3                       Contract Source: Jeff Passan   \n",
       "\n",
       "                                          Unnamed: 1  \\\n",
       "0                                                NaN   \n",
       "1                                                NaN   \n",
       "2  Contract Notes:Plate Appearances$250,000 each ...   \n",
       "3                       Contract Source: Jeff Passan   \n",
       "\n",
       "                                                 Age  \\\n",
       "0                                                 34   \n",
       "1                                                 35   \n",
       "2  Contract Notes:Plate Appearances$250,000 each ...   \n",
       "3                       Contract Source: Jeff Passan   \n",
       "\n",
       "                                         Base Salary  \\\n",
       "0                                         $2,000,000   \n",
       "1                                                UFA   \n",
       "2  Contract Notes:Plate Appearances$250,000 each ...   \n",
       "3                       Contract Source: Jeff Passan   \n",
       "\n",
       "                                           Incentive  \\\n",
       "0                                           $250,000   \n",
       "1                                                NaN   \n",
       "2  Contract Notes:Plate Appearances$250,000 each ...   \n",
       "3                       Contract Source: Jeff Passan   \n",
       "\n",
       "                                   Luxury Tax Salary  \\\n",
       "0                                                NaN   \n",
       "1                                                NaN   \n",
       "2  Contract Notes:Plate Appearances$250,000 each ...   \n",
       "3                       Contract Source: Jeff Passan   \n",
       "\n",
       "                                      Payroll Salary  \\\n",
       "0                                         $2,250,000   \n",
       "1                                                NaN   \n",
       "2  Contract Notes:Plate Appearances$250,000 each ...   \n",
       "3                       Contract Source: Jeff Passan   \n",
       "\n",
       "                                     Adjusted Salary  \\\n",
       "0                                         $1,528,693   \n",
       "1                                                NaN   \n",
       "2  Contract Notes:Plate Appearances$250,000 each ...   \n",
       "3                       Contract Source: Jeff Passan   \n",
       "\n",
       "                                         Yearly Cash  \\\n",
       "0                             $1,528,693($1,528,693)   \n",
       "1                                                NaN   \n",
       "2  Contract Notes:Plate Appearances$250,000 each ...   \n",
       "3                       Contract Source: Jeff Passan   \n",
       "\n",
       "                                          Unnamed: 9  \\\n",
       "0                                                NaN   \n",
       "1                                                NaN   \n",
       "2  Contract Notes:Plate Appearances$250,000 each ...   \n",
       "3                       Contract Source: Jeff Passan   \n",
       "\n",
       "                                         Unnamed: 10  \n",
       "0                                                NaN  \n",
       "1                                                NaN  \n",
       "2  Contract Notes:Plate Appearances$250,000 each ...  \n",
       "3                       Contract Source: Jeff Passan  "
      ]
     },
     "execution_count": 30,
     "metadata": {},
     "output_type": "execute_result"
    }
   ],
   "source": [
    "pd.read_html(player_url_dict_pic['Kelly Johnson'])[2]"
   ]
  },
  {
   "cell_type": "code",
   "execution_count": 19,
   "metadata": {},
   "outputs": [],
   "source": [
    "# for k,v in player_url_dict.items():\n",
    "#     print(k)\n",
    "#     break"
   ]
  },
  {
   "cell_type": "code",
   "execution_count": 20,
   "metadata": {},
   "outputs": [],
   "source": [
    "# _df = pd.read_html(player_url_dict[player_url_dict_pic_lst[0]])[-1] #最後一個就是\n",
    "# _df"
   ]
  },
  {
   "cell_type": "code",
   "execution_count": 21,
   "metadata": {},
   "outputs": [],
   "source": [
    "# from multiprocessing.dummy import Pool as ThreadPool \n",
    "\n",
    "# WAR_df = pd.DataFrame()\n",
    "# error_lst = []\n",
    "# for player,url in tqdm(player_url_dict.items()):\n",
    "#     def scrape_player_WAR(player_url_dict_one)\n",
    "#         try:\n",
    "#             _df = pd.read_html(url)[-1]\n",
    "#             _df[\"player\"] = player\n",
    "#             WAR_df = pd.concat([WAR_df,_df])\n",
    "#         except:\n",
    "#             # 寫入log方便查看進度與保存\n",
    "#             path = f'error_log//{site}_{date}_{time.split(\":\")[0]}.txt'\n",
    "#             with open(path, 'a') as f:\n",
    "#                 f.write(str({'site': site, 'date':date ,'time':time, 'response_json': response.json()}))\n",
    "#             error_lst.append(player)\n",
    "#             pass\n",
    "    \n",
    "# pool = ThreadPool(3)  # 同時建立及啟用 3個執行緒\n",
    "# results = pool.map(scrape_one_day, player_url_dict)\n",
    "# results_all_lst.append(results)"
   ]
  },
  {
   "cell_type": "code",
   "execution_count": 31,
   "metadata": {},
   "outputs": [
    {
     "name": "stderr",
     "output_type": "stream",
     "text": [
      "100%|████████████████████████████████████████████████████████████████████████████| 1052/1052 [1:30:40<00:00,  5.17s/it]\n"
     ]
    }
   ],
   "source": [
    "CurentContract_df = pd.DataFrame()\n",
    "error_lst = []\n",
    "for player,url in tqdm(player_url_dict_pic.items()):\n",
    "    try:\n",
    "        _df = pd.read_html(url)[2]\n",
    "        _df[\"player\"] = player\n",
    "        CurentContract_df = pd.concat([CurentContract_df,_df])\n",
    "    except:\n",
    "        error_lst.append(player)\n",
    "        pass"
   ]
  },
  {
   "cell_type": "code",
   "execution_count": 32,
   "metadata": {},
   "outputs": [
    {
     "name": "stdout",
     "output_type": "stream",
     "text": [
      "<class 'pandas.core.frame.DataFrame'>\n",
      "Int64Index: 4091 entries, 0 to 2\n",
      "Data columns (total 23 columns):\n",
      " #   Column             Non-Null Count  Dtype  \n",
      "---  ------             --------------  -----  \n",
      " 0   Year               3390 non-null   object \n",
      " 1   Unnamed: 1         1185 non-null   object \n",
      " 2   Age                3405 non-null   object \n",
      " 3   Base Salary        3405 non-null   object \n",
      " 4   Incentive          248 non-null    object \n",
      " 5   Luxury Tax Salary  1490 non-null   object \n",
      " 6   Payroll Salary     2621 non-null   object \n",
      " 7   Adjusted Salary    2473 non-null   object \n",
      " 8   Yearly Cash        2621 non-null   object \n",
      " 9   Unnamed: 9         1095 non-null   object \n",
      " 10  Unnamed: 10        1174 non-null   object \n",
      " 11  player             4091 non-null   object \n",
      " 12  Unnamed: 8         844 non-null    object \n",
      " 13  0                  685 non-null    object \n",
      " 14  1                  680 non-null    object \n",
      " 15  Signing Bonus      446 non-null    object \n",
      " 16  Status             376 non-null    object \n",
      " 17  Unnamed: 11        0 non-null      float64\n",
      " 18  Unnamed: 0         17 non-null     object \n",
      " 19  Total Salary       17 non-null     object \n",
      " 20  Unnamed: 5         1 non-null      object \n",
      " 21  Unnamed: 6         1 non-null      object \n",
      " 22  Unnamed: 7         1 non-null      object \n",
      "dtypes: float64(1), object(22)\n",
      "memory usage: 767.1+ KB\n"
     ]
    }
   ],
   "source": [
    "CurentContract_df.info()"
   ]
  },
  {
   "cell_type": "code",
   "execution_count": 33,
   "metadata": {},
   "outputs": [
    {
     "data": {
      "text/html": [
       "<div>\n",
       "<style scoped>\n",
       "    .dataframe tbody tr th:only-of-type {\n",
       "        vertical-align: middle;\n",
       "    }\n",
       "\n",
       "    .dataframe tbody tr th {\n",
       "        vertical-align: top;\n",
       "    }\n",
       "\n",
       "    .dataframe thead th {\n",
       "        text-align: right;\n",
       "    }\n",
       "</style>\n",
       "<table border=\"1\" class=\"dataframe\">\n",
       "  <thead>\n",
       "    <tr style=\"text-align: right;\">\n",
       "      <th></th>\n",
       "      <th>Year</th>\n",
       "      <th>Unnamed: 1</th>\n",
       "      <th>Age</th>\n",
       "      <th>Base Salary</th>\n",
       "      <th>Incentive</th>\n",
       "      <th>Luxury Tax Salary</th>\n",
       "      <th>Payroll Salary</th>\n",
       "      <th>Adjusted Salary</th>\n",
       "      <th>Yearly Cash</th>\n",
       "      <th>Unnamed: 9</th>\n",
       "      <th>...</th>\n",
       "      <th>0</th>\n",
       "      <th>1</th>\n",
       "      <th>Signing Bonus</th>\n",
       "      <th>Status</th>\n",
       "      <th>Unnamed: 11</th>\n",
       "      <th>Unnamed: 0</th>\n",
       "      <th>Total Salary</th>\n",
       "      <th>Unnamed: 5</th>\n",
       "      <th>Unnamed: 6</th>\n",
       "      <th>Unnamed: 7</th>\n",
       "    </tr>\n",
       "  </thead>\n",
       "  <tbody>\n",
       "    <tr>\n",
       "      <th>0</th>\n",
       "      <td>2016</td>\n",
       "      <td>NaN</td>\n",
       "      <td>34</td>\n",
       "      <td>$2,000,000</td>\n",
       "      <td>$250,000</td>\n",
       "      <td>NaN</td>\n",
       "      <td>$2,250,000</td>\n",
       "      <td>$1,528,693</td>\n",
       "      <td>$1,528,693($1,528,693)</td>\n",
       "      <td>NaN</td>\n",
       "      <td>...</td>\n",
       "      <td>NaN</td>\n",
       "      <td>NaN</td>\n",
       "      <td>NaN</td>\n",
       "      <td>NaN</td>\n",
       "      <td>NaN</td>\n",
       "      <td>NaN</td>\n",
       "      <td>NaN</td>\n",
       "      <td>NaN</td>\n",
       "      <td>NaN</td>\n",
       "      <td>NaN</td>\n",
       "    </tr>\n",
       "    <tr>\n",
       "      <th>1</th>\n",
       "      <td>2017</td>\n",
       "      <td>NaN</td>\n",
       "      <td>35</td>\n",
       "      <td>UFA</td>\n",
       "      <td>NaN</td>\n",
       "      <td>NaN</td>\n",
       "      <td>NaN</td>\n",
       "      <td>NaN</td>\n",
       "      <td>NaN</td>\n",
       "      <td>NaN</td>\n",
       "      <td>...</td>\n",
       "      <td>NaN</td>\n",
       "      <td>NaN</td>\n",
       "      <td>NaN</td>\n",
       "      <td>NaN</td>\n",
       "      <td>NaN</td>\n",
       "      <td>NaN</td>\n",
       "      <td>NaN</td>\n",
       "      <td>NaN</td>\n",
       "      <td>NaN</td>\n",
       "      <td>NaN</td>\n",
       "    </tr>\n",
       "    <tr>\n",
       "      <th>2</th>\n",
       "      <td>Contract Notes:Plate Appearances$250,000 each ...</td>\n",
       "      <td>Contract Notes:Plate Appearances$250,000 each ...</td>\n",
       "      <td>Contract Notes:Plate Appearances$250,000 each ...</td>\n",
       "      <td>Contract Notes:Plate Appearances$250,000 each ...</td>\n",
       "      <td>Contract Notes:Plate Appearances$250,000 each ...</td>\n",
       "      <td>Contract Notes:Plate Appearances$250,000 each ...</td>\n",
       "      <td>Contract Notes:Plate Appearances$250,000 each ...</td>\n",
       "      <td>Contract Notes:Plate Appearances$250,000 each ...</td>\n",
       "      <td>Contract Notes:Plate Appearances$250,000 each ...</td>\n",
       "      <td>Contract Notes:Plate Appearances$250,000 each ...</td>\n",
       "      <td>...</td>\n",
       "      <td>NaN</td>\n",
       "      <td>NaN</td>\n",
       "      <td>NaN</td>\n",
       "      <td>NaN</td>\n",
       "      <td>NaN</td>\n",
       "      <td>NaN</td>\n",
       "      <td>NaN</td>\n",
       "      <td>NaN</td>\n",
       "      <td>NaN</td>\n",
       "      <td>NaN</td>\n",
       "    </tr>\n",
       "    <tr>\n",
       "      <th>3</th>\n",
       "      <td>Contract Source: Jeff Passan</td>\n",
       "      <td>Contract Source: Jeff Passan</td>\n",
       "      <td>Contract Source: Jeff Passan</td>\n",
       "      <td>Contract Source: Jeff Passan</td>\n",
       "      <td>Contract Source: Jeff Passan</td>\n",
       "      <td>Contract Source: Jeff Passan</td>\n",
       "      <td>Contract Source: Jeff Passan</td>\n",
       "      <td>Contract Source: Jeff Passan</td>\n",
       "      <td>Contract Source: Jeff Passan</td>\n",
       "      <td>Contract Source: Jeff Passan</td>\n",
       "      <td>...</td>\n",
       "      <td>NaN</td>\n",
       "      <td>NaN</td>\n",
       "      <td>NaN</td>\n",
       "      <td>NaN</td>\n",
       "      <td>NaN</td>\n",
       "      <td>NaN</td>\n",
       "      <td>NaN</td>\n",
       "      <td>NaN</td>\n",
       "      <td>NaN</td>\n",
       "      <td>NaN</td>\n",
       "    </tr>\n",
       "    <tr>\n",
       "      <th>0</th>\n",
       "      <td>2015</td>\n",
       "      <td>NaN</td>\n",
       "      <td>33</td>\n",
       "      <td>-</td>\n",
       "      <td>NaN</td>\n",
       "      <td>NaN</td>\n",
       "      <td>-</td>\n",
       "      <td>NaN</td>\n",
       "      <td>-($0)</td>\n",
       "      <td>NaN</td>\n",
       "      <td>...</td>\n",
       "      <td>NaN</td>\n",
       "      <td>NaN</td>\n",
       "      <td>NaN</td>\n",
       "      <td>NaN</td>\n",
       "      <td>NaN</td>\n",
       "      <td>NaN</td>\n",
       "      <td>NaN</td>\n",
       "      <td>NaN</td>\n",
       "      <td>NaN</td>\n",
       "      <td>NaN</td>\n",
       "    </tr>\n",
       "  </tbody>\n",
       "</table>\n",
       "<p>5 rows × 23 columns</p>\n",
       "</div>"
      ],
      "text/plain": [
       "                                                Year  \\\n",
       "0                                               2016   \n",
       "1                                               2017   \n",
       "2  Contract Notes:Plate Appearances$250,000 each ...   \n",
       "3                       Contract Source: Jeff Passan   \n",
       "0                                               2015   \n",
       "\n",
       "                                          Unnamed: 1  \\\n",
       "0                                                NaN   \n",
       "1                                                NaN   \n",
       "2  Contract Notes:Plate Appearances$250,000 each ...   \n",
       "3                       Contract Source: Jeff Passan   \n",
       "0                                                NaN   \n",
       "\n",
       "                                                 Age  \\\n",
       "0                                                 34   \n",
       "1                                                 35   \n",
       "2  Contract Notes:Plate Appearances$250,000 each ...   \n",
       "3                       Contract Source: Jeff Passan   \n",
       "0                                                 33   \n",
       "\n",
       "                                         Base Salary  \\\n",
       "0                                         $2,000,000   \n",
       "1                                                UFA   \n",
       "2  Contract Notes:Plate Appearances$250,000 each ...   \n",
       "3                       Contract Source: Jeff Passan   \n",
       "0                                                  -   \n",
       "\n",
       "                                           Incentive  \\\n",
       "0                                           $250,000   \n",
       "1                                                NaN   \n",
       "2  Contract Notes:Plate Appearances$250,000 each ...   \n",
       "3                       Contract Source: Jeff Passan   \n",
       "0                                                NaN   \n",
       "\n",
       "                                   Luxury Tax Salary  \\\n",
       "0                                                NaN   \n",
       "1                                                NaN   \n",
       "2  Contract Notes:Plate Appearances$250,000 each ...   \n",
       "3                       Contract Source: Jeff Passan   \n",
       "0                                                NaN   \n",
       "\n",
       "                                      Payroll Salary  \\\n",
       "0                                         $2,250,000   \n",
       "1                                                NaN   \n",
       "2  Contract Notes:Plate Appearances$250,000 each ...   \n",
       "3                       Contract Source: Jeff Passan   \n",
       "0                                                  -   \n",
       "\n",
       "                                     Adjusted Salary  \\\n",
       "0                                         $1,528,693   \n",
       "1                                                NaN   \n",
       "2  Contract Notes:Plate Appearances$250,000 each ...   \n",
       "3                       Contract Source: Jeff Passan   \n",
       "0                                                NaN   \n",
       "\n",
       "                                         Yearly Cash  \\\n",
       "0                             $1,528,693($1,528,693)   \n",
       "1                                                NaN   \n",
       "2  Contract Notes:Plate Appearances$250,000 each ...   \n",
       "3                       Contract Source: Jeff Passan   \n",
       "0                                              -($0)   \n",
       "\n",
       "                                          Unnamed: 9  ...    0    1  \\\n",
       "0                                                NaN  ...  NaN  NaN   \n",
       "1                                                NaN  ...  NaN  NaN   \n",
       "2  Contract Notes:Plate Appearances$250,000 each ...  ...  NaN  NaN   \n",
       "3                       Contract Source: Jeff Passan  ...  NaN  NaN   \n",
       "0                                                NaN  ...  NaN  NaN   \n",
       "\n",
       "  Signing Bonus Status Unnamed: 11 Unnamed: 0 Total Salary  Unnamed: 5  \\\n",
       "0           NaN    NaN         NaN        NaN          NaN         NaN   \n",
       "1           NaN    NaN         NaN        NaN          NaN         NaN   \n",
       "2           NaN    NaN         NaN        NaN          NaN         NaN   \n",
       "3           NaN    NaN         NaN        NaN          NaN         NaN   \n",
       "0           NaN    NaN         NaN        NaN          NaN         NaN   \n",
       "\n",
       "  Unnamed: 6 Unnamed: 7  \n",
       "0        NaN        NaN  \n",
       "1        NaN        NaN  \n",
       "2        NaN        NaN  \n",
       "3        NaN        NaN  \n",
       "0        NaN        NaN  \n",
       "\n",
       "[5 rows x 23 columns]"
      ]
     },
     "execution_count": 33,
     "metadata": {},
     "output_type": "execute_result"
    }
   ],
   "source": [
    "CurentContract_df.head()"
   ]
  },
  {
   "cell_type": "code",
   "execution_count": 34,
   "metadata": {},
   "outputs": [
    {
     "name": "stdout",
     "output_type": "stream",
     "text": [
      " ==輸出備份csv==::: CurentContract_df_20210826_12.57.41.csv\n"
     ]
    }
   ],
   "source": [
    "formtoCsv(CurentContract_df, \"CurentContract_df\")"
   ]
  },
  {
   "cell_type": "code",
   "execution_count": null,
   "metadata": {},
   "outputs": [],
   "source": []
  },
  {
   "cell_type": "code",
   "execution_count": 24,
   "metadata": {},
   "outputs": [
    {
     "name": "stderr",
     "output_type": "stream",
     "text": [
      "100%|████████████████████████████████████████████████████████████████████████████| 1052/1052 [1:27:22<00:00,  4.98s/it]\n"
     ]
    }
   ],
   "source": [
    "WAR_df = pd.DataFrame()\n",
    "error_lst = []\n",
    "for player,url in tqdm(player_url_dict_pic.items()):\n",
    "    try:\n",
    "        _df = pd.read_html(url)[-1]\n",
    "        _df[\"player\"] = player\n",
    "        WAR_df = pd.concat([WAR_df,_df])\n",
    "    except:\n",
    "        error_lst.append(player)\n",
    "        pass"
   ]
  },
  {
   "cell_type": "code",
   "execution_count": 25,
   "metadata": {},
   "outputs": [
    {
     "name": "stdout",
     "output_type": "stream",
     "text": [
      "<class 'pandas.core.frame.DataFrame'>\n",
      "Int64Index: 8464 entries, 0 to 0\n",
      "Data columns (total 34 columns):\n",
      " #   Column                   Non-Null Count  Dtype  \n",
      "---  ------                   --------------  -----  \n",
      " 0   Season                   8281 non-null   object \n",
      " 1   Team                     7412 non-null   object \n",
      " 2   GP                       5501 non-null   float64\n",
      " 3   GS                       5501 non-null   float64\n",
      " 4   AB                       4139 non-null   float64\n",
      " 5   R                        8281 non-null   float64\n",
      " 6   H                        8281 non-null   float64\n",
      " 7   2B                       4139 non-null   float64\n",
      " 8   3B                       4139 non-null   float64\n",
      " 9   HR                       8281 non-null   float64\n",
      " 10  RBI                      4139 non-null   float64\n",
      " 11  BB                       8281 non-null   float64\n",
      " 12  SB                       4139 non-null   float64\n",
      " 13  K                        8281 non-null   float64\n",
      " 14  AVG                      4139 non-null   float64\n",
      " 15  OBP                      4139 non-null   float64\n",
      " 16  SLG                      4139 non-null   float64\n",
      " 17  OPS                      4139 non-null   float64\n",
      " 18  WAR                      8281 non-null   float64\n",
      " 19  player                   8464 non-null   object \n",
      " 20  IP                       4142 non-null   float64\n",
      " 21  ER                       4142 non-null   float64\n",
      " 22  W                        4142 non-null   float64\n",
      " 23  L                        4142 non-null   float64\n",
      " 24  S                        4142 non-null   float64\n",
      " 25  ERA                      4142 non-null   float64\n",
      " 26  WHIP                     4142 non-null   float64\n",
      " 27  Games                    2780 non-null   float64\n",
      " 28  Date                     3 non-null      object \n",
      " 29  Reason                   3 non-null      object \n",
      " 30  Days Missed              178 non-null    float64\n",
      " 31  Cash Paid While Injured  178 non-null    object \n",
      " 32  Terms                    5 non-null      object \n",
      " 33  Avg. Salary              5 non-null      float64\n",
      "dtypes: float64(27), object(7)\n",
      "memory usage: 2.3+ MB\n"
     ]
    }
   ],
   "source": [
    "WAR_df.info()"
   ]
  },
  {
   "cell_type": "code",
   "execution_count": 26,
   "metadata": {},
   "outputs": [
    {
     "name": "stdout",
     "output_type": "stream",
     "text": [
      " ==輸出備份csv==::: WAR_df_20210819_10.24.49.csv\n",
      " >>> 建立今天的工作區: 0819\n"
     ]
    }
   ],
   "source": [
    "formtoCsv(WAR_df, \"WAR_df\")"
   ]
  },
  {
   "cell_type": "code",
   "execution_count": null,
   "metadata": {},
   "outputs": [],
   "source": [
    "# 讀檔"
   ]
  },
  {
   "cell_type": "code",
   "execution_count": 27,
   "metadata": {},
   "outputs": [
    {
     "data": {
      "text/plain": [
       "0"
      ]
     },
     "execution_count": 27,
     "metadata": {},
     "output_type": "execute_result"
    }
   ],
   "source": [
    "len(error_lst)"
   ]
  },
  {
   "cell_type": "code",
   "execution_count": 30,
   "metadata": {},
   "outputs": [
    {
     "data": {
      "text/html": [
       "<div>\n",
       "<style scoped>\n",
       "    .dataframe tbody tr th:only-of-type {\n",
       "        vertical-align: middle;\n",
       "    }\n",
       "\n",
       "    .dataframe tbody tr th {\n",
       "        vertical-align: top;\n",
       "    }\n",
       "\n",
       "    .dataframe thead th {\n",
       "        text-align: right;\n",
       "    }\n",
       "</style>\n",
       "<table border=\"1\" class=\"dataframe\">\n",
       "  <thead>\n",
       "    <tr style=\"text-align: right;\">\n",
       "      <th></th>\n",
       "      <th>Season</th>\n",
       "      <th>Team</th>\n",
       "      <th>GP</th>\n",
       "      <th>GS</th>\n",
       "      <th>AB</th>\n",
       "      <th>R</th>\n",
       "      <th>H</th>\n",
       "      <th>2B</th>\n",
       "      <th>3B</th>\n",
       "      <th>HR</th>\n",
       "      <th>RBI</th>\n",
       "      <th>BB</th>\n",
       "      <th>SB</th>\n",
       "      <th>K</th>\n",
       "      <th>AVG</th>\n",
       "      <th>OBP</th>\n",
       "      <th>SLG</th>\n",
       "      <th>OPS</th>\n",
       "      <th>WAR</th>\n",
       "      <th>player</th>\n",
       "    </tr>\n",
       "  </thead>\n",
       "  <tbody>\n",
       "    <tr>\n",
       "      <th>0</th>\n",
       "      <td>2016</td>\n",
       "      <td>ATL</td>\n",
       "      <td>131.0</td>\n",
       "      <td>67.0</td>\n",
       "      <td>304.0</td>\n",
       "      <td>25.0</td>\n",
       "      <td>75.0</td>\n",
       "      <td>14.0</td>\n",
       "      <td>0.0</td>\n",
       "      <td>10.0</td>\n",
       "      <td>34.0</td>\n",
       "      <td>25.0</td>\n",
       "      <td>4.0</td>\n",
       "      <td>65.0</td>\n",
       "      <td>0.247</td>\n",
       "      <td>0.306</td>\n",
       "      <td>0.391</td>\n",
       "      <td>0.697</td>\n",
       "      <td>-0.73</td>\n",
       "      <td>Kelly Johnson</td>\n",
       "    </tr>\n",
       "    <tr>\n",
       "      <th>1</th>\n",
       "      <td>2015</td>\n",
       "      <td>ATL</td>\n",
       "      <td>111.0</td>\n",
       "      <td>78.0</td>\n",
       "      <td>310.0</td>\n",
       "      <td>38.0</td>\n",
       "      <td>82.0</td>\n",
       "      <td>12.0</td>\n",
       "      <td>0.0</td>\n",
       "      <td>14.0</td>\n",
       "      <td>47.0</td>\n",
       "      <td>23.0</td>\n",
       "      <td>2.0</td>\n",
       "      <td>81.0</td>\n",
       "      <td>0.265</td>\n",
       "      <td>0.314</td>\n",
       "      <td>0.439</td>\n",
       "      <td>0.753</td>\n",
       "      <td>-0.04</td>\n",
       "      <td>Kelly Johnson</td>\n",
       "    </tr>\n",
       "    <tr>\n",
       "      <th>2</th>\n",
       "      <td>2014</td>\n",
       "      <td>NYY</td>\n",
       "      <td>106.0</td>\n",
       "      <td>75.0</td>\n",
       "      <td>265.0</td>\n",
       "      <td>29.0</td>\n",
       "      <td>57.0</td>\n",
       "      <td>14.0</td>\n",
       "      <td>2.0</td>\n",
       "      <td>7.0</td>\n",
       "      <td>27.0</td>\n",
       "      <td>29.0</td>\n",
       "      <td>2.0</td>\n",
       "      <td>71.0</td>\n",
       "      <td>0.215</td>\n",
       "      <td>0.296</td>\n",
       "      <td>0.362</td>\n",
       "      <td>0.658</td>\n",
       "      <td>-0.08</td>\n",
       "      <td>Kelly Johnson</td>\n",
       "    </tr>\n",
       "    <tr>\n",
       "      <th>3</th>\n",
       "      <td>2013</td>\n",
       "      <td>TB</td>\n",
       "      <td>118.0</td>\n",
       "      <td>96.0</td>\n",
       "      <td>366.0</td>\n",
       "      <td>41.0</td>\n",
       "      <td>86.0</td>\n",
       "      <td>12.0</td>\n",
       "      <td>2.0</td>\n",
       "      <td>16.0</td>\n",
       "      <td>52.0</td>\n",
       "      <td>35.0</td>\n",
       "      <td>7.0</td>\n",
       "      <td>99.0</td>\n",
       "      <td>0.235</td>\n",
       "      <td>0.305</td>\n",
       "      <td>0.410</td>\n",
       "      <td>0.715</td>\n",
       "      <td>1.33</td>\n",
       "      <td>Kelly Johnson</td>\n",
       "    </tr>\n",
       "    <tr>\n",
       "      <th>4</th>\n",
       "      <td>2012</td>\n",
       "      <td>TOR</td>\n",
       "      <td>142.0</td>\n",
       "      <td>136.0</td>\n",
       "      <td>507.0</td>\n",
       "      <td>61.0</td>\n",
       "      <td>114.0</td>\n",
       "      <td>19.0</td>\n",
       "      <td>2.0</td>\n",
       "      <td>16.0</td>\n",
       "      <td>55.0</td>\n",
       "      <td>62.0</td>\n",
       "      <td>14.0</td>\n",
       "      <td>159.0</td>\n",
       "      <td>0.225</td>\n",
       "      <td>0.313</td>\n",
       "      <td>0.365</td>\n",
       "      <td>0.678</td>\n",
       "      <td>1.81</td>\n",
       "      <td>Kelly Johnson</td>\n",
       "    </tr>\n",
       "  </tbody>\n",
       "</table>\n",
       "</div>"
      ],
      "text/plain": [
       "  Season Team     GP     GS     AB     R      H    2B   3B    HR   RBI    BB  \\\n",
       "0   2016  ATL  131.0   67.0  304.0  25.0   75.0  14.0  0.0  10.0  34.0  25.0   \n",
       "1   2015  ATL  111.0   78.0  310.0  38.0   82.0  12.0  0.0  14.0  47.0  23.0   \n",
       "2   2014  NYY  106.0   75.0  265.0  29.0   57.0  14.0  2.0   7.0  27.0  29.0   \n",
       "3   2013   TB  118.0   96.0  366.0  41.0   86.0  12.0  2.0  16.0  52.0  35.0   \n",
       "4   2012  TOR  142.0  136.0  507.0  61.0  114.0  19.0  2.0  16.0  55.0  62.0   \n",
       "\n",
       "     SB      K    AVG    OBP    SLG    OPS   WAR         player  \n",
       "0   4.0   65.0  0.247  0.306  0.391  0.697 -0.73  Kelly Johnson  \n",
       "1   2.0   81.0  0.265  0.314  0.439  0.753 -0.04  Kelly Johnson  \n",
       "2   2.0   71.0  0.215  0.296  0.362  0.658 -0.08  Kelly Johnson  \n",
       "3   7.0   99.0  0.235  0.305  0.410  0.715  1.33  Kelly Johnson  \n",
       "4  14.0  159.0  0.225  0.313  0.365  0.678  1.81  Kelly Johnson  "
      ]
     },
     "execution_count": 30,
     "metadata": {},
     "output_type": "execute_result"
    }
   ],
   "source": [
    "WAR_df.iloc[:,:20].head()"
   ]
  },
  {
   "cell_type": "code",
   "execution_count": null,
   "metadata": {},
   "outputs": [],
   "source": []
  }
 ],
 "metadata": {
  "kernelspec": {
   "display_name": "Python 3",
   "language": "python",
   "name": "python3"
  },
  "language_info": {
   "codemirror_mode": {
    "name": "ipython",
    "version": 3
   },
   "file_extension": ".py",
   "mimetype": "text/x-python",
   "name": "python",
   "nbconvert_exporter": "python",
   "pygments_lexer": "ipython3",
   "version": "3.8.3"
  },
  "toc-autonumbering": true,
  "toc-showmarkdowntxt": false
 },
 "nbformat": 4,
 "nbformat_minor": 4
}
