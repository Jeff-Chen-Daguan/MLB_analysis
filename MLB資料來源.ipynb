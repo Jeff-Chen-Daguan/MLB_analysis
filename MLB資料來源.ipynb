{
 "cells": [
  {
   "cell_type": "markdown",
   "metadata": {},
   "source": [
    "# MLB 資料來源 2021.01.25"
   ]
  },
  {
   "cell_type": "code",
   "execution_count": 1,
   "metadata": {},
   "outputs": [],
   "source": [
    "from polib.CsvEngn import *\n",
    "import glob\n",
    "import mlbgame"
   ]
  },
  {
   "cell_type": "markdown",
   "metadata": {},
   "source": [
    "## 1. Lahman_db"
   ]
  },
  {
   "cell_type": "markdown",
   "metadata": {},
   "source": [
    "有各球員、球隊、年度的表現、薪資、球員個人資訊、明星賽資訊\n",
    "- [說明網頁&下載點 (每年覆蓋整版)](http://www.seanlahman.com/baseball-archive/statistics/)\n",
    "- 存放位置: G:\\我的雲端硬碟\\learning\\論文今年會寫完\\0.資源包\\2.資料\\1.Lahman_db_2019"
   ]
  },
  {
   "cell_type": "markdown",
   "metadata": {},
   "source": [
    "> 2020的資料預計2021.02 會更新"
   ]
  },
  {
   "cell_type": "code",
   "execution_count": 57,
   "metadata": {},
   "outputs": [
    {
     "name": "stdout",
     "output_type": "stream",
     "text": [
      "AllstarFull.csv\n",
      "Appearances.csv\n",
      "AwardsManagers.csv\n",
      "AwardsPlayers.csv\n",
      "AwardsShareManagers.csv\n",
      "AwardsSharePlayers.csv\n",
      "Batting.csv\n",
      "BattingPost.csv\n",
      "CollegePlaying.csv\n",
      "Fielding.csv\n",
      "FieldingOF.csv\n",
      "FieldingOFsplit.csv\n",
      "FieldingPost.csv\n",
      "HallOfFame.csv\n",
      "HomeGames.csv\n",
      "Managers.csv\n",
      "ManagersHalf.csv\n",
      "Parks.csv\n",
      "People.csv\n",
      "Pitching.csv\n",
      "PitchingPost.csv\n",
      "Salaries.csv\n",
      "Schools.csv\n",
      "SeriesPost.csv\n",
      "Teams.csv\n",
      "TeamsFranchises.csv\n",
      "TeamsHalf.csv\n",
      "\n",
      ">> 有 27個檔案\n"
     ]
    }
   ],
   "source": [
    "path = r\"G:\\我的雲端硬碟\\learning\\論文今年會寫完\\0.資源包\\2.資料\\1.Lahman_db_2019\\core\\*\"\n",
    "n=0\n",
    "for g in glob.glob(path):\n",
    "    if g.split(\"\\\\\")[-1][-3:] == \"csv\":\n",
    "        print(g.split(\"\\\\\")[-1])\n",
    "        n = n+1\n",
    "print(f\"\\n>> 有 {n}個檔案\")"
   ]
  },
  {
   "cell_type": "markdown",
   "metadata": {},
   "source": [
    "## 2. baseball-reference"
   ]
  },
  {
   "cell_type": "markdown",
   "metadata": {},
   "source": [
    "有各年各球員的WAR數據，區分投、打\n",
    "- [說明網頁&下載點](https://www.baseball-reference.com/about/war_explained.shtml)\n",
    "- 存放位置: G:\\我的雲端硬碟\\learning\\論文今年會寫完\\0.資源包\\2.資料\\2.baseball_reference"
   ]
  },
  {
   "cell_type": "code",
   "execution_count": 17,
   "metadata": {},
   "outputs": [],
   "source": [
    "# war_bat_path =  \"https://www.baseball-reference.com/data/war_daily_bat.txt\"\n",
    "# war_pitch_path =  \"https://www.baseball-reference.com/data/war_daily_pitch.txt\"\n",
    "\n",
    "# war_bat_df = pd.read_csv(war_bat_path)\n",
    "# war_pitch_df = pd.read_csv(war_pitch_path)"
   ]
  },
  {
   "cell_type": "code",
   "execution_count": 6,
   "metadata": {},
   "outputs": [
    {
     "name": "stdout",
     "output_type": "stream",
     "text": [
      "<class 'pandas.core.frame.DataFrame'>\n",
      "RangeIndex: 108014 entries, 0 to 108013\n",
      "Data columns (total 49 columns):\n",
      "name_common           108014 non-null object\n",
      "age                   107865 non-null float64\n",
      "mlb_ID                107966 non-null float64\n",
      "player_ID             108014 non-null object\n",
      "year_ID               108014 non-null int64\n",
      "team_ID               108014 non-null object\n",
      "stint_ID              108014 non-null int64\n",
      "lg_ID                 107278 non-null object\n",
      "PA                    108014 non-null int64\n",
      "G                     108014 non-null int64\n",
      "Inn                   71758 non-null float64\n",
      "runs_bat              108014 non-null float64\n",
      "runs_br               108014 non-null float64\n",
      "runs_dp               108014 non-null float64\n",
      "runs_field            108014 non-null float64\n",
      "runs_infield          71758 non-null float64\n",
      "runs_outfield         71758 non-null float64\n",
      "runs_catcher          71758 non-null float64\n",
      "runs_good_plays       24766 non-null float64\n",
      "runs_defense          108014 non-null float64\n",
      "runs_position         108014 non-null float64\n",
      "runs_position_p       108014 non-null float64\n",
      "runs_replacement      108014 non-null float64\n",
      "runs_above_rep        108014 non-null float64\n",
      "runs_above_avg        108014 non-null float64\n",
      "runs_above_avg_off    108014 non-null float64\n",
      "runs_above_avg_def    108014 non-null float64\n",
      "WAA                   100212 non-null float64\n",
      "WAA_off               100212 non-null float64\n",
      "WAA_def               100212 non-null float64\n",
      "WAR                   100212 non-null float64\n",
      "WAR_def               100212 non-null float64\n",
      "WAR_off               100212 non-null float64\n",
      "WAR_rep               100212 non-null float64\n",
      "salary                40877 non-null float64\n",
      "pitcher               108014 non-null object\n",
      "teamRpG               100212 non-null float64\n",
      "oppRpG                108014 non-null float64\n",
      "oppRpPA_rep           108014 non-null float64\n",
      "oppRpG_rep            100212 non-null float64\n",
      "pyth_exponent         100212 non-null float64\n",
      "pyth_exponent_rep     100212 non-null float64\n",
      "waa_win_perc          100212 non-null float64\n",
      "waa_win_perc_off      100212 non-null float64\n",
      "waa_win_perc_def      100212 non-null float64\n",
      "waa_win_perc_rep      100212 non-null float64\n",
      "OPS_plus              91135 non-null float64\n",
      "TOB_lg                108014 non-null float64\n",
      "TB_lg                 108014 non-null float64\n",
      "dtypes: float64(40), int64(4), object(5)\n",
      "memory usage: 40.4+ MB\n"
     ]
    }
   ],
   "source": [
    "war_bat_df.info()"
   ]
  },
  {
   "cell_type": "code",
   "execution_count": 18,
   "metadata": {},
   "outputs": [
    {
     "name": "stdout",
     "output_type": "stream",
     "text": [
      "<class 'pandas.core.frame.DataFrame'>\n",
      "RangeIndex: 48477 entries, 0 to 48476\n",
      "Data columns (total 43 columns):\n",
      "name_common              48477 non-null object\n",
      "age                      48446 non-null float64\n",
      "mlb_ID                   48461 non-null float64\n",
      "player_ID                48477 non-null object\n",
      "year_ID                  48477 non-null int64\n",
      "team_ID                  48477 non-null object\n",
      "stint_ID                 48477 non-null int64\n",
      "lg_ID                    48341 non-null object\n",
      "G                        48477 non-null int64\n",
      "GS                       48477 non-null int64\n",
      "IPouts                   48477 non-null int64\n",
      "IPouts_start             45189 non-null float64\n",
      "IPouts_relief            45189 non-null float64\n",
      "RA                       48477 non-null int64\n",
      "xRA                      48477 non-null float64\n",
      "xRA_sprp_adj             48282 non-null float64\n",
      "xRA_extras_adj           770 non-null float64\n",
      "xRA_def_pitcher          48477 non-null float64\n",
      "PPF                      48477 non-null int64\n",
      "PPF_custom               45104 non-null float64\n",
      "xRA_final                48282 non-null float64\n",
      "BIP                      48477 non-null int64\n",
      "BIP_perc                 48477 non-null float64\n",
      "RS_def_total             48477 non-null float64\n",
      "runs_above_avg           48282 non-null float64\n",
      "runs_above_avg_adj       48282 non-null float64\n",
      "runs_above_rep           48282 non-null float64\n",
      "RpO_replacement          48477 non-null float64\n",
      "GR_leverage_index_avg    48477 non-null float64\n",
      "WAR                      48282 non-null float64\n",
      "salary                   18602 non-null float64\n",
      "teamRpG                  48477 non-null float64\n",
      "oppRpG                   48282 non-null float64\n",
      "pyth_exponent            48282 non-null float64\n",
      "waa_win_perc             48282 non-null float64\n",
      "WAA                      48282 non-null float64\n",
      "WAA_adj                  48477 non-null float64\n",
      "oppRpG_rep               48381 non-null float64\n",
      "pyth_exponent_rep        48381 non-null float64\n",
      "waa_win_perc_rep         48381 non-null float64\n",
      "WAR_rep                  48393 non-null float64\n",
      "ERA_plus                 47018 non-null float64\n",
      "ER_lg                    48477 non-null float64\n",
      "dtypes: float64(31), int64(8), object(4)\n",
      "memory usage: 15.9+ MB\n"
     ]
    }
   ],
   "source": [
    "war_pitch_df.info()"
   ]
  },
  {
   "cell_type": "code",
   "execution_count": 19,
   "metadata": {},
   "outputs": [],
   "source": [
    "# 挑選2000~2020之間的資料\n",
    "mask_bat = war_bat_df['year_ID'].isin([year for year in range(2000,2020+1)])\n",
    "war_bat_df[mask_bat].reset_index(drop=True, inplace=True)\n",
    "\n",
    "mask_pitch = war_pitch_df['year_ID'].isin([year for year in range(2000,2020+1)])\n",
    "war_pitch_df[mask_pitch].reset_index(drop=True, inplace=True)"
   ]
  },
  {
   "cell_type": "code",
   "execution_count": 20,
   "metadata": {},
   "outputs": [
    {
     "name": "stdout",
     "output_type": "stream",
     "text": [
      " ==輸出備份csv==::: WAR_pitch_2000to2020_20210125_10.54.38.csv\n"
     ]
    }
   ],
   "source": [
    "# # 輸出\n",
    "# formtoCsv(war_bat_df, \"WAR_bat_2000to2020\")\n",
    "# formtoCsv(war_pitch_df, \"WAR_pitch_2000to2020\")"
   ]
  },
  {
   "cell_type": "code",
   "execution_count": null,
   "metadata": {},
   "outputs": [],
   "source": []
  },
  {
   "cell_type": "markdown",
   "metadata": {},
   "source": [
    "## 3. Pro Sports Transactions "
   ]
  },
  {
   "cell_type": "markdown",
   "metadata": {},
   "source": [
    "有每日各全隊的球員交易資訊、傷兵消息、合約消息\n",
    "- [查詢網站](http://www.prosportstransactions.com/baseball/Search/Search.php)\n",
    "- [爬蟲程式](https://drive.google.com/open?id=11TZgYE75_sXsnOyHeUEJJoffdQ7xY7VO&authuser=ap105424002%40g.ncu.edu.tw&usp=drive_fs)\n",
    "- 存放位置 : G:\\我的雲端硬碟\\learning\\論文今年會寫完\\0.資源包\\2.資料\\3.ProSportsTransactions\\rawdata"
   ]
  },
  {
   "cell_type": "markdown",
   "metadata": {},
   "source": [
    ">TODO: 還需要對Notes 做進一步的分類處理 "
   ]
  },
  {
   "cell_type": "code",
   "execution_count": 32,
   "metadata": {},
   "outputs": [],
   "source": [
    "pst_path = r\"G:\\我的雲端硬碟\\learning\\論文今年會寫完\\0.資源包\\2.資料\\3.ProSportsTransactions\\rawdata\\MLB合約資料(每日)_2000年_20210119_09.35.27.pkl\""
   ]
  },
  {
   "cell_type": "code",
   "execution_count": 33,
   "metadata": {},
   "outputs": [
    {
     "name": "stdout",
     "output_type": "stream",
     "text": [
      "  >> 讀取:: G:\\我的雲端硬碟\\learning\\論文今年會寫完\\0.資源包\\2.資料\\3.ProSportsTransactions\\rawdata\\MLB合約資料(每日)_2000年_20210119_09.35.27.pkl\n"
     ]
    }
   ],
   "source": [
    "pst_df = read_data_dir_fPathExt(pst_path)"
   ]
  },
  {
   "cell_type": "code",
   "execution_count": 34,
   "metadata": {},
   "outputs": [
    {
     "data": {
      "text/html": [
       "<div>\n",
       "<style scoped>\n",
       "    .dataframe tbody tr th:only-of-type {\n",
       "        vertical-align: middle;\n",
       "    }\n",
       "\n",
       "    .dataframe tbody tr th {\n",
       "        vertical-align: top;\n",
       "    }\n",
       "\n",
       "    .dataframe thead th {\n",
       "        text-align: right;\n",
       "    }\n",
       "</style>\n",
       "<table border=\"1\" class=\"dataframe\">\n",
       "  <thead>\n",
       "    <tr style=\"text-align: right;\">\n",
       "      <th></th>\n",
       "      <th>Date</th>\n",
       "      <th>Team</th>\n",
       "      <th>Acquired</th>\n",
       "      <th>Relinquished</th>\n",
       "      <th>Notes</th>\n",
       "    </tr>\n",
       "  </thead>\n",
       "  <tbody>\n",
       "    <tr>\n",
       "      <th>0</th>\n",
       "      <td>2000-01-01</td>\n",
       "      <td>Braves</td>\n",
       "      <td>• Brayan Pena</td>\n",
       "      <td>NaN</td>\n",
       "      <td>signed free agent (N)</td>\n",
       "    </tr>\n",
       "    <tr>\n",
       "      <th>1</th>\n",
       "      <td>2000-01-01</td>\n",
       "      <td>Red Sox</td>\n",
       "      <td>• Ron Johnson (David)</td>\n",
       "      <td>NaN</td>\n",
       "      <td>hired as A manager (date approximate)</td>\n",
       "    </tr>\n",
       "    <tr>\n",
       "      <th>2</th>\n",
       "      <td>2000-01-01</td>\n",
       "      <td>Royals</td>\n",
       "      <td>• Jaime Garcia (a)</td>\n",
       "      <td>NaN</td>\n",
       "      <td>(minor league) coach</td>\n",
       "    </tr>\n",
       "    <tr>\n",
       "      <th>3</th>\n",
       "      <td>2000-01-01</td>\n",
       "      <td>White Sox</td>\n",
       "      <td>• Mike Shirley</td>\n",
       "      <td>NaN</td>\n",
       "      <td>hired as part-time area scout (date spproximate)</td>\n",
       "    </tr>\n",
       "    <tr>\n",
       "      <th>4</th>\n",
       "      <td>2000-01-03</td>\n",
       "      <td>Brewers</td>\n",
       "      <td>• Jose Fernandez (Mayobanex)</td>\n",
       "      <td>NaN</td>\n",
       "      <td>signed free agent</td>\n",
       "    </tr>\n",
       "  </tbody>\n",
       "</table>\n",
       "</div>"
      ],
      "text/plain": [
       "         Date       Team                      Acquired Relinquished  \\\n",
       "0  2000-01-01     Braves                 • Brayan Pena          NaN   \n",
       "1  2000-01-01    Red Sox         • Ron Johnson (David)          NaN   \n",
       "2  2000-01-01     Royals            • Jaime Garcia (a)          NaN   \n",
       "3  2000-01-01  White Sox                • Mike Shirley          NaN   \n",
       "4  2000-01-03    Brewers  • Jose Fernandez (Mayobanex)          NaN   \n",
       "\n",
       "                                              Notes  \n",
       "0                             signed free agent (N)  \n",
       "1             hired as A manager (date approximate)  \n",
       "2                              (minor league) coach  \n",
       "3  hired as part-time area scout (date spproximate)  \n",
       "4                                 signed free agent  "
      ]
     },
     "execution_count": 34,
     "metadata": {},
     "output_type": "execute_result"
    }
   ],
   "source": [
    "pst_df.head()"
   ]
  },
  {
   "cell_type": "code",
   "execution_count": 39,
   "metadata": {},
   "outputs": [
    {
     "data": {
      "text/plain": [
       "signed free agent                                                                                  130\n",
       "player became a free agent                                                                         116\n",
       "assigned to minor league camp                                                                       91\n",
       "assigned to AAA                                                                                     78\n",
       "released                                                                                            71\n",
       "                                                                                                  ... \n",
       "2000 MLB draft 40th round pick (#1193 overall)                                                       1\n",
       "2000 MLB draft fourth round pick (#126 overall)                                                      1\n",
       "2000 MLB draft 23rd round pick (#692 overall)                                                        1\n",
       "2000 MLB draft eleventh round pick (#340 overall)                                                    1\n",
       "received from Blue Jays as player to be named later in earlier trade involving Mickey Morandini      1\n",
       "Name: Notes, Length: 1848, dtype: int64"
      ]
     },
     "execution_count": 39,
     "metadata": {},
     "output_type": "execute_result"
    }
   ],
   "source": [
    "pst_df['Notes'].value_counts() "
   ]
  },
  {
   "cell_type": "code",
   "execution_count": 36,
   "metadata": {},
   "outputs": [
    {
     "data": {
      "text/plain": [
       "signed free agent                                                                         130\n",
       "player became a free agent                                                                116\n",
       "signed non-drafted free agent                                                              51\n",
       "signed free agent to a minor league contract                                               13\n",
       "player refused minor league assignment and became a free agent                              8\n",
       "re-signed free agent                                                                        4\n",
       "signed undrafted free agent                                                                 4\n",
       "re-signed free agent to a minor league contract                                             2\n",
       "team declined to exercise contract option, making player a free agent                       2\n",
       "signed free agent to a 3-year contract through 2003 with a 1-year team option for 2004      2\n",
       "received from Devil Rays as compensation for free agent Steve Trachsel                      1\n",
       "received from MLB as compensation for free agent Mike Mussina                               1\n",
       "sent to Red Sox as compensation for free agent Rheal Cormier                                1\n",
       "player exercised option to become a free agent                                              1\n",
       "signed free agent to a 1-year contract                                                      1\n",
       "received from Indians as compensation for free agent Ellis Burks                            1\n",
       "cleared waivers and became a free agent                                                     1\n",
       "sent to Cardinals as compensation for free agent Darren Oliver                              1\n",
       "signed free agent to a 2-year contract                                                      1\n",
       "signed free agent (from Royals) to a 1-year contract                                        1\n",
       "re-signed free agent to a 1-year contract                                                   1\n",
       "signed non-drafted free agent to a minor league contract                                    1\n",
       "received from Yankees as compensation for free agent Mike Mussina                           1\n",
       "signed free agent (from Mariners) to a 1-year contract                                      1\n",
       "received from Phillies as compensation for free agent Rheal Cormier                         1\n",
       "signed free agent (from Yankees) to a 1-year contract                                       1\n",
       "received from MLB as compensation for free agent Ellis Burks                                1\n",
       "team declined to tender contract, making player a free agent                                1\n",
       "signed free agent (N)                                                                       1\n",
       "received from MLB as compensation for free agent Aaron Sele                                 1\n",
       "signed as a free agent by Independent Adirondack (Northern)                                 1\n",
       "received from MLB as compensation for free agent Julian Tavarez                             1\n",
       "sent to Mariners as compensation for free agent Jose Mesa (R.N.)                            1\n",
       "received from Rangers as compensation for free agent Darren Oliver                          1\n",
       "received from Devil Rays as compensation for free agent Juan Guzman (Andres)                1\n",
       "sent to Orioles as compensation for free agent Mike Mussina                                 1\n",
       "received from Mariners as compensation for free agent Aaron Sele                            1\n",
       "signed free agent to a 4-year contract                                                      1\n",
       "received from MLB as compensation for free agent Juan Guzman (Andres)                       1\n",
       "sent to Reds as compensation for free agent Juan Guzman (Andres)                            1\n",
       "received from Phillies as compensation for free agent Jose Mesa (R.N.)                      1\n",
       "re-signed free agent to a 3-year contract with team option for 2004                         1\n",
       "sent to Cubs as compensation for free agent Steve Trachsel                                  1\n",
       "sent to Rangers as compensation for free agent Aaron Sele                                   1\n",
       "signed free agent to a 6-year contract                                                      1\n",
       "sent to Giants as compensation for free agent Ellis Burks                                   1\n",
       "Name: Notes, dtype: int64"
      ]
     },
     "execution_count": 36,
     "metadata": {},
     "output_type": "execute_result"
    }
   ],
   "source": [
    "# Note 提到 free agent\n",
    "mask = pst_df['Notes'].str.contains(\"free agent\")\n",
    "pst_df.loc[mask, 'Notes'].value_counts() "
   ]
  },
  {
   "cell_type": "code",
   "execution_count": 40,
   "metadata": {},
   "outputs": [
    {
     "data": {
      "text/plain": [
       "released                                  71\n",
       "released (team bought out contract)        1\n",
       "released (date 11-27 per some sources)     1\n",
       "Name: Notes, dtype: int64"
      ]
     },
     "execution_count": 40,
     "metadata": {},
     "output_type": "execute_result"
    }
   ],
   "source": [
    "# Note 提到 released\n",
    "mask = pst_df['Notes'].str.contains(\"released\")\n",
    "pst_df.loc[mask, 'Notes'].value_counts()"
   ]
  },
  {
   "cell_type": "code",
   "execution_count": 38,
   "metadata": {},
   "outputs": [
    {
     "data": {
      "text/plain": [
       "signed to a minor league contract                                  63\n",
       "signed to a 1-year contract                                        34\n",
       "re-signed to a 1-year contract                                     18\n",
       "signed free agent to a minor league contract                       13\n",
       "team exercised contract option for 2001                             8\n",
       "                                                                   ..\n",
       "re-signed to a 4-year contract                                      1\n",
       "team exercised contract option for 01                               1\n",
       "re-signed as manager to a 2-year contract                           1\n",
       "signed to a 1-year contract extension with team option for 2003     1\n",
       "re-signed as manager to a 1-year contract extension                 1\n",
       "Name: Notes, Length: 69, dtype: int64"
      ]
     },
     "execution_count": 38,
     "metadata": {},
     "output_type": "execute_result"
    }
   ],
   "source": [
    "# Note 提到 contract\n",
    "mask = pst_df['Notes'].str.contains(\"contract\")\n",
    "pst_df.loc[mask, 'Notes'].value_counts() "
   ]
  },
  {
   "cell_type": "markdown",
   "metadata": {},
   "source": []
  },
  {
   "cell_type": "markdown",
   "metadata": {},
   "source": [
    "## 4. retrosheet gamelog"
   ]
  },
  {
   "cell_type": "markdown",
   "metadata": {},
   "source": [
    "有每場比賽的詳細消息:出賽球員、總計投打結果、每局得分，區分主客隊\n",
    "- [說明網頁&下載點](https://www.retrosheet.org/gamelogs/index.html)\n",
    "- 存放位置: G:\\我的雲端硬碟\\learning\\論文今年會寫完\\0.資源包\\2.資料\\4.retrosheet_gamelog"
   ]
  },
  {
   "cell_type": "code",
   "execution_count": 24,
   "metadata": {},
   "outputs": [
    {
     "name": "stdout",
     "output_type": "stream",
     "text": [
      "  >> 讀取:: G:\\我的雲端硬碟\\learning\\論文今年會寫完\\0.資源包\\2.資料\\4.retrosheet_gamelog\\game_logs.csv\n"
     ]
    },
    {
     "name": "stderr",
     "output_type": "stream",
     "text": [
      "C:\\Users\\EMCT_Jeff\\anaconda3\\lib\\site-packages\\IPython\\core\\interactiveshell.py:3263: DtypeWarning: Columns (12,13,14,15,19,20,81,83,85,87,93,94,95,96,97,98,99,100,105,106,108,109,111,112,114,115,117,118,120,121,123,124,126,127,129,130,132,133,135,136,138,139,141,142,144,145,147,148,150,151,153,154,156,157,160) have mixed types. Specify dtype option on import or set low_memory=False.\n",
      "  if (await self.run_code(code, result,  async_=asy)):\n"
     ]
    }
   ],
   "source": [
    "path = r\"G:\\我的雲端硬碟\\learning\\論文今年會寫完\\0.資源包\\2.資料\\4.retrosheet_gamelog\\game_logs.csv\"\n",
    "retrosheet_game_log_df = read_data_dir_fPathExt(path)"
   ]
  },
  {
   "cell_type": "code",
   "execution_count": 30,
   "metadata": {},
   "outputs": [
    {
     "data": {
      "text/plain": [
       "{'date': 18710504,\n",
       " 'number_of_game': 0,\n",
       " 'day_of_week': 'Thu',\n",
       " 'v_name': 'CL1',\n",
       " 'v_league': 'na',\n",
       " 'v_game_number': 1,\n",
       " 'h_name': 'FW1',\n",
       " 'h_league': 'na',\n",
       " 'h_game_number': 1,\n",
       " 'v_score': 0,\n",
       " 'h_score': 2,\n",
       " 'length_outs': 54.0,\n",
       " 'day_night': 'D',\n",
       " 'completion': nan,\n",
       " 'forefeit': nan,\n",
       " 'protest': nan,\n",
       " 'park_id': 'FOR01',\n",
       " 'attendance': 200.0,\n",
       " 'length_minutes': 120.0,\n",
       " 'v_line_score': '000000000',\n",
       " 'h_line_score': '010010000',\n",
       " 'v_at_bats': 30.0,\n",
       " 'v_hits': 4.0,\n",
       " 'v_doubles': 1.0,\n",
       " 'v_triples': 0.0,\n",
       " 'v_homeruns': 0.0,\n",
       " 'v_rbi': 0.0,\n",
       " 'v_sacrifice_hits': 0.0,\n",
       " 'v_sacrifice_flies': 0.0,\n",
       " 'v_hit_by_pitch': 0.0,\n",
       " 'v_walks': 1.0,\n",
       " 'v_intentional walks': -1.0,\n",
       " 'v_strikeouts': 6.0,\n",
       " 'v_stolen_bases': 1.0,\n",
       " 'v_caught_stealing': -1.0,\n",
       " 'v_grounded_into_double': -1.0,\n",
       " 'v_first_catcher_interference': -1.0,\n",
       " 'v_left_on_base': 4.0,\n",
       " 'v_pitchers_used': 1.0,\n",
       " 'v_individual_earned_runs': 1.0,\n",
       " 'v_team_earned_runs': 1.0,\n",
       " 'v_wild_pitches': 0.0,\n",
       " 'v_balks': 0.0,\n",
       " 'v_putouts': 27.0,\n",
       " 'v_assists': 9.0,\n",
       " 'v_errors': 0.0,\n",
       " 'v_passed_balls': 3.0,\n",
       " 'v_double_plays': 0.0,\n",
       " 'v_triple_plays': 0.0,\n",
       " 'h_at_bats': 31.0,\n",
       " 'h_hits': 4.0,\n",
       " 'h_doubles': 1.0,\n",
       " 'h_triples': 0.0,\n",
       " 'h_homeruns': 0.0,\n",
       " 'h_rbi': 2.0,\n",
       " 'h_sacrifice_hits': 0.0,\n",
       " 'h_sacrifice_flies': 0.0,\n",
       " 'h_hit_by_pitch': 0.0,\n",
       " 'h_walks': 1.0,\n",
       " 'h_intentional walks': -1.0,\n",
       " 'h_strikeouts': 0.0,\n",
       " 'h_stolen_bases': 0.0,\n",
       " 'h_caught_stealing': -1.0,\n",
       " 'h_grounded_into_double': -1.0,\n",
       " 'h_first_catcher_interference': -1.0,\n",
       " 'h_left_on_base': 3.0,\n",
       " 'h_pitchers_used': 1.0,\n",
       " 'h_individual_earned_runs': 0.0,\n",
       " 'h_team_earned_runs': 0.0,\n",
       " 'h_wild_pitches': 0.0,\n",
       " 'h_balks': 0.0,\n",
       " 'h_putouts': 27.0,\n",
       " 'h_assists': 3.0,\n",
       " 'h_errors': 3.0,\n",
       " 'h_passed_balls': 1.0,\n",
       " 'h_double_plays': 1.0,\n",
       " 'h_triple_plays': 0.0,\n",
       " 'hp_umpire_id': 'boakj901',\n",
       " 'hp_umpire_name': 'John Boake',\n",
       " '1b_umpire_id': nan,\n",
       " '1b_umpire_name': '(none)',\n",
       " '2b_umpire_id': nan,\n",
       " '2b_umpire_name': '(none)',\n",
       " '3b_umpire_id': nan,\n",
       " '3b_umpire_name': '(none)',\n",
       " 'lf_umpire_id': nan,\n",
       " 'lf_umpire_name': '(none)',\n",
       " 'rf_umpire_id': nan,\n",
       " 'rf_umpire_name': '(none)',\n",
       " 'v_manager_id': 'paboc101',\n",
       " 'v_manager_name': 'Charlie Pabor',\n",
       " 'h_manager_id': 'lennb101',\n",
       " 'h_manager_name': 'Bill Lennon',\n",
       " 'winning_pitcher_id': 'mathb101',\n",
       " 'winning_pitcher_name': 'Bobby Mathews',\n",
       " 'losing_pitcher_id': 'prata101',\n",
       " 'losing_pitcher_name': 'Al Pratt',\n",
       " 'saving_pitcher_id': nan,\n",
       " 'saving_pitcher_name': '(none)',\n",
       " 'winning_rbi_batter_id': nan,\n",
       " 'winning_rbi_batter_id_name': '(none)',\n",
       " 'v_starting_pitcher_id': 'prata101',\n",
       " 'v_starting_pitcher_name': 'Al Pratt',\n",
       " 'h_starting_pitcher_id': 'mathb101',\n",
       " 'h_starting_pitcher_name': 'Bobby Mathews',\n",
       " 'v_player_1_id': 'whitd102',\n",
       " 'v_player_1_name': 'Deacon White',\n",
       " 'v_player_1_def_pos': 2.0,\n",
       " 'v_player_2_id': 'kimbg101',\n",
       " 'v_player_2_name': 'Gene Kimball',\n",
       " 'v_player_2_def_pos': 4.0,\n",
       " 'v_player_3_id': 'paboc101',\n",
       " 'v_player_3_name': 'Charlie Pabor',\n",
       " 'v_player_3_def_pos': 7.0,\n",
       " 'v_player_4_id': 'allia101',\n",
       " 'v_player_4_name': 'Art Allison',\n",
       " 'v_player_4_def_pos': 8.0,\n",
       " 'v_player_5_id': 'white104',\n",
       " 'v_player_5_name': 'Elmer White',\n",
       " 'v_player_5_def_pos': 9.0,\n",
       " 'v_player_6_id': 'prata101',\n",
       " 'v_player_6_name': 'Al Pratt',\n",
       " 'v_player_6_def_pos': 1.0,\n",
       " 'v_player_7_id': 'sutte101',\n",
       " 'v_player_7_name': 'Ezra Sutton',\n",
       " 'v_player_7_def_pos': 5.0,\n",
       " 'v_player_8_id': 'carlj102',\n",
       " 'v_player_8_name': 'Jim Carleton',\n",
       " 'v_player_8_def_pos': 3.0,\n",
       " 'v_player_9_id': 'bassj101',\n",
       " 'v_player_9_name': 'John Bass',\n",
       " 'v_player_9_def_pos': 6.0,\n",
       " 'h_player_1_id': 'selmf101',\n",
       " 'h_player_1_name': 'Frank Sellman',\n",
       " 'h_player_1_def_pos': 5.0,\n",
       " 'h_player_2_id': 'mathb101',\n",
       " 'h_player_2_name': 'Bobby Mathews',\n",
       " 'h_player_2_def_pos': 1.0,\n",
       " 'h_player_3_id': 'foraj101',\n",
       " 'h_player_3_name': 'Jim Foran',\n",
       " 'h_player_3_def_pos': 3.0,\n",
       " 'h_player_4_id': 'goldw101',\n",
       " 'h_player_4_name': 'Wally Goldsmith',\n",
       " 'h_player_4_def_pos': 6.0,\n",
       " 'h_player_5_id': 'lennb101',\n",
       " 'h_player_5_name': 'Bill Lennon',\n",
       " 'h_player_5_def_pos': 2.0,\n",
       " 'h_player_6_id': 'caret101',\n",
       " 'h_player_6_name': 'Tom Carey',\n",
       " 'h_player_6_def_pos': 4.0,\n",
       " 'h_player_7_id': 'mince101',\n",
       " 'h_player_7_name': 'Ed Mincher',\n",
       " 'h_player_7_def_pos': 7.0,\n",
       " 'h_player_8_id': 'mcdej101',\n",
       " 'h_player_8_name': 'James McDermott',\n",
       " 'h_player_8_def_pos': 8.0,\n",
       " 'h_player_9_id': 'kellb105',\n",
       " 'h_player_9_name': 'Bill Kelly',\n",
       " 'h_player_9_def_pos': 9.0,\n",
       " 'additional_info': nan,\n",
       " 'acquisition_info': 'Y'}"
      ]
     },
     "execution_count": 30,
     "metadata": {},
     "output_type": "execute_result"
    }
   ],
   "source": [
    "retrosheet_game_log_df.iloc[0].to_dict()"
   ]
  },
  {
   "cell_type": "code",
   "execution_count": null,
   "metadata": {},
   "outputs": [],
   "source": []
  },
  {
   "cell_type": "markdown",
   "metadata": {},
   "source": [
    "## 5. MLB Game API"
   ]
  },
  {
   "cell_type": "markdown",
   "metadata": {},
   "source": [
    "可獲得每場比賽的詳細資訊: 每局戰況、每球球速、投打結果\n",
    "- [說明文件](https://panz.io/mlbgame/)\n",
    "- [github](https://github.com/panzarino/mlbgame)"
   ]
  },
  {
   "cell_type": "code",
   "execution_count": 2,
   "metadata": {},
   "outputs": [
    {
     "name": "stdout",
     "output_type": "stream",
     "text": [
      "C:\\Users\\EMCT_Jeff\\anaconda3\\lib\\site-packages\\mlbgame\\__init__.py\n"
     ]
    }
   ],
   "source": [
    "from __future__ import print_function\n",
    "import mlbgame\n",
    "print(mlbgame.__file__)"
   ]
  },
  {
   "cell_type": "code",
   "execution_count": 10,
   "metadata": {},
   "outputs": [],
   "source": [
    "import lxml.etree as etree\n",
    "\n",
    "import mlbgame.data\n",
    "import mlbgame.object"
   ]
  },
  {
   "cell_type": "code",
   "execution_count": 3,
   "metadata": {},
   "outputs": [
    {
     "name": "stdout",
     "output_type": "stream",
     "text": [
      "Giants (5) at Mets (0)\n",
      "Giants (8) at Mets (5)\n",
      "Giants (4) at Mets (5)\n",
      "Braves (3) at Mets (5)\n",
      "Braves (5) at Mets (3)\n",
      "Braves (8) at Mets (10)\n",
      "Blue Jays (3) at Mets (4)\n",
      "Blue Jays (2) at Mets (3)\n",
      "Reds (1) at Mets (2)\n",
      "Reds (1) at Mets (2)\n",
      "Reds (1) at Mets (2)\n",
      "Cubs (1) at Mets (0)\n"
     ]
    }
   ],
   "source": [
    "month = mlbgame.games(2015, 6, home='Mets')\n",
    "games = mlbgame.combine_games(month)\n",
    "for game in games:\n",
    "    print(game)"
   ]
  },
  {
   "cell_type": "code",
   "execution_count": 4,
   "metadata": {},
   "outputs": [
    {
     "name": "stdout",
     "output_type": "stream",
     "text": [
      "Winning pitcher: Yordano Ventura (Royals) - Losing Pitcher: C.J. Wilson (Angels)\n"
     ]
    }
   ],
   "source": [
    "day = mlbgame.day(2015, 4, 12, home='Royals', away='Royals')\n",
    "game = day[0]\n",
    "output = 'Winning pitcher: %s (%s) - Losing Pitcher: %s (%s)'\n",
    "print(output % (game.w_pitcher, game.w_team, game.l_pitcher, game.l_team))"
   ]
  },
  {
   "cell_type": "code",
   "execution_count": 5,
   "metadata": {},
   "outputs": [
    {
     "data": {
      "text/plain": [
       "'2015_04_12_kcamlb_anamlb_1'"
      ]
     },
     "execution_count": 5,
     "metadata": {},
     "output_type": "execute_result"
    }
   ],
   "source": [
    "gid = game.game_id\n",
    "gid"
   ]
  },
  {
   "cell_type": "code",
   "execution_count": 17,
   "metadata": {},
   "outputs": [],
   "source": [
    "events = mlbgame.events.game_events(gid)"
   ]
  },
  {
   "cell_type": "code",
   "execution_count": 22,
   "metadata": {},
   "outputs": [
    {
     "data": {
      "text/plain": [
       "dict_keys(['1', '2', '3', '4', '5', '6', '7', '8', '9'])"
      ]
     },
     "execution_count": 22,
     "metadata": {},
     "output_type": "execute_result"
    }
   ],
   "source": [
    "# 打了9局\n",
    "events.keys()"
   ]
  },
  {
   "cell_type": "code",
   "execution_count": 23,
   "metadata": {},
   "outputs": [
    {
     "data": {
      "text/plain": [
       "dict_keys(['top', 'bottom'])"
      ]
     },
     "execution_count": 23,
     "metadata": {},
     "output_type": "execute_result"
    }
   ],
   "source": [
    "# 第1局分上、下半場\n",
    "events['1'].keys()"
   ]
  },
  {
   "cell_type": "code",
   "execution_count": 30,
   "metadata": {},
   "outputs": [
    {
     "data": {
      "text/plain": [
       "4"
      ]
     },
     "execution_count": 30,
     "metadata": {},
     "output_type": "execute_result"
    }
   ],
   "source": [
    "# 1局上半有4個打數\n",
    "len(events['1']['top'])"
   ]
  },
  {
   "cell_type": "code",
   "execution_count": 26,
   "metadata": {},
   "outputs": [
    {
     "data": {
      "text/plain": [
       "dict_keys(['tag', '_endpoint', 'num', 'away_team_runs', 'home_team_runs', 'play_guid', 'event_es', 'event', 'event_num', 'des_es', 'des', 'p_throws', 'pitcher', 'b_height', 'stand', 'batter', 'end_tfs_zulu', 'start_tfs_zulu', 'start_tfs', 'o', 's', 'b', 'pitches'])"
      ]
     },
     "execution_count": 26,
     "metadata": {},
     "output_type": "execute_result"
    }
   ],
   "source": [
    "# 1局上半第一個打數的欄位\n",
    "events['1']['top'][0].keys()"
   ]
  },
  {
   "cell_type": "code",
   "execution_count": 32,
   "metadata": {},
   "outputs": [
    {
     "data": {
      "text/plain": [
       "5"
      ]
     },
     "execution_count": 32,
     "metadata": {},
     "output_type": "execute_result"
    }
   ],
   "source": [
    "# 1局上半第一個打數總共用了5球\n",
    "len(events['1']['top'][0]['pitches'])"
   ]
  },
  {
   "cell_type": "code",
   "execution_count": 34,
   "metadata": {},
   "outputs": [
    {
     "data": {
      "text/plain": [
       "dict_keys(['_endpoint', 'id', 'event_num', 'des_es', 'des', 'mt', 'cc', 'spin_rate', 'spin_dir', 'play_guid', 'nasty', 'zone', 'type_confidence', 'pitch_type', 'break_length', 'break_angle', 'break_y', 'az', 'ay', 'ax', 'vz0', 'vy0', 'vx0', 'z0', 'y0', 'x0', 'pz', 'px', 'pfx_z', 'pfx_x', 'end_speed', 'start_speed', 'sv_id', 'tfs_zulu', 'sz_bot', 'sz_top', 'y', 'x', 'tfs', 'code', 'type'])"
      ]
     },
     "execution_count": 34,
     "metadata": {},
     "output_type": "execute_result"
    }
   ],
   "source": [
    "# 1局上半第一個打數第一球的欄位\n",
    "events['1']['top'][0]['pitches'][0].keys()"
   ]
  },
  {
   "cell_type": "code",
   "execution_count": 51,
   "metadata": {},
   "outputs": [
    {
     "data": {
      "text/plain": [
       "123"
      ]
     },
     "execution_count": 51,
     "metadata": {},
     "output_type": "execute_result"
    }
   ],
   "source": [
    "123"
   ]
  },
  {
   "cell_type": "code",
   "execution_count": null,
   "metadata": {},
   "outputs": [],
   "source": []
  }
 ],
 "metadata": {
  "kernelspec": {
   "display_name": "Python 3",
   "language": "python",
   "name": "python3"
  },
  "language_info": {
   "codemirror_mode": {
    "name": "ipython",
    "version": 3
   },
   "file_extension": ".py",
   "mimetype": "text/x-python",
   "name": "python",
   "nbconvert_exporter": "python",
   "pygments_lexer": "ipython3",
   "version": "3.8.3"
  },
  "toc-showmarkdowntxt": false
 },
 "nbformat": 4,
 "nbformat_minor": 4
}
