{
 "cells": [
  {
   "cell_type": "markdown",
   "metadata": {},
   "source": [
    "ESPN base 建模資料前處理"
   ]
  },
  {
   "cell_type": "code",
   "execution_count": 1,
   "metadata": {},
   "outputs": [],
   "source": [
    "import sys\n",
    "sys.path.append('G:\\我的雲端硬碟\\python')\n",
    "import numpy as np\n",
    "from polib.CsvEngn import *\n",
    "from MLB_functions import *\n",
    "from tqdm import tqdm\n",
    "\n",
    "import requests as rs\n",
    "from bs4 import BeautifulSoup"
   ]
  },
  {
   "cell_type": "markdown",
   "metadata": {},
   "source": [
    "# 讀取ESPN FA 與表現合併"
   ]
  },
  {
   "cell_type": "markdown",
   "metadata": {},
   "source": [
    "## 讀取2006~2019年 簽約資料"
   ]
  },
  {
   "cell_type": "code",
   "execution_count": 2,
   "metadata": {},
   "outputs": [
    {
     "name": "stdout",
     "output_type": "stream",
     "text": [
      "  >> 讀取:: G:\\我的雲端硬碟\\learning\\論文今年會寫完\\0.資源包\\2.資料\\6.ESPN_free_agent\\ESPN_FreeAgent_2006to2019_20210417_12.00.34.csv\n"
     ]
    }
   ],
   "source": [
    "ESPN_FA_path = r\"G:\\我的雲端硬碟\\learning\\論文今年會寫完\\0.資源包\\2.資料\\6.ESPN_free_agent\\ESPN_FreeAgent_2006to2019_20210417_12.00.34.csv\"\n",
    "ESPN_FA_df = read_data_dir_fPathExt(ESPN_FA_path)"
   ]
  },
  {
   "cell_type": "code",
   "execution_count": 3,
   "metadata": {},
   "outputs": [],
   "source": [
    "ESPN_FA_df.rename(columns={\"PLAYER_id\":\"playerID\", \"YRS\":\"contract_Yrs\"}, inplace=True)"
   ]
  },
  {
   "cell_type": "code",
   "execution_count": 4,
   "metadata": {},
   "outputs": [],
   "source": [
    "# ESPN_FA_df[\"contract_Yrs\"].value_counts()\n",
    "# ESPN_FA_df[ESPN_FA_df[\"contract_Yrs\"].isin([13])]"
   ]
  },
  {
   "cell_type": "code",
   "execution_count": 40,
   "metadata": {},
   "outputs": [
    {
     "data": {
      "text/html": [
       "<div>\n",
       "<style scoped>\n",
       "    .dataframe tbody tr th:only-of-type {\n",
       "        vertical-align: middle;\n",
       "    }\n",
       "\n",
       "    .dataframe tbody tr th {\n",
       "        vertical-align: top;\n",
       "    }\n",
       "\n",
       "    .dataframe thead th {\n",
       "        text-align: right;\n",
       "    }\n",
       "</style>\n",
       "<table border=\"1\" class=\"dataframe\">\n",
       "  <thead>\n",
       "    <tr style=\"text-align: right;\">\n",
       "      <th></th>\n",
       "      <th>_idx</th>\n",
       "      <th>PLAYER</th>\n",
       "      <th>POS</th>\n",
       "      <th>AGE</th>\n",
       "      <th>STATUS</th>\n",
       "      <th>ORG TEAM</th>\n",
       "      <th>NEW TEAM</th>\n",
       "      <th>contract_Yrs</th>\n",
       "      <th>RK</th>\n",
       "      <th>DOLLARS</th>\n",
       "      <th>YEAR</th>\n",
       "      <th>link</th>\n",
       "      <th>is_PLAYER_link_check</th>\n",
       "      <th>playerID</th>\n",
       "      <th>ORG_TEAM_ID</th>\n",
       "      <th>NEW_TEAM_ID</th>\n",
       "    </tr>\n",
       "  </thead>\n",
       "  <tbody>\n",
       "    <tr>\n",
       "      <th>0</th>\n",
       "      <td>0</td>\n",
       "      <td>Matt Albers</td>\n",
       "      <td>RP</td>\n",
       "      <td>38.0</td>\n",
       "      <td>FA</td>\n",
       "      <td>--</td>\n",
       "      <td>--</td>\n",
       "      <td>NaN</td>\n",
       "      <td>NR</td>\n",
       "      <td>--</td>\n",
       "      <td>2006</td>\n",
       "      <td>https://www.espn.com/mlb/player/_/id/28525/mat...</td>\n",
       "      <td>True</td>\n",
       "      <td>28525</td>\n",
       "      <td>NaN</td>\n",
       "      <td>NaN</td>\n",
       "    </tr>\n",
       "    <tr>\n",
       "      <th>840</th>\n",
       "      <td>840</td>\n",
       "      <td>Matt Albers</td>\n",
       "      <td>RP</td>\n",
       "      <td>38.0</td>\n",
       "      <td>Signed</td>\n",
       "      <td>Orioles</td>\n",
       "      <td>Red Sox</td>\n",
       "      <td>1.0</td>\n",
       "      <td>NR</td>\n",
       "      <td>$875,000</td>\n",
       "      <td>2010</td>\n",
       "      <td>https://www.espn.com/mlb/player/_/id/28525/mat...</td>\n",
       "      <td>True</td>\n",
       "      <td>28525</td>\n",
       "      <td>BAL</td>\n",
       "      <td>BOS</td>\n",
       "    </tr>\n",
       "    <tr>\n",
       "      <th>1439</th>\n",
       "      <td>1439</td>\n",
       "      <td>Matt Albers</td>\n",
       "      <td>RP</td>\n",
       "      <td>38.0</td>\n",
       "      <td>Signed</td>\n",
       "      <td>Indians</td>\n",
       "      <td>Astros</td>\n",
       "      <td>1.0</td>\n",
       "      <td>NR</td>\n",
       "      <td>$2,450,000</td>\n",
       "      <td>2013</td>\n",
       "      <td>https://www.espn.com/mlb/player/_/id/28525/mat...</td>\n",
       "      <td>True</td>\n",
       "      <td>28525</td>\n",
       "      <td>CLE</td>\n",
       "      <td>HOU</td>\n",
       "    </tr>\n",
       "    <tr>\n",
       "      <th>1799</th>\n",
       "      <td>1799</td>\n",
       "      <td>Matt Albers</td>\n",
       "      <td>RP</td>\n",
       "      <td>38.0</td>\n",
       "      <td>Signed</td>\n",
       "      <td>White Sox</td>\n",
       "      <td>White Sox</td>\n",
       "      <td>1.0</td>\n",
       "      <td>NR</td>\n",
       "      <td>$2,250,000</td>\n",
       "      <td>2015</td>\n",
       "      <td>https://www.espn.com/mlb/player/_/id/28525/mat...</td>\n",
       "      <td>True</td>\n",
       "      <td>28525</td>\n",
       "      <td>CHW</td>\n",
       "      <td>CHW</td>\n",
       "    </tr>\n",
       "    <tr>\n",
       "      <th>1963</th>\n",
       "      <td>1963</td>\n",
       "      <td>Matt Albers</td>\n",
       "      <td>RP</td>\n",
       "      <td>38.0</td>\n",
       "      <td>Signed</td>\n",
       "      <td>White Sox</td>\n",
       "      <td>Nationals</td>\n",
       "      <td>NaN</td>\n",
       "      <td>NR</td>\n",
       "      <td>Minor Lg</td>\n",
       "      <td>2016</td>\n",
       "      <td>https://www.espn.com/mlb/player/_/id/28525/mat...</td>\n",
       "      <td>True</td>\n",
       "      <td>28525</td>\n",
       "      <td>CHW</td>\n",
       "      <td>WSH</td>\n",
       "    </tr>\n",
       "    <tr>\n",
       "      <th>2168</th>\n",
       "      <td>2168</td>\n",
       "      <td>Matt Albers</td>\n",
       "      <td>RP</td>\n",
       "      <td>38.0</td>\n",
       "      <td>Signed</td>\n",
       "      <td>Nationals</td>\n",
       "      <td>Brewers</td>\n",
       "      <td>2.0</td>\n",
       "      <td>46</td>\n",
       "      <td>$5,000,000</td>\n",
       "      <td>2017</td>\n",
       "      <td>https://www.espn.com/mlb/player/_/id/28525/mat...</td>\n",
       "      <td>True</td>\n",
       "      <td>28525</td>\n",
       "      <td>WSH</td>\n",
       "      <td>MIL</td>\n",
       "    </tr>\n",
       "    <tr>\n",
       "      <th>2649</th>\n",
       "      <td>2649</td>\n",
       "      <td>Matt Albers</td>\n",
       "      <td>RP</td>\n",
       "      <td>38.0</td>\n",
       "      <td>FA</td>\n",
       "      <td>Brewers</td>\n",
       "      <td>--</td>\n",
       "      <td>NaN</td>\n",
       "      <td>NR</td>\n",
       "      <td>--</td>\n",
       "      <td>2019</td>\n",
       "      <td>https://www.espn.com/mlb/player/_/id/28525/mat...</td>\n",
       "      <td>True</td>\n",
       "      <td>28525</td>\n",
       "      <td>MIL</td>\n",
       "      <td>NaN</td>\n",
       "    </tr>\n",
       "  </tbody>\n",
       "</table>\n",
       "</div>"
      ],
      "text/plain": [
       "      _idx       PLAYER POS   AGE  STATUS   ORG TEAM   NEW TEAM  contract_Yrs  \\\n",
       "0        0  Matt Albers  RP  38.0      FA         --         --           NaN   \n",
       "840    840  Matt Albers  RP  38.0  Signed    Orioles    Red Sox           1.0   \n",
       "1439  1439  Matt Albers  RP  38.0  Signed    Indians     Astros           1.0   \n",
       "1799  1799  Matt Albers  RP  38.0  Signed  White Sox  White Sox           1.0   \n",
       "1963  1963  Matt Albers  RP  38.0  Signed  White Sox  Nationals           NaN   \n",
       "2168  2168  Matt Albers  RP  38.0  Signed  Nationals    Brewers           2.0   \n",
       "2649  2649  Matt Albers  RP  38.0      FA    Brewers         --           NaN   \n",
       "\n",
       "      RK     DOLLARS  YEAR                                               link  \\\n",
       "0     NR          --  2006  https://www.espn.com/mlb/player/_/id/28525/mat...   \n",
       "840   NR    $875,000  2010  https://www.espn.com/mlb/player/_/id/28525/mat...   \n",
       "1439  NR  $2,450,000  2013  https://www.espn.com/mlb/player/_/id/28525/mat...   \n",
       "1799  NR  $2,250,000  2015  https://www.espn.com/mlb/player/_/id/28525/mat...   \n",
       "1963  NR    Minor Lg  2016  https://www.espn.com/mlb/player/_/id/28525/mat...   \n",
       "2168  46  $5,000,000  2017  https://www.espn.com/mlb/player/_/id/28525/mat...   \n",
       "2649  NR          --  2019  https://www.espn.com/mlb/player/_/id/28525/mat...   \n",
       "\n",
       "      is_PLAYER_link_check playerID ORG_TEAM_ID NEW_TEAM_ID  \n",
       "0                     True    28525         NaN         NaN  \n",
       "840                   True    28525         BAL         BOS  \n",
       "1439                  True    28525         CLE         HOU  \n",
       "1799                  True    28525         CHW         CHW  \n",
       "1963                  True    28525         CHW         WSH  \n",
       "2168                  True    28525         WSH         MIL  \n",
       "2649                  True    28525         MIL         NaN  "
      ]
     },
     "execution_count": 40,
     "metadata": {},
     "output_type": "execute_result"
    }
   ],
   "source": [
    "# ESPN_FA_df[ESPN_FA_df[\"PLAYER\"].str.contains(\"Moo\")]\n",
    "# ESPN_FA_df[ESPN_FA_df[\"playerID\"].isin([\"28525\"])]"
   ]
  },
  {
   "cell_type": "markdown",
   "metadata": {},
   "source": [
    "## 讀取 簽約資料中球員歷年表現"
   ]
  },
  {
   "cell_type": "code",
   "execution_count": 4,
   "metadata": {},
   "outputs": [
    {
     "name": "stdout",
     "output_type": "stream",
     "text": [
      "  >> 讀取:: G:\\我的雲端硬碟\\learning\\論文今年會寫完\\0.資源包\\2.資料\\6.ESPN_free_agent\\ESPN_player_stats_all_20210417_14.12.52.csv\n",
      "  >> 讀取:: G:\\我的雲端硬碟\\learning\\論文今年會寫完\\0.資源包\\2.資料\\6.ESPN_free_agent\\ESPN_player_bio_all_20210417_15.23.45.csv\n"
     ]
    }
   ],
   "source": [
    "ESPN_stats_path = r\"G:\\我的雲端硬碟\\learning\\論文今年會寫完\\0.資源包\\2.資料\\6.ESPN_free_agent\\ESPN_player_stats_all_20210417_14.12.52.csv\"\n",
    "ESPN_stats_df = read_data_dir_fPathExt(ESPN_stats_path)\n",
    "\n",
    "ESPN_bio_path = r\"G:\\我的雲端硬碟\\learning\\論文今年會寫完\\0.資源包\\2.資料\\6.ESPN_free_agent\\ESPN_player_bio_all_20210417_15.23.45.csv\"\n",
    "ESPN_bio_df = read_data_dir_fPathExt(ESPN_bio_path)"
   ]
  },
  {
   "cell_type": "code",
   "execution_count": 5,
   "metadata": {},
   "outputs": [],
   "source": [
    "# 格式轉換\n",
    "ESPN_stats_df[\"playerID\"] = ESPN_stats_df[\"playerID\"].astype(\"str\")\n",
    "ESPN_bio_df[\"playerID\"] = ESPN_bio_df[\"playerID\"].astype(\"str\")\n",
    "ESPN_FA_df[\"playerID\"] = ESPN_FA_df[\"playerID\"].astype(\"str\")\n",
    "\n",
    "ESPN_stats_df[\"season\"] = ESPN_stats_df[\"season\"].astype(\"str\")\n",
    "ESPN_FA_df[\"YEAR\"] = ESPN_FA_df[\"YEAR\"].astype(\"str\")"
   ]
  },
  {
   "cell_type": "markdown",
   "metadata": {},
   "source": [
    "### ESPN_FA_df 球隊 正規化"
   ]
  },
  {
   "cell_type": "code",
   "execution_count": 6,
   "metadata": {},
   "outputs": [
    {
     "name": "stdout",
     "output_type": "stream",
     "text": [
      "ORG TEAM nunique: 34\n",
      "NEW TEAM nunique: 32\n",
      "Team nunique: 37\n"
     ]
    }
   ],
   "source": [
    "print(f\"ORG TEAM nunique: {ESPN_FA_df['ORG TEAM'].nunique()}\\n\\\n",
    "NEW TEAM nunique: {ESPN_FA_df['NEW TEAM'].nunique()}\\n\\\n",
    "Team nunique: {ESPN_stats_df['Team'].nunique()}\")"
   ]
  },
  {
   "cell_type": "code",
   "execution_count": 7,
   "metadata": {},
   "outputs": [
    {
     "name": "stdout",
     "output_type": "stream",
     "text": [
      "30\n"
     ]
    }
   ],
   "source": [
    "# ESPM MLB 球隊代號\n",
    "url = \"https://www.espn.com/mlb/teams\"\n",
    "response = rs.get(url)\n",
    "soup = BeautifulSoup(response.text, 'html.parser')\n",
    "_as = soup.find_all('a')\n",
    "\n",
    "team_dict = {}\n",
    "for a in _as:\n",
    "    try:\n",
    "        if \"/mlb/team/_/name/\" in a['href']:\n",
    "            teamFullName = a['href'].split(\"/\")[-1].replace(\"-\",\" \").title()\n",
    "            teamID = a['href'].split(\"/\")[-2].upper()\n",
    "            team_dict[teamFullName] = teamID\n",
    "            \n",
    "    except:\n",
    "            pass\n",
    "\n",
    "print(len(team_dict))\n",
    "# team_dict"
   ]
  },
  {
   "cell_type": "code",
   "execution_count": 8,
   "metadata": {},
   "outputs": [],
   "source": [
    "def team_ID_finder(team_name):\n",
    "    for s_name in team_name.split(\" \"):\n",
    "        for full_name, teamID in team_dict.items():\n",
    "            if s_name in full_name:\n",
    "                return teamID\n",
    "    return np.nan"
   ]
  },
  {
   "cell_type": "code",
   "execution_count": 9,
   "metadata": {},
   "outputs": [],
   "source": [
    "ESPN_FA_df.loc[:, \"ORG_TEAM_ID\"] = ESPN_FA_df.loc[:, \"ORG TEAM\"].apply(team_ID_finder)\n",
    "ESPN_FA_df.loc[:, \"NEW_TEAM_ID\"] = ESPN_FA_df.loc[:, \"NEW TEAM\"].apply(team_ID_finder)"
   ]
  },
  {
   "cell_type": "code",
   "execution_count": 10,
   "metadata": {},
   "outputs": [
    {
     "name": "stdout",
     "output_type": "stream",
     "text": [
      "CWS\n",
      "MON\n",
      "FLA\n",
      "WAS\n",
      "CAL\n",
      "ANA\n",
      "CHI\n"
     ]
    }
   ],
   "source": [
    "# 檢查那些縮寫有問題\n",
    "team_dict_inverse = {v: k for k, v in team_dict.items()}\n",
    "\n",
    "for t in ESPN_stats_df['Team'].unique():\n",
    "    try:\n",
    "        team_dict_inverse[t]\n",
    "    except:\n",
    "        print(t)"
   ]
  },
  {
   "cell_type": "code",
   "execution_count": 86,
   "metadata": {},
   "outputs": [],
   "source": [
    "# team_dict_inverse"
   ]
  },
  {
   "cell_type": "code",
   "execution_count": 11,
   "metadata": {},
   "outputs": [],
   "source": [
    "# 球隊名稱清理\n",
    "\n",
    "def team_ID_cleaner(teamID):\n",
    "    if teamID == \"FLA\":\n",
    "        return \"MIA\"\n",
    "    \n",
    "    if (teamID == \"CWS\"):\n",
    "        return \"CHW\"\n",
    "    \n",
    "    if (teamID == \"ANA\") | (teamID == \"CAL\"):\n",
    "        return \"LAA\"\n",
    "    \n",
    "    if (teamID == \"MON\") | (teamID == \"WAS\"):\n",
    "        return \"WSH\"\n",
    "    \n",
    "    if teamID == \"CHI\":\n",
    "        return np.nan\n",
    "    \n",
    "    return teamID\n"
   ]
  },
  {
   "cell_type": "markdown",
   "metadata": {},
   "source": [
    "#### 篩選掉 Team有錯誤的球員 1筆 (id: 23283, Mike Jacobs)"
   ]
  },
  {
   "cell_type": "code",
   "execution_count": 12,
   "metadata": {},
   "outputs": [
    {
     "name": "stdout",
     "output_type": "stream",
     "text": [
      "15999\n"
     ]
    }
   ],
   "source": [
    "ESPN_stats_df['Team_clean'] = ESPN_stats_df['Team'].apply(team_ID_cleaner)\n",
    "ESPN_stats_df = ESPN_stats_df[pd.notna(ESPN_stats_df[\"Team_clean\"])].reset_index(drop=True)\n",
    "print(len(ESPN_stats_df))"
   ]
  },
  {
   "cell_type": "code",
   "execution_count": 13,
   "metadata": {},
   "outputs": [
    {
     "name": "stdout",
     "output_type": "stream",
     "text": [
      "ORG TEAM(ID) nunique: 30\n",
      "NEW TEAM(ID) nunique: 30\n",
      "Team(clean) nunique: 30\n"
     ]
    }
   ],
   "source": [
    "print(f\"ORG TEAM(ID) nunique: {ESPN_FA_df['ORG_TEAM_ID'].nunique()}\\n\\\n",
    "NEW TEAM(ID) nunique: {ESPN_FA_df['NEW_TEAM_ID'].nunique()}\\n\\\n",
    "Team(clean) nunique: {ESPN_stats_df['Team_clean'].nunique()}\")"
   ]
  },
  {
   "cell_type": "code",
   "execution_count": 14,
   "metadata": {},
   "outputs": [],
   "source": [
    "# 以 Team_clean 取代 Team\n",
    "ESPN_stats_df['Team'] = ESPN_stats_df['Team_clean'].copy(deep=True)"
   ]
  },
  {
   "cell_type": "code",
   "execution_count": 15,
   "metadata": {},
   "outputs": [
    {
     "name": "stdout",
     "output_type": "stream",
     "text": [
      "2910\n",
      "ORG_TEAM_ID null: 46\n",
      "NEW_TEAM_ID null: 599\n",
      "['--' 'Japan' 'Cuba'] ['--' 'Japan']\n"
     ]
    }
   ],
   "source": [
    "# 檢查FA資料中球隊缺值情況\n",
    "print(len(ESPN_FA_df))\n",
    "print(f\"ORG_TEAM_ID null: {ESPN_FA_df.loc[:, 'ORG_TEAM_ID'].isna().sum()}\\nNEW_TEAM_ID null: {ESPN_FA_df.loc[:, 'NEW_TEAM_ID'].isna().sum()}\")\n",
    "\n",
    "mask_org = pd.isna(ESPN_FA_df.loc[:, \"ORG_TEAM_ID\"])\n",
    "mask_new = pd.isna(ESPN_FA_df.loc[:, \"NEW_TEAM_ID\"])\n",
    "print(ESPN_FA_df.loc[mask_org, \"ORG TEAM\"].unique(), ESPN_FA_df.loc[mask_new, \"NEW TEAM\"].unique())"
   ]
  },
  {
   "cell_type": "markdown",
   "metadata": {},
   "source": [
    "### 最後出賽年 (TODO 待討論)"
   ]
  },
  {
   "cell_type": "code",
   "execution_count": 16,
   "metadata": {},
   "outputs": [
    {
     "data": {
      "text/plain": [
       "2021    178\n",
       "2019    124\n",
       "2018    103\n",
       "2017     99\n",
       "2020     99\n",
       "2011     88\n",
       "2013     88\n",
       "2010     88\n",
       "2009     82\n",
       "2014     81\n",
       "2015     77\n",
       "2016     76\n",
       "2012     74\n",
       "2008     72\n",
       "2007     71\n",
       "2006     31\n",
       "2005      4\n",
       "Name: season, dtype: int64"
      ]
     },
     "execution_count": 16,
     "metadata": {},
     "output_type": "execute_result"
    }
   ],
   "source": [
    "player_max_season_df = ESPN_stats_df[[\"playerID\",\"season\"]].groupby([\"playerID\"], as_index=False).max()\n",
    "player_max_season_df[\"season\"].value_counts()"
   ]
  },
  {
   "cell_type": "code",
   "execution_count": null,
   "metadata": {},
   "outputs": [],
   "source": [
    "#TODO"
   ]
  },
  {
   "cell_type": "markdown",
   "metadata": {},
   "source": [
    "### 將bio 欄位(POS、DOB、Birthplace、Type)合併入stats "
   ]
  },
  {
   "cell_type": "code",
   "execution_count": 17,
   "metadata": {},
   "outputs": [
    {
     "name": "stdout",
     "output_type": "stream",
     "text": [
      "15999 15999\n"
     ]
    }
   ],
   "source": [
    "# 挑選需要的欄位\n",
    "cols_pic = [\n",
    "#     '_idx',\n",
    "    'season',\n",
    "    'Team',\n",
    "    'GP',\n",
    "#     'GS',\n",
    "#     'W',\n",
    "#     'L',\n",
    "#     'W%',\n",
    "    'WAR',\n",
    "    'ERA',\n",
    "#     'WHIP',\n",
    "#     'IP',\n",
    "#     'K',\n",
    "#     'BB',\n",
    "#     'K/BB',\n",
    "#     'H',\n",
    "#     'R',\n",
    "#     'ER',\n",
    "#     'SV',\n",
    "#     'HLD',\n",
    "#     'BLSV',\n",
    "    'playerID',\n",
    "    'Yrs',\n",
    "#     'AB',\n",
    "#     '2B',\n",
    "#     '3B',\n",
    "#     'HR',\n",
    "#     'RBI',\n",
    "#     'HBP',\n",
    "#     'SO',\n",
    "#     'SB',\n",
    "#     'CS',\n",
    "#     'AVG',\n",
    "#     'OBP',\n",
    "#     'SLG',\n",
    "    'OPS'\n",
    "]\n",
    "\n",
    "ESPN_stats_bio_df = ESPN_stats_df[cols_pic].merge(ESPN_bio_df[[\"playerID\", \"POS\", \"DOB\", \"Birthplace\", \"TYPE\"]], how=\"left\", on=[\"playerID\"])\n",
    "print(len(ESPN_stats_df), len(ESPN_stats_bio_df))"
   ]
  },
  {
   "cell_type": "code",
   "execution_count": 18,
   "metadata": {},
   "outputs": [
    {
     "data": {
      "text/plain": [
       "pitch    728\n",
       "bat      725\n",
       "Name: TYPE, dtype: int64"
      ]
     },
     "execution_count": 18,
     "metadata": {},
     "output_type": "execute_result"
    }
   ],
   "source": [
    "ESPN_bio_df[\"TYPE\"].value_counts()"
   ]
  },
  {
   "cell_type": "markdown",
   "metadata": {},
   "source": [
    "#### 檢查TYPE是否正確(主職(投手沒OPS、打者沒ERA)) >> OK "
   ]
  },
  {
   "cell_type": "code",
   "execution_count": 18,
   "metadata": {},
   "outputs": [],
   "source": [
    "# mask_check = (ESPN_stats_bio_df[\"TYPE\"].isin([\"pitch\"]))&(pd.notna(ESPN_stats_bio_df[\"OPS\"]))\n",
    "# ESPN_stats_bio_df[mask_check]\n",
    "\n",
    "# mask_check = (ESPN_stats_bio_df[\"TYPE\"].isin([\"bat\"]))&(pd.notna(ESPN_stats_bio_df[\"ERA\"]))\n",
    "# ESPN_stats_bio_df[mask_check]"
   ]
  },
  {
   "cell_type": "markdown",
   "metadata": {},
   "source": [
    "### 守備位置正規化"
   ]
  },
  {
   "cell_type": "code",
   "execution_count": 19,
   "metadata": {},
   "outputs": [],
   "source": [
    "def POS_cleaner(value):\n",
    "    if \"Starting Pitcher\" in value:\n",
    "        return \"SP\"\n",
    "    \n",
    "    elif (\"Relief Pitcher\" in value) | (\"Pitcher\" in value):\n",
    "        return \"RP\"\n",
    "    \n",
    "    elif (\"Fielder\" in value) | (\"Outfielder\" in value):\n",
    "        return \"OF\"\n",
    "\n",
    "    elif \"Shortstop\" in value:\n",
    "        return \"SS\"\n",
    "\n",
    "    elif \"First Baseman\" in value:\n",
    "        return \"1B\"\n",
    "\n",
    "    elif \"Second Baseman\" in value:\n",
    "        return \"2B\"\n",
    "\n",
    "    elif \"Third Baseman\" in value:\n",
    "        return \"3B\"\n",
    "\n",
    "    elif \"Catcher\" in value:\n",
    "        return \"C\"\n",
    "    \n",
    "    elif \"Designated Hitter\" in value:\n",
    "        return \"DH\"\n",
    "    \n",
    "    else:\n",
    "        return np.nan"
   ]
  },
  {
   "cell_type": "code",
   "execution_count": 20,
   "metadata": {},
   "outputs": [],
   "source": [
    "ESPN_stats_bio_df[\"POS_c\"] = ESPN_stats_bio_df[\"POS\"].apply(POS_cleaner)"
   ]
  },
  {
   "cell_type": "code",
   "execution_count": 21,
   "metadata": {},
   "outputs": [
    {
     "data": {
      "text/plain": [
       "array(['DOB'], dtype=object)"
      ]
     },
     "execution_count": 21,
     "metadata": {},
     "output_type": "execute_result"
    }
   ],
   "source": [
    "ESPN_stats_bio_df[pd.isna(ESPN_stats_bio_df[\"POS_c\"])][\"POS\"].unique()"
   ]
  },
  {
   "cell_type": "code",
   "execution_count": 22,
   "metadata": {},
   "outputs": [
    {
     "data": {
      "text/html": [
       "<div>\n",
       "<style scoped>\n",
       "    .dataframe tbody tr th:only-of-type {\n",
       "        vertical-align: middle;\n",
       "    }\n",
       "\n",
       "    .dataframe tbody tr th {\n",
       "        vertical-align: top;\n",
       "    }\n",
       "\n",
       "    .dataframe thead th {\n",
       "        text-align: right;\n",
       "    }\n",
       "</style>\n",
       "<table border=\"1\" class=\"dataframe\">\n",
       "  <thead>\n",
       "    <tr style=\"text-align: right;\">\n",
       "      <th></th>\n",
       "      <th>season</th>\n",
       "      <th>Team</th>\n",
       "      <th>GP</th>\n",
       "      <th>WAR</th>\n",
       "      <th>ERA</th>\n",
       "      <th>playerID</th>\n",
       "      <th>Yrs</th>\n",
       "      <th>OPS</th>\n",
       "      <th>POS</th>\n",
       "      <th>DOB</th>\n",
       "      <th>Birthplace</th>\n",
       "      <th>TYPE</th>\n",
       "      <th>POS_c</th>\n",
       "    </tr>\n",
       "  </thead>\n",
       "  <tbody>\n",
       "    <tr>\n",
       "      <th>14857</th>\n",
       "      <td>2018</td>\n",
       "      <td>MIA</td>\n",
       "      <td>31</td>\n",
       "      <td>0.0</td>\n",
       "      <td>NaN</td>\n",
       "      <td>33619</td>\n",
       "      <td>1</td>\n",
       "      <td>0.0</td>\n",
       "      <td>DOB</td>\n",
       "      <td>12/30/1988</td>\n",
       "      <td>Neenah, WI</td>\n",
       "      <td>bat</td>\n",
       "      <td>NaN</td>\n",
       "    </tr>\n",
       "  </tbody>\n",
       "</table>\n",
       "</div>"
      ],
      "text/plain": [
       "      season Team  GP  WAR  ERA playerID  Yrs  OPS  POS         DOB  \\\n",
       "14857   2018  MIA  31  0.0  NaN    33619    1  0.0  DOB  12/30/1988   \n",
       "\n",
       "       Birthplace TYPE POS_c  \n",
       "14857  Neenah, WI  bat   NaN  "
      ]
     },
     "execution_count": 22,
     "metadata": {},
     "output_type": "execute_result"
    }
   ],
   "source": [
    "ESPN_stats_bio_df[pd.isna(ESPN_stats_bio_df[\"POS_c\"])]"
   ]
  },
  {
   "cell_type": "markdown",
   "metadata": {},
   "source": [
    "#### 篩選掉沒有正確POS資訊的選手 1名 (id: 33619)"
   ]
  },
  {
   "cell_type": "code",
   "execution_count": 23,
   "metadata": {},
   "outputs": [
    {
     "name": "stdout",
     "output_type": "stream",
     "text": [
      "15998\n"
     ]
    }
   ],
   "source": [
    "ESPN_stats_bio_df = ESPN_stats_bio_df[pd.notna(ESPN_stats_bio_df[\"POS_c\"])].reset_index(drop=True)\n",
    "print(len(ESPN_stats_bio_df))"
   ]
  },
  {
   "cell_type": "code",
   "execution_count": 24,
   "metadata": {},
   "outputs": [
    {
     "name": "stdout",
     "output_type": "stream",
     "text": [
      "0\n"
     ]
    },
    {
     "data": {
      "text/plain": [
       "RP    4899\n",
       "SP    2843\n",
       "OF    2747\n",
       "C     1387\n",
       "1B    1050\n",
       "2B    1016\n",
       "3B     925\n",
       "SS     670\n",
       "DH     461\n",
       "Name: POS_c, dtype: int64"
      ]
     },
     "execution_count": 24,
     "metadata": {},
     "output_type": "execute_result"
    }
   ],
   "source": [
    "print(ESPN_stats_bio_df[\"POS_c\"].isna().sum())\n",
    "ESPN_stats_bio_df[\"POS_c\"].value_counts()"
   ]
  },
  {
   "cell_type": "markdown",
   "metadata": {},
   "source": [
    "### 清理DOB，計算年齡"
   ]
  },
  {
   "cell_type": "code",
   "execution_count": 25,
   "metadata": {},
   "outputs": [
    {
     "data": {
      "text/plain": [
       "array(['1/20/1983', '6/18/1966', '7/3/1966', ..., '5/30/1990 (30)',\n",
       "       '1/12/1991 (30)', '8/30/1984 (36)'], dtype=object)"
      ]
     },
     "execution_count": 25,
     "metadata": {},
     "output_type": "execute_result"
    }
   ],
   "source": [
    "ESPN_stats_bio_df[\"DOB\"].unique()"
   ]
  },
  {
   "cell_type": "code",
   "execution_count": 26,
   "metadata": {},
   "outputs": [],
   "source": [
    "ESPN_stats_bio_df[\"DOB\"] = ESPN_stats_bio_df[\"DOB\"].apply(lambda s: s.split(\" \")[0])\n",
    "ESPN_stats_bio_df[\"DOB_fmt\"] = pd.to_datetime(ESPN_stats_bio_df[\"DOB\"], format='%m/%d/%Y', errors='coerce')\n",
    "ESPN_stats_bio_df[\"Age\"] = ESPN_stats_bio_df[\"season\"].astype(\"int\") - ESPN_stats_bio_df[\"DOB_fmt\"].dt.year +1"
   ]
  },
  {
   "cell_type": "markdown",
   "metadata": {},
   "source": [
    "## 表現資料串簽約資料 (球員ID、年分、原球隊)"
   ]
  },
  {
   "cell_type": "code",
   "execution_count": 27,
   "metadata": {},
   "outputs": [],
   "source": [
    "# 串檔\n",
    "FA_cols = [\"playerID\", \"YEAR\", \"ORG_TEAM_ID\", \"NEW_TEAM_ID\", \"contract_Yrs\", \"DOLLARS\", \"STATUS\"]\n",
    "ESPN_stats_bio_FA_df = ESPN_stats_bio_df.merge(ESPN_FA_df[FA_cols], how=\"left\", \n",
    "    left_on=[\"playerID\", \"season\", \"Team\"], right_on=[\"playerID\",\"YEAR\",\"ORG_TEAM_ID\"])"
   ]
  },
  {
   "cell_type": "code",
   "execution_count": 28,
   "metadata": {},
   "outputs": [
    {
     "name": "stdout",
     "output_type": "stream",
     "text": [
      "15998 15998\n"
     ]
    }
   ],
   "source": [
    "print(len(ESPN_stats_bio_df),len(ESPN_stats_bio_FA_df))"
   ]
  },
  {
   "cell_type": "code",
   "execution_count": 29,
   "metadata": {},
   "outputs": [
    {
     "data": {
      "text/plain": [
       "0.1678959869983748"
      ]
     },
     "execution_count": 29,
     "metadata": {},
     "output_type": "execute_result"
    }
   ],
   "source": [
    "ESPN_stats_bio_FA_df[\"ORG_TEAM_ID\"].notna().sum() / len(ESPN_stats_bio_FA_df)"
   ]
  },
  {
   "cell_type": "markdown",
   "metadata": {},
   "source": [
    "# 合併後變數處裡與分割"
   ]
  },
  {
   "cell_type": "markdown",
   "metadata": {},
   "source": [
    "## 處理薪水， 將合約薪水攤到每一年去(TODO )"
   ]
  },
  {
   "cell_type": "markdown",
   "metadata": {},
   "source": [
    "光有FA合約年的簽約薪資無法拚湊出每一年的薪資(新合約發生在成為FA前)，比對BR的資料出入太大(ex:Matt Albers ESPN ID: 28525)"
   ]
  },
  {
   "cell_type": "code",
   "execution_count": 30,
   "metadata": {},
   "outputs": [
    {
     "data": {
      "text/plain": [
       "count    1387.000000\n",
       "mean       15.100686\n",
       "std        32.473158\n",
       "min         0.380000\n",
       "25%         2.000000\n",
       "50%         4.500000\n",
       "75%        13.000000\n",
       "max       330.000000\n",
       "Name: DOLLARS_M, dtype: float64"
      ]
     },
     "execution_count": 30,
     "metadata": {},
     "output_type": "execute_result"
    }
   ],
   "source": [
    "mask_dont = (ESPN_stats_bio_FA_df[\"DOLLARS\"].str.contains('Minor|-', regex=True)) | (pd.isna(ESPN_stats_bio_FA_df[\"DOLLARS\"]))\n",
    "ESPN_stats_bio_FA_df.loc[mask_dont, \"DOLLARS\"] = np.nan\n",
    "ESPN_stats_bio_FA_df.loc[~mask_dont, \"DOLLARS\"] = ESPN_stats_bio_FA_df.loc[~mask_dont, \"DOLLARS\"].replace('[\\$,]', '', regex=True).astype(float)\n",
    "ESPN_stats_bio_FA_df[\"DOLLARS_M\"] = ESPN_stats_bio_FA_df[\"DOLLARS\"].apply(lambda n: n/(10**6) if isinstance(n,float) else np.nan)\n",
    "ESPN_stats_bio_FA_df[\"DOLLARS_M\"].describe()"
   ]
  },
  {
   "cell_type": "code",
   "execution_count": 31,
   "metadata": {},
   "outputs": [],
   "source": [
    "# ESPN_stats_bio_FA_df[ESPN_stats_bio_FA_df[\"playerID\"].isin([\"28525\"])]"
   ]
  },
  {
   "cell_type": "code",
   "execution_count": null,
   "metadata": {},
   "outputs": [],
   "source": [
    "#TODO"
   ]
  },
  {
   "cell_type": "markdown",
   "metadata": {},
   "source": [
    "## 分割資料: 1.每人每年在各球隊(已有:ESPN_stats_bio_FA_df)、2.每人每年整體(若單年有跨球隊表現會從 ESPN球員 Split分頁中找到整體值)"
   ]
  },
  {
   "cell_type": "code",
   "execution_count": 42,
   "metadata": {},
   "outputs": [],
   "source": [
    "# ESPN_stats_bio_FA_df[ESPN_stats_bio_FA_df[\"playerID\"].isin([\"28525\"])]"
   ]
  },
  {
   "cell_type": "markdown",
   "metadata": {},
   "source": [
    "### 找出有單年度跨球隊表現的球員季度 (2006之後)"
   ]
  },
  {
   "cell_type": "code",
   "execution_count": 32,
   "metadata": {},
   "outputs": [],
   "source": [
    "palyer_season_team_count_df = ESPN_stats_bio_FA_df.groupby([\"playerID\",\"season\", \"TYPE\"], as_index=False)[\"Team\"].count()\n",
    "palyer_season_team_count_GOAL_df = palyer_season_team_count_df[(palyer_season_team_count_df[\"Team\"]>1)&(palyer_season_team_count_df[\"season\"].astype(int)>=2006)]"
   ]
  },
  {
   "cell_type": "markdown",
   "metadata": {},
   "source": [
    "### 回ESPN 球員 Split 分頁 找到當年度整體表現 **(已執行過不再執行)**"
   ]
  },
  {
   "cell_type": "markdown",
   "metadata": {},
   "source": [
    "#### ERA、OPS 的公式算法? "
   ]
  },
  {
   "cell_type": "code",
   "execution_count": 33,
   "metadata": {},
   "outputs": [
    {
     "name": "stdout",
     "output_type": "stream",
     "text": [
      "ERROR! Session/line number was not unique in database. History logging moved to new session 364\n"
     ]
    }
   ],
   "source": [
    "# import time\n",
    "\n",
    "# playerID_lst = []\n",
    "# year_lst = []\n",
    "# type_lst = []\n",
    "# goal_col_name_lst = []\n",
    "# goal_col_value_lst = []\n",
    "# for _id, year, _type in tqdm(palyer_season_team_count_GOAL_df[[\"playerID\", \"season\", \"TYPE\"]].values):\n",
    "    \n",
    "#     if _type == \"pitch\":\n",
    "#         type_for_url = \"pitching\"\n",
    "#         goal_col_name = \"ERA\"\n",
    "    \n",
    "#     if _type == \"bat\":\n",
    "#         type_for_url = \"batting\"\n",
    "#         goal_col_name = \"OPS\"\n",
    "\n",
    "#     url = f\"https://www.espn.com/mlb/player/splits/_/id/{_id}/year/{year}/category/{type_for_url}\"\n",
    "#     try:\n",
    "#         s = pd.read_html(url)\n",
    "#         df_temp = s[1].copy(deep=True)\n",
    "#         df_temp.columns = s[1].loc[0,:].values\n",
    "#         df_temp.drop(index=[0], inplace=True)\n",
    "#         goal_col_value = float(df_temp.loc[1,goal_col_name])\n",
    "\n",
    "#         playerID_lst.append(_id)\n",
    "#         year_lst.append(year)\n",
    "#         type_lst.append(_type)\n",
    "#         goal_col_name_lst.append(goal_col_name)\n",
    "#         goal_col_value_lst.append(goal_col_value)\n",
    "        \n",
    "#     except:\n",
    "#         print(url)\n",
    "    \n",
    "#     time.sleep(1)"
   ]
  },
  {
   "cell_type": "code",
   "execution_count": 254,
   "metadata": {},
   "outputs": [],
   "source": [
    "# GOAL_df = pd.DataFrame(\n",
    "#     {'playerID': playerID_lst,\n",
    "#      'season': year_lst,\n",
    "#      'TYPE': type_lst,\n",
    "#      'goal_col_name': goal_col_name_lst,\n",
    "#      'goal_col_value': goal_col_value_lst\n",
    "#     })"
   ]
  },
  {
   "cell_type": "code",
   "execution_count": 228,
   "metadata": {},
   "outputs": [
    {
     "name": "stdout",
     "output_type": "stream",
     "text": [
      " ==輸出備份csv==::: GOAL_df_20210417_21.08.00.csv\n"
     ]
    }
   ],
   "source": [
    "# # 輸出備份\n",
    "# formtoCsv(GOAL_df, \"GOAL_df\")"
   ]
  },
  {
   "cell_type": "code",
   "execution_count": 34,
   "metadata": {},
   "outputs": [
    {
     "name": "stdout",
     "output_type": "stream",
     "text": [
      "  >> 讀取:: G:\\我的雲端硬碟\\learning\\論文今年會寫完\\0.資源包\\2.資料\\6.ESPN_free_agent\\GOAL_df_20210417_21.08.00.csv\n"
     ]
    }
   ],
   "source": [
    "# 讀取備份\n",
    "GOAL_df = read_data_dir_fPathExt(r\"G:\\我的雲端硬碟\\learning\\論文今年會寫完\\0.資源包\\2.資料\\6.ESPN_free_agent\\GOAL_df_20210417_21.08.00.csv\")\n",
    "GOAL_df.rename(columns={\"type\":\"TYPE\"},inplace=True)\n",
    "GOAL_df[\"playerID\"] = GOAL_df[\"playerID\"].astype(str)\n",
    "GOAL_df[\"season\"] = GOAL_df[\"season\"].astype(str)"
   ]
  },
  {
   "cell_type": "markdown",
   "metadata": {},
   "source": [
    "### mutilTeam_count>1 串GOAL_df，後在與 mutilTeam_count=1 合併"
   ]
  },
  {
   "cell_type": "code",
   "execution_count": 35,
   "metadata": {},
   "outputs": [
    {
     "name": "stdout",
     "output_type": "stream",
     "text": [
      "15998\n"
     ]
    }
   ],
   "source": [
    "palyer_season_team_count_GOAL_df.rename(columns={\"Team\":\"mutilTeam_count\"})\n",
    "ESPN_stats_bio_FA_df = ESPN_stats_bio_FA_df.merge(palyer_season_team_count_GOAL_df.rename(columns={\"Team\":\"mutilTeam_count\"})\n",
    "                                                 , how=\"left\",on=[\"playerID\", \"season\", \"TYPE\"])\n",
    "\n",
    "ESPN_stats_bio_FA_df.loc[:,\"mutilTeam_count\"] = ESPN_stats_bio_FA_df.loc[:,\"mutilTeam_count\"].fillna(1)\n",
    "print(len(ESPN_stats_bio_FA_df))"
   ]
  },
  {
   "cell_type": "code",
   "execution_count": 36,
   "metadata": {},
   "outputs": [],
   "source": [
    "temp_split_mutil_df = ESPN_stats_bio_FA_df[ESPN_stats_bio_FA_df[\"mutilTeam_count\"]>1].reset_index(drop=True)\n",
    "temp_split_one_df = ESPN_stats_bio_FA_df[ESPN_stats_bio_FA_df[\"mutilTeam_count\"]==1].reset_index(drop=True)"
   ]
  },
  {
   "cell_type": "code",
   "execution_count": 37,
   "metadata": {},
   "outputs": [
    {
     "name": "stderr",
     "output_type": "stream",
     "text": [
      "C:\\Users\\Daguan\\miniconda3\\lib\\site-packages\\pandas\\core\\groupby\\generic.py:1455: FutureWarning: using a dict with renaming is deprecated and will be removed\n",
      "in a future version.\n",
      "\n",
      "For column-specific groupby renaming, use named aggregation\n",
      "\n",
      "    >>> df.groupby(...).agg(name=('column', aggfunc))\n",
      "\n",
      "  return super().aggregate(arg, *args, **kwargs)\n"
     ]
    }
   ],
   "source": [
    "# 加總 GP、WAR\n",
    "cols = [\n",
    " 'season',\n",
    "#  'Team',\n",
    " 'GP',\n",
    " 'WAR',\n",
    "#  'ERA',\n",
    " 'playerID',\n",
    "#  'Yrs',\n",
    "#  'OPS',\n",
    "#  'POS',\n",
    "#  'DOB',\n",
    "#  'Birthplace',\n",
    " 'TYPE',\n",
    "#  'POS_c',\n",
    "#  'DOB_fmt',\n",
    "#  'Age',\n",
    "#  'YEAR',\n",
    "#  'ORG_TEAM_ID',\n",
    "#  'NEW_TEAM_ID',\n",
    "#  'contract_Yrs',\n",
    "#  'DOLLARS',\n",
    "#  'STATUS',\n",
    "#  'DOLLARS_M',\n",
    "#  'mutilTeam_count'\n",
    "]\n",
    "\n",
    "temp_split_mutil_gp_df = temp_split_mutil_df[cols].groupby(['playerID','season','TYPE']).agg(\n",
    "    {\n",
    "            \"GP\":{\n",
    "                \"GP\": \"sum\",\n",
    "            },\n",
    "\n",
    "            \"WAR\":{\n",
    "                \"WAR\":\"sum\",\n",
    "            }\n",
    "    }).reset_index()\n",
    "\n",
    "temp_split_mutil_gp_df.columns = ['playerID','season','TYPE', 'GP' , 'WAR']\n",
    "\n",
    "# temp_split_mutil_gp_df"
   ]
  },
  {
   "cell_type": "markdown",
   "metadata": {},
   "source": [
    "#### temp_split_mutil_gp_df 串 GOAL_df"
   ]
  },
  {
   "cell_type": "code",
   "execution_count": 38,
   "metadata": {},
   "outputs": [],
   "source": [
    "# bat\n",
    "temp_split_mutil_gp_bat_df = temp_split_mutil_gp_df[temp_split_mutil_gp_df[\"TYPE\"].isin([\"bat\"])].merge(GOAL_df[[\"playerID\",\"season\",\"TYPE\",\"goal_col_value\"]]\n",
    "                                                                          , how=\"left\", on=[\"playerID\",\"season\",\"TYPE\"])\n",
    "temp_split_mutil_gp_bat_df.rename(columns={\"goal_col_value\":\"OPS\"},inplace=True)\n",
    "\n",
    "# pitch\n",
    "temp_split_mutil_gp_pitch_df = temp_split_mutil_gp_df[temp_split_mutil_gp_df[\"TYPE\"].isin([\"pitch\"])].merge(GOAL_df[[\"playerID\",\"season\",\"TYPE\",\"goal_col_value\"]]\n",
    "                                                                          , how=\"left\", on=[\"playerID\",\"season\",\"TYPE\"])\n",
    "temp_split_mutil_gp_pitch_df.rename(columns={\"goal_col_value\":\"ERA\"},inplace=True)"
   ]
  },
  {
   "cell_type": "code",
   "execution_count": 39,
   "metadata": {},
   "outputs": [
    {
     "name": "stdout",
     "output_type": "stream",
     "text": [
      "1088\n"
     ]
    }
   ],
   "source": [
    "temp_split_mutil_gp_m_df = pd.concat([temp_split_mutil_gp_bat_df, temp_split_mutil_gp_pitch_df], axis=0,sort=False).reset_index(drop=True)\n",
    "print(len(temp_split_mutil_gp_m_df))"
   ]
  },
  {
   "cell_type": "code",
   "execution_count": 40,
   "metadata": {},
   "outputs": [
    {
     "name": "stdout",
     "output_type": "stream",
     "text": [
      "1088\n"
     ]
    }
   ],
   "source": [
    "#串回個人欄位\n",
    "temp_split_mutil_gp_m_df = temp_split_mutil_gp_m_df.merge(ESPN_stats_bio_FA_df[[\"playerID\",\"season\",\"Yrs\",\"Birthplace\",\"POS_c\",\"Age\"]].drop_duplicates(\n",
    "                                                            subset=[\"playerID\",\"season\"],keep=\"first\")\n",
    "                                                          , how=\"left\",on=[\"playerID\",\"season\"])\n",
    "print(len(temp_split_mutil_gp_m_df))"
   ]
  },
  {
   "cell_type": "code",
   "execution_count": 41,
   "metadata": {},
   "outputs": [
    {
     "name": "stdout",
     "output_type": "stream",
     "text": [
      "1088\n"
     ]
    }
   ],
   "source": [
    "#串回合約資料\n",
    "temp_split_mutil_gp_m_df = temp_split_mutil_gp_m_df.merge(ESPN_stats_bio_FA_df[[\"playerID\",\"season\",'YEAR','ORG_TEAM_ID', 'NEW_TEAM_ID', 'contract_Yrs'\n",
    "                                                                               ,'DOLLARS', 'STATUS','DOLLARS_M']].sort_values(by=[\"YEAR\"],ascending=[1]\n",
    "                                                            ).drop_duplicates(\n",
    "                                                            subset=[\"playerID\",\"season\"],keep=\"first\")\n",
    "                                                          , how=\"left\",on=[\"playerID\",\"season\"])\n",
    "print(len(temp_split_mutil_gp_m_df))"
   ]
  },
  {
   "cell_type": "markdown",
   "metadata": {},
   "source": [
    "#### 與 mutilTeam_count=1 合併"
   ]
  },
  {
   "cell_type": "code",
   "execution_count": 42,
   "metadata": {},
   "outputs": [],
   "source": [
    "# temp_split_mutil_gp_m_df.drop_duplicates(subset=[\"playerID\",\"season\"],keep=\"first\")"
   ]
  },
  {
   "cell_type": "code",
   "execution_count": 43,
   "metadata": {},
   "outputs": [
    {
     "name": "stdout",
     "output_type": "stream",
     "text": [
      "14864\n"
     ]
    }
   ],
   "source": [
    "#部分2006年以前的會撐開，但等等就拿掉了\n",
    "ESPN_stats_bio_FA_no_team_gp_df = pd.concat([temp_split_mutil_gp_m_df, temp_split_one_df[temp_split_mutil_gp_m_df.columns.to_list()+[\"mutilTeam_count\"]]], axis=0,sort=False).sort_values(\n",
    "    by=[\"playerID\",\"season\"],ascending=[1,1]).reset_index(drop=True)\n",
    "print(len(ESPN_stats_bio_FA_no_team_gp_df))"
   ]
  },
  {
   "cell_type": "markdown",
   "metadata": {},
   "source": [
    "## 延伸變數製作"
   ]
  },
  {
   "cell_type": "markdown",
   "metadata": {},
   "source": [
    "### 合約年 dummy 製作"
   ]
  },
  {
   "cell_type": "code",
   "execution_count": 44,
   "metadata": {},
   "outputs": [],
   "source": [
    "ESPN_stats_bio_FA_df[\"is_FA_contract_year\"] = ESPN_stats_bio_FA_df[\"YEAR\"].apply(lambda y: pd.notna(y))\n",
    "ESPN_stats_bio_FA_no_team_gp_df[\"is_FA_contract_year\"] = ESPN_stats_bio_FA_no_team_gp_df[\"YEAR\"].apply(lambda y: pd.notna(y))"
   ]
  },
  {
   "cell_type": "markdown",
   "metadata": {},
   "source": [
    "### 年齡平方"
   ]
  },
  {
   "cell_type": "code",
   "execution_count": 45,
   "metadata": {},
   "outputs": [],
   "source": [
    "ESPN_stats_bio_FA_df[\"Age_sq\"] = ESPN_stats_bio_FA_df[\"Age\"] * ESPN_stats_bio_FA_df[\"Age\"]\n",
    "ESPN_stats_bio_FA_no_team_gp_df[\"Age_sq\"] = ESPN_stats_bio_FA_no_team_gp_df[\"Age\"] * ESPN_stats_bio_FA_no_team_gp_df[\"Age\"]"
   ]
  },
  {
   "cell_type": "markdown",
   "metadata": {},
   "source": [
    "### ERA 數值清理"
   ]
  },
  {
   "cell_type": "code",
   "execution_count": 46,
   "metadata": {},
   "outputs": [],
   "source": [
    "def str_to_float_cleaner(str_value):\n",
    "    try:\n",
    "        if \"inf\" in str_value:\n",
    "            return np.nan\n",
    "        \n",
    "        return float(str_value)\n",
    "        \n",
    "    except:\n",
    "        return np.nan"
   ]
  },
  {
   "cell_type": "code",
   "execution_count": 47,
   "metadata": {},
   "outputs": [],
   "source": [
    "ESPN_stats_bio_FA_df[\"ERA\"] = ESPN_stats_bio_FA_df[\"ERA\"].apply(str_to_float_cleaner)\n",
    "ESPN_stats_bio_FA_no_team_gp_df[\"ERA\"] = ESPN_stats_bio_FA_no_team_gp_df[\"ERA\"].apply(str_to_float_cleaner)"
   ]
  },
  {
   "cell_type": "markdown",
   "metadata": {},
   "source": [
    "### 數值ID (playerID_num、season_num) "
   ]
  },
  {
   "cell_type": "code",
   "execution_count": 48,
   "metadata": {},
   "outputs": [],
   "source": [
    "ESPN_stats_bio_FA_df[\"playerID_num\"] = ESPN_stats_bio_FA_df[\"playerID\"].astype(int)\n",
    "ESPN_stats_bio_FA_no_team_gp_df[\"playerID_num\"] = ESPN_stats_bio_FA_no_team_gp_df[\"playerID\"].astype(int)\n",
    "\n",
    "ESPN_stats_bio_FA_df[\"season_num\"] = ESPN_stats_bio_FA_df[\"season\"].astype(int)\n",
    "ESPN_stats_bio_FA_no_team_gp_df[\"season_num\"] = ESPN_stats_bio_FA_no_team_gp_df[\"season\"].astype(int)"
   ]
  },
  {
   "cell_type": "markdown",
   "metadata": {},
   "source": [
    "# 篩選表現2006年以後 & 大聯盟年資6年以上 輸出"
   ]
  },
  {
   "cell_type": "markdown",
   "metadata": {},
   "source": [
    "### 有team版"
   ]
  },
  {
   "cell_type": "code",
   "execution_count": 49,
   "metadata": {},
   "outputs": [
    {
     "name": "stdout",
     "output_type": "stream",
     "text": [
      "15998 7039\n"
     ]
    }
   ],
   "source": [
    "mask_pic = (ESPN_stats_bio_FA_df[\"season_num\"]>=2006) & (ESPN_stats_bio_FA_df[\"Yrs\"]>=6)\n",
    "ESPN_stats_bio_FA_pic_df = ESPN_stats_bio_FA_df[mask_pic].reset_index(drop=True)\n",
    "print(len(ESPN_stats_bio_FA_df),len(ESPN_stats_bio_FA_pic_df))"
   ]
  },
  {
   "cell_type": "markdown",
   "metadata": {},
   "source": [
    "#### 區分 bat、pitch 輸出"
   ]
  },
  {
   "cell_type": "code",
   "execution_count": 51,
   "metadata": {},
   "outputs": [
    {
     "name": "stdout",
     "output_type": "stream",
     "text": [
      " ==輸出備份xlsx== ::: ESPN_haveTeam_bat_20210418_12.40.27.xlsx\n",
      " ==輸出備份xlsx== ::: ESPN_haveTeam_pitch_20210418_12.40.38.xlsx\n"
     ]
    }
   ],
   "source": [
    "\n",
    "col_output_bat = [\n",
    " 'season',\n",
    " 'season_num',\n",
    " 'Team',\n",
    " 'GP',\n",
    " 'WAR',\n",
    "#  'ERA',\n",
    " 'playerID',\n",
    " 'playerID_num',\n",
    " 'Yrs',\n",
    " 'OPS',\n",
    "#  'POS',\n",
    "#  'DOB',\n",
    "#  'Birthplace',\n",
    " 'TYPE',\n",
    " 'POS_c',\n",
    "#  'DOB_fmt',\n",
    " 'Age',\n",
    " 'Age_sq',\n",
    " 'YEAR',\n",
    " 'ORG_TEAM_ID',\n",
    " 'NEW_TEAM_ID',\n",
    " 'contract_Yrs',\n",
    "#  'DOLLARS',\n",
    " 'STATUS',\n",
    " 'DOLLARS_M',\n",
    "#  'mutilTeam_count',\n",
    " 'is_FA_contract_year'\n",
    "]\n",
    "\n",
    "formtoXlsx(ESPN_stats_bio_FA_pic_df.loc[ESPN_stats_bio_FA_pic_df[\"TYPE\"].isin([\"bat\"]),col_output_bat].reset_index(drop=True), \"ESPN_haveTeam_bat\")\n",
    "ESPN_stats_bio_FA_pic_df.loc[ESPN_stats_bio_FA_pic_df[\"TYPE\"].isin([\"bat\"]),col_output_bat].reset_index(drop=True).to_stata('ESPN_haveTeam_bat.dta')\n",
    "\n",
    "\n",
    "col_output_pitch = [\n",
    " 'season',\n",
    " 'season_num',\n",
    " 'Team',\n",
    " 'GP',\n",
    " 'WAR',\n",
    " 'ERA',\n",
    " 'playerID',\n",
    " 'playerID_num',\n",
    " 'Yrs',\n",
    "#  'OPS',\n",
    "#  'POS',\n",
    "#  'DOB',\n",
    "#  'Birthplace',\n",
    " 'TYPE',\n",
    " 'POS_c',\n",
    "#  'DOB_fmt',\n",
    " 'Age',\n",
    " 'Age_sq',\n",
    " 'YEAR',\n",
    " 'ORG_TEAM_ID',\n",
    " 'NEW_TEAM_ID',\n",
    " 'contract_Yrs',\n",
    "#  'DOLLARS',\n",
    " 'STATUS',\n",
    " 'DOLLARS_M',\n",
    "#  'mutilTeam_count',\n",
    " 'is_FA_contract_year'\n",
    "]\n",
    "\n",
    "formtoXlsx(ESPN_stats_bio_FA_pic_df.loc[ESPN_stats_bio_FA_pic_df[\"TYPE\"].isin([\"pitch\"]),col_output_pitch].reset_index(drop=True), \"ESPN_haveTeam_pitch\")\n",
    "ESPN_stats_bio_FA_pic_df.loc[ESPN_stats_bio_FA_pic_df[\"TYPE\"].isin([\"pitch\"]),col_output_pitch].reset_index(drop=True).to_stata('ESPN_haveTeam_pitch.dta')"
   ]
  },
  {
   "cell_type": "markdown",
   "metadata": {},
   "source": [
    "###  no team gp版"
   ]
  },
  {
   "cell_type": "code",
   "execution_count": 52,
   "metadata": {},
   "outputs": [
    {
     "name": "stdout",
     "output_type": "stream",
     "text": [
      "14864 6129\n"
     ]
    }
   ],
   "source": [
    "mask_pic = (ESPN_stats_bio_FA_no_team_gp_df[\"season_num\"]>=2006) & (ESPN_stats_bio_FA_no_team_gp_df[\"Yrs\"]>=6)\n",
    "ESPN_stats_bio_FA_no_team_gp_pic_df = ESPN_stats_bio_FA_no_team_gp_df[mask_pic].reset_index(drop=True)\n",
    "print(len(ESPN_stats_bio_FA_no_team_gp_df),len(ESPN_stats_bio_FA_no_team_gp_pic_df))"
   ]
  },
  {
   "cell_type": "markdown",
   "metadata": {},
   "source": [
    "#### 區分 bat、pitch 輸出"
   ]
  },
  {
   "cell_type": "code",
   "execution_count": 53,
   "metadata": {},
   "outputs": [
    {
     "name": "stdout",
     "output_type": "stream",
     "text": [
      " ==輸出備份xlsx== ::: ESPN_noTeam_bat_20210418_12.40.46.xlsx\n",
      " ==輸出備份xlsx== ::: ESPN_noTeam_pitch_20210418_12.40.54.xlsx\n"
     ]
    }
   ],
   "source": [
    "\n",
    "col_output_bat = [\n",
    " 'season',\n",
    " 'season_num',\n",
    " 'GP',\n",
    " 'WAR',\n",
    "#  'ERA',\n",
    " 'playerID',\n",
    " 'playerID_num',\n",
    " 'Yrs',\n",
    " 'OPS',\n",
    "#  'POS',\n",
    "#  'DOB',\n",
    "#  'Birthplace',\n",
    " 'TYPE',\n",
    " 'POS_c',\n",
    "#  'DOB_fmt',\n",
    " 'Age',\n",
    " 'Age_sq',\n",
    " 'YEAR',\n",
    " 'ORG_TEAM_ID',\n",
    " 'NEW_TEAM_ID',\n",
    " 'contract_Yrs',\n",
    "#  'DOLLARS',\n",
    " 'STATUS',\n",
    " 'DOLLARS_M',\n",
    "#  'mutilTeam_count',\n",
    " 'is_FA_contract_year'\n",
    "]\n",
    "\n",
    "formtoXlsx(ESPN_stats_bio_FA_no_team_gp_pic_df.loc[ESPN_stats_bio_FA_no_team_gp_pic_df[\"TYPE\"].isin([\"bat\"]),col_output_bat].reset_index(drop=True), \"ESPN_noTeam_bat\")\n",
    "ESPN_stats_bio_FA_no_team_gp_pic_df.loc[ESPN_stats_bio_FA_no_team_gp_pic_df[\"TYPE\"].isin([\"bat\"]),col_output_bat].reset_index(drop=True).to_stata('ESPN_noTeam_bat.dta')\n",
    "\n",
    "col_output_pitch = [\n",
    " 'season',\n",
    " 'season_num',\n",
    " 'GP',\n",
    " 'WAR',\n",
    " 'ERA',\n",
    " 'playerID',\n",
    " 'playerID_num',\n",
    " 'Yrs',\n",
    "#  'OPS',\n",
    "#  'POS',\n",
    "#  'DOB',\n",
    "#  'Birthplace',\n",
    " 'TYPE',\n",
    " 'POS_c',\n",
    "#  'DOB_fmt',\n",
    " 'Age',\n",
    " 'Age_sq',\n",
    " 'YEAR',\n",
    " 'ORG_TEAM_ID',\n",
    " 'NEW_TEAM_ID',\n",
    " 'contract_Yrs',\n",
    "#  'DOLLARS',\n",
    " 'STATUS',\n",
    " 'DOLLARS_M',\n",
    "#  'mutilTeam_count',\n",
    " 'is_FA_contract_year'\n",
    "]\n",
    "\n",
    "formtoXlsx(ESPN_stats_bio_FA_no_team_gp_pic_df.loc[ESPN_stats_bio_FA_no_team_gp_pic_df[\"TYPE\"].isin([\"pitch\"]),col_output_pitch].reset_index(drop=True), \"ESPN_noTeam_pitch\")\n",
    "ESPN_stats_bio_FA_no_team_gp_pic_df.loc[ESPN_stats_bio_FA_no_team_gp_pic_df[\"TYPE\"].isin([\"pitch\"]),col_output_pitch].reset_index(drop=True).to_stata('ESPN_noTeam_pitch.dta')"
   ]
  },
  {
   "cell_type": "code",
   "execution_count": 60,
   "metadata": {},
   "outputs": [],
   "source": [
    "# have_team_bat = read_data_dir_fPathExt(r\"G:\\我的雲端硬碟\\learning\\論文今年會寫完\\0.資源包\\2.資料\\6.ESPN_free_agent\\有team_bat_20210417_22.43.03.csv\")\n",
    "# have_team_pitch = read_data_dir_fPathExt(r\"G:\\我的雲端硬碟\\learning\\論文今年會寫完\\0.資源包\\2.資料\\6.ESPN_free_agent\\有team_pitch_20210417_22.43.03.csv\")\n",
    "\n",
    "# no_team_bat = read_data_dir_fPathExt(r\"G:\\我的雲端硬碟\\learning\\論文今年會寫完\\0.資源包\\2.資料\\6.ESPN_free_agent\\no_team_gp_bat_20210417_22.43.08.csv\")\n",
    "# no_team_pitch = read_data_dir_fPathExt(r\"G:\\我的雲端硬碟\\learning\\論文今年會寫完\\0.資源包\\2.資料\\6.ESPN_free_agent\\no_team_gp_pitch_20210417_22.43.08.csv\")"
   ]
  }
 ],
 "metadata": {
  "kernelspec": {
   "display_name": "Python 3",
   "language": "python",
   "name": "python3"
  },
  "language_info": {
   "codemirror_mode": {
    "name": "ipython",
    "version": 3
   },
   "file_extension": ".py",
   "mimetype": "text/x-python",
   "name": "python",
   "nbconvert_exporter": "python",
   "pygments_lexer": "ipython3",
   "version": "3.8.5"
  },
  "toc-autonumbering": true
 },
 "nbformat": 4,
 "nbformat_minor": 4
}
