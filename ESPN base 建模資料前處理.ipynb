{
 "cells": [
  {
   "cell_type": "markdown",
   "metadata": {},
   "source": [
    "ESPN base 建模資料前處理"
   ]
  },
  {
   "cell_type": "code",
   "execution_count": 67,
   "metadata": {},
   "outputs": [],
   "source": [
    "import sys\n",
    "sys.path.append('G:\\我的雲端硬碟\\python')\n",
    "import numpy as np\n",
    "from polib.CsvEngn import *\n",
    "from MLB_functions import *\n",
    "from tqdm import tqdm\n",
    "\n",
    "import requests as rs\n",
    "from bs4 import BeautifulSoup\n",
    "\n",
    "from scipy import stats #計算標準差"
   ]
  },
  {
   "cell_type": "markdown",
   "metadata": {},
   "source": [
    "# 讀取ESPN FA 與表現合併"
   ]
  },
  {
   "cell_type": "markdown",
   "metadata": {},
   "source": [
    "## 讀取2006~2019年 簽約資料"
   ]
  },
  {
   "cell_type": "code",
   "execution_count": 2,
   "metadata": {},
   "outputs": [
    {
     "name": "stdout",
     "output_type": "stream",
     "text": [
      "  >> 讀取:: G:\\我的雲端硬碟\\learning\\論文今年會寫完\\0.資源包\\2.資料\\6.ESPN_free_agent\\ESPN_FreeAgent_2006to2019_20210417_12.00.34.csv\n"
     ]
    }
   ],
   "source": [
    "ESPN_FA_path = r\"G:\\我的雲端硬碟\\learning\\論文今年會寫完\\0.資源包\\2.資料\\6.ESPN_free_agent\\ESPN_FreeAgent_2006to2019_20210417_12.00.34.csv\"\n",
    "ESPN_FA_df = read_data_dir_fPathExt(ESPN_FA_path)"
   ]
  },
  {
   "cell_type": "code",
   "execution_count": 3,
   "metadata": {},
   "outputs": [],
   "source": [
    "ESPN_FA_df.rename(columns={\"PLAYER_id\":\"playerID\", \"YRS\":\"contract_Yrs\"}, inplace=True)"
   ]
  },
  {
   "cell_type": "code",
   "execution_count": 4,
   "metadata": {},
   "outputs": [],
   "source": [
    "# ESPN_FA_df[\"contract_Yrs\"].value_counts()\n",
    "# ESPN_FA_df[ESPN_FA_df[\"contract_Yrs\"].isin([13])]"
   ]
  },
  {
   "cell_type": "code",
   "execution_count": 5,
   "metadata": {},
   "outputs": [],
   "source": [
    "# ESPN_FA_df[ESPN_FA_df[\"PLAYER\"].str.contains(\"Moo\")]\n",
    "# ESPN_FA_df[ESPN_FA_df[\"playerID\"].isin([\"28525\"])]"
   ]
  },
  {
   "cell_type": "markdown",
   "metadata": {},
   "source": [
    "## 讀取 簽約資料中球員歷年表現"
   ]
  },
  {
   "cell_type": "code",
   "execution_count": 4,
   "metadata": {},
   "outputs": [
    {
     "name": "stdout",
     "output_type": "stream",
     "text": [
      "  >> 讀取:: G:\\我的雲端硬碟\\learning\\論文今年會寫完\\0.資源包\\2.資料\\6.ESPN_free_agent\\ESPN_player_stats_all_20210417_14.12.52.csv\n",
      "  >> 讀取:: G:\\我的雲端硬碟\\learning\\論文今年會寫完\\0.資源包\\2.資料\\6.ESPN_free_agent\\ESPN_player_bio_all_20210417_15.23.45.csv\n"
     ]
    }
   ],
   "source": [
    "ESPN_stats_path = r\"G:\\我的雲端硬碟\\learning\\論文今年會寫完\\0.資源包\\2.資料\\6.ESPN_free_agent\\ESPN_player_stats_all_20210417_14.12.52.csv\"\n",
    "ESPN_stats_df = read_data_dir_fPathExt(ESPN_stats_path)\n",
    "\n",
    "ESPN_bio_path = r\"G:\\我的雲端硬碟\\learning\\論文今年會寫完\\0.資源包\\2.資料\\6.ESPN_free_agent\\ESPN_player_bio_all_20210417_15.23.45.csv\"\n",
    "ESPN_bio_df = read_data_dir_fPathExt(ESPN_bio_path)"
   ]
  },
  {
   "cell_type": "code",
   "execution_count": 5,
   "metadata": {},
   "outputs": [],
   "source": [
    "# 格式轉換\n",
    "ESPN_stats_df[\"playerID\"] = ESPN_stats_df[\"playerID\"].astype(\"str\")\n",
    "ESPN_bio_df[\"playerID\"] = ESPN_bio_df[\"playerID\"].astype(\"str\")\n",
    "ESPN_FA_df[\"playerID\"] = ESPN_FA_df[\"playerID\"].astype(\"str\")\n",
    "\n",
    "ESPN_stats_df[\"season\"] = ESPN_stats_df[\"season\"].astype(\"str\")\n",
    "ESPN_FA_df[\"YEAR\"] = ESPN_FA_df[\"YEAR\"].astype(\"str\")"
   ]
  },
  {
   "cell_type": "markdown",
   "metadata": {},
   "source": [
    "### ESPN_FA_df 球隊 正規化"
   ]
  },
  {
   "cell_type": "code",
   "execution_count": 6,
   "metadata": {},
   "outputs": [
    {
     "name": "stdout",
     "output_type": "stream",
     "text": [
      "ORG TEAM nunique: 34\n",
      "NEW TEAM nunique: 32\n",
      "Team nunique: 37\n"
     ]
    }
   ],
   "source": [
    "print(f\"ORG TEAM nunique: {ESPN_FA_df['ORG TEAM'].nunique()}\\n\\\n",
    "NEW TEAM nunique: {ESPN_FA_df['NEW TEAM'].nunique()}\\n\\\n",
    "Team nunique: {ESPN_stats_df['Team'].nunique()}\")"
   ]
  },
  {
   "cell_type": "code",
   "execution_count": 7,
   "metadata": {},
   "outputs": [
    {
     "name": "stdout",
     "output_type": "stream",
     "text": [
      "30\n"
     ]
    }
   ],
   "source": [
    "# ESPM MLB 球隊代號\n",
    "url = \"https://www.espn.com/mlb/teams\"\n",
    "response = rs.get(url)\n",
    "soup = BeautifulSoup(response.text, 'html.parser')\n",
    "_as = soup.find_all('a')\n",
    "\n",
    "team_dict = {}\n",
    "for a in _as:\n",
    "    try:\n",
    "        if \"/mlb/team/_/name/\" in a['href']:\n",
    "            teamFullName = a['href'].split(\"/\")[-1].replace(\"-\",\" \").title()\n",
    "            teamID = a['href'].split(\"/\")[-2].upper()\n",
    "            team_dict[teamFullName] = teamID\n",
    "            \n",
    "    except:\n",
    "            pass\n",
    "\n",
    "print(len(team_dict))\n",
    "# team_dict"
   ]
  },
  {
   "cell_type": "code",
   "execution_count": 8,
   "metadata": {},
   "outputs": [],
   "source": [
    "def team_ID_finder(team_name):\n",
    "    for s_name in team_name.split(\" \"):\n",
    "        for full_name, teamID in team_dict.items():\n",
    "            if s_name in full_name:\n",
    "                return teamID\n",
    "    return np.nan"
   ]
  },
  {
   "cell_type": "code",
   "execution_count": 9,
   "metadata": {},
   "outputs": [],
   "source": [
    "ESPN_FA_df.loc[:, \"ORG_TEAM_ID\"] = ESPN_FA_df.loc[:, \"ORG TEAM\"].apply(team_ID_finder)\n",
    "ESPN_FA_df.loc[:, \"NEW_TEAM_ID\"] = ESPN_FA_df.loc[:, \"NEW TEAM\"].apply(team_ID_finder)"
   ]
  },
  {
   "cell_type": "code",
   "execution_count": 10,
   "metadata": {},
   "outputs": [
    {
     "name": "stdout",
     "output_type": "stream",
     "text": [
      "CWS\n",
      "MON\n",
      "FLA\n",
      "WAS\n",
      "CAL\n",
      "ANA\n",
      "CHI\n"
     ]
    }
   ],
   "source": [
    "# 檢查那些縮寫有問題\n",
    "team_dict_inverse = {v: k for k, v in team_dict.items()}\n",
    "\n",
    "for t in ESPN_stats_df['Team'].unique():\n",
    "    try:\n",
    "        team_dict_inverse[t]\n",
    "    except:\n",
    "        print(t)"
   ]
  },
  {
   "cell_type": "code",
   "execution_count": 11,
   "metadata": {},
   "outputs": [],
   "source": [
    "# team_dict_inverse"
   ]
  },
  {
   "cell_type": "code",
   "execution_count": 12,
   "metadata": {},
   "outputs": [],
   "source": [
    "# 球隊名稱清理\n",
    "\n",
    "def team_ID_cleaner(teamID):\n",
    "    if teamID == \"FLA\":\n",
    "        return \"MIA\"\n",
    "    \n",
    "    if (teamID == \"CWS\"):\n",
    "        return \"CHW\"\n",
    "    \n",
    "    if (teamID == \"ANA\") | (teamID == \"CAL\"):\n",
    "        return \"LAA\"\n",
    "    \n",
    "    if (teamID == \"MON\") | (teamID == \"WAS\"):\n",
    "        return \"WSH\"\n",
    "    \n",
    "    if teamID == \"CHI\":\n",
    "        return np.nan\n",
    "    \n",
    "    return teamID\n"
   ]
  },
  {
   "cell_type": "markdown",
   "metadata": {},
   "source": [
    "#### 篩選掉 Team有錯誤的球員 1筆 (id: 23283, Mike Jacobs)"
   ]
  },
  {
   "cell_type": "code",
   "execution_count": 13,
   "metadata": {},
   "outputs": [
    {
     "name": "stdout",
     "output_type": "stream",
     "text": [
      "15999\n"
     ]
    }
   ],
   "source": [
    "ESPN_stats_df['Team_clean'] = ESPN_stats_df['Team'].apply(team_ID_cleaner)\n",
    "ESPN_stats_df = ESPN_stats_df[pd.notna(ESPN_stats_df[\"Team_clean\"])].reset_index(drop=True)\n",
    "print(len(ESPN_stats_df))"
   ]
  },
  {
   "cell_type": "code",
   "execution_count": 14,
   "metadata": {},
   "outputs": [
    {
     "name": "stdout",
     "output_type": "stream",
     "text": [
      "ORG TEAM(ID) nunique: 30\n",
      "NEW TEAM(ID) nunique: 30\n",
      "Team(clean) nunique: 30\n"
     ]
    }
   ],
   "source": [
    "print(f\"ORG TEAM(ID) nunique: {ESPN_FA_df['ORG_TEAM_ID'].nunique()}\\n\\\n",
    "NEW TEAM(ID) nunique: {ESPN_FA_df['NEW_TEAM_ID'].nunique()}\\n\\\n",
    "Team(clean) nunique: {ESPN_stats_df['Team_clean'].nunique()}\")"
   ]
  },
  {
   "cell_type": "code",
   "execution_count": 15,
   "metadata": {},
   "outputs": [],
   "source": [
    "# 以 Team_clean 取代 Team\n",
    "ESPN_stats_df['Team'] = ESPN_stats_df['Team_clean'].copy(deep=True)"
   ]
  },
  {
   "cell_type": "code",
   "execution_count": 16,
   "metadata": {},
   "outputs": [
    {
     "name": "stdout",
     "output_type": "stream",
     "text": [
      "2910\n",
      "ORG_TEAM_ID null: 46\n",
      "NEW_TEAM_ID null: 599\n",
      "['--' 'Japan' 'Cuba'] ['--' 'Japan']\n"
     ]
    }
   ],
   "source": [
    "# 檢查FA資料中球隊缺值情況\n",
    "print(len(ESPN_FA_df))\n",
    "print(f\"ORG_TEAM_ID null: {ESPN_FA_df.loc[:, 'ORG_TEAM_ID'].isna().sum()}\\nNEW_TEAM_ID null: {ESPN_FA_df.loc[:, 'NEW_TEAM_ID'].isna().sum()}\")\n",
    "\n",
    "mask_org = pd.isna(ESPN_FA_df.loc[:, \"ORG_TEAM_ID\"])\n",
    "mask_new = pd.isna(ESPN_FA_df.loc[:, \"NEW_TEAM_ID\"])\n",
    "print(ESPN_FA_df.loc[mask_org, \"ORG TEAM\"].unique(), ESPN_FA_df.loc[mask_new, \"NEW TEAM\"].unique())"
   ]
  },
  {
   "cell_type": "markdown",
   "metadata": {},
   "source": [
    "### 最後出賽年 (TODO 待討論)"
   ]
  },
  {
   "cell_type": "code",
   "execution_count": 17,
   "metadata": {},
   "outputs": [
    {
     "data": {
      "text/plain": [
       "2021    178\n",
       "2019    124\n",
       "2018    103\n",
       "2020     99\n",
       "2017     99\n",
       "2011     88\n",
       "2013     88\n",
       "2010     88\n",
       "2009     82\n",
       "2014     81\n",
       "2015     77\n",
       "2016     76\n",
       "2012     74\n",
       "2008     72\n",
       "2007     71\n",
       "2006     31\n",
       "2005      4\n",
       "Name: season, dtype: int64"
      ]
     },
     "execution_count": 17,
     "metadata": {},
     "output_type": "execute_result"
    }
   ],
   "source": [
    "player_max_season_df = ESPN_stats_df[[\"playerID\",\"season\"]].groupby([\"playerID\"], as_index=False).max()\n",
    "player_max_season_df[\"season\"].value_counts()"
   ]
  },
  {
   "cell_type": "markdown",
   "metadata": {},
   "source": [
    "### 將bio 欄位(POS、DOB、Birthplace、Type)合併入stats "
   ]
  },
  {
   "cell_type": "code",
   "execution_count": 18,
   "metadata": {},
   "outputs": [
    {
     "name": "stdout",
     "output_type": "stream",
     "text": [
      "15999 15999\n"
     ]
    }
   ],
   "source": [
    "# 挑選需要的欄位\n",
    "cols_pic = [\n",
    "#     '_idx',\n",
    "    'season',\n",
    "    'Team',\n",
    "    'GP',\n",
    "    'GS',\n",
    "#     'W',\n",
    "#     'L',\n",
    "#     'W%',\n",
    "    'WAR',\n",
    "    'ERA',\n",
    "#     'WHIP',\n",
    "    'IP',\n",
    "    'K',\n",
    "    'BB',\n",
    "#     'K/BB',\n",
    "#     'H',\n",
    "#     'R',\n",
    "#     'ER',\n",
    "#     'SV',\n",
    "#     'HLD',\n",
    "#     'BLSV',\n",
    "    'playerID',\n",
    "    'Yrs',\n",
    "    'AB',\n",
    "#     '2B',\n",
    "#     '3B',\n",
    "#     'HR',\n",
    "#     'RBI',\n",
    "#     'HBP',\n",
    "#     'SO',\n",
    "#     'SB',\n",
    "#     'CS',\n",
    "#     'AVG',\n",
    "#     'OBP',\n",
    "#     'SLG',\n",
    "    'OPS'\n",
    "]\n",
    "\n",
    "ESPN_stats_bio_df = ESPN_stats_df[cols_pic].merge(ESPN_bio_df[[\"playerID\", \"POS\", \"DOB\", \"Birthplace\", \"TYPE\"]], how=\"left\", on=[\"playerID\"])\n",
    "print(len(ESPN_stats_df), len(ESPN_stats_bio_df))"
   ]
  },
  {
   "cell_type": "code",
   "execution_count": 19,
   "metadata": {},
   "outputs": [
    {
     "data": {
      "text/plain": [
       "pitch    728\n",
       "bat      725\n",
       "Name: TYPE, dtype: int64"
      ]
     },
     "execution_count": 19,
     "metadata": {},
     "output_type": "execute_result"
    }
   ],
   "source": [
    "ESPN_bio_df[\"TYPE\"].value_counts()"
   ]
  },
  {
   "cell_type": "markdown",
   "metadata": {},
   "source": [
    "#### 檢查TYPE是否正確(主職(投手沒OPS、打者沒ERA)) >> OK "
   ]
  },
  {
   "cell_type": "code",
   "execution_count": 20,
   "metadata": {},
   "outputs": [],
   "source": [
    "# mask_check = (ESPN_stats_bio_df[\"TYPE\"].isin([\"pitch\"]))&(pd.notna(ESPN_stats_bio_df[\"OPS\"]))\n",
    "# ESPN_stats_bio_df[mask_check]\n",
    "\n",
    "# mask_check = (ESPN_stats_bio_df[\"TYPE\"].isin([\"bat\"]))&(pd.notna(ESPN_stats_bio_df[\"ERA\"]))\n",
    "# ESPN_stats_bio_df[mask_check]"
   ]
  },
  {
   "cell_type": "markdown",
   "metadata": {},
   "source": [
    "### 守備位置正規化"
   ]
  },
  {
   "cell_type": "code",
   "execution_count": 21,
   "metadata": {},
   "outputs": [],
   "source": [
    "def POS_cleaner(value):\n",
    "    if \"Starting Pitcher\" in value:\n",
    "        return \"SP\"\n",
    "    \n",
    "    elif (\"Relief Pitcher\" in value) | (\"Pitcher\" in value):\n",
    "        return \"RP\"\n",
    "    \n",
    "    elif (\"Fielder\" in value) | (\"Outfielder\" in value):\n",
    "        return \"OF\"\n",
    "\n",
    "    elif \"Shortstop\" in value:\n",
    "        return \"SS\"\n",
    "\n",
    "    elif \"First Baseman\" in value:\n",
    "        return \"1B\"\n",
    "\n",
    "    elif \"Second Baseman\" in value:\n",
    "        return \"2B\"\n",
    "\n",
    "    elif \"Third Baseman\" in value:\n",
    "        return \"3B\"\n",
    "\n",
    "    elif \"Catcher\" in value:\n",
    "        return \"C\"\n",
    "    \n",
    "    elif \"Designated Hitter\" in value:\n",
    "        return \"DH\"\n",
    "    \n",
    "    else:\n",
    "        return np.nan"
   ]
  },
  {
   "cell_type": "code",
   "execution_count": 22,
   "metadata": {},
   "outputs": [],
   "source": [
    "ESPN_stats_bio_df[\"POS_c\"] = ESPN_stats_bio_df[\"POS\"].apply(POS_cleaner)"
   ]
  },
  {
   "cell_type": "code",
   "execution_count": 23,
   "metadata": {},
   "outputs": [
    {
     "data": {
      "text/plain": [
       "array(['DOB'], dtype=object)"
      ]
     },
     "execution_count": 23,
     "metadata": {},
     "output_type": "execute_result"
    }
   ],
   "source": [
    "ESPN_stats_bio_df[pd.isna(ESPN_stats_bio_df[\"POS_c\"])][\"POS\"].unique()"
   ]
  },
  {
   "cell_type": "code",
   "execution_count": 24,
   "metadata": {},
   "outputs": [
    {
     "data": {
      "text/html": [
       "<div>\n",
       "<style scoped>\n",
       "    .dataframe tbody tr th:only-of-type {\n",
       "        vertical-align: middle;\n",
       "    }\n",
       "\n",
       "    .dataframe tbody tr th {\n",
       "        vertical-align: top;\n",
       "    }\n",
       "\n",
       "    .dataframe thead th {\n",
       "        text-align: right;\n",
       "    }\n",
       "</style>\n",
       "<table border=\"1\" class=\"dataframe\">\n",
       "  <thead>\n",
       "    <tr style=\"text-align: right;\">\n",
       "      <th></th>\n",
       "      <th>season</th>\n",
       "      <th>Team</th>\n",
       "      <th>GP</th>\n",
       "      <th>GS</th>\n",
       "      <th>WAR</th>\n",
       "      <th>ERA</th>\n",
       "      <th>IP</th>\n",
       "      <th>K</th>\n",
       "      <th>BB</th>\n",
       "      <th>playerID</th>\n",
       "      <th>Yrs</th>\n",
       "      <th>AB</th>\n",
       "      <th>OPS</th>\n",
       "      <th>POS</th>\n",
       "      <th>DOB</th>\n",
       "      <th>Birthplace</th>\n",
       "      <th>TYPE</th>\n",
       "      <th>POS_c</th>\n",
       "    </tr>\n",
       "  </thead>\n",
       "  <tbody>\n",
       "    <tr>\n",
       "      <th>14857</th>\n",
       "      <td>2018</td>\n",
       "      <td>MIA</td>\n",
       "      <td>31</td>\n",
       "      <td>NaN</td>\n",
       "      <td>0.0</td>\n",
       "      <td>NaN</td>\n",
       "      <td>NaN</td>\n",
       "      <td>NaN</td>\n",
       "      <td>0</td>\n",
       "      <td>33619</td>\n",
       "      <td>1</td>\n",
       "      <td>4.0</td>\n",
       "      <td>0.0</td>\n",
       "      <td>DOB</td>\n",
       "      <td>12/30/1988</td>\n",
       "      <td>Neenah, WI</td>\n",
       "      <td>bat</td>\n",
       "      <td>NaN</td>\n",
       "    </tr>\n",
       "  </tbody>\n",
       "</table>\n",
       "</div>"
      ],
      "text/plain": [
       "      season Team  GP  GS  WAR  ERA  IP   K  BB playerID  Yrs   AB  OPS  POS  \\\n",
       "14857   2018  MIA  31 NaN  0.0  NaN NaN NaN   0    33619    1  4.0  0.0  DOB   \n",
       "\n",
       "              DOB  Birthplace TYPE POS_c  \n",
       "14857  12/30/1988  Neenah, WI  bat   NaN  "
      ]
     },
     "execution_count": 24,
     "metadata": {},
     "output_type": "execute_result"
    }
   ],
   "source": [
    "ESPN_stats_bio_df[pd.isna(ESPN_stats_bio_df[\"POS_c\"])]"
   ]
  },
  {
   "cell_type": "markdown",
   "metadata": {},
   "source": [
    "#### 篩選掉沒有正確POS資訊的選手 1名 (id: 33619)"
   ]
  },
  {
   "cell_type": "code",
   "execution_count": 25,
   "metadata": {},
   "outputs": [
    {
     "name": "stdout",
     "output_type": "stream",
     "text": [
      "15998\n"
     ]
    }
   ],
   "source": [
    "ESPN_stats_bio_df = ESPN_stats_bio_df[pd.notna(ESPN_stats_bio_df[\"POS_c\"])].reset_index(drop=True)\n",
    "print(len(ESPN_stats_bio_df))"
   ]
  },
  {
   "cell_type": "code",
   "execution_count": 26,
   "metadata": {},
   "outputs": [
    {
     "name": "stdout",
     "output_type": "stream",
     "text": [
      "0\n"
     ]
    },
    {
     "data": {
      "text/plain": [
       "RP    4899\n",
       "SP    2843\n",
       "OF    2747\n",
       "C     1387\n",
       "1B    1050\n",
       "2B    1016\n",
       "3B     925\n",
       "SS     670\n",
       "DH     461\n",
       "Name: POS_c, dtype: int64"
      ]
     },
     "execution_count": 26,
     "metadata": {},
     "output_type": "execute_result"
    }
   ],
   "source": [
    "print(ESPN_stats_bio_df[\"POS_c\"].isna().sum())\n",
    "ESPN_stats_bio_df[\"POS_c\"].value_counts()"
   ]
  },
  {
   "cell_type": "markdown",
   "metadata": {},
   "source": [
    "### 清理DOB，計算年齡"
   ]
  },
  {
   "cell_type": "code",
   "execution_count": 27,
   "metadata": {},
   "outputs": [],
   "source": [
    "# ESPN_stats_bio_df[\"DOB\"].unique()"
   ]
  },
  {
   "cell_type": "code",
   "execution_count": 28,
   "metadata": {},
   "outputs": [],
   "source": [
    "ESPN_stats_bio_df[\"DOB\"] = ESPN_stats_bio_df[\"DOB\"].apply(lambda s: s.split(\" \")[0])\n",
    "ESPN_stats_bio_df[\"DOB_fmt\"] = pd.to_datetime(ESPN_stats_bio_df[\"DOB\"], format='%m/%d/%Y', errors='coerce')\n",
    "ESPN_stats_bio_df[\"Age\"] = ESPN_stats_bio_df[\"season\"].astype(\"int\") - ESPN_stats_bio_df[\"DOB_fmt\"].dt.year +1"
   ]
  },
  {
   "cell_type": "markdown",
   "metadata": {},
   "source": [
    "## 表現資料串簽約資料 (球員ID、年分、原球隊)"
   ]
  },
  {
   "cell_type": "code",
   "execution_count": 29,
   "metadata": {},
   "outputs": [],
   "source": [
    "ESPN_FA_df.rename(columns={\"ORG_TEAM_ID\":\"Team\"}, inplace=True)\n",
    "\n",
    "# 合約年串檔\n",
    "FA_cols = [\"playerID\", \"YEAR\", \"Team\", \"NEW_TEAM_ID\", \"contract_Yrs\", \"DOLLARS\", \"STATUS\"]\n",
    "ESPN_stats_bio_FA_df = ESPN_stats_bio_df.merge(ESPN_FA_df[FA_cols], how=\"left\", \n",
    "    left_on=[\"playerID\", \"season\", \"Team\"], right_on=[\"playerID\",\"YEAR\",\"Team\"])\n",
    "\n",
    "# 合約年-1 串檔\n",
    "ESPN_FA_df[\"YEAR_before\"] = ESPN_FA_df[\"YEAR\"].apply(lambda y: str(int(y)-1))\n",
    "ESPN_stats_bio_FA_df = ESPN_stats_bio_FA_df.merge(ESPN_FA_df[[\"playerID\",\"YEAR_before\",\"Team\"]], how=\"left\", \n",
    "    left_on=[\"playerID\", \"season\", \"Team\"], right_on=[\"playerID\",\"YEAR_before\",\"Team\"])\n",
    "\n",
    "# 合約年+1 串檔\n",
    "ESPN_FA_df[\"YEAR_after\"] = ESPN_FA_df[\"YEAR\"].apply(lambda y: str(int(y)+1))\n",
    "ESPN_stats_bio_FA_df = ESPN_stats_bio_FA_df.merge(ESPN_FA_df[[\"playerID\",\"YEAR_after\",\"Team\"]], how=\"left\", \n",
    "    left_on=[\"playerID\", \"season\", \"Team\"], right_on=[\"playerID\",\"YEAR_after\",\"Team\"])"
   ]
  },
  {
   "cell_type": "code",
   "execution_count": 30,
   "metadata": {},
   "outputs": [],
   "source": [
    "# ESPN_stats_bio_FA_df.head()"
   ]
  },
  {
   "cell_type": "code",
   "execution_count": 31,
   "metadata": {},
   "outputs": [
    {
     "name": "stdout",
     "output_type": "stream",
     "text": [
      "15998 15998\n"
     ]
    }
   ],
   "source": [
    "print(len(ESPN_stats_bio_df),len(ESPN_stats_bio_FA_df))"
   ]
  },
  {
   "cell_type": "code",
   "execution_count": 32,
   "metadata": {},
   "outputs": [
    {
     "data": {
      "text/plain": [
       "1.0"
      ]
     },
     "execution_count": 32,
     "metadata": {},
     "output_type": "execute_result"
    }
   ],
   "source": [
    "ESPN_stats_bio_FA_df[\"Team\"].notna().sum() / len(ESPN_stats_bio_FA_df)"
   ]
  },
  {
   "cell_type": "markdown",
   "metadata": {},
   "source": [
    "# 合併後變數處裡與分割"
   ]
  },
  {
   "cell_type": "markdown",
   "metadata": {},
   "source": [
    "## 處理薪水， 將合約薪水攤到每一年去(TODO )"
   ]
  },
  {
   "cell_type": "markdown",
   "metadata": {},
   "source": [
    "光有FA合約年的簽約薪資無法拚湊出每一年的薪資(新合約發生在成為FA前)，比對BR的資料出入太大(ex:Matt Albers ESPN ID: 28525)"
   ]
  },
  {
   "cell_type": "code",
   "execution_count": 33,
   "metadata": {},
   "outputs": [
    {
     "data": {
      "text/plain": [
       "count    1387.000000\n",
       "mean       15.100686\n",
       "std        32.473158\n",
       "min         0.380000\n",
       "25%         2.000000\n",
       "50%         4.500000\n",
       "75%        13.000000\n",
       "max       330.000000\n",
       "Name: DOLLARS_M, dtype: float64"
      ]
     },
     "execution_count": 33,
     "metadata": {},
     "output_type": "execute_result"
    }
   ],
   "source": [
    "mask_dont = (ESPN_stats_bio_FA_df[\"DOLLARS\"].str.contains('Minor|-', regex=True)) | (pd.isna(ESPN_stats_bio_FA_df[\"DOLLARS\"]))\n",
    "ESPN_stats_bio_FA_df.loc[mask_dont, \"DOLLARS\"] = np.nan\n",
    "ESPN_stats_bio_FA_df.loc[~mask_dont, \"DOLLARS\"] = ESPN_stats_bio_FA_df.loc[~mask_dont, \"DOLLARS\"].replace('[\\$,]', '', regex=True).astype(float)\n",
    "ESPN_stats_bio_FA_df[\"DOLLARS_M\"] = ESPN_stats_bio_FA_df[\"DOLLARS\"].apply(lambda n: n/(10**6) if isinstance(n,float) else np.nan)\n",
    "ESPN_stats_bio_FA_df[\"DOLLARS_M\"].describe()"
   ]
  },
  {
   "cell_type": "code",
   "execution_count": 34,
   "metadata": {},
   "outputs": [],
   "source": [
    "# ESPN_stats_bio_FA_df[ESPN_stats_bio_FA_df[\"playerID\"].isin([\"28525\"])]"
   ]
  },
  {
   "cell_type": "code",
   "execution_count": 35,
   "metadata": {},
   "outputs": [],
   "source": [
    "#TODO"
   ]
  },
  {
   "cell_type": "markdown",
   "metadata": {},
   "source": [
    "## 分割資料: 1.每人每年在各球隊(已有:ESPN_stats_bio_FA_df)、2.每人每年整體(若單年有跨球隊表現會從 ESPN球員 Split分頁中找到整體值)"
   ]
  },
  {
   "cell_type": "code",
   "execution_count": 36,
   "metadata": {},
   "outputs": [],
   "source": [
    "# ESPN_stats_bio_FA_df[ESPN_stats_bio_FA_df[\"playerID\"].isin([\"28525\"])]"
   ]
  },
  {
   "cell_type": "markdown",
   "metadata": {},
   "source": [
    "### 找出有單年度跨球隊表現的球員季度 (2006之後)"
   ]
  },
  {
   "cell_type": "code",
   "execution_count": 37,
   "metadata": {},
   "outputs": [],
   "source": [
    "palyer_season_team_count_df = ESPN_stats_bio_FA_df.groupby([\"playerID\",\"season\", \"TYPE\"], as_index=False)[\"Team\"].count()\n",
    "palyer_season_team_count_GOAL_df = palyer_season_team_count_df[(palyer_season_team_count_df[\"Team\"]>1)&(palyer_season_team_count_df[\"season\"].astype(int)>=2006)]"
   ]
  },
  {
   "cell_type": "markdown",
   "metadata": {},
   "source": [
    "### 回ESPN 球員 Split 分頁 找到當年度整體表現 **(已執行過不再執行)**"
   ]
  },
  {
   "cell_type": "markdown",
   "metadata": {},
   "source": [
    "#### ERA、OPS 的公式算法? "
   ]
  },
  {
   "cell_type": "code",
   "execution_count": 38,
   "metadata": {},
   "outputs": [],
   "source": [
    "# import time\n",
    "\n",
    "# playerID_lst = []\n",
    "# year_lst = []\n",
    "# type_lst = []\n",
    "# goal_col_name_lst = []\n",
    "# goal_col_value_lst = []\n",
    "# for _id, year, _type in tqdm(palyer_season_team_count_GOAL_df[[\"playerID\", \"season\", \"TYPE\"]].values):\n",
    "    \n",
    "#     if _type == \"pitch\":\n",
    "#         type_for_url = \"pitching\"\n",
    "#         goal_col_name = \"ERA\"\n",
    "    \n",
    "#     if _type == \"bat\":\n",
    "#         type_for_url = \"batting\"\n",
    "#         goal_col_name = \"OPS\"\n",
    "\n",
    "#     url = f\"https://www.espn.com/mlb/player/splits/_/id/{_id}/year/{year}/category/{type_for_url}\"\n",
    "#     try:\n",
    "#         s = pd.read_html(url)\n",
    "#         df_temp = s[1].copy(deep=True)\n",
    "#         df_temp.columns = s[1].loc[0,:].values\n",
    "#         df_temp.drop(index=[0], inplace=True)\n",
    "#         goal_col_value = float(df_temp.loc[1,goal_col_name])\n",
    "\n",
    "#         playerID_lst.append(_id)\n",
    "#         year_lst.append(year)\n",
    "#         type_lst.append(_type)\n",
    "#         goal_col_name_lst.append(goal_col_name)\n",
    "#         goal_col_value_lst.append(goal_col_value)\n",
    "        \n",
    "#     except:\n",
    "#         print(url)\n",
    "    \n",
    "#     time.sleep(1)"
   ]
  },
  {
   "cell_type": "code",
   "execution_count": 39,
   "metadata": {},
   "outputs": [],
   "source": [
    "# GOAL_df = pd.DataFrame(\n",
    "#     {'playerID': playerID_lst,\n",
    "#      'season': year_lst,\n",
    "#      'TYPE': type_lst,\n",
    "#      'goal_col_name': goal_col_name_lst,\n",
    "#      'goal_col_value': goal_col_value_lst\n",
    "#     })"
   ]
  },
  {
   "cell_type": "code",
   "execution_count": 40,
   "metadata": {},
   "outputs": [],
   "source": [
    "# # 輸出備份\n",
    "# formtoCsv(GOAL_df, \"GOAL_df\")"
   ]
  },
  {
   "cell_type": "code",
   "execution_count": 41,
   "metadata": {},
   "outputs": [
    {
     "name": "stdout",
     "output_type": "stream",
     "text": [
      "  >> 讀取:: G:\\我的雲端硬碟\\learning\\論文今年會寫完\\0.資源包\\2.資料\\6.ESPN_free_agent\\GOAL_df_20210417_21.08.00.csv\n"
     ]
    }
   ],
   "source": [
    "# 讀取備份\n",
    "GOAL_df = read_data_dir_fPathExt(r\"G:\\我的雲端硬碟\\learning\\論文今年會寫完\\0.資源包\\2.資料\\6.ESPN_free_agent\\GOAL_df_20210417_21.08.00.csv\")\n",
    "GOAL_df.rename(columns={\"type\":\"TYPE\"},inplace=True)\n",
    "GOAL_df[\"playerID\"] = GOAL_df[\"playerID\"].astype(str)\n",
    "GOAL_df[\"season\"] = GOAL_df[\"season\"].astype(str)"
   ]
  },
  {
   "cell_type": "markdown",
   "metadata": {},
   "source": [
    "### mutilTeam_count>1 串GOAL_df，後在與 mutilTeam_count=1 合併"
   ]
  },
  {
   "cell_type": "code",
   "execution_count": 42,
   "metadata": {},
   "outputs": [
    {
     "name": "stdout",
     "output_type": "stream",
     "text": [
      "15998\n"
     ]
    }
   ],
   "source": [
    "palyer_season_team_count_GOAL_df.rename(columns={\"Team\":\"mutilTeam_count\"})\n",
    "ESPN_stats_bio_FA_df = ESPN_stats_bio_FA_df.merge(palyer_season_team_count_GOAL_df.rename(columns={\"Team\":\"mutilTeam_count\"})\n",
    "                                                 , how=\"left\",on=[\"playerID\", \"season\", \"TYPE\"])\n",
    "\n",
    "ESPN_stats_bio_FA_df.loc[:,\"mutilTeam_count\"] = ESPN_stats_bio_FA_df.loc[:,\"mutilTeam_count\"].fillna(1)\n",
    "print(len(ESPN_stats_bio_FA_df))"
   ]
  },
  {
   "cell_type": "code",
   "execution_count": 43,
   "metadata": {},
   "outputs": [],
   "source": [
    "temp_split_mutil_df = ESPN_stats_bio_FA_df[ESPN_stats_bio_FA_df[\"mutilTeam_count\"]>1].reset_index(drop=True)\n",
    "temp_split_one_df = ESPN_stats_bio_FA_df[ESPN_stats_bio_FA_df[\"mutilTeam_count\"]==1].reset_index(drop=True)"
   ]
  },
  {
   "cell_type": "code",
   "execution_count": 44,
   "metadata": {},
   "outputs": [
    {
     "data": {
      "text/plain": [
       "'1.1.3'"
      ]
     },
     "execution_count": 44,
     "metadata": {},
     "output_type": "execute_result"
    }
   ],
   "source": [
    "pd.__version__ # 0.25.3\n",
    "# https://stackoverflow.com/questions/14529838/apply-multiple-functions-to-multiple-groupby-columns/53096340"
   ]
  },
  {
   "cell_type": "code",
   "execution_count": 45,
   "metadata": {},
   "outputs": [],
   "source": [
    "# 加總 GP、WAR； 平均\n",
    "cols = [\n",
    " 'season',\n",
    "# 'Team',\n",
    " 'GP',\n",
    " 'GS',\n",
    " 'WAR',\n",
    "#  'ERA',\n",
    " 'IP',\n",
    " 'K',\n",
    " 'BB',\n",
    " 'playerID',\n",
    "#  'Yrs',\n",
    " 'AB',\n",
    "#  'OPS',\n",
    "#  'POS',\n",
    "#  'DOB',\n",
    "#  'Birthplace',\n",
    " 'TYPE',\n",
    "#  'POS_c',\n",
    "#  'DOB_fmt',\n",
    "#  'Age',\n",
    "#  'YEAR',\n",
    "#  'ORG_TEAM_ID',\n",
    "#  'NEW_TEAM_ID',\n",
    "#  'contract_Yrs',\n",
    "#  'DOLLARS',\n",
    "#  'STATUS',\n",
    "#  'DOLLARS_M',\n",
    "#  'mutilTeam_count'\n",
    "]\n",
    "\n",
    "\n",
    "\n",
    "\n",
    "temp_split_mutil_gp_df = temp_split_mutil_df[cols].groupby(['playerID','season','TYPE']).agg(\n",
    "    {\n",
    "            \"GP\": \"sum\",\n",
    "            \"WAR\":\"sum\",\n",
    "            \"GS\":\"sum\",\n",
    "            \"IP\":\"sum\",\n",
    "            \"K\":\"sum\",\n",
    "            \"BB\":\"sum\",\n",
    "            \"AB\":\"sum\",\n",
    "            }).reset_index()\n",
    "\n",
    "temp_split_mutil_gp_df.columns = ['playerID','season','TYPE', 'GP' , 'WAR', 'GS', 'IP', 'K', 'BB', 'AB']\n",
    "\n",
    "# temp_split_mutil_gp_df"
   ]
  },
  {
   "cell_type": "markdown",
   "metadata": {},
   "source": [
    "#### temp_split_mutil_gp_df 串 GOAL_df"
   ]
  },
  {
   "cell_type": "code",
   "execution_count": 46,
   "metadata": {},
   "outputs": [],
   "source": [
    "# bat\n",
    "temp_split_mutil_gp_bat_df = temp_split_mutil_gp_df[temp_split_mutil_gp_df[\"TYPE\"].isin([\"bat\"])].merge(GOAL_df[[\"playerID\",\"season\",\"TYPE\",\"goal_col_value\"]]\n",
    "                                                                          , how=\"left\", on=[\"playerID\",\"season\",\"TYPE\"])\n",
    "temp_split_mutil_gp_bat_df.rename(columns={\"goal_col_value\":\"OPS\"},inplace=True)\n",
    "\n",
    "# pitch\n",
    "temp_split_mutil_gp_pitch_df = temp_split_mutil_gp_df[temp_split_mutil_gp_df[\"TYPE\"].isin([\"pitch\"])].merge(GOAL_df[[\"playerID\",\"season\",\"TYPE\",\"goal_col_value\"]]\n",
    "                                                                          , how=\"left\", on=[\"playerID\",\"season\",\"TYPE\"])\n",
    "temp_split_mutil_gp_pitch_df.rename(columns={\"goal_col_value\":\"ERA\"},inplace=True)"
   ]
  },
  {
   "cell_type": "code",
   "execution_count": 47,
   "metadata": {},
   "outputs": [
    {
     "name": "stdout",
     "output_type": "stream",
     "text": [
      "1088\n"
     ]
    }
   ],
   "source": [
    "temp_split_mutil_gp_m_df = pd.concat([temp_split_mutil_gp_bat_df, temp_split_mutil_gp_pitch_df], axis=0,sort=False).reset_index(drop=True)\n",
    "print(len(temp_split_mutil_gp_m_df))"
   ]
  },
  {
   "cell_type": "code",
   "execution_count": 48,
   "metadata": {},
   "outputs": [
    {
     "name": "stdout",
     "output_type": "stream",
     "text": [
      "1088\n"
     ]
    }
   ],
   "source": [
    "#串回個人欄位\n",
    "temp_split_mutil_gp_m_df = temp_split_mutil_gp_m_df.merge(ESPN_stats_bio_FA_df[[\"playerID\",\"season\",\"Yrs\",\"Birthplace\",\"POS_c\",\"Age\"]].drop_duplicates(\n",
    "                                                            subset=[\"playerID\",\"season\"],keep=\"first\")\n",
    "                                                          , how=\"left\",on=[\"playerID\",\"season\"])\n",
    "print(len(temp_split_mutil_gp_m_df))"
   ]
  },
  {
   "cell_type": "code",
   "execution_count": 49,
   "metadata": {},
   "outputs": [
    {
     "name": "stdout",
     "output_type": "stream",
     "text": [
      "1088\n"
     ]
    }
   ],
   "source": [
    "#串回合約資料\n",
    "temp_split_mutil_gp_m_df = temp_split_mutil_gp_m_df.merge(ESPN_stats_bio_FA_df[[\"playerID\",\"season\",'YEAR','Team', 'NEW_TEAM_ID', 'contract_Yrs'\n",
    "                                                                               ,'DOLLARS', 'STATUS','DOLLARS_M']].sort_values(by=[\"YEAR\"],ascending=[1]\n",
    "                                                            ).drop_duplicates(\n",
    "                                                            subset=[\"playerID\",\"season\"],keep=\"first\")\n",
    "                                                          , how=\"left\",on=[\"playerID\",\"season\"])\n",
    "print(len(temp_split_mutil_gp_m_df))"
   ]
  },
  {
   "cell_type": "markdown",
   "metadata": {},
   "source": [
    "#### 與 mutilTeam_count=1 合併"
   ]
  },
  {
   "cell_type": "code",
   "execution_count": 50,
   "metadata": {},
   "outputs": [],
   "source": [
    "# temp_split_mutil_gp_m_df.drop_duplicates(subset=[\"playerID\",\"season\"],keep=\"first\")"
   ]
  },
  {
   "cell_type": "code",
   "execution_count": 51,
   "metadata": {},
   "outputs": [
    {
     "name": "stdout",
     "output_type": "stream",
     "text": [
      "14864\n"
     ]
    }
   ],
   "source": [
    "#部分2006年以前的會撐開，但等等就拿掉了\n",
    "ESPN_stats_bio_FA_no_team_gp_df = pd.concat([temp_split_mutil_gp_m_df, temp_split_one_df[temp_split_mutil_gp_m_df.columns.to_list()+[\"mutilTeam_count\",\"YEAR_before\",\"YEAR_after\"]]], axis=0,sort=False).sort_values(\n",
    "    by=[\"playerID\",\"season\"],ascending=[1,1]).reset_index(drop=True)\n",
    "print(len(ESPN_stats_bio_FA_no_team_gp_df))"
   ]
  },
  {
   "cell_type": "markdown",
   "metadata": {},
   "source": [
    "## 延伸變數製作"
   ]
  },
  {
   "cell_type": "markdown",
   "metadata": {},
   "source": [
    "### 合約年 dummy 製作"
   ]
  },
  {
   "cell_type": "code",
   "execution_count": 52,
   "metadata": {},
   "outputs": [],
   "source": [
    "# 合約年\n",
    "ESPN_stats_bio_FA_df[\"is_FA_contract_year\"] = ESPN_stats_bio_FA_df[\"YEAR\"].apply(lambda y: pd.notna(y))\n",
    "ESPN_stats_bio_FA_no_team_gp_df[\"is_FA_contract_year\"] = ESPN_stats_bio_FA_no_team_gp_df[\"YEAR\"].apply(lambda y: pd.notna(y))\n",
    "\n",
    "# 合約年-1 (before)\n",
    "ESPN_stats_bio_FA_df[\"is_FA_contract_year_before\"] = ESPN_stats_bio_FA_df[\"YEAR_before\"].apply(lambda y: pd.notna(y))\n",
    "ESPN_stats_bio_FA_no_team_gp_df[\"is_FA_contract_year_before\"] = ESPN_stats_bio_FA_no_team_gp_df[\"YEAR_before\"].apply(lambda y: pd.notna(y))\n",
    "\n",
    "# 合約年+1 (after)\n",
    "ESPN_stats_bio_FA_df[\"is_FA_contract_year_after\"] = ESPN_stats_bio_FA_df[\"YEAR_after\"].apply(lambda y: pd.notna(y))\n",
    "ESPN_stats_bio_FA_no_team_gp_df[\"is_FA_contract_year_after\"] = ESPN_stats_bio_FA_no_team_gp_df[\"YEAR_after\"].apply(lambda y: pd.notna(y))"
   ]
  },
  {
   "cell_type": "markdown",
   "metadata": {},
   "source": [
    "### 年齡平方"
   ]
  },
  {
   "cell_type": "code",
   "execution_count": 53,
   "metadata": {},
   "outputs": [],
   "source": [
    "ESPN_stats_bio_FA_df[\"Age_sq\"] = ESPN_stats_bio_FA_df[\"Age\"] * ESPN_stats_bio_FA_df[\"Age\"]\n",
    "ESPN_stats_bio_FA_no_team_gp_df[\"Age_sq\"] = ESPN_stats_bio_FA_no_team_gp_df[\"Age\"] * ESPN_stats_bio_FA_no_team_gp_df[\"Age\"]"
   ]
  },
  {
   "cell_type": "markdown",
   "metadata": {},
   "source": [
    "### ERA 數值清理"
   ]
  },
  {
   "cell_type": "code",
   "execution_count": 54,
   "metadata": {},
   "outputs": [],
   "source": [
    "def str_to_float_cleaner(str_value):\n",
    "    try:\n",
    "        if \"inf\" in str_value:\n",
    "            return np.nan\n",
    "        \n",
    "        return float(str_value)\n",
    "        \n",
    "    except:\n",
    "        return np.nan"
   ]
  },
  {
   "cell_type": "code",
   "execution_count": 55,
   "metadata": {},
   "outputs": [],
   "source": [
    "ESPN_stats_bio_FA_df[\"ERA\"] = ESPN_stats_bio_FA_df[\"ERA\"].apply(str_to_float_cleaner)\n",
    "ESPN_stats_bio_FA_no_team_gp_df[\"ERA\"] = ESPN_stats_bio_FA_no_team_gp_df[\"ERA\"].apply(str_to_float_cleaner)"
   ]
  },
  {
   "cell_type": "markdown",
   "metadata": {},
   "source": [
    "### 數值ID (playerID_num、season_num) "
   ]
  },
  {
   "cell_type": "code",
   "execution_count": 56,
   "metadata": {},
   "outputs": [],
   "source": [
    "ESPN_stats_bio_FA_df[\"playerID_num\"] = ESPN_stats_bio_FA_df[\"playerID\"].astype(int)\n",
    "ESPN_stats_bio_FA_no_team_gp_df[\"playerID_num\"] = ESPN_stats_bio_FA_no_team_gp_df[\"playerID\"].astype(int)\n",
    "\n",
    "ESPN_stats_bio_FA_df[\"season_num\"] = ESPN_stats_bio_FA_df[\"season\"].astype(int)\n",
    "ESPN_stats_bio_FA_no_team_gp_df[\"season_num\"] = ESPN_stats_bio_FA_no_team_gp_df[\"season\"].astype(int)"
   ]
  },
  {
   "cell_type": "markdown",
   "metadata": {},
   "source": [
    "### K/BB (三振數/保送數)"
   ]
  },
  {
   "cell_type": "code",
   "execution_count": 57,
   "metadata": {},
   "outputs": [],
   "source": [
    "ESPN_stats_bio_FA_df.loc[:, \"K/BB\"] = ESPN_stats_bio_FA_df.loc[:, \"K\"] / ESPN_stats_bio_FA_df.loc[:, \"BB\"]\n",
    "ESPN_stats_bio_FA_df.loc[ESPN_stats_bio_FA_df[\"K/BB\"]>100, \"K/BB\"] = np.nan\n",
    "\n",
    "ESPN_stats_bio_FA_no_team_gp_df.loc[:, \"K/BB\"] = ESPN_stats_bio_FA_no_team_gp_df.loc[:, \"K\"] / ESPN_stats_bio_FA_no_team_gp_df.loc[:, \"BB\"]\n",
    "ESPN_stats_bio_FA_no_team_gp_df.loc[ESPN_stats_bio_FA_no_team_gp_df[\"K/BB\"]>100, \"K/BB\"] = np.nan"
   ]
  },
  {
   "cell_type": "code",
   "execution_count": 58,
   "metadata": {},
   "outputs": [],
   "source": [
    "# ESPN_stats_bio_FA_df.loc[:, \"K/BB\"].describe()\n",
    "# ESPN_stats_bio_FA_no_team_gp_df.loc[:, \"K/BB\"].describe()"
   ]
  },
  {
   "cell_type": "markdown",
   "metadata": {},
   "source": [
    "### DV (deviation) 製作: 目標Y(WAR、OPS、ERA)，計算當年值-前三年移動平均，no Team only"
   ]
  },
  {
   "cell_type": "code",
   "execution_count": 59,
   "metadata": {},
   "outputs": [],
   "source": [
    "# ESPN_stats_bio_FA_no_team_gp_df.head()"
   ]
  },
  {
   "cell_type": "code",
   "execution_count": 60,
   "metadata": {},
   "outputs": [],
   "source": [
    "for y in [\"WAR\",\"ERA\",\"K/BB\",\"IP\",\"AB\",\"OPS\"]:\n",
    "    # 1.製作 y_lag_1\n",
    "    y_lag_1 = f\"{y}_lag_1\"\n",
    "    ESPN_stats_bio_FA_no_team_gp_df.loc[:, y_lag_1] = ESPN_stats_bio_FA_no_team_gp_df.sort_values(\n",
    "                                by=[\"playerID\", \"season\"], ascending=[1,1]).groupby([\"playerID\"])[y].shift(1)\n",
    "    \n",
    "    # 2. 製作以y_lag_1為底的3年移動平均(可容忍3缺1筆)\n",
    "    y_lag_1_MA3 = f\"{y_lag_1}_MA3\"\n",
    "    ESPN_stats_bio_FA_no_team_gp_df.loc[:, y_lag_1_MA3] = ESPN_stats_bio_FA_no_team_gp_df.sort_values(\n",
    "                                by=[\"playerID\", \"season\"], ascending=[1,1]).groupby([\"playerID\"])[y_lag_1].rolling(\n",
    "                                window=3,min_periods=2).mean().reset_index().set_index(\"level_1\")[y_lag_1].apply(\n",
    "                                lambda m: round(m,2) if pd.notna(m) else np.nan )\n",
    "    \n",
    "    # 3. 製作DV (當年y - y_lab1_1_MA3)\n",
    "    y_DV = f\"{y}_DV\"\n",
    "    ESPN_stats_bio_FA_no_team_gp_df.loc[:, y_DV] = ESPN_stats_bio_FA_no_team_gp_df.loc[:, y] \\\n",
    "                                                    - ESPN_stats_bio_FA_no_team_gp_df.loc[:, y_lag_1_MA3]"
   ]
  },
  {
   "cell_type": "code",
   "execution_count": 61,
   "metadata": {},
   "outputs": [
    {
     "data": {
      "text/html": [
       "<div>\n",
       "<style scoped>\n",
       "    .dataframe tbody tr th:only-of-type {\n",
       "        vertical-align: middle;\n",
       "    }\n",
       "\n",
       "    .dataframe tbody tr th {\n",
       "        vertical-align: top;\n",
       "    }\n",
       "\n",
       "    .dataframe thead th {\n",
       "        text-align: right;\n",
       "    }\n",
       "</style>\n",
       "<table border=\"1\" class=\"dataframe\">\n",
       "  <thead>\n",
       "    <tr style=\"text-align: right;\">\n",
       "      <th></th>\n",
       "      <th>playerID</th>\n",
       "      <th>season</th>\n",
       "      <th>K/BB</th>\n",
       "      <th>K/BB_lag_1</th>\n",
       "      <th>K/BB_lag_1_MA3</th>\n",
       "      <th>K/BB_DV</th>\n",
       "    </tr>\n",
       "  </thead>\n",
       "  <tbody>\n",
       "    <tr>\n",
       "      <th>14858</th>\n",
       "      <td>6531</td>\n",
       "      <td>2006</td>\n",
       "      <td>1.153846</td>\n",
       "      <td>NaN</td>\n",
       "      <td>NaN</td>\n",
       "      <td>NaN</td>\n",
       "    </tr>\n",
       "    <tr>\n",
       "      <th>14859</th>\n",
       "      <td>6531</td>\n",
       "      <td>2007</td>\n",
       "      <td>1.558824</td>\n",
       "      <td>1.153846</td>\n",
       "      <td>NaN</td>\n",
       "      <td>NaN</td>\n",
       "    </tr>\n",
       "    <tr>\n",
       "      <th>14860</th>\n",
       "      <td>6531</td>\n",
       "      <td>2008</td>\n",
       "      <td>1.722222</td>\n",
       "      <td>1.558824</td>\n",
       "      <td>1.36</td>\n",
       "      <td>0.362222</td>\n",
       "    </tr>\n",
       "    <tr>\n",
       "      <th>14861</th>\n",
       "      <td>6531</td>\n",
       "      <td>2009</td>\n",
       "      <td>1.500000</td>\n",
       "      <td>1.722222</td>\n",
       "      <td>1.48</td>\n",
       "      <td>0.020000</td>\n",
       "    </tr>\n",
       "    <tr>\n",
       "      <th>14862</th>\n",
       "      <td>6531</td>\n",
       "      <td>2010</td>\n",
       "      <td>1.500000</td>\n",
       "      <td>1.500000</td>\n",
       "      <td>1.59</td>\n",
       "      <td>-0.090000</td>\n",
       "    </tr>\n",
       "    <tr>\n",
       "      <th>14863</th>\n",
       "      <td>6531</td>\n",
       "      <td>2011</td>\n",
       "      <td>1.166667</td>\n",
       "      <td>1.500000</td>\n",
       "      <td>1.57</td>\n",
       "      <td>-0.403333</td>\n",
       "    </tr>\n",
       "  </tbody>\n",
       "</table>\n",
       "</div>"
      ],
      "text/plain": [
       "      playerID season      K/BB  K/BB_lag_1  K/BB_lag_1_MA3   K/BB_DV\n",
       "14858     6531   2006  1.153846         NaN             NaN       NaN\n",
       "14859     6531   2007  1.558824    1.153846             NaN       NaN\n",
       "14860     6531   2008  1.722222    1.558824            1.36  0.362222\n",
       "14861     6531   2009  1.500000    1.722222            1.48  0.020000\n",
       "14862     6531   2010  1.500000    1.500000            1.59 -0.090000\n",
       "14863     6531   2011  1.166667    1.500000            1.57 -0.403333"
      ]
     },
     "execution_count": 61,
     "metadata": {},
     "output_type": "execute_result"
    }
   ],
   "source": [
    "ESPN_stats_bio_FA_no_team_gp_df[[\"playerID\", \"season\", \"K/BB\", \"K/BB_lag_1\", \"K/BB_lag_1_MA3\", \"K/BB_DV\"]][-6:]"
   ]
  },
  {
   "cell_type": "markdown",
   "metadata": {},
   "source": [
    "### FIRST (複數年合約後第1個賽季 dummy)"
   ]
  },
  {
   "cell_type": "code",
   "execution_count": 62,
   "metadata": {},
   "outputs": [],
   "source": [
    "# ESPN_stats_bio_FA_df.columns"
   ]
  },
  {
   "cell_type": "code",
   "execution_count": 63,
   "metadata": {},
   "outputs": [],
   "source": [
    "# ESPN_stats_bio_FA_no_team_gp_df.columns"
   ]
  },
  {
   "cell_type": "code",
   "execution_count": 64,
   "metadata": {},
   "outputs": [
    {
     "data": {
      "text/plain": [
       "False    15466\n",
       "True       532\n",
       "Name: FIRST, dtype: int64"
      ]
     },
     "execution_count": 64,
     "metadata": {},
     "output_type": "execute_result"
    }
   ],
   "source": [
    "# ESPN_stats_bio_FA_df\n",
    "multi_contract_Yrs_mask = ESPN_stats_bio_FA_df[\"contract_Yrs\"]>1\n",
    "multi_contract_Yrs_df = ESPN_stats_bio_FA_df[multi_contract_Yrs_mask][[\"playerID\",\"season_num\",\"contract_Yrs\"]].reset_index(drop=True)\n",
    "multi_contract_Yrs_df.loc[:, \"season_plus_1\"] = (multi_contract_Yrs_df.loc[:, \"season_num\"] +1).astype(str)\n",
    "multi_contract_Yrs_df.loc[:, \"FIRST\"] = True\n",
    "# multi_contract_Yrs_df\n",
    "\n",
    "# 合併FIRST 結果\n",
    "ESPN_stats_bio_FA_df = ESPN_stats_bio_FA_df.merge(multi_contract_Yrs_df[[\"playerID\",\"season_plus_1\",\"FIRST\"]]\n",
    "                                                                       ,how=\"left\"\n",
    "                                                                        ,left_on=[\"playerID\",\"season\"]\n",
    "                                                                        ,right_on=[\"playerID\",\"season_plus_1\"])\n",
    "ESPN_stats_bio_FA_df.loc[:,\"FIRST\"].fillna(False, inplace=True)\n",
    "ESPN_stats_bio_FA_df.loc[:,\"FIRST\"].value_counts()"
   ]
  },
  {
   "cell_type": "code",
   "execution_count": 65,
   "metadata": {},
   "outputs": [
    {
     "data": {
      "text/plain": [
       "False    14344\n",
       "True       520\n",
       "Name: FIRST, dtype: int64"
      ]
     },
     "execution_count": 65,
     "metadata": {},
     "output_type": "execute_result"
    }
   ],
   "source": [
    "# ESPN_stats_bio_FA_no_team_gp_df\n",
    "multi_contract_Yrs_mask = ESPN_stats_bio_FA_no_team_gp_df[\"contract_Yrs\"]>1\n",
    "multi_contract_Yrs_df = ESPN_stats_bio_FA_no_team_gp_df[multi_contract_Yrs_mask][[\"playerID\",\"season_num\",\"contract_Yrs\"]].reset_index(drop=True)\n",
    "multi_contract_Yrs_df.loc[:, \"season_plus_1\"] = (multi_contract_Yrs_df.loc[:, \"season_num\"] +1).astype(str)\n",
    "multi_contract_Yrs_df.loc[:, \"FIRST\"] = True\n",
    "# multi_contract_Yrs_df\n",
    "\n",
    "# 合併FIRST 結果\n",
    "ESPN_stats_bio_FA_no_team_gp_df = ESPN_stats_bio_FA_no_team_gp_df.merge(multi_contract_Yrs_df[[\"playerID\",\"season_plus_1\",\"FIRST\"]]\n",
    "                                                                       ,how=\"left\"\n",
    "                                                                        ,left_on=[\"playerID\",\"season\"]\n",
    "                                                                        ,right_on=[\"playerID\",\"season_plus_1\"])\n",
    "ESPN_stats_bio_FA_no_team_gp_df.loc[:,\"FIRST\"].fillna(False, inplace=True)\n",
    "ESPN_stats_bio_FA_no_team_gp_df.loc[:,\"FIRST\"].value_counts()"
   ]
  },
  {
   "cell_type": "markdown",
   "metadata": {},
   "source": [
    "### END 最後一年出賽"
   ]
  },
  {
   "cell_type": "code",
   "execution_count": 66,
   "metadata": {},
   "outputs": [],
   "source": [
    "# END\n",
    "player_max_season_df[\"END\"] = 1\n",
    "\n",
    "ESPN_stats_bio_FA_df = ESPN_stats_bio_FA_df.merge(player_max_season_df, how=\"left\", on=[\"playerID\",\"season\"])\n",
    "ESPN_stats_bio_FA_df[\"END\"].fillna(0, inplace=True)\n",
    "\n",
    "ESPN_stats_bio_FA_no_team_gp_df = ESPN_stats_bio_FA_no_team_gp_df.merge(player_max_season_df, how=\"left\", on=[\"playerID\",\"season\"])\n",
    "ESPN_stats_bio_FA_no_team_gp_df[\"END\"].fillna(0, inplace=True)"
   ]
  },
  {
   "cell_type": "markdown",
   "metadata": {},
   "source": [
    "# 篩選表現介於2006年~2019年 & 大聯盟年資6年以上 &(野手AB、投手IP 篩選(資料分布非常態，3倍標準差不適用，維持原IP 30、AB 60)) 輸出"
   ]
  },
  {
   "cell_type": "markdown",
   "metadata": {},
   "source": [
    "### 有team版"
   ]
  },
  {
   "cell_type": "code",
   "execution_count": 88,
   "metadata": {},
   "outputs": [
    {
     "name": "stdout",
     "output_type": "stream",
     "text": [
      "count    7742.000000\n",
      "mean       79.117282\n",
      "std        66.106851\n",
      "min         0.000000\n",
      "25%        27.025000\n",
      "50%        60.000000\n",
      "75%       118.000000\n",
      "max       281.200000\n",
      "Name: IP, dtype: float64\n",
      "277.43783668545484\n",
      "-119.20327197349411\n"
     ]
    }
   ],
   "source": [
    "df_IP =  ESPN_stats_bio_FA_df.loc[ESPN_stats_bio_FA_df[\"TYPE\"].isin([\"pitch\"]),\"IP\"]\n",
    "Upper_boundary_limit = df_IP.mean() + 3* df_IP.std()\n",
    "Lower_boundary_limit = df_IP.mean() - 3* df_IP.std()\n",
    "\n",
    "\n",
    "print(df_IP.describe())\n",
    "print(Upper_boundary_limit)\n",
    "print(Lower_boundary_limit)"
   ]
  },
  {
   "cell_type": "code",
   "execution_count": 104,
   "metadata": {},
   "outputs": [
    {
     "data": {
      "text/plain": [
       "<AxesSubplot:ylabel='Frequency'>"
      ]
     },
     "execution_count": 104,
     "metadata": {},
     "output_type": "execute_result"
    },
    {
     "data": {
      "image/png": "[encoded data removed]",
      "text/plain": [
       "<Figure size 432x288 with 1 Axes>"
      ]
     },
     "metadata": {
      "needs_background": "light"
     },
     "output_type": "display_data"
    }
   ],
   "source": [
    "df_IP.plot.hist()"
   ]
  },
  {
   "cell_type": "code",
   "execution_count": 105,
   "metadata": {},
   "outputs": [
    {
     "data": {
      "text/plain": [
       "<AxesSubplot:ylabel='Frequency'>"
      ]
     },
     "execution_count": 105,
     "metadata": {},
     "output_type": "execute_result"
    },
    {
     "data": {
      "image/png": "[encoded data removed]",
      "text/plain": [
       "<Figure size 432x288 with 1 Axes>"
      ]
     },
     "metadata": {
      "needs_background": "light"
     },
     "output_type": "display_data"
    }
   ],
   "source": [
    "df_AB =  ESPN_stats_bio_FA_df.loc[ESPN_stats_bio_FA_df[\"TYPE\"].isin([\"bat\"]),\"AB\"]\n",
    "df_AB.plot.hist()"
   ]
  },
  {
   "cell_type": "markdown",
   "metadata": {},
   "source": [
    "篩選"
   ]
  },
  {
   "cell_type": "code",
   "execution_count": 63,
   "metadata": {},
   "outputs": [
    {
     "name": "stdout",
     "output_type": "stream",
     "text": [
      "15998 6601\n"
     ]
    }
   ],
   "source": [
    "mask_pic = (ESPN_stats_bio_FA_df[\"season_num\"]>=2006) & (ESPN_stats_bio_FA_df[\"season_num\"]<=2019) & (ESPN_stats_bio_FA_df[\"Yrs\"]>=6)\n",
    "ESPN_stats_bio_FA_pic_df = ESPN_stats_bio_FA_df[mask_pic].reset_index(drop=True)\n",
    "print(len(ESPN_stats_bio_FA_df),len(ESPN_stats_bio_FA_pic_df))"
   ]
  },
  {
   "cell_type": "code",
   "execution_count": 64,
   "metadata": {},
   "outputs": [],
   "source": [
    "mask_pitch = (ESPN_stats_bio_FA_pic_df[\"TYPE\"].isin([\"pitch\"])) & (ESPN_stats_bio_FA_pic_df[\"IP\"]>=30)\n",
    "mask_bat = (ESPN_stats_bio_FA_pic_df[\"TYPE\"].isin([\"bat\"])) & (ESPN_stats_bio_FA_pic_df[\"AB\"]>=60)"
   ]
  },
  {
   "cell_type": "code",
   "execution_count": 65,
   "metadata": {},
   "outputs": [
    {
     "name": "stdout",
     "output_type": "stream",
     "text": [
      "6601\n",
      "5329\n"
     ]
    }
   ],
   "source": [
    "# 篩選出賽條件\n",
    "print(len(ESPN_stats_bio_FA_pic_df))\n",
    "ESPN_stats_bio_FA_pic_df = ESPN_stats_bio_FA_pic_df.loc[mask_pitch|mask_bat,:].reset_index(drop=True)\n",
    "print(len(ESPN_stats_bio_FA_pic_df))"
   ]
  },
  {
   "cell_type": "markdown",
   "metadata": {},
   "source": [
    "#### 區分 bat、pitch 輸出"
   ]
  },
  {
   "cell_type": "code",
   "execution_count": 164,
   "metadata": {},
   "outputs": [],
   "source": [
    "# ESPN_stats_bio_FA_pic_df.columns.to_list()"
   ]
  },
  {
   "cell_type": "code",
   "execution_count": 66,
   "metadata": {},
   "outputs": [
    {
     "name": "stderr",
     "output_type": "stream",
     "text": [
      "C:\\Users\\Daguan\\miniconda3\\lib\\site-packages\\pandas\\core\\indexing.py:1418: FutureWarning: \n",
      "Passing list-likes to .loc or [] with any missing label will raise\n",
      "KeyError in the future, you can use .reindex() as an alternative.\n",
      "\n",
      "See the documentation here:\n",
      "https://pandas.pydata.org/pandas-docs/stable/user_guide/indexing.html#deprecate-loc-reindex-listlike\n",
      "  return self._getitem_tuple(key)\n"
     ]
    },
    {
     "name": "stdout",
     "output_type": "stream",
     "text": [
      " >>> 建立今天的工作區: 0530\n",
      " ==輸出備份xlsx== ::: ESPN_haveTeam_bat_20210530_13.27.38.xlsx\n",
      " ==輸出備份xlsx== ::: ESPN_haveTeam_pitch_20210530_13.27.48.xlsx\n"
     ]
    },
    {
     "name": "stderr",
     "output_type": "stream",
     "text": [
      "C:\\Users\\Daguan\\miniconda3\\lib\\site-packages\\pandas\\io\\stata.py:2303: InvalidColumnName: \n",
      "Not all pandas column names were valid Stata variable names.\n",
      "The following replacements have been made:\n",
      "\n",
      "    b'K/BB'   ->   K_BB\n",
      "\n",
      "If this is not what you expect, please make sure you have Stata-compliant\n",
      "column names in your DataFrame (strings only, max 32 characters, only\n",
      "alphanumerics and underscores, no Stata reserved words)\n",
      "\n",
      "  warnings.warn(ws, InvalidColumnName)\n"
     ]
    }
   ],
   "source": [
    "col_output_bat = [\n",
    " 'season',\n",
    " 'season_num',\n",
    " 'Team',\n",
    " 'GP',\n",
    "#  'GS',\n",
    " 'WAR',\n",
    "#  'ERA',\n",
    "#  'IP',\n",
    "#  'K/BB',\n",
    " 'playerID',\n",
    " 'playerID_num',\n",
    " 'Yrs',\n",
    " 'AB',\n",
    " 'OPS',\n",
    "#  'POS',\n",
    "#  'DOB',\n",
    "#  'Birthplace',\n",
    " 'TYPE',\n",
    " 'POS_c',\n",
    "#  'DOB_fmt',\n",
    " 'Age',\n",
    "  'Age_sq',\n",
    " 'YEAR',\n",
    " 'ORG_TEAM_ID',\n",
    " 'NEW_TEAM_ID',\n",
    " 'contract_Yrs',\n",
    "#  'DOLLARS',\n",
    " 'STATUS',\n",
    " 'DOLLARS_M',\n",
    "#  'mutilTeam_count',\n",
    " 'is_FA_contract_year',\n",
    " 'is_FA_contract_year_before',\n",
    " 'is_FA_contract_year_after',\n",
    "#  'season_plus_1',\n",
    " 'FIRST',\n",
    " 'END'\n",
    "]\n",
    "\n",
    "formtoXlsx(ESPN_stats_bio_FA_pic_df.loc[ESPN_stats_bio_FA_pic_df[\"TYPE\"].isin([\"bat\"]),col_output_bat].reset_index(drop=True), \"ESPN_haveTeam_bat\")\n",
    "ESPN_stats_bio_FA_pic_df.loc[ESPN_stats_bio_FA_pic_df[\"TYPE\"].isin([\"bat\"]),col_output_bat].reset_index(drop=True).to_stata('ESPN_haveTeam_bat.dta')\n",
    "\n",
    "\n",
    "col_output_pitch = [\n",
    " 'season',\n",
    " 'season_num',\n",
    " 'Team',\n",
    " 'GP',\n",
    " 'GS',\n",
    " 'WAR',\n",
    " 'ERA',\n",
    " 'IP',\n",
    " 'K/BB',\n",
    " 'playerID',\n",
    "  'playerID_num',\n",
    " 'Yrs',\n",
    "#  'AB',\n",
    "#  'OPS',\n",
    "#  'POS',\n",
    "#  'DOB',\n",
    "#  'Birthplace',\n",
    " 'TYPE',\n",
    " 'POS_c',\n",
    "#  'DOB_fmt',\n",
    " 'Age',\n",
    " 'Age_sq',\n",
    " 'YEAR',\n",
    " 'ORG_TEAM_ID',\n",
    " 'NEW_TEAM_ID',\n",
    " 'contract_Yrs',\n",
    "#  'DOLLARS',\n",
    " 'STATUS',\n",
    " 'DOLLARS_M',\n",
    "#  'mutilTeam_count',\n",
    " 'is_FA_contract_year',\n",
    " 'is_FA_contract_year_before',\n",
    " 'is_FA_contract_year_after',\n",
    "#  'season_plus_1',\n",
    " 'FIRST',\n",
    " 'END'\n",
    "]\n",
    "\n",
    "formtoXlsx(ESPN_stats_bio_FA_pic_df.loc[ESPN_stats_bio_FA_pic_df[\"TYPE\"].isin([\"pitch\"]),col_output_pitch].reset_index(drop=True), \"ESPN_haveTeam_pitch\")\n",
    "ESPN_stats_bio_FA_pic_df.loc[ESPN_stats_bio_FA_pic_df[\"TYPE\"].isin([\"pitch\"]),col_output_pitch].reset_index(drop=True).to_stata('ESPN_haveTeam_pitch.dta')"
   ]
  },
  {
   "cell_type": "markdown",
   "metadata": {},
   "source": [
    "###  no team gp版"
   ]
  },
  {
   "cell_type": "code",
   "execution_count": 67,
   "metadata": {},
   "outputs": [
    {
     "name": "stdout",
     "output_type": "stream",
     "text": [
      "14864 5711\n"
     ]
    }
   ],
   "source": [
    "mask_pic = (ESPN_stats_bio_FA_no_team_gp_df[\"season_num\"]>=2006) & (ESPN_stats_bio_FA_no_team_gp_df[\"season_num\"]<=2019) & (ESPN_stats_bio_FA_no_team_gp_df[\"Yrs\"]>=6)\n",
    "ESPN_stats_bio_FA_no_team_gp_pic_df = ESPN_stats_bio_FA_no_team_gp_df[mask_pic].reset_index(drop=True)\n",
    "print(len(ESPN_stats_bio_FA_no_team_gp_df),len(ESPN_stats_bio_FA_no_team_gp_pic_df))"
   ]
  },
  {
   "cell_type": "code",
   "execution_count": 68,
   "metadata": {},
   "outputs": [],
   "source": [
    "mask_pitch = (ESPN_stats_bio_FA_no_team_gp_pic_df[\"TYPE\"].isin([\"pitch\"])) & (ESPN_stats_bio_FA_no_team_gp_pic_df[\"IP\"]>=30)\n",
    "mask_bat = (ESPN_stats_bio_FA_no_team_gp_pic_df[\"TYPE\"].isin([\"bat\"])) & (ESPN_stats_bio_FA_no_team_gp_pic_df[\"AB\"]>=60)"
   ]
  },
  {
   "cell_type": "code",
   "execution_count": 69,
   "metadata": {},
   "outputs": [
    {
     "name": "stdout",
     "output_type": "stream",
     "text": [
      "5711\n",
      "5028\n"
     ]
    }
   ],
   "source": [
    "# 篩選出賽條件\n",
    "print(len(ESPN_stats_bio_FA_no_team_gp_pic_df))\n",
    "ESPN_stats_bio_FA_no_team_gp_pic_df = ESPN_stats_bio_FA_no_team_gp_pic_df.loc[mask_pitch|mask_bat,:].reset_index(drop=True)\n",
    "print(len(ESPN_stats_bio_FA_no_team_gp_pic_df))"
   ]
  },
  {
   "cell_type": "markdown",
   "metadata": {},
   "source": [
    "#### 區分 bat、pitch 輸出"
   ]
  },
  {
   "cell_type": "code",
   "execution_count": 169,
   "metadata": {},
   "outputs": [],
   "source": [
    "# ESPN_stats_bio_FA_no_team_gp_df.columns.to_list()"
   ]
  },
  {
   "cell_type": "code",
   "execution_count": 75,
   "metadata": {},
   "outputs": [
    {
     "name": "stdout",
     "output_type": "stream",
     "text": [
      " ==輸出備份xlsx== ::: ESPN_noTeam_bat_20210503_20.06.00.xlsx\n",
      " ==輸出備份xlsx== ::: ESPN_noTeam_pitch_20210503_20.06.08.xlsx\n"
     ]
    },
    {
     "name": "stderr",
     "output_type": "stream",
     "text": [
      "C:\\Users\\Daguan\\miniconda3\\lib\\site-packages\\pandas\\io\\stata.py:2303: InvalidColumnName: \n",
      "Not all pandas column names were valid Stata variable names.\n",
      "The following replacements have been made:\n",
      "\n",
      "    b'K/BB'   ->   K_BB\n",
      "    b'K/BB_DV'   ->   K_BB_DV\n",
      "\n",
      "If this is not what you expect, please make sure you have Stata-compliant\n",
      "column names in your DataFrame (strings only, max 32 characters, only\n",
      "alphanumerics and underscores, no Stata reserved words)\n",
      "\n",
      "  warnings.warn(ws, InvalidColumnName)\n"
     ]
    }
   ],
   "source": [
    "col_output_bat = [\n",
    " 'playerID',\n",
    " 'playerID_num',\n",
    " 'season',\n",
    " 'season_num',\n",
    " 'TYPE',\n",
    " 'GP',\n",
    " 'WAR',\n",
    "#  'GS',\n",
    "#  'IP',\n",
    "#  'K/BB',\n",
    " 'AB',\n",
    " 'OPS',\n",
    "#  'ERA',\n",
    " 'Yrs',\n",
    "#  'Birthplace',\n",
    " 'POS_c',\n",
    " 'Age',\n",
    " 'Age_sq',\n",
    " 'YEAR',\n",
    " 'ORG_TEAM_ID',\n",
    " 'NEW_TEAM_ID',\n",
    " 'contract_Yrs',\n",
    "#  'DOLLARS',\n",
    " 'STATUS',\n",
    " 'DOLLARS_M',\n",
    "#  'mutilTeam_count',\n",
    " 'is_FA_contract_year',\n",
    " 'is_FA_contract_year_before',\n",
    " 'is_FA_contract_year_after',\n",
    "#  'WAR_lag_1',\n",
    "#  'WAR_lag_1_MA3',\n",
    " 'WAR_DV',\n",
    "#  'ERA_lag_1',\n",
    "#  'ERA_lag_1_MA3',\n",
    "#  'ERA_DV',\n",
    "#  'OPS_lag_1',\n",
    "#  'OPS_lag_1_MA3',\n",
    " 'OPS_DV',\n",
    " 'AB_DV',\n",
    "#  'season_plus_1',\n",
    " 'FIRST',\n",
    " 'END'\n",
    "]\n",
    "\n",
    "\n",
    "formtoXlsx(ESPN_stats_bio_FA_no_team_gp_pic_df.loc[ESPN_stats_bio_FA_no_team_gp_pic_df[\"TYPE\"].isin([\"bat\"]),col_output_bat].reset_index(drop=True), \"ESPN_noTeam_bat\")\n",
    "ESPN_stats_bio_FA_no_team_gp_pic_df.loc[ESPN_stats_bio_FA_no_team_gp_pic_df[\"TYPE\"].isin([\"bat\"]),col_output_bat].reset_index(drop=True).to_stata('ESPN_noTeam_bat.dta')\n",
    "\n",
    "col_output_pitch = [\n",
    " 'playerID',\n",
    " 'playerID_num',\n",
    " 'season',\n",
    " 'season_num',\n",
    " 'TYPE',\n",
    " 'GP',\n",
    " 'WAR',\n",
    " 'GS',\n",
    " 'IP',\n",
    " 'K/BB',\n",
    "#  'AB',\n",
    "#  'OPS',\n",
    " 'ERA',\n",
    " 'Yrs',\n",
    "#  'Birthplace',\n",
    " 'POS_c',\n",
    " 'Age',\n",
    " 'Age_sq',\n",
    " 'YEAR',\n",
    " 'ORG_TEAM_ID',\n",
    " 'NEW_TEAM_ID',\n",
    " 'contract_Yrs',\n",
    "#  'DOLLARS',\n",
    " 'STATUS',\n",
    " 'DOLLARS_M',\n",
    "#  'mutilTeam_count',\n",
    " 'is_FA_contract_year',\n",
    " 'is_FA_contract_year_before',\n",
    " 'is_FA_contract_year_after',\n",
    "#  'WAR_lag_1',\n",
    "#  'WAR_lag_1_MA3',\n",
    " 'WAR_DV',\n",
    "#  'ERA_lag_1',\n",
    "#  'ERA_lag_1_MA3',\n",
    " 'ERA_DV',\n",
    "#  'OPS_lag_1',\n",
    "#  'OPS_lag_1_MA3',\n",
    "#  'OPS_DV',\n",
    " 'K/BB_DV',\n",
    " 'IP_DV',\n",
    "#  'season_plus_1',\n",
    " 'FIRST',\n",
    " 'END'\n",
    "]\n",
    "\n",
    "formtoXlsx(ESPN_stats_bio_FA_no_team_gp_pic_df.loc[ESPN_stats_bio_FA_no_team_gp_pic_df[\"TYPE\"].isin([\"pitch\"]),col_output_pitch].reset_index(drop=True), \"ESPN_noTeam_pitch\")\n",
    "ESPN_stats_bio_FA_no_team_gp_pic_df.loc[ESPN_stats_bio_FA_no_team_gp_pic_df[\"TYPE\"].isin([\"pitch\"]),col_output_pitch].reset_index(drop=True).to_stata('ESPN_noTeam_pitch.dta')"
   ]
  },
  {
   "cell_type": "code",
   "execution_count": 171,
   "metadata": {},
   "outputs": [],
   "source": [
    "# have_team_bat = read_data_dir_fPathExt(r\"G:\\我的雲端硬碟\\learning\\論文今年會寫完\\0.資源包\\2.資料\\6.ESPN_free_agent\\有team_bat_20210417_22.43.03.csv\")\n",
    "# have_team_pitch = read_data_dir_fPathExt(r\"G:\\我的雲端硬碟\\learning\\論文今年會寫完\\0.資源包\\2.資料\\6.ESPN_free_agent\\有team_pitch_20210417_22.43.03.csv\")\n",
    "\n",
    "# no_team_bat = read_data_dir_fPathExt(r\"G:\\我的雲端硬碟\\learning\\論文今年會寫完\\0.資源包\\2.資料\\6.ESPN_free_agent\\no_team_gp_bat_20210417_22.43.08.csv\")\n",
    "# no_team_pitch = read_data_dir_fPathExt(r\"G:\\我的雲端硬碟\\learning\\論文今年會寫完\\0.資源包\\2.資料\\6.ESPN_free_agent\\no_team_gp_pitch_20210417_22.43.08.csv\")"
   ]
  },
  {
   "cell_type": "code",
   "execution_count": null,
   "metadata": {},
   "outputs": [],
   "source": []
  }
 ],
 "metadata": {
  "kernelspec": {
   "display_name": "Python 3",
   "language": "python",
   "name": "python3"
  },
  "language_info": {
   "codemirror_mode": {
    "name": "ipython",
    "version": 3
   },
   "file_extension": ".py",
   "mimetype": "text/x-python",
   "name": "python",
   "nbconvert_exporter": "python",
   "pygments_lexer": "ipython3",
   "version": "3.8.5"
  },
  "toc-autonumbering": true
 },
 "nbformat": 4,
 "nbformat_minor": 4
}
