{
 "cells": [
  {
   "cell_type": "markdown",
   "metadata": {},
   "source": [
    "MLB 建模前資料處理"
   ]
  },
  {
   "cell_type": "code",
   "execution_count": 1,
   "metadata": {},
   "outputs": [],
   "source": [
    "import sys\n",
    "sys.path.append('G:\\我的雲端硬碟\\python')\n",
    "import numpy as np\n",
    "from polib.CsvEngn import *\n",
    "from MLB_functions import *\n",
    "from tqdm import tqdm"
   ]
  },
  {
   "cell_type": "markdown",
   "metadata": {},
   "source": [
    " **處理流程**"
   ]
  },
  {
   "cell_type": "markdown",
   "metadata": {},
   "source": [
    "1. 確定所需球員範圍: 讀取2000~2020每年的球員表現數據(WAR (OPS+只有打者有先不加入)) from Baseball Reference\n",
    "2. 定義合約年: 串接有簽約的自由球員狀態 from Baseball Reference\n",
    "3. 變數製作: 串接相關欄位(球員 投打慣用手、國籍、初登板、最後出賽、年薪 from Lahman)、進階變數製作(明星賽入選次數、大聯盟年資六年平均表現)"
   ]
  },
  {
   "cell_type": "markdown",
   "metadata": {},
   "source": [
    "# 確定所需球員範圍"
   ]
  },
  {
   "cell_type": "markdown",
   "metadata": {},
   "source": [
    "讀取2000~2020每年的球員表現數據(WAR (OPS+只有打者有先不加入)) from Baseball Reference"
   ]
  },
  {
   "cell_type": "code",
   "execution_count": 2,
   "metadata": {},
   "outputs": [
    {
     "name": "stdout",
     "output_type": "stream",
     "text": [
      "  >> 讀取:: G:\\我的雲端硬碟\\learning\\論文今年會寫完\\0.資源包\\2.資料\\2.baseball_reference\\WAR_pitch_2000to2020_20210125_10.54.38.csv\n",
      "  >> 讀取:: G:\\我的雲端硬碟\\learning\\論文今年會寫完\\0.資源包\\2.資料\\2.baseball_reference\\WAR_bat_2000to2020_20210125_10.52.44.csv\n"
     ]
    }
   ],
   "source": [
    "# 整合投、打資料\n",
    "BR_WAR_pitch_path = r\"G:\\我的雲端硬碟\\learning\\論文今年會寫完\\0.資源包\\2.資料\\2.baseball_reference\\WAR_pitch_2000to2020_20210125_10.54.38.csv\"\n",
    "BR_WAR_bat_path = r\"G:\\我的雲端硬碟\\learning\\論文今年會寫完\\0.資源包\\2.資料\\2.baseball_reference\\WAR_bat_2000to2020_20210125_10.52.44.csv\"\n",
    "\n",
    "BR_WAR_pitch_df = read_data_dir_fPathExt(BR_WAR_pitch_path)\n",
    "BR_WAR_bat_df = read_data_dir_fPathExt(BR_WAR_bat_path)"
   ]
  },
  {
   "cell_type": "code",
   "execution_count": 3,
   "metadata": {},
   "outputs": [
    {
     "name": "stdout",
     "output_type": "stream",
     "text": [
      ">>pitch\n",
      " Index(['_idx', 'name_common', 'age', 'mlb_ID', 'player_ID', 'year_ID',\n",
      "       'team_ID', 'stint_ID', 'lg_ID', 'G', 'GS', 'IPouts', 'IPouts_start',\n",
      "       'IPouts_relief', 'RA', 'xRA', 'xRA_sprp_adj', 'xRA_extras_adj',\n",
      "       'xRA_def_pitcher', 'PPF', 'PPF_custom', 'xRA_final', 'BIP', 'BIP_perc',\n",
      "       'RS_def_total', 'runs_above_avg', 'runs_above_avg_adj',\n",
      "       'runs_above_rep', 'RpO_replacement', 'GR_leverage_index_avg', 'WAR',\n",
      "       'salary', 'teamRpG', 'oppRpG', 'pyth_exponent', 'waa_win_perc', 'WAA',\n",
      "       'WAA_adj', 'oppRpG_rep', 'pyth_exponent_rep', 'waa_win_perc_rep',\n",
      "       'WAR_rep', 'ERA_plus', 'ER_lg'],\n",
      "      dtype='object')\n",
      ">>bat\n",
      " Index(['_idx', 'name_common', 'age', 'mlb_ID', 'player_ID', 'year_ID',\n",
      "       'team_ID', 'stint_ID', 'lg_ID', 'PA', 'G', 'Inn', 'runs_bat', 'runs_br',\n",
      "       'runs_dp', 'runs_field', 'runs_infield', 'runs_outfield',\n",
      "       'runs_catcher', 'runs_good_plays', 'runs_defense', 'runs_position',\n",
      "       'runs_position_p', 'runs_replacement', 'runs_above_rep',\n",
      "       'runs_above_avg', 'runs_above_avg_off', 'runs_above_avg_def', 'WAA',\n",
      "       'WAA_off', 'WAA_def', 'WAR', 'WAR_def', 'WAR_off', 'WAR_rep', 'salary',\n",
      "       'pitcher', 'teamRpG', 'oppRpG', 'oppRpPA_rep', 'oppRpG_rep',\n",
      "       'pyth_exponent', 'pyth_exponent_rep', 'waa_win_perc',\n",
      "       'waa_win_perc_off', 'waa_win_perc_def', 'waa_win_perc_rep', 'OPS_plus',\n",
      "       'TOB_lg', 'TB_lg'],\n",
      "      dtype='object')\n"
     ]
    }
   ],
   "source": [
    "# 投、打的欄位有些許不同\n",
    "print(\">>pitch\\n\", BR_WAR_pitch_df.columns)\n",
    "print(\">>bat\\n\", BR_WAR_bat_df.columns)"
   ]
  },
  {
   "cell_type": "code",
   "execution_count": 4,
   "metadata": {},
   "outputs": [],
   "source": [
    "# 標記投打身分\n",
    "BR_WAR_pitch_df.loc[:, \"type\"] = \"pitch\"\n",
    "BR_WAR_bat_df.loc[:, \"type\"] = \"bat\"\n",
    "\n",
    "# 留下需要的共同欄位 \n",
    "BR_WAR_common_cols = [\n",
    "                'name_common'\n",
    "                ,'type'\n",
    "                ,'age'\n",
    "                ,'mlb_ID'\n",
    "                ,'player_ID'\n",
    "                ,'year_ID'\n",
    "                ,'team_ID'\n",
    "                ,'stint_ID'\n",
    "                ,'lg_ID'\n",
    "                ,'G'\n",
    "                ,'WAR'\n",
    "                ,'salary'\n",
    "]\n",
    "\n",
    "# 投、打分開取欄位 TODO\n",
    "# BR_WAR_pitch_cols = BR_WAR_common_cols + [\"ERA_plus\"]\n",
    "# BR_WAR_bat_cols = BR_WAR_common_cols + [\"OPS_plus\"]\n",
    "\n",
    "BR_WAR_pitch_cols = BR_WAR_common_cols \n",
    "BR_WAR_bat_cols = BR_WAR_common_cols\n",
    "\n",
    "# 合併投、打資料\n",
    "BR_WAR_all_df = pd.concat([BR_WAR_pitch_df[BR_WAR_pitch_cols], BR_WAR_bat_df[BR_WAR_bat_cols]], sort=True)\n",
    "\n",
    "# 篩選2000~2020資料\n",
    "year_mask = BR_WAR_all_df['year_ID'].isin([y for y in range(2000, 2020+1)])\n",
    "BR_WAR_all_df = BR_WAR_all_df[year_mask].reset_index(drop=True)"
   ]
  },
  {
   "cell_type": "markdown",
   "metadata": {},
   "source": [
    "若球員一年中有在多個球隊打過就會有多筆stint_ID，如何整合WAR? >> 區分投打，做年度加總(有跨隊表現) "
   ]
  },
  {
   "cell_type": "markdown",
   "metadata": {},
   "source": [
    ">TODO : ERA+ 、OPS+ 的處理方式? >> 需要爬 BP 的 TOT >> 先暫緩製作(不加入)"
   ]
  },
  {
   "cell_type": "markdown",
   "metadata": {},
   "source": [
    "## 從 LM Fielding Table，併入守備位置(position)"
   ]
  },
  {
   "cell_type": "code",
   "execution_count": 5,
   "metadata": {},
   "outputs": [
    {
     "name": "stdout",
     "output_type": "stream",
     "text": [
      "  >> 讀取:: G:\\我的雲端硬碟\\learning\\論文今年會寫完\\0.資源包\\2.資料\\1.Lahman_db_2020\\core\\Fielding.csv\n"
     ]
    }
   ],
   "source": [
    "# 從 LM Fielding Table，併入守備位置(position)\n",
    "LM_Fielding_path = r\"G:\\我的雲端硬碟\\learning\\論文今年會寫完\\0.資源包\\2.資料\\1.Lahman_db_2020\\core\\Fielding.csv\"\n",
    "LM_Fielding_df = read_data_dir_fPathExt(LM_Fielding_path)"
   ]
  },
  {
   "cell_type": "code",
   "execution_count": 6,
   "metadata": {},
   "outputs": [
    {
     "name": "stdout",
     "output_type": "stream",
     "text": [
      "-11416\n"
     ]
    }
   ],
   "source": [
    "mask_year_LM = LM_Fielding_df.loc[:, \"yearID\"].isin([y for y in range(2000,2020+1)])\n",
    "LM_Fielding_df_pic = LM_Fielding_df.loc[mask_year_LM, [\"playerID\", \"yearID\", \"POS\", \"G\"]]\n",
    "LM_Fielding_df_pic.sort_values(by=[\"yearID\",\"playerID\", \"G\"], ascending=[1,1,0], inplace=True)\n",
    "a = len(LM_Fielding_df_pic)\n",
    "LM_Fielding_df_pic_dedup = LM_Fielding_df_pic.drop_duplicates(subset=[\"playerID\", \"yearID\"], keep=\"first\")\n",
    "b = len(LM_Fielding_df_pic_dedup)\n",
    "print(b-a)\n",
    "\n",
    "LM_Fielding_df_pic_dedup.columns = ['player_ID', 'year_ID', 'POS', 'G']"
   ]
  },
  {
   "cell_type": "code",
   "execution_count": 7,
   "metadata": {},
   "outputs": [
    {
     "data": {
      "text/plain": [
       "array(['OF', 'SS', 'P', '3B', '2B', '1B', 'C'], dtype=object)"
      ]
     },
     "execution_count": 7,
     "metadata": {},
     "output_type": "execute_result"
    }
   ],
   "source": [
    "LM_Fielding_df_pic_dedup[\"POS\"].unique()"
   ]
  },
  {
   "cell_type": "code",
   "execution_count": 8,
   "metadata": {},
   "outputs": [
    {
     "name": "stdout",
     "output_type": "stream",
     "text": [
      ">> 撐開: 0 筆\n",
      ">> LM漏掉的POS比數: 877 筆\n"
     ]
    }
   ],
   "source": [
    "a = len(BR_WAR_all_df)\n",
    "BR_WAR_all_df = BR_WAR_all_df.merge(LM_Fielding_df_pic_dedup[[\"year_ID\",\"player_ID\", \"POS\"]], \n",
    "                                    how=\"left\", on=[\"year_ID\",\"player_ID\"])\n",
    "b = len(BR_WAR_all_df)\n",
    "print(f\">> 撐開: {b-a} 筆\")\n",
    "\n",
    "print(f\">> LM漏掉的POS比數: {BR_WAR_all_df.loc[:, 'POS'].isin([np.nan]).sum()} 筆\")"
   ]
  },
  {
   "cell_type": "code",
   "execution_count": 9,
   "metadata": {},
   "outputs": [],
   "source": [
    "loss_POS_mask = (pd.isna(BR_WAR_all_df.loc[:, \"POS\"]))\n",
    "loss_pos_some_year_platerID_lst = BR_WAR_all_df[loss_POS_mask]['player_ID'].unique()"
   ]
  },
  {
   "cell_type": "code",
   "execution_count": 10,
   "metadata": {},
   "outputs": [
    {
     "name": "stdout",
     "output_type": "stream",
     "text": [
      ">> 232 位球員有缺pos的紀錄\n"
     ]
    }
   ],
   "source": [
    "print(f\">> {len(loss_pos_some_year_platerID_lst)} 位球員有缺pos的紀錄\")"
   ]
  },
  {
   "cell_type": "code",
   "execution_count": 11,
   "metadata": {},
   "outputs": [
    {
     "name": "stdout",
     "output_type": "stream",
     "text": [
      ">> 能用其他年資料捕的球員只有: 138 人\n",
      ">> 填補後的POS缺值數: 695 筆\n"
     ]
    }
   ],
   "source": [
    "mask_find_pos = (pd.notna(BR_WAR_all_df.loc[:, \"POS\"])) \\\n",
    "                & (BR_WAR_all_df.loc[:, \"player_ID\"].isin(loss_pos_some_year_platerID_lst))\n",
    "loss_POS_player_can_fill_lst = BR_WAR_all_df[mask_find_pos]['player_ID'].unique()\n",
    "print(f\">> 能用其他年資料捕的球員只有: {len(loss_POS_player_can_fill_lst)} 人\")\n",
    "\n",
    "# 進行填補\n",
    "loss_POS_player_other_POS_df = BR_WAR_all_df[mask_find_pos][[\"player_ID\", \"POS\", \"G\"]].sort_values(\n",
    "                                by=[\"player_ID\",  \"G\"], ascending=[1,0]).drop_duplicates(\n",
    "                                subset=[\"player_ID\"], keep=\"first\")[[\"player_ID\", \"POS\"]].reset_index(drop=True)\n",
    "\n",
    "loss_POS_player_other_POS_dict = {}\n",
    "for d in loss_POS_player_other_POS_df.to_dict(\"records\"):\n",
    "    loss_POS_player_other_POS_dict[d[\"player_ID\"]] = d[\"POS\"]\n",
    "\n",
    "BR_WAR_all_df.loc[loss_POS_mask, \"POS\"] = BR_WAR_all_df.loc[loss_POS_mask, \"player_ID\"].apply(\n",
    "                                                            lambda p: loss_POS_player_other_POS_dict[p] \n",
    "                                                            if p in loss_POS_player_can_fill_lst else np.nan)\n",
    "print(f\">> 填補後的POS缺值數: {(pd.isna(BR_WAR_all_df.loc[:, 'POS'])).sum()} 筆\")"
   ]
  },
  {
   "cell_type": "code",
   "execution_count": 12,
   "metadata": {},
   "outputs": [
    {
     "name": "stdout",
     "output_type": "stream",
     "text": [
      ">> 填捕後還是漏的球員有: 94 人 >> 從 Baseball Reference 爬回來\n",
      ">> (1/94) {'alexasc02': 'Pitcher'}\n",
      ">> (2/94) {'beeksja02': 'Pitcher'}\n",
      ">> (3/94) {'burnea.01': 'Pitcher'}\n",
      ">> (4/94) {'campovi01': 'Pitcher'}\n",
      ">> (5/94) {\"d'amije01\": 'Pitcher'}\n",
      ">> (6/94) {\"d'amije02\": 'Pitcher'}\n",
      ">> (7/94) {'davieza02': 'Pitcher'}\n",
      ">> (8/94) {'dicker.01': 'Pitcher'}\n",
      ">> (9/94) {'dygesje01': 'Pitcher'}\n",
      ">> (10/94) {'garcifr03': 'Pitcher'}\n",
      ">> (11/94) {'harriwi10': 'Pitcher'}\n",
      ">> (12/94) {'jacquth01': 'Pitcher'}\n",
      ">> (13/94) {\"jimend'01\": 'Second Baseman, Shortstop and Third Baseman'}\n",
      ">> (14/94) {'jimenda01': 'Pitcher'}\n",
      ">> (15/94) {'johnsma05': 'Pitcher'}\n",
      ">> (16/94) {'lintz02': 'Shortstop, Second Baseman and Outfielder'}\n",
      ">> (17/94) {'lockewa01': 'Pitcher'}\n",
      ">> (18/94) {'lopezro02': 'Pitcher'}\n",
      ">> (19/94) {'mathet.01': 'Pitcher'}\n",
      ">> (20/94) {'montafr02': 'Pitcher'}\n",
      ">> (21/94) {'morrija03': 'Pitcher'}\n",
      ">> (22/94) {'murraco02': 'Pitcher'}\n",
      ">> (23/94) {'nitkoc.01': 'Pitcher'}\n",
      ">> (24/94) {\"o'conbr02\": 'Pitcher'}\n",
      ">> (25/94) {'ortizra02': 'Pitcher'}\n",
      ">> (26/94) {'pricebr10': 'Pitcher'}\n",
      ">> (27/94) {'rodrijo04': 'Pitcher'}\n",
      ">> (28/94) {'rodrijo07': 'Pitcher'}\n",
      ">> (29/94) {'romerj.01': 'Pitcher'}\n",
      ">> (30/94) {'rosajo01': 'Pitcher'}\n",
      ">> (31/94) {'ryanb.01': 'Pitcher'}\n",
      ">> (32/94) {'sabatc.01': 'Pitcher'}\n",
      ">> (33/94) {'santajo02': 'Pitcher'}\n",
      ">> (34/94) {'schrest02': 'Pitcher'}\n",
      ">> (35/94) {'smartj.01': 'Pitcher'}\n",
      ">> (36/94) {'smithch07': 'Pitcher'}\n",
      ">> (37/94) {'smithch08': 'Pitcher'}\n",
      ">> (38/94) {'smithch09': 'Pitcher'}\n",
      ">> (39/94) {'smithch10': 'Pitcher'}\n",
      ">> (40/94) {'smithda07': 'Pitcher'}\n",
      ">> (41/94) {'stricsc02': 'Pitcher'}\n",
      ">> (42/94) {'sttuemi01': 'Pitcher'}\n",
      ">> (43/94) {'taylobe10': 'Pitcher'}\n",
      ">> (44/94) {'tucket.01': 'Pitcher'}\n",
      ">> (45/94) {'walkeke02': 'Pitcher'}\n",
      ">> (46/94) {'watsoma03': 'Pitcher'}\n",
      ">> (47/94) {'willije01': 'Pitcher'}\n",
      ">> (48/94) {'willije02': 'Pitcher'}\n",
      ">> (49/94) {'willima09': 'Pitcher'}\n",
      ">> (50/94) {'arrueba01': 'Shortstop'}\n",
      ">> (51/94) {'baineha01': 'Designated Hitter and Rightfielder'}\n",
      ">> (52/94) {'belnovi01': 'Designated Hitter'}\n",
      ">> (53/94) {'bormajo01': 'Pinch Hitter'}\n",
      ">> (54/94) {'brownro02': 'Leftfielder and Pinch Hitter'}\n",
      ">> (55/94) {'campulu01': 'Designated Hitter'}\n",
      ">> (56/94) {'casimca01': 'Designated Hitter and Pinch Hitter'}\n",
      ">> (57/94) {'castiru02': 'Outfielder'}\n",
      ">> (58/94) {'cromed.01': 'Pinch Hitter and First Baseman'}\n",
      ">> (59/94) {'decasyu01': 'Pinch Hitter, Pinch Runner and Designated Hitter'}\n",
      ">> (60/94) {'drewj.01': 'Rightfielder'}\n",
      ">> (61/94) {'forbep.01': 'Second Baseman, Shortstop and Third Baseman'}\n",
      ">> (62/94) {'furcara02': 'Shortstop'}\n",
      ">> (63/94) {'gaettga01': 'Third Baseman and First Baseman'}\n",
      ">> (64/94) {'godwity01': 'Pinch Hitter'}\n",
      ">> (65/94) {'greenad01': 'Pinch Hitter'}\n",
      ">> (66/94) {'hincha.01': 'Catcher'}\n",
      ">> (67/94) {'jahajo01': 'First Baseman and Designated Hitter'}\n",
      ">> (68/94) {'jimenlu01': 'Designated Hitter and Pinch Hitter'}\n",
      ">> (69/94) {'liniaco01': 'Third Baseman and Pinch Hitter'}\n",
      ">> (70/94) {'melilke01': 'Pinch Hitter'}\n",
      ">> (71/94) {'merceye01': 'Pinch Hitter and Designated Hitter'}\n",
      ">> (72/94) {'mosquju01': 'Catcher'}\n",
      ">> (73/94) {'nichode01': 'Shortstop and Second Baseman'}\n",
      ">> (74/94) {'noelri02': 'Pinch Runner and Rightfielder'}\n",
      ">> (75/94) {\"o'brich01\": 'Catcher'}\n",
      ">> (76/94) {\"o'leatr01\": 'Outfielder'}\n",
      ">> (77/94) {\"o'neipa01\": 'Rightfielder'}\n",
      ">> (78/94) {'obriepe01': 'Outfielder, Pinch Hitter and First Baseman'}\n",
      ">> (79/94) {'ortegbi01': 'Pinch Hitter'}\n",
      ">> (80/94) {'ortizjo04': 'Second Baseman'}\n",
      ">> (81/94) {'pierza.01': 'Catcher'}\n",
      ">> (82/94) {'ramirju02': 'Centerfielder and Pinch Runner'}\n",
      ">> (83/94) {'redmaju01': 'Centerfielder'}\n",
      ">> (84/94) {'saloman01': 'Pinch Hitter'}\n",
      ">> (85/94) {'santaf.01': 'Outfielder, Second Baseman and Third Baseman'}\n",
      ">> (86/94) {'snowj.01': 'First Baseman'}\n",
      ">> (87/94) {'surhob.01': 'Leftfielder, Catcher and Third Baseman'}\n",
      ">> (88/94) {'taylobe11': 'Catcher'}\n",
      ">> (89/94) {'waszgb.01': 'Catcher and First Baseman'}\n",
      ">> (90/94) {'willima10': 'Outfielder'}\n",
      ">> (91/94) {'willima11': 'Outfielder'}\n",
      ">> (92/94) {'wrighro02': 'Designated Hitter'}\n",
      ">> (93/94) {'younger02': 'Centerfielder'}\n",
      ">> (94/94) {'zoskyed01': 'Shortstop, Third Baseman and Second Baseman'}\n"
     ]
    }
   ],
   "source": [
    "# 掌握缺漏的playerID\n",
    "still_loss_player_lst = BR_WAR_all_df[(pd.isna(BR_WAR_all_df.loc[:, 'POS']))][\"player_ID\"].unique()\n",
    "print(f\">> 填捕後還是漏的球員有: {len(still_loss_player_lst)} 人 >> 從 Baseball Reference 爬回來\")\n",
    "\n",
    "# 建立補值字典\n",
    "fill_all_dict = {}\n",
    "for t, i in enumerate(still_loss_player_lst):\n",
    "    result = find_position(i)\n",
    "    tmp_dict = {i:result}\n",
    "    print(f\">> ({t+1}/{len(still_loss_player_lst)})\", tmp_dict)\n",
    "    fill_all_dict.update(tmp_dict)\n"
   ]
  },
  {
   "cell_type": "code",
   "execution_count": 13,
   "metadata": {},
   "outputs": [
    {
     "name": "stdout",
     "output_type": "stream",
     "text": [
      ">> 二次填補後的POS缺值數: 0 筆\n"
     ]
    }
   ],
   "source": [
    "# 清理 fill_all_dict\n",
    "fill_all_dict_clean = {}\n",
    "for key, value in fill_all_dict.items():\n",
    "    if (\",\" in value) or (\"and\" in value):\n",
    "        value = value.replace(\"and\",\",\").split(\",\")[0]\n",
    "        \n",
    "#         ['OF', 'SS', 'P', '3B', '2B', '1B', 'C']\n",
    "    if \"Pitcher\" in value:\n",
    "        value = \"P\"\n",
    "        \n",
    "    elif \"fielder\" in value:\n",
    "        value = \"OF\"\n",
    "    \n",
    "    elif \"Shortstop\" in value:\n",
    "        value = \"SS\"\n",
    "        \n",
    "    elif \"First Baseman\" in value:\n",
    "        value = \"1B\"\n",
    "        \n",
    "    elif \"Second Baseman\" in value:\n",
    "        value = \"2B\"\n",
    "        \n",
    "    elif \"Third Baseman\" in value:\n",
    "        value = \"3B\"\n",
    "        \n",
    "    elif \"Catcher\" in value:\n",
    "        value = \"C\"\n",
    "    \n",
    "    fill_all_dict_clean[key] = value.strip()\n",
    "    \n",
    "loss_POS_mask_2 = (pd.isna(BR_WAR_all_df.loc[:, 'POS']))\n",
    "BR_WAR_all_df.loc[loss_POS_mask_2, \"POS\"] = BR_WAR_all_df.loc[loss_POS_mask_2, \"player_ID\"].apply(\n",
    "                                                        lambda p: fill_all_dict_clean[p] \n",
    "                                                        if p in still_loss_player_lst else np.nan)\n",
    "print(f\">> 二次填補後的POS缺值數: {(pd.isna(BR_WAR_all_df.loc[:, 'POS'])).sum()} 筆\")\n"
   ]
  },
  {
   "cell_type": "markdown",
   "metadata": {},
   "source": [
    "## 野手的投球不要記、投手的打擊不要記、代跑&指定打拿掉"
   ]
  },
  {
   "cell_type": "code",
   "execution_count": 14,
   "metadata": {},
   "outputs": [],
   "source": [
    "mask_keep = ((BR_WAR_all_df[\"type\"].isin([\"pitch\"])) & (BR_WAR_all_df[\"POS\"].isin([\"P\"]))) \\\n",
    "            | ((BR_WAR_all_df[\"type\"].isin([\"bat\"])) & (BR_WAR_all_df[\"POS\"].isin(['OF', 'SS', '3B', '2B', '1B', 'C'])))\n",
    "BR_WAR_all_df_pic_POS = BR_WAR_all_df[mask_keep].reset_index(drop=True)"
   ]
  },
  {
   "cell_type": "code",
   "execution_count": 15,
   "metadata": {},
   "outputs": [
    {
     "data": {
      "text/plain": [
       "44322"
      ]
     },
     "execution_count": 15,
     "metadata": {},
     "output_type": "execute_result"
    }
   ],
   "source": [
    "len(BR_WAR_all_df)"
   ]
  },
  {
   "cell_type": "code",
   "execution_count": 16,
   "metadata": {},
   "outputs": [
    {
     "name": "stdout",
     "output_type": "stream",
     "text": [
      "<class 'pandas.core.frame.DataFrame'>\n",
      "RangeIndex: 29474 entries, 0 to 29473\n",
      "Data columns (total 13 columns):\n",
      "G              29474 non-null int64\n",
      "WAR            29456 non-null float64\n",
      "age            29474 non-null float64\n",
      "lg_ID          29474 non-null object\n",
      "mlb_ID         29474 non-null float64\n",
      "name_common    29474 non-null object\n",
      "player_ID      29474 non-null object\n",
      "salary         17086 non-null float64\n",
      "stint_ID       29474 non-null int64\n",
      "team_ID        29474 non-null object\n",
      "type           29474 non-null object\n",
      "year_ID        29474 non-null int64\n",
      "POS            29474 non-null object\n",
      "dtypes: float64(4), int64(3), object(6)\n",
      "memory usage: 2.9+ MB\n"
     ]
    }
   ],
   "source": [
    "BR_WAR_all_df_pic_POS.info()"
   ]
  },
  {
   "cell_type": "markdown",
   "metadata": {},
   "source": [
    "## 從LM填補薪水並做CPI作平減"
   ]
  },
  {
   "cell_type": "code",
   "execution_count": 17,
   "metadata": {},
   "outputs": [
    {
     "name": "stdout",
     "output_type": "stream",
     "text": [
      "  >> 讀取:: G:\\我的雲端硬碟\\learning\\論文今年會寫完\\0.資源包\\2.資料\\1.Lahman_db_2020\\core\\Salaries.csv\n"
     ]
    }
   ],
   "source": [
    "LM_salary_path = r\"G:\\我的雲端硬碟\\learning\\論文今年會寫完\\0.資源包\\2.資料\\1.Lahman_db_2020\\core\\Salaries.csv\"\n",
    "LM_salary_df = read_data_dir_fPathExt(LM_salary_path)"
   ]
  },
  {
   "cell_type": "code",
   "execution_count": 18,
   "metadata": {},
   "outputs": [],
   "source": [
    "merge_key_cols_lst = ['year_ID', 'team_ID', 'lg_ID', 'player_ID']\n",
    "LM_salary_df.columns = merge_key_cols_lst + [\"salary\"]\n",
    "\n",
    "BR_WAR_all_df_pic_POS = BR_WAR_all_df_pic_POS.merge(\n",
    "                LM_salary_df, how=\"left\", on=merge_key_cols_lst, suffixes=(\"_BR\",\"_LM\"))"
   ]
  },
  {
   "cell_type": "code",
   "execution_count": 19,
   "metadata": {},
   "outputs": [
    {
     "name": "stdout",
     "output_type": "stream",
     "text": [
      ">> salary_BR 缺值: 12388， LM 可填補: 141\n",
      ">> salary_BR、salary_LM 有值，但不同的資料: 194\n"
     ]
    }
   ],
   "source": [
    "# 檢查 BR缺值，LM可填補的數量\n",
    "salary_BR_nan_df = BR_WAR_all_df_pic_POS[pd.isna(BR_WAR_all_df_pic_POS[\"salary_BR\"])]\n",
    "salary_BR_nan_LM_fill_df = salary_BR_nan_df[pd.notna(salary_BR_nan_df[\"salary_LM\"])]\n",
    "print(f\">> salary_BR 缺值: {len(salary_BR_nan_df)}， LM 可填補: {len(salary_BR_nan_LM_fill_df)}\")\n",
    "# 檢查 BR、LM皆有值但不同的數量\n",
    "salary_BR_Notnan_df = BR_WAR_all_df_pic_POS[pd.notna(BR_WAR_all_df_pic_POS[\"salary_BR\"])]\n",
    "salary_BR_LM_diff_mask = (pd.notna(salary_BR_Notnan_df[\"salary_LM\"]))&(salary_BR_Notnan_df[\"salary_BR\"]!=salary_BR_Notnan_df[\"salary_LM\"])\n",
    "salary_BR_LM_diff_df = salary_BR_Notnan_df[salary_BR_LM_diff_mask]\n",
    "print(f\">> salary_BR、salary_LM 有值，但不同的資料: {len(salary_BR_LM_diff_df)}\")"
   ]
  },
  {
   "cell_type": "markdown",
   "metadata": {},
   "source": [
    "BR、LM 薪水不同，已最高的為主"
   ]
  },
  {
   "cell_type": "code",
   "execution_count": 20,
   "metadata": {},
   "outputs": [],
   "source": [
    "BR_WAR_all_df_pic_POS.loc[:,\"salary_max\"] = BR_WAR_all_df_pic_POS[[\"salary_BR\",\"salary_LM\"]].apply(lambda row: row.max(), axis=1)"
   ]
  },
  {
   "cell_type": "code",
   "execution_count": 21,
   "metadata": {},
   "outputs": [
    {
     "name": "stdout",
     "output_type": "stream",
     "text": [
      ">>缺少薪水資料的比例: 0.42\n"
     ]
    }
   ],
   "source": [
    "print(f\">>缺少薪水資料的比例: {round(pd.isna(BR_WAR_all_df_pic_POS.loc[:,'salary_max']).sum()/len(BR_WAR_all_df_pic_POS),2)}\")"
   ]
  },
  {
   "cell_type": "code",
   "execution_count": 22,
   "metadata": {},
   "outputs": [
    {
     "data": {
      "text/html": [
       "<div>\n",
       "<style scoped>\n",
       "    .dataframe tbody tr th:only-of-type {\n",
       "        vertical-align: middle;\n",
       "    }\n",
       "\n",
       "    .dataframe tbody tr th {\n",
       "        vertical-align: top;\n",
       "    }\n",
       "\n",
       "    .dataframe thead th {\n",
       "        text-align: right;\n",
       "    }\n",
       "</style>\n",
       "<table border=\"1\" class=\"dataframe\">\n",
       "  <thead>\n",
       "    <tr style=\"text-align: right;\">\n",
       "      <th></th>\n",
       "      <th>year_ID</th>\n",
       "      <th>player_ID</th>\n",
       "    </tr>\n",
       "  </thead>\n",
       "  <tbody>\n",
       "    <tr>\n",
       "      <th>1</th>\n",
       "      <td>2006</td>\n",
       "      <td>aardsda01</td>\n",
       "    </tr>\n",
       "    <tr>\n",
       "      <th>7</th>\n",
       "      <td>2013</td>\n",
       "      <td>aardsda01</td>\n",
       "    </tr>\n",
       "    <tr>\n",
       "      <th>8</th>\n",
       "      <td>2015</td>\n",
       "      <td>aardsda01</td>\n",
       "    </tr>\n",
       "    <tr>\n",
       "      <th>9</th>\n",
       "      <td>2010</td>\n",
       "      <td>abadfe01</td>\n",
       "    </tr>\n",
       "    <tr>\n",
       "      <th>12</th>\n",
       "      <td>2013</td>\n",
       "      <td>abadfe01</td>\n",
       "    </tr>\n",
       "    <tr>\n",
       "      <th>...</th>\n",
       "      <td>...</td>\n",
       "      <td>...</td>\n",
       "    </tr>\n",
       "    <tr>\n",
       "      <th>29462</th>\n",
       "      <td>2003</td>\n",
       "      <td>zoccope01</td>\n",
       "    </tr>\n",
       "    <tr>\n",
       "      <th>29463</th>\n",
       "      <td>2000</td>\n",
       "      <td>zoskyed01</td>\n",
       "    </tr>\n",
       "    <tr>\n",
       "      <th>29464</th>\n",
       "      <td>2000</td>\n",
       "      <td>zuletju01</td>\n",
       "    </tr>\n",
       "    <tr>\n",
       "      <th>29466</th>\n",
       "      <td>2013</td>\n",
       "      <td>zuninmi01</td>\n",
       "    </tr>\n",
       "    <tr>\n",
       "      <th>29469</th>\n",
       "      <td>2016</td>\n",
       "      <td>zuninmi01</td>\n",
       "    </tr>\n",
       "  </tbody>\n",
       "</table>\n",
       "<p>12247 rows × 2 columns</p>\n",
       "</div>"
      ],
      "text/plain": [
       "       year_ID  player_ID\n",
       "1         2006  aardsda01\n",
       "7         2013  aardsda01\n",
       "8         2015  aardsda01\n",
       "9         2010   abadfe01\n",
       "12        2013   abadfe01\n",
       "...        ...        ...\n",
       "29462     2003  zoccope01\n",
       "29463     2000  zoskyed01\n",
       "29464     2000  zuletju01\n",
       "29466     2013  zuninmi01\n",
       "29469     2016  zuninmi01\n",
       "\n",
       "[12247 rows x 2 columns]"
      ]
     },
     "execution_count": 22,
     "metadata": {},
     "output_type": "execute_result"
    }
   ],
   "source": [
    "BR_WAR_all_df_pic_POS[pd.isna(BR_WAR_all_df_pic_POS.loc[:,'salary_max'])][[\"year_ID\",\"player_ID\"]]"
   ]
  },
  {
   "cell_type": "markdown",
   "metadata": {},
   "source": [
    "### 薪水的缺值如何處理?(TODO)"
   ]
  },
  {
   "cell_type": "markdown",
   "metadata": {},
   "source": [
    "依美國CPI進行平減，[資料來源](https://data.bls.gov/pdq/SurveyOutputServlet)"
   ]
  },
  {
   "cell_type": "code",
   "execution_count": 23,
   "metadata": {},
   "outputs": [
    {
     "name": "stdout",
     "output_type": "stream",
     "text": [
      "  >> 讀取:: G:\\我的雲端硬碟\\learning\\論文今年會寫完\\0.資源包\\2.資料\\99_others\\US_CPI_2000to2020.csv\n"
     ]
    }
   ],
   "source": [
    "US_CPI_path = r\"G:\\我的雲端硬碟\\learning\\論文今年會寫完\\0.資源包\\2.資料\\99_others\\US_CPI_2000to2020.csv\"\n",
    "US_CPI_df = read_data_dir_fPathExt(US_CPI_path)\n",
    "\n",
    "US_CPI_df[\"deflator_rate\"] = US_CPI_df[\"Jun\"].apply(lambda j: round(j/US_CPI_df[\"Jun\"][0],4)) #基期 2000年\n",
    "US_CPI_dict = dict(zip(US_CPI_df.Year, US_CPI_df.deflator_rate))"
   ]
  },
  {
   "cell_type": "code",
   "execution_count": 24,
   "metadata": {},
   "outputs": [],
   "source": [
    "# 依2000年美國CPI進行平減\n",
    "BR_WAR_all_df_pic_POS.loc[:, \"salary_max_delf\"] = BR_WAR_all_df_pic_POS.apply(\n",
    "            lambda row: round(row[\"salary_max\"]/US_CPI_dict[row[\"year_ID\"]])\n",
    "            if pd.notna(row[\"salary_max\"]) else np.nan, axis=1)"
   ]
  },
  {
   "cell_type": "code",
   "execution_count": null,
   "metadata": {},
   "outputs": [],
   "source": [
    "# 以百萬美元為單位\n",
    "BR_WAR_all_df_pic_POS.loc[:, \"salary_max_delf\"] = BR_WAR_all_df_pic_POSloc[:,\"salary_max_delf\"]/10**6"
   ]
  },
  {
   "cell_type": "markdown",
   "metadata": {},
   "source": [
    "## WAR年度跨隊加總>> 以當年最高薪球隊為代表"
   ]
  },
  {
   "cell_type": "code",
   "execution_count": 25,
   "metadata": {},
   "outputs": [],
   "source": [
    "# # WAR空值>> 直接刪除\n",
    "# a = len(BR_WAR_all_df_pic_POS)\n",
    "# BR_WAR_all_df_pic_POS.dropna(subset=['WAR'], inplace=True)\n",
    "# b = len(BR_WAR_all_df_pic_POS)\n",
    "# print(f\">> 刪除WAR為空值的資料: {a-b}筆\")\n",
    "\n",
    "# 依照 年份、球員ID、投打type 來加總WAR\n",
    "gp_cols = [\"year_ID\" ,\"player_ID\" ,\"type\"]\n",
    "BR_WAR_all_gp = BR_WAR_all_df_pic_POS[gp_cols+[\"WAR\"]].groupby(gp_cols).agg(\"sum\").reset_index()\n",
    "# BR_WAR_all_gp\n",
    "\n",
    "# 加總後取唯一一筆球隊，以salary最高來判斷\n",
    "BR_WAR_all_OneTeam_df = BR_WAR_all_df_pic_POS.sort_values(by=gp_cols+[\"salary_max_delf\"], ascending=[1,1,1,0]).drop_duplicates(subset=gp_cols).reset_index(drop=True)\n",
    "BR_WAR_all_OneTeam_df.drop(columns=[\"WAR\"], inplace=True)\n",
    "\n",
    "# 將加總後的WAR合併回OneTime df\n",
    "BR_WAR_all_OneTeam_df = BR_WAR_all_OneTeam_df.merge(BR_WAR_all_gp, how=\"left\", on=gp_cols)"
   ]
  },
  {
   "cell_type": "code",
   "execution_count": 26,
   "metadata": {},
   "outputs": [
    {
     "data": {
      "text/html": [
       "<div>\n",
       "<style scoped>\n",
       "    .dataframe tbody tr th:only-of-type {\n",
       "        vertical-align: middle;\n",
       "    }\n",
       "\n",
       "    .dataframe tbody tr th {\n",
       "        vertical-align: top;\n",
       "    }\n",
       "\n",
       "    .dataframe thead th {\n",
       "        text-align: right;\n",
       "    }\n",
       "</style>\n",
       "<table border=\"1\" class=\"dataframe\">\n",
       "  <thead>\n",
       "    <tr style=\"text-align: right;\">\n",
       "      <th></th>\n",
       "      <th>G</th>\n",
       "      <th>age</th>\n",
       "      <th>lg_ID</th>\n",
       "      <th>mlb_ID</th>\n",
       "      <th>name_common</th>\n",
       "      <th>player_ID</th>\n",
       "      <th>salary_BR</th>\n",
       "      <th>stint_ID</th>\n",
       "      <th>team_ID</th>\n",
       "      <th>type</th>\n",
       "      <th>year_ID</th>\n",
       "      <th>POS</th>\n",
       "      <th>salary_LM</th>\n",
       "      <th>salary_max</th>\n",
       "      <th>salary_max_delf</th>\n",
       "      <th>WAR</th>\n",
       "    </tr>\n",
       "  </thead>\n",
       "  <tbody>\n",
       "    <tr>\n",
       "      <th>20231</th>\n",
       "      <td>18</td>\n",
       "      <td>30.0</td>\n",
       "      <td>AL</td>\n",
       "      <td>472551.0</td>\n",
       "      <td>Fernando Abad</td>\n",
       "      <td>abadfe01</td>\n",
       "      <td>1250000.0</td>\n",
       "      <td>2</td>\n",
       "      <td>BOS</td>\n",
       "      <td>pitch</td>\n",
       "      <td>2016</td>\n",
       "      <td>P</td>\n",
       "      <td>NaN</td>\n",
       "      <td>1250000.0</td>\n",
       "      <td>894134.0</td>\n",
       "      <td>0.78</td>\n",
       "    </tr>\n",
       "    <tr>\n",
       "      <th>11176</th>\n",
       "      <td>3</td>\n",
       "      <td>32.0</td>\n",
       "      <td>AL</td>\n",
       "      <td>275700.0</td>\n",
       "      <td>Winston Abreu</td>\n",
       "      <td>abreuwi01</td>\n",
       "      <td>NaN</td>\n",
       "      <td>2</td>\n",
       "      <td>CLE</td>\n",
       "      <td>pitch</td>\n",
       "      <td>2009</td>\n",
       "      <td>P</td>\n",
       "      <td>NaN</td>\n",
       "      <td>NaN</td>\n",
       "      <td>NaN</td>\n",
       "      <td>-0.17</td>\n",
       "    </tr>\n",
       "    <tr>\n",
       "      <th>24327</th>\n",
       "      <td>13</td>\n",
       "      <td>32.0</td>\n",
       "      <td>AL</td>\n",
       "      <td>542866.0</td>\n",
       "      <td>Austin Adams</td>\n",
       "      <td>adamsau01</td>\n",
       "      <td>NaN</td>\n",
       "      <td>2</td>\n",
       "      <td>DET</td>\n",
       "      <td>pitch</td>\n",
       "      <td>2019</td>\n",
       "      <td>P</td>\n",
       "      <td>NaN</td>\n",
       "      <td>NaN</td>\n",
       "      <td>NaN</td>\n",
       "      <td>0.01</td>\n",
       "    </tr>\n",
       "    <tr>\n",
       "      <th>24328</th>\n",
       "      <td>29</td>\n",
       "      <td>28.0</td>\n",
       "      <td>AL</td>\n",
       "      <td>613534.0</td>\n",
       "      <td>Austin Adams</td>\n",
       "      <td>adamsau02</td>\n",
       "      <td>NaN</td>\n",
       "      <td>2</td>\n",
       "      <td>SEA</td>\n",
       "      <td>pitch</td>\n",
       "      <td>2019</td>\n",
       "      <td>P</td>\n",
       "      <td>NaN</td>\n",
       "      <td>NaN</td>\n",
       "      <td>NaN</td>\n",
       "      <td>0.62</td>\n",
       "    </tr>\n",
       "    <tr>\n",
       "      <th>21589</th>\n",
       "      <td>100</td>\n",
       "      <td>28.0</td>\n",
       "      <td>NL</td>\n",
       "      <td>571431.0</td>\n",
       "      <td>Matt Adams</td>\n",
       "      <td>adamsma01</td>\n",
       "      <td>2800000.0</td>\n",
       "      <td>2</td>\n",
       "      <td>ATL</td>\n",
       "      <td>bat</td>\n",
       "      <td>2017</td>\n",
       "      <td>1B</td>\n",
       "      <td>NaN</td>\n",
       "      <td>2800000.0</td>\n",
       "      <td>1970582.0</td>\n",
       "      <td>0.20</td>\n",
       "    </tr>\n",
       "    <tr>\n",
       "      <th>...</th>\n",
       "      <td>...</td>\n",
       "      <td>...</td>\n",
       "      <td>...</td>\n",
       "      <td>...</td>\n",
       "      <td>...</td>\n",
       "      <td>...</td>\n",
       "      <td>...</td>\n",
       "      <td>...</td>\n",
       "      <td>...</td>\n",
       "      <td>...</td>\n",
       "      <td>...</td>\n",
       "      <td>...</td>\n",
       "      <td>...</td>\n",
       "      <td>...</td>\n",
       "      <td>...</td>\n",
       "      <td>...</td>\n",
       "    </tr>\n",
       "    <tr>\n",
       "      <th>25701</th>\n",
       "      <td>17</td>\n",
       "      <td>25.0</td>\n",
       "      <td>AL</td>\n",
       "      <td>621056.0</td>\n",
       "      <td>Hunter Wood</td>\n",
       "      <td>woodhu01</td>\n",
       "      <td>NaN</td>\n",
       "      <td>2</td>\n",
       "      <td>CLE</td>\n",
       "      <td>pitch</td>\n",
       "      <td>2019</td>\n",
       "      <td>P</td>\n",
       "      <td>NaN</td>\n",
       "      <td>NaN</td>\n",
       "      <td>NaN</td>\n",
       "      <td>0.44</td>\n",
       "    </tr>\n",
       "    <tr>\n",
       "      <th>22918</th>\n",
       "      <td>11</td>\n",
       "      <td>30.0</td>\n",
       "      <td>NL</td>\n",
       "      <td>475243.0</td>\n",
       "      <td>Travis Wood</td>\n",
       "      <td>woodtr01</td>\n",
       "      <td>4000000.0</td>\n",
       "      <td>2</td>\n",
       "      <td>SDP</td>\n",
       "      <td>pitch</td>\n",
       "      <td>2017</td>\n",
       "      <td>P</td>\n",
       "      <td>NaN</td>\n",
       "      <td>4000000.0</td>\n",
       "      <td>2815117.0</td>\n",
       "      <td>-1.68</td>\n",
       "    </tr>\n",
       "    <tr>\n",
       "      <th>12415</th>\n",
       "      <td>13</td>\n",
       "      <td>33.0</td>\n",
       "      <td>AL</td>\n",
       "      <td>218595.0</td>\n",
       "      <td>Chris Woodward</td>\n",
       "      <td>woodwch01</td>\n",
       "      <td>NaN</td>\n",
       "      <td>2</td>\n",
       "      <td>BOS</td>\n",
       "      <td>bat</td>\n",
       "      <td>2009</td>\n",
       "      <td>3B</td>\n",
       "      <td>NaN</td>\n",
       "      <td>NaN</td>\n",
       "      <td>NaN</td>\n",
       "      <td>0.04</td>\n",
       "    </tr>\n",
       "    <tr>\n",
       "      <th>17557</th>\n",
       "      <td>1</td>\n",
       "      <td>30.0</td>\n",
       "      <td>AL</td>\n",
       "      <td>489448.0</td>\n",
       "      <td>Mike Zagurski</td>\n",
       "      <td>zagurmi01</td>\n",
       "      <td>NaN</td>\n",
       "      <td>2</td>\n",
       "      <td>NYY</td>\n",
       "      <td>pitch</td>\n",
       "      <td>2013</td>\n",
       "      <td>P</td>\n",
       "      <td>NaN</td>\n",
       "      <td>NaN</td>\n",
       "      <td>NaN</td>\n",
       "      <td>-0.50</td>\n",
       "    </tr>\n",
       "    <tr>\n",
       "      <th>20228</th>\n",
       "      <td>59</td>\n",
       "      <td>34.0</td>\n",
       "      <td>AL</td>\n",
       "      <td>450314.0</td>\n",
       "      <td>Ben Zobrist</td>\n",
       "      <td>zobribe01</td>\n",
       "      <td>7500000.0</td>\n",
       "      <td>2</td>\n",
       "      <td>KCR</td>\n",
       "      <td>bat</td>\n",
       "      <td>2015</td>\n",
       "      <td>2B</td>\n",
       "      <td>NaN</td>\n",
       "      <td>7500000.0</td>\n",
       "      <td>5418292.0</td>\n",
       "      <td>2.42</td>\n",
       "    </tr>\n",
       "  </tbody>\n",
       "</table>\n",
       "<p>424 rows × 16 columns</p>\n",
       "</div>"
      ],
      "text/plain": [
       "         G   age lg_ID    mlb_ID     name_common  player_ID  salary_BR  \\\n",
       "20231   18  30.0    AL  472551.0   Fernando Abad   abadfe01  1250000.0   \n",
       "11176    3  32.0    AL  275700.0   Winston Abreu  abreuwi01        NaN   \n",
       "24327   13  32.0    AL  542866.0    Austin Adams  adamsau01        NaN   \n",
       "24328   29  28.0    AL  613534.0    Austin Adams  adamsau02        NaN   \n",
       "21589  100  28.0    NL  571431.0      Matt Adams  adamsma01  2800000.0   \n",
       "...    ...   ...   ...       ...             ...        ...        ...   \n",
       "25701   17  25.0    AL  621056.0     Hunter Wood   woodhu01        NaN   \n",
       "22918   11  30.0    NL  475243.0     Travis Wood   woodtr01  4000000.0   \n",
       "12415   13  33.0    AL  218595.0  Chris Woodward  woodwch01        NaN   \n",
       "17557    1  30.0    AL  489448.0   Mike Zagurski  zagurmi01        NaN   \n",
       "20228   59  34.0    AL  450314.0     Ben Zobrist  zobribe01  7500000.0   \n",
       "\n",
       "       stint_ID team_ID   type  year_ID POS  salary_LM  salary_max  \\\n",
       "20231         2     BOS  pitch     2016   P        NaN   1250000.0   \n",
       "11176         2     CLE  pitch     2009   P        NaN         NaN   \n",
       "24327         2     DET  pitch     2019   P        NaN         NaN   \n",
       "24328         2     SEA  pitch     2019   P        NaN         NaN   \n",
       "21589         2     ATL    bat     2017  1B        NaN   2800000.0   \n",
       "...         ...     ...    ...      ...  ..        ...         ...   \n",
       "25701         2     CLE  pitch     2019   P        NaN         NaN   \n",
       "22918         2     SDP  pitch     2017   P        NaN   4000000.0   \n",
       "12415         2     BOS    bat     2009  3B        NaN         NaN   \n",
       "17557         2     NYY  pitch     2013   P        NaN         NaN   \n",
       "20228         2     KCR    bat     2015  2B        NaN   7500000.0   \n",
       "\n",
       "       salary_max_delf   WAR  \n",
       "20231         894134.0  0.78  \n",
       "11176              NaN -0.17  \n",
       "24327              NaN  0.01  \n",
       "24328              NaN  0.62  \n",
       "21589        1970582.0  0.20  \n",
       "...                ...   ...  \n",
       "25701              NaN  0.44  \n",
       "22918        2815117.0 -1.68  \n",
       "12415              NaN  0.04  \n",
       "17557              NaN -0.50  \n",
       "20228        5418292.0  2.42  \n",
       "\n",
       "[424 rows x 16 columns]"
      ]
     },
     "execution_count": 26,
     "metadata": {},
     "output_type": "execute_result"
    }
   ],
   "source": [
    "BR_WAR_all_OneTeam_df[BR_WAR_all_OneTeam_df['stint_ID']>1].sort_values(by=[\"player_ID\", \"year_ID\"])"
   ]
  },
  {
   "cell_type": "code",
   "execution_count": 27,
   "metadata": {},
   "outputs": [
    {
     "data": {
      "text/html": [
       "<div>\n",
       "<style scoped>\n",
       "    .dataframe tbody tr th:only-of-type {\n",
       "        vertical-align: middle;\n",
       "    }\n",
       "\n",
       "    .dataframe tbody tr th {\n",
       "        vertical-align: top;\n",
       "    }\n",
       "\n",
       "    .dataframe thead th {\n",
       "        text-align: right;\n",
       "    }\n",
       "</style>\n",
       "<table border=\"1\" class=\"dataframe\">\n",
       "  <thead>\n",
       "    <tr style=\"text-align: right;\">\n",
       "      <th></th>\n",
       "      <th>G</th>\n",
       "      <th>age</th>\n",
       "      <th>lg_ID</th>\n",
       "      <th>mlb_ID</th>\n",
       "      <th>name_common</th>\n",
       "      <th>player_ID</th>\n",
       "      <th>salary_BR</th>\n",
       "      <th>stint_ID</th>\n",
       "      <th>team_ID</th>\n",
       "      <th>type</th>\n",
       "      <th>year_ID</th>\n",
       "      <th>POS</th>\n",
       "      <th>salary_LM</th>\n",
       "      <th>salary_max</th>\n",
       "      <th>salary_max_delf</th>\n",
       "      <th>WAR</th>\n",
       "    </tr>\n",
       "  </thead>\n",
       "  <tbody>\n",
       "    <tr>\n",
       "      <th>0</th>\n",
       "      <td>80</td>\n",
       "      <td>27.0</td>\n",
       "      <td>AL</td>\n",
       "      <td>110010.0</td>\n",
       "      <td>Jeff Abbott</td>\n",
       "      <td>abbotje01</td>\n",
       "      <td>255000.0</td>\n",
       "      <td>1</td>\n",
       "      <td>CHW</td>\n",
       "      <td>bat</td>\n",
       "      <td>2000</td>\n",
       "      <td>OF</td>\n",
       "      <td>NaN</td>\n",
       "      <td>255000.0</td>\n",
       "      <td>255000.0</td>\n",
       "      <td>-0.28</td>\n",
       "    </tr>\n",
       "    <tr>\n",
       "      <th>1</th>\n",
       "      <td>79</td>\n",
       "      <td>31.0</td>\n",
       "      <td>NL</td>\n",
       "      <td>110011.0</td>\n",
       "      <td>Kurt Abbott</td>\n",
       "      <td>abbotku01</td>\n",
       "      <td>500000.0</td>\n",
       "      <td>1</td>\n",
       "      <td>NYM</td>\n",
       "      <td>bat</td>\n",
       "      <td>2000</td>\n",
       "      <td>SS</td>\n",
       "      <td>NaN</td>\n",
       "      <td>500000.0</td>\n",
       "      <td>500000.0</td>\n",
       "      <td>-0.41</td>\n",
       "    </tr>\n",
       "    <tr>\n",
       "      <th>2</th>\n",
       "      <td>35</td>\n",
       "      <td>32.0</td>\n",
       "      <td>AL</td>\n",
       "      <td>110015.0</td>\n",
       "      <td>Paul Abbott</td>\n",
       "      <td>abbotpa01</td>\n",
       "      <td>285000.0</td>\n",
       "      <td>1</td>\n",
       "      <td>SEA</td>\n",
       "      <td>pitch</td>\n",
       "      <td>2000</td>\n",
       "      <td>P</td>\n",
       "      <td>285000.0</td>\n",
       "      <td>285000.0</td>\n",
       "      <td>285000.0</td>\n",
       "      <td>2.57</td>\n",
       "    </tr>\n",
       "    <tr>\n",
       "      <th>3</th>\n",
       "      <td>154</td>\n",
       "      <td>26.0</td>\n",
       "      <td>NL</td>\n",
       "      <td>110029.0</td>\n",
       "      <td>Bobby Abreu</td>\n",
       "      <td>abreubo01</td>\n",
       "      <td>2933333.0</td>\n",
       "      <td>1</td>\n",
       "      <td>PHI</td>\n",
       "      <td>bat</td>\n",
       "      <td>2000</td>\n",
       "      <td>OF</td>\n",
       "      <td>2933333.0</td>\n",
       "      <td>2933333.0</td>\n",
       "      <td>2933333.0</td>\n",
       "      <td>6.18</td>\n",
       "    </tr>\n",
       "    <tr>\n",
       "      <th>4</th>\n",
       "      <td>62</td>\n",
       "      <td>30.0</td>\n",
       "      <td>NL</td>\n",
       "      <td>110032.0</td>\n",
       "      <td>Juan Acevedo</td>\n",
       "      <td>aceveju01</td>\n",
       "      <td>612500.0</td>\n",
       "      <td>1</td>\n",
       "      <td>MIL</td>\n",
       "      <td>pitch</td>\n",
       "      <td>2000</td>\n",
       "      <td>P</td>\n",
       "      <td>612500.0</td>\n",
       "      <td>612500.0</td>\n",
       "      <td>612500.0</td>\n",
       "      <td>0.86</td>\n",
       "    </tr>\n",
       "  </tbody>\n",
       "</table>\n",
       "</div>"
      ],
      "text/plain": [
       "     G   age lg_ID    mlb_ID   name_common  player_ID  salary_BR  stint_ID  \\\n",
       "0   80  27.0    AL  110010.0   Jeff Abbott  abbotje01   255000.0         1   \n",
       "1   79  31.0    NL  110011.0   Kurt Abbott  abbotku01   500000.0         1   \n",
       "2   35  32.0    AL  110015.0   Paul Abbott  abbotpa01   285000.0         1   \n",
       "3  154  26.0    NL  110029.0   Bobby Abreu  abreubo01  2933333.0         1   \n",
       "4   62  30.0    NL  110032.0  Juan Acevedo  aceveju01   612500.0         1   \n",
       "\n",
       "  team_ID   type  year_ID POS  salary_LM  salary_max  salary_max_delf   WAR  \n",
       "0     CHW    bat     2000  OF        NaN    255000.0         255000.0 -0.28  \n",
       "1     NYM    bat     2000  SS        NaN    500000.0         500000.0 -0.41  \n",
       "2     SEA  pitch     2000   P   285000.0    285000.0         285000.0  2.57  \n",
       "3     PHI    bat     2000  OF  2933333.0   2933333.0        2933333.0  6.18  \n",
       "4     MIL  pitch     2000   P   612500.0    612500.0         612500.0  0.86  "
      ]
     },
     "execution_count": 27,
     "metadata": {},
     "output_type": "execute_result"
    }
   ],
   "source": [
    "# 同年跨隊檢查與比較\n",
    "palyer_name = \"Oliver Drake\"\n",
    "# Oliver Drake\n",
    "# Shohei Ohtani\n",
    "# Dan Miceli\n",
    "\n",
    "mask = BR_WAR_all_df[\"name_common\"].isin([palyer_name])\n",
    "BR_WAR_all_df[mask].sort_values(by=[\"year_ID\"])\n",
    "\n",
    "mask = BR_WAR_all_OneTeam_df[\"name_common\"].isin([palyer_name])\n",
    "BR_WAR_all_OneTeam_df[mask].sort_values(by=[\"year_ID\"])\n",
    "\n",
    "# BR_WAR_all_df_pic_POS[BR_WAR_all_df_pic_POS['stint_ID']>3]\n",
    "BR_WAR_all_OneTeam_df.head()"
   ]
  },
  {
   "cell_type": "markdown",
   "metadata": {},
   "source": [
    "## 需要完整年資，而非只有簽約年的球員!"
   ]
  },
  {
   "cell_type": "code",
   "execution_count": 28,
   "metadata": {},
   "outputs": [
    {
     "name": "stdout",
     "output_type": "stream",
     "text": [
      "  >> 讀取:: G:\\我的雲端硬碟\\learning\\論文今年會寫完\\0.資源包\\2.資料\\2.baseball_reference\\org\\WAR_bat_org_20210307_18.24.25.csv\n",
      "  >> 讀取:: G:\\我的雲端硬碟\\learning\\論文今年會寫完\\0.資源包\\2.資料\\2.baseball_reference\\org\\WAR_pitch_org_20210307_18.24.47.csv\n"
     ]
    }
   ],
   "source": [
    "# 讀BR原始資料\n",
    "BR_WAR_bat_org_path = r\"G:\\我的雲端硬碟\\learning\\論文今年會寫完\\0.資源包\\2.資料\\2.baseball_reference\\org\\WAR_bat_org_20210307_18.24.25.csv\"\n",
    "BR_WAR_pitch_org_path = r\"G:\\我的雲端硬碟\\learning\\論文今年會寫完\\0.資源包\\2.資料\\2.baseball_reference\\org\\WAR_pitch_org_20210307_18.24.47.csv\"\n",
    "\n",
    "BR_WAR_bat_org_df = read_data_dir_fPathExt(BR_WAR_bat_org_path)\n",
    "BR_WAR_pitch_org_df = read_data_dir_fPathExt(BR_WAR_pitch_org_path)"
   ]
  },
  {
   "cell_type": "code",
   "execution_count": 29,
   "metadata": {},
   "outputs": [],
   "source": [
    "BR_WAR_all_org_dup_df = pd.concat(\n",
    "    [BR_WAR_bat_org_df[[\"player_ID\", \"year_ID\"]],\n",
    "     BR_WAR_pitch_org_df[[\"player_ID\", \"year_ID\"]]]).drop_duplicates(keep=\"first\")"
   ]
  },
  {
   "cell_type": "code",
   "execution_count": 30,
   "metadata": {},
   "outputs": [
    {
     "data": {
      "text/plain": [
       "array([2020], dtype=int64)"
      ]
     },
     "execution_count": 30,
     "metadata": {},
     "output_type": "execute_result"
    }
   ],
   "source": [
    "BR_WAR_all_org_dup_uni_year = BR_WAR_all_org_dup_df.year_ID.unique()\n",
    "BR_WAR_all_org_dup_uni_year[BR_WAR_all_org_dup_uni_year>2019] # 最大就2020年"
   ]
  },
  {
   "cell_type": "code",
   "execution_count": 31,
   "metadata": {},
   "outputs": [],
   "source": [
    "# 推論年資\n",
    "# 方法1:BR_WAR_all_OneTeam_df(G)=0的球員>> 無，一定有當年出賽，以出賽年數計算年資\n",
    "\n",
    "# 比對當年年資方法\n",
    "def count_Yrs_by_BRorg(playerID, year):\n",
    "    mask = (BR_WAR_all_org_dup_df[\"player_ID\"].isin([playerID])) & (BR_WAR_all_org_dup_df[\"year_ID\"]<=year)\n",
    "    BR_WAR_all_org_dup_df_pic = BR_WAR_all_org_dup_df[mask].reset_index(drop=True)\n",
    "    return BR_WAR_all_org_dup_df_pic.groupby(\"player_ID\").count().values[0][0]"
   ]
  },
  {
   "cell_type": "code",
   "execution_count": 32,
   "metadata": {},
   "outputs": [
    {
     "data": {
      "text/plain": [
       "27016"
      ]
     },
     "execution_count": 32,
     "metadata": {},
     "output_type": "execute_result"
    }
   ],
   "source": [
    "len(BR_WAR_all_OneTeam_df)"
   ]
  },
  {
   "cell_type": "code",
   "execution_count": 33,
   "metadata": {},
   "outputs": [
    {
     "name": "stderr",
     "output_type": "stream",
     "text": [
      "27016it [08:10, 55.11it/s]\n"
     ]
    }
   ],
   "source": [
    "# 要跑 8分鐘10秒!! 2021.03.13 待優化 TODO\n",
    "Yrs_lst = []\n",
    "for playerID, year in tqdm(zip(BR_WAR_all_OneTeam_df.player_ID, BR_WAR_all_OneTeam_df.year_ID)):\n",
    "    Yrs_lst.append(count_Yrs_by_BRorg(playerID=playerID, year=year))"
   ]
  },
  {
   "cell_type": "code",
   "execution_count": 37,
   "metadata": {},
   "outputs": [],
   "source": [
    "BR_WAR_all_OneTeam_df.loc[:, \"Yrs_BR\"] = Yrs_lst"
   ]
  },
  {
   "cell_type": "markdown",
   "metadata": {},
   "source": [
    "# 定義合約年"
   ]
  },
  {
   "cell_type": "markdown",
   "metadata": {},
   "source": [
    "串接有簽約的自由球員狀態 from Baseball Reference"
   ]
  },
  {
   "cell_type": "code",
   "execution_count": 2,
   "metadata": {},
   "outputs": [
    {
     "name": "stdout",
     "output_type": "stream",
     "text": [
      "  >> 讀取:: G:\\我的雲端硬碟\\learning\\論文今年會寫完\\0.資源包\\2.資料\\5.free_agent_collection\\BR_FreeAgent_2000to2020_20210208_18.02.07.csv\n"
     ]
    }
   ],
   "source": [
    "# 讀取自由球員資料\n",
    "BP_FA_path = r\"G:\\我的雲端硬碟\\learning\\論文今年會寫完\\0.資源包\\2.資料\\5.free_agent_collection\\BR_FreeAgent_2000to2020_20210208_18.02.07.csv\"\n",
    "BP_FA_df = read_data_dir_fPathExt(BP_FA_path)"
   ]
  },
  {
   "cell_type": "code",
   "execution_count": 3,
   "metadata": {},
   "outputs": [],
   "source": [
    "BP_FA_df.rename(columns={\"Yrs\":\"Yrs_FA\"}, inplace=True)"
   ]
  },
  {
   "cell_type": "code",
   "execution_count": 5,
   "metadata": {},
   "outputs": [
    {
     "data": {
      "text/plain": [
       "Index(['_idx', 'AB', 'Age', 'BA', 'BB', 'BB.1', 'Date', 'ERA', 'From Team',\n",
       "       'G', 'G.1', 'GS', 'H', 'H.1', 'HR', 'HR.1', 'IP', 'L', 'Name', 'OBP',\n",
       "       'OPS', 'R', 'RBI', 'Rk', 'SB', 'SLG', 'SO', 'SV', 'To Team', 'W',\n",
       "       'WAR3', 'WHIP', 'YEAR', 'Yrs_FA'],\n",
       "      dtype='object')"
      ]
     },
     "execution_count": 5,
     "metadata": {},
     "output_type": "execute_result"
    }
   ],
   "source": [
    "BP_FA_df.columns"
   ]
  },
  {
   "cell_type": "code",
   "execution_count": 8,
   "metadata": {},
   "outputs": [],
   "source": [
    "# BP_FA_df[BP_FA_df[\"Yrs_FA\"]==5][[\"Name\",\"YEAR\"]]"
   ]
  },
  {
   "cell_type": "code",
   "execution_count": 42,
   "metadata": {},
   "outputs": [
    {
     "data": {
      "text/plain": [
       "2     953\n",
       "3     858\n",
       "7     852\n",
       "4     837\n",
       "5     833\n",
       "6     780\n",
       "1     768\n",
       "8     717\n",
       "9     573\n",
       "10    428\n",
       "11    346\n",
       "12    276\n",
       "13    198\n",
       "14    147\n",
       "15    118\n",
       "16     77\n",
       "17     44\n",
       "18     32\n",
       "19     22\n",
       "20     12\n",
       "21     11\n",
       "22      7\n",
       "23      3\n",
       "24      1\n",
       "0       1\n",
       "Name: Yrs_FA, dtype: int64"
      ]
     },
     "execution_count": 42,
     "metadata": {},
     "output_type": "execute_result"
    }
   ],
   "source": [
    "BP_FA_df['Yrs_FA'].value_counts()"
   ]
  },
  {
   "cell_type": "markdown",
   "metadata": {},
   "source": [
    "只看年資6年以上的簽約就好"
   ]
  },
  {
   "cell_type": "code",
   "execution_count": 43,
   "metadata": {},
   "outputs": [],
   "source": [
    "check_FA_Yrs_gt_6_mask = BP_FA_df['Yrs_FA']>=6\n",
    "BP_FA_df_pic = BP_FA_df[check_FA_Yrs_gt_6_mask].reset_index(drop=True)"
   ]
  },
  {
   "cell_type": "code",
   "execution_count": 44,
   "metadata": {},
   "outputs": [
    {
     "data": {
      "text/plain": [
       "8894"
      ]
     },
     "execution_count": 44,
     "metadata": {},
     "output_type": "execute_result"
    }
   ],
   "source": [
    "len(BP_FA_df)"
   ]
  },
  {
   "cell_type": "code",
   "execution_count": 45,
   "metadata": {},
   "outputs": [
    {
     "name": "stdout",
     "output_type": "stream",
     "text": [
      "<class 'pandas.core.frame.DataFrame'>\n",
      "RangeIndex: 4644 entries, 0 to 4643\n",
      "Data columns (total 34 columns):\n",
      "_idx         4644 non-null int64\n",
      "AB           4174 non-null float64\n",
      "Age          4644 non-null int64\n",
      "BA           4058 non-null float64\n",
      "BB           4174 non-null float64\n",
      "BB.1         2115 non-null float64\n",
      "Date         4644 non-null object\n",
      "ERA          2115 non-null float64\n",
      "From Team    4644 non-null object\n",
      "G            4174 non-null float64\n",
      "G.1          2115 non-null float64\n",
      "GS           2115 non-null float64\n",
      "H            4174 non-null float64\n",
      "H.1          2115 non-null float64\n",
      "HR           4174 non-null float64\n",
      "HR.1         2115 non-null float64\n",
      "IP           2115 non-null float64\n",
      "L            2115 non-null float64\n",
      "Name         4644 non-null object\n",
      "OBP          4071 non-null float64\n",
      "OPS          4058 non-null float64\n",
      "R            4174 non-null float64\n",
      "RBI          4174 non-null float64\n",
      "Rk           4644 non-null int64\n",
      "SB           4174 non-null float64\n",
      "SLG          4058 non-null float64\n",
      "SO           2115 non-null float64\n",
      "SV           2115 non-null float64\n",
      "To Team      4621 non-null object\n",
      "W            2115 non-null float64\n",
      "WAR3         4454 non-null float64\n",
      "WHIP         2115 non-null float64\n",
      "YEAR         4644 non-null float64\n",
      "Yrs_FA       4644 non-null int64\n",
      "dtypes: float64(26), int64(4), object(4)\n",
      "memory usage: 1.2+ MB\n"
     ]
    }
   ],
   "source": [
    "BP_FA_df_pic.info()\n",
    "# Yrs: 大聯盟年資"
   ]
  },
  {
   "cell_type": "markdown",
   "metadata": {},
   "source": [
    "同年又同名同姓的FA交易紀錄(ex: 2014、2015 Chris Young)>> 需加入球隊來區別"
   ]
  },
  {
   "cell_type": "code",
   "execution_count": 123,
   "metadata": {},
   "outputs": [
    {
     "name": "stdout",
     "output_type": "stream",
     "text": [
      "  >> 讀取:: G:\\我的雲端硬碟\\learning\\論文今年會寫完\\0.資源包\\2.資料\\1.Lahman_db_2020\\core\\Teams.csv\n",
      ">> MLB球隊數: 30 隊 (理應30隊)\n"
     ]
    }
   ],
   "source": [
    "# 以Lahman Team 資料 將 To Team 替換成team ID\n",
    "LM_team_path = r\"G:\\我的雲端硬碟\\learning\\論文今年會寫完\\0.資源包\\2.資料\\1.Lahman_db_2020\\core\\Teams.csv\"\n",
    "LM_team_df = read_data_dir_fPathExt(LM_team_path) \n",
    "\n",
    "# 製作 球隊全名:簡稱 字典\n",
    "LM_team_df_for_ID = LM_team_df[['name', 'teamIDBR']].drop_duplicates()\n",
    "teamID_dict = dict(zip(LM_team_df_for_ID.name, LM_team_df_for_ID.teamIDBR))\n",
    "\n",
    "# 例外處裡: Los Angeles Angels of Anaheim = Los Angeles Angels\n",
    "mask_fix = BP_FA_df_pic['To Team'].isin(['Los Angeles Angels of Anaheim'])\n",
    "BP_FA_df_pic.loc[mask_fix, 'To Team'] = \"Los Angeles Angels\"\n",
    "\n",
    "# 以球隊名稱串簡稱\n",
    "BP_FA_df_pic['To Team ID'] = BP_FA_df_pic['To Team'].apply(lambda t: teamID_dict[t] if pd.notna(t) else np.nan)\n",
    "\n",
    "# 球隊名稱清理\n",
    "# FLA => MIA 馬林魚 需整合\n",
    "# SFG>>巨人隊\n",
    "# KCR>>皇家隊\n",
    "# BLA(誤)>>BAL 金鶯隊 需更正\n",
    "# SDP>>教士隊\n",
    "# TBRD => TBRR 光芒隊 需整合\n",
    "# ANA => LAA 天使隊 需整合\n",
    "# CHW>>白襪隊\n",
    "# MLA>>釀酒人隊\n",
    "#  MON => WSN 國民隊 需整合\n",
    "\n",
    "def team_ID_cleaner(teamID):\n",
    "    if teamID == \"FLA\":\n",
    "        return \"MIA\"\n",
    "    \n",
    "    if (teamID == \"TBRD\") | (teamID == \"TBR\"):\n",
    "        return \"TBRR\"\n",
    "    \n",
    "    if teamID == \"ANA\":\n",
    "        return \"LAA\"\n",
    "    \n",
    "    if (teamID == \"MON\") | (teamID == \"WSN\"):\n",
    "        return \"WSN\"\n",
    "    \n",
    "    if teamID == \"BLA\":\n",
    "        return \"BAL\"\n",
    "    \n",
    "    return teamID\n",
    "    \n",
    "for c in [\"From Team\", \"To Team ID\"]:\n",
    "    BP_FA_df_pic[c] = BP_FA_df_pic[c].apply(team_ID_cleaner)\n",
    "\n",
    "print(f\">> MLB球隊數: {BP_FA_df_pic['To Team ID'].nunique()} 隊 (理應30隊)\")"
   ]
  },
  {
   "cell_type": "markdown",
   "metadata": {},
   "source": [
    "FA紀錄在To Team為空值(37筆)>> 人肉查詢"
   ]
  },
  {
   "cell_type": "code",
   "execution_count": 125,
   "metadata": {},
   "outputs": [
    {
     "name": "stdout",
     "output_type": "stream",
     "text": [
      ">> FA紀錄在To Team為空值: 23 筆\n"
     ]
    }
   ],
   "source": [
    "FA_cols_pic_tmp = [\"YEAR\", \"Date\", \"Name\", \"From Team\", \"To Team ID\", \"Yrs_FA\"]\n",
    "\n",
    "# 檢查 37筆都是真的有FA紀錄的球員\n",
    "FA_check_ToTeam_nan_mask = pd.isna(BP_FA_df_pic['To Team ID'])\n",
    "FA_check_ToTeam_nan_df = BP_FA_df_pic[FA_check_ToTeam_nan_mask][FA_cols_pic_tmp]\n",
    "print(f\">> FA紀錄在To Team為空值: {len(FA_check_ToTeam_nan_df)} 筆\")"
   ]
  },
  {
   "cell_type": "markdown",
   "metadata": {},
   "source": [
    "## To Team 缺值檢查"
   ]
  },
  {
   "cell_type": "markdown",
   "metadata": {},
   "source": [
    "\n",
    "|簽約年(列表)|簽約日期_人名|檢查結果|\n",
    "|:--|:--|:--|\n",
    "|2004|2005-04-01_Andy Fox|簽給天使同年退休且簽約前年無出賽，補(LAA)|\n",
    "|2004|2005-02-23_Carlos Baerga|簽給國民，當年有93場出賽紀錄，補(WSN)|\n",
    "|2004|2005-02-21_Luke Allen|同年簽給天使且簽約前年無出賽，補(LAA)|\n",
    "|2004|2005-02-18_Hector Ortiz|簽給國民，隨後消失，補(WSN)|\n",
    "|2004|2005-02-15_Lou Merloni|簽給天使，當年有5場出賽紀錄，補(LAA)|\n",
    "|2004|2005-01-19_Esteban Loaiza|簽給國民，當年有34場出賽紀錄，補(WSN)|\n",
    "|2004|2005-01-19_Antonio Osuna|簽給國民，當年有4場出賽紀錄，補(WSN)|\n",
    "|2004|2005-01-18_Keith Osik|簽給國民，當年有5場出賽紀錄，補(WSN)|\n",
    "|2004|2005-01-12_Orlando Cabrera|簽給天使，當年有140場出賽紀錄，補(LAA)|\n",
    "|2004|2005-01-11_Corey Lee|簽給天使，同年釋出且簽約前年無出賽，補(LAA)|\n",
    "|2004|2005-01-11_Brian Powell|簽給國民，隨後消失，補(WSN)|\n",
    "|2004|2005-01-05_Matt White|簽給國民，補(WSN)|\n",
    "|2004|2005-01-05_Ed Yarnall|簽給國民，補(WSN)|\n",
    "|2004|2005-01-03_Erick Almonte|原日職選手，簽給印地安人，補(CLE)|\n",
    "|2004|2004-12-23_Chad Durbin|簽給國民，補(WSN)|\n",
    "|2004|2004-12-23_Phil Hiatt|簽給國民，補(WSN)|\n",
    "|2004|2004-12-23_Luis Pineda|簽給國民，補(WSN)|\n",
    "|2004|2004-12-20_Aaron Myette|原日職選手，簽給費城人，補(PHI)|\n",
    "|2004|2004-12-13_Wil Cordero|簽給國民，補(WSN)|\n",
    "|2004|2004-11-29_Gary Bennett|簽給國民，補(WSN)|\n",
    "|2004|2004-11-16_Vinny Castilla|簽給國民，補(WSN)|\n",
    "|2004|2004-11-16_Cristian Guzman|簽給國民，補(WSN)|\n",
    "|2004|2004-11-04_Ramon Castro|簽給國民，補(WSN)|\n",
    "|2004|2004-10-28_Dan Smith|簽給國民，但隨後消失，補(WSN)|\n",
    "|2007|2008-04-22_Josh Labandeira|簽給光芒，補(TBR)|\n",
    "|2007|2008-03-29_Ben Hendrickson|簽給光芒，補(TBR)|\n",
    "|2007|2008-02-06_Eric Hinske|簽給光芒，補(TBR)|\n",
    "|2007|2008-02-06_Trever Miller|簽給光芒，補(TBR)|\n",
    "|2007|2008-02-01_Steve Andrade|簽給光芒，補(TBR)|\n",
    "|2007|2008-01-06_Mike Difelice|簽給光芒，補(TBR)|\n",
    "|2007|2008-01-04_Brent Butler|簽給光芒，補(TBR)|\n",
    "|2007|2008-01-03_John Rodriguez|簽給光芒，補(TBR)|\n",
    "|2011|2012-01-20_Chris Aguila|簽給馬林魚，補(MIA)|\n",
    "|2011|2012-01-18_Gil Velazquez|簽給馬林魚，補(MIA)|\n",
    "|2011|2012-01-05_Greg Dobbs|簽給馬林魚，補(MIA)|\n",
    "|2011|2012-01-04_Rob Delaney|簽給馬林魚，補(MIA)|\n",
    "|2011|2012-01-04_Chad Gaudin|簽給馬林魚，補(MIA)|"
   ]
  },
  {
   "cell_type": "code",
   "execution_count": 153,
   "metadata": {},
   "outputs": [
    {
     "name": "stdout",
     "output_type": "stream",
     "text": [
      "  >> 讀取:: G:\\我的雲端硬碟\\learning\\論文今年會寫完\\0.資源包\\2.資料\\5.free_agent_collection\\fill_no_toTeam_37players.csv\n"
     ]
    }
   ],
   "source": [
    "# 讀入補值資料\n",
    "FA_fillnan_ToTeam_path = r\"G:\\我的雲端硬碟\\learning\\論文今年會寫完\\0.資源包\\2.資料\\5.free_agent_collection\\fill_no_toTeam_37players.csv\"\n",
    "FA_fillnan_ToTeam_df = read_data_dir_fPathExt(FA_fillnan_ToTeam_path)\n",
    "\n",
    "FA_fillnan_dict =  dict(zip(FA_fillnan_ToTeam_df.id, FA_fillnan_ToTeam_df.to_team))"
   ]
  },
  {
   "cell_type": "code",
   "execution_count": 154,
   "metadata": {},
   "outputs": [],
   "source": [
    "# 補植\n",
    "BP_FA_df_pic.loc[FA_check_ToTeam_nan_mask, \"To Team ID\"] = BP_FA_df_pic.loc[FA_check_ToTeam_nan_mask][[\"Date\",\"Name\"]].apply(\n",
    "                                lambda row: FA_fillnan_dict[str(row[\"Date\"]) +\"_\"+str(row[\"Name\"])], axis=1)"
   ]
  },
  {
   "cell_type": "markdown",
   "metadata": {},
   "source": [
    "簽約年使用列表年，而非簽約日期的年度(考量球季時間)"
   ]
  },
  {
   "cell_type": "code",
   "execution_count": 155,
   "metadata": {},
   "outputs": [
    {
     "name": "stdout",
     "output_type": "stream",
     "text": [
      "Series([], dtype: int64)\n",
      "      G   age lg_ID    mlb_ID  name_common  player_ID  salary_BR  stint_ID  \\\n",
      "4384  4  31.0    NL  285080.0  Matt Miller  millema02        NaN         1   \n",
      "\n",
      "     team_ID   type  year_ID POS  salary_LM  salary_max  salary_max_delf  WAR  \\\n",
      "4384     COL  pitch     2003   P        NaN         NaN              NaN  0.1   \n",
      "\n",
      "      Yrs_BR                FA_key  \n",
      "4384       1  2003_COL_Matt Miller  \n"
     ]
    }
   ],
   "source": [
    "# 檢查FA重複\n",
    "check_dup = (BP_FA_df_pic[\"YEAR\"].map(str) + \"_\" + BP_FA_df_pic[\"From Team\"] + \"_\" + BP_FA_df_pic[\"Name\"]).value_counts()\n",
    "print(check_dup[check_dup>1]) # millema02、millema01\n",
    "\n",
    "# 例外處理: 2003_COL_Matt Miller\n",
    "# 實際上2003年有表現數據的只有millema02\n",
    "mask = (BR_WAR_all_OneTeam_df[\"year_ID\"].isin([2003])) & (BR_WAR_all_OneTeam_df[\"name_common\"].isin([\"Matt Miller\"]))\n",
    "print(BR_WAR_all_OneTeam_df[mask])\n",
    "\n",
    "# 拿掉 millema01 在FA名單中: 簽約日 2004-01-05\n",
    "drop_millema01_mask = (BP_FA_df_pic[\"Date\"].isin([\"2004-01-05\"])) & (BP_FA_df_pic[\"Name\"].isin([\"Matt Miller\"]))\n",
    "BP_FA_df_pic = BP_FA_df_pic[~drop_millema01_mask].reset_index(drop=True)"
   ]
  },
  {
   "cell_type": "markdown",
   "metadata": {},
   "source": [
    "合併"
   ]
  },
  {
   "cell_type": "code",
   "execution_count": 156,
   "metadata": {},
   "outputs": [
    {
     "name": "stdout",
     "output_type": "stream",
     "text": [
      ">>撐開: 0 筆\n"
     ]
    }
   ],
   "source": [
    "# 合約年格式轉換為整數\n",
    "BP_FA_df_pic[\"YEAR\"] = BP_FA_df_pic[\"YEAR\"].map(int)\n",
    "\n",
    "# 標記簽約FA\n",
    "BP_FA_df_pic['is_FA_signed'] = True\n",
    "\n",
    "# FA 資料排除沒有 To Team 紀錄的資料\n",
    "mask_ToTeam_notna = pd.notna(BP_FA_df_pic['To Team ID'])\n",
    "BP_FA_df_pic = BP_FA_df_pic[mask_ToTeam_notna].reset_index(drop=True)\n",
    "\n",
    "# 製作key\n",
    "BP_FA_df_pic[\"FA_key\"] = BP_FA_df_pic[\"YEAR\"].map(str) + \"_\" + BP_FA_df_pic[\"From Team\"] + \"_\" + BP_FA_df_pic[\"Name\"]\n",
    "BR_WAR_all_OneTeam_df[\"FA_key\"] = BR_WAR_all_OneTeam_df[\"year_ID\"].map(str) + \"_\" + BR_WAR_all_OneTeam_df[\"team_ID\"] + \"_\" + BR_WAR_all_OneTeam_df[\"name_common\"]\n",
    "\n",
    "# 以FA簽約年、簽約年的原球隊(from team)、球員名稱串檔\n",
    "FA_cols_pic = [\"Date\", \"To Team ID\", \"Yrs_FA\", \"is_FA_signed\", \"FA_key\"]\n",
    "BR_WAR_all_FA_df = BR_WAR_all_OneTeam_df.merge(BP_FA_df_pic[FA_cols_pic], how=\"left\"\n",
    "                    , on=[\"FA_key\"])\n",
    "\n",
    "# 空值處理\n",
    "BR_WAR_all_FA_df.fillna(np.nan, inplace=True)\n",
    "BR_WAR_all_FA_df['is_FA_signed'].fillna(False, inplace=True)\n",
    "\n",
    "print(f\">>撐開: {len(BR_WAR_all_FA_df)-len(BR_WAR_all_OneTeam_df)} 筆\")"
   ]
  },
  {
   "cell_type": "code",
   "execution_count": 157,
   "metadata": {},
   "outputs": [
    {
     "data": {
      "text/plain": [
       "False    24108\n",
       "True      2908\n",
       "Name: is_FA_signed, dtype: int64"
      ]
     },
     "execution_count": 157,
     "metadata": {},
     "output_type": "execute_result"
    }
   ],
   "source": [
    "BR_WAR_all_FA_df['is_FA_signed'].value_counts()"
   ]
  },
  {
   "cell_type": "code",
   "execution_count": 158,
   "metadata": {},
   "outputs": [
    {
     "data": {
      "text/html": [
       "<div>\n",
       "<style scoped>\n",
       "    .dataframe tbody tr th:only-of-type {\n",
       "        vertical-align: middle;\n",
       "    }\n",
       "\n",
       "    .dataframe tbody tr th {\n",
       "        vertical-align: top;\n",
       "    }\n",
       "\n",
       "    .dataframe thead th {\n",
       "        text-align: right;\n",
       "    }\n",
       "</style>\n",
       "<table border=\"1\" class=\"dataframe\">\n",
       "  <thead>\n",
       "    <tr style=\"text-align: right;\">\n",
       "      <th></th>\n",
       "      <th>G</th>\n",
       "      <th>age</th>\n",
       "      <th>lg_ID</th>\n",
       "      <th>mlb_ID</th>\n",
       "      <th>name_common</th>\n",
       "      <th>player_ID</th>\n",
       "      <th>salary_BR</th>\n",
       "      <th>stint_ID</th>\n",
       "      <th>team_ID</th>\n",
       "      <th>type</th>\n",
       "      <th>...</th>\n",
       "      <th>salary_LM</th>\n",
       "      <th>salary_max</th>\n",
       "      <th>salary_max_delf</th>\n",
       "      <th>WAR</th>\n",
       "      <th>Yrs_BR</th>\n",
       "      <th>FA_key</th>\n",
       "      <th>Date</th>\n",
       "      <th>To Team ID</th>\n",
       "      <th>Yrs_FA</th>\n",
       "      <th>is_FA_signed</th>\n",
       "    </tr>\n",
       "  </thead>\n",
       "  <tbody>\n",
       "    <tr>\n",
       "      <th>532</th>\n",
       "      <td>11</td>\n",
       "      <td>28.0</td>\n",
       "      <td>NL</td>\n",
       "      <td>116718.0</td>\n",
       "      <td>Bobby Jones</td>\n",
       "      <td>jonesbo04</td>\n",
       "      <td>NaN</td>\n",
       "      <td>1</td>\n",
       "      <td>NYM</td>\n",
       "      <td>pitch</td>\n",
       "      <td>...</td>\n",
       "      <td>NaN</td>\n",
       "      <td>NaN</td>\n",
       "      <td>NaN</td>\n",
       "      <td>0.12</td>\n",
       "      <td>4</td>\n",
       "      <td>2000_NYM_Bobby Jones</td>\n",
       "      <td>2001-02-15</td>\n",
       "      <td>SDP</td>\n",
       "      <td>8.0</td>\n",
       "      <td>True</td>\n",
       "    </tr>\n",
       "  </tbody>\n",
       "</table>\n",
       "<p>1 rows × 22 columns</p>\n",
       "</div>"
      ],
      "text/plain": [
       "      G   age lg_ID    mlb_ID  name_common  player_ID  salary_BR  stint_ID  \\\n",
       "532  11  28.0    NL  116718.0  Bobby Jones  jonesbo04        NaN         1   \n",
       "\n",
       "    team_ID   type  ...  salary_LM salary_max  salary_max_delf   WAR  Yrs_BR  \\\n",
       "532     NYM  pitch  ...        NaN        NaN              NaN  0.12       4   \n",
       "\n",
       "                   FA_key        Date To Team ID Yrs_FA is_FA_signed  \n",
       "532  2000_NYM_Bobby Jones  2001-02-15        SDP    8.0         True  \n",
       "\n",
       "[1 rows x 22 columns]"
      ]
     },
     "execution_count": 158,
     "metadata": {},
     "output_type": "execute_result"
    }
   ],
   "source": [
    "# 檢查年資 >> Yrs_BR 完勝 Yrs_FA\n",
    "# check_Yrs_same_mask= (pd.notna(BR_WAR_all_FA_df[\"Yrs_FA\"])) & (BR_WAR_all_FA_df[\"Yrs_FA\"]==BR_WAR_all_FA_df[\"Yrs_BR\"])\n",
    "# BR_WAR_all_FA_df[check_Yrs_same_mask]\n",
    "\n",
    "check_Yrs_diff_mask= (pd.notna(BR_WAR_all_FA_df[\"Yrs_FA\"])) & (BR_WAR_all_FA_df[\"Yrs_FA\"]!=BR_WAR_all_FA_df[\"Yrs_BR\"])\n",
    "BR_WAR_all_FA_df[check_Yrs_diff_mask]"
   ]
  },
  {
   "cell_type": "code",
   "execution_count": null,
   "metadata": {},
   "outputs": [],
   "source": []
  },
  {
   "cell_type": "markdown",
   "metadata": {},
   "source": [
    "# 變數製作"
   ]
  },
  {
   "cell_type": "markdown",
   "metadata": {},
   "source": [
    "串接相關欄位(球員 投打慣用手、國籍、初登板、最後出賽 from Lahman)"
   ]
  },
  {
   "cell_type": "code",
   "execution_count": 159,
   "metadata": {},
   "outputs": [
    {
     "name": "stdout",
     "output_type": "stream",
     "text": [
      "  >> 讀取:: G:\\我的雲端硬碟\\learning\\論文今年會寫完\\0.資源包\\2.資料\\1.Lahman_db_2020\\core\\People.csv\n",
      "  >> 讀取:: G:\\我的雲端硬碟\\learning\\論文今年會寫完\\0.資源包\\2.資料\\1.Lahman_db_2020\\core\\AllstarFull.csv\n"
     ]
    }
   ],
   "source": [
    "LM_people_path = r\"G:\\我的雲端硬碟\\learning\\論文今年會寫完\\0.資源包\\2.資料\\1.Lahman_db_2020\\core\\People.csv\"\n",
    "LM_people_df = read_data_dir_fPathExt(LM_people_path)\n",
    "\n",
    "LM_AllStar_path = r\"G:\\我的雲端硬碟\\learning\\論文今年會寫完\\0.資源包\\2.資料\\1.Lahman_db_2020\\core\\AllstarFull.csv\"\n",
    "LM_AllStar_df = read_data_dir_fPathExt(LM_AllStar_path)"
   ]
  },
  {
   "cell_type": "code",
   "execution_count": 160,
   "metadata": {},
   "outputs": [
    {
     "data": {
      "text/plain": [
       "Index(['playerID', 'birthYear', 'birthMonth', 'birthDay', 'birthCountry',\n",
       "       'birthState', 'birthCity', 'deathYear', 'deathMonth', 'deathDay',\n",
       "       'deathCountry', 'deathState', 'deathCity', 'nameFirst', 'nameLast',\n",
       "       'nameGiven', 'weight', 'height', 'bats', 'throws', 'debut', 'finalGame',\n",
       "       'retroID', 'bbrefID'],\n",
       "      dtype='object')"
      ]
     },
     "execution_count": 160,
     "metadata": {},
     "output_type": "execute_result"
    }
   ],
   "source": [
    "LM_people_df.columns"
   ]
  },
  {
   "cell_type": "code",
   "execution_count": 161,
   "metadata": {},
   "outputs": [],
   "source": [
    "# 組合成常見的名子(也可以用player)ID就好)\n",
    "LM_people_df['name_common'] = LM_people_df[\"nameFirst\"] + \" \"+ LM_people_df[\"nameLast\"]"
   ]
  },
  {
   "cell_type": "code",
   "execution_count": 162,
   "metadata": {},
   "outputs": [],
   "source": [
    "LM_people_cols_pic = [\n",
    "    'player_ID'\n",
    "#     ,'name_common'\n",
    "#     ,'birthYear'\n",
    "#     ,'birthMonth'\n",
    "#     ,'birthDay'\n",
    "#     ,'birthCountry'\n",
    "#     ,'birthState'\n",
    "#     ,'birthCity'\n",
    "#     ,'deathYear'\n",
    "#     ,'deathMonth'\n",
    "#     ,'deathDay'\n",
    "#     ,'deathCountry'\n",
    "#     ,'deathState'\n",
    "#     ,'deathCity'\n",
    "#     ,'nameFirst'\n",
    "#     ,'nameLast'\n",
    "#     ,'nameGiven'\n",
    "#     ,'weight'\n",
    "#     ,'height'\n",
    "    ,'bats'\n",
    "    ,'throws'\n",
    "    ,'debut'\n",
    "    ,'finalGame'\n",
    "#     ,'retroID'\n",
    "#     ,'bbrefID'\n",
    "]\n",
    "\n",
    "# 以 player_ID 串檔\n",
    "LM_people_df.rename(columns={\"playerID\":\"player_ID\"}, inplace=True)\n",
    "BR_WAR_all_FA_df = BR_WAR_all_FA_df.merge(LM_people_df[LM_people_cols_pic], how=\"left\"\n",
    "                    , on=[\"player_ID\"])\n",
    "\n",
    "# 空值處理\n",
    "BR_WAR_all_FA_df.fillna(np.nan, inplace=True)"
   ]
  },
  {
   "cell_type": "markdown",
   "metadata": {},
   "source": [
    "初登板、最後登板資料有空值 >> 從 Baseball Reference 爬回來"
   ]
  },
  {
   "cell_type": "code",
   "execution_count": 163,
   "metadata": {},
   "outputs": [
    {
     "name": "stdout",
     "output_type": "stream",
     "text": [
      "64\n",
      ">> (1/64) {'brownro02': {'debut': '1999-05-18', 'last_game': '2002-09-29'}}\n",
      ">> (2/64) {'burnea.01': {'debut': '1999-08-17', 'last_game': '2015-10-03'}}\n",
      ">> (3/64) {\"d'amije01\": {'debut': '1996-06-28', 'last_game': '2004-05-10'}}\n",
      ">> (4/64) {\"d'amije02\": {'debut': '2000-06-03', 'last_game': '2000-07-07'}}\n",
      ">> (5/64) {'drewj.01': {'debut': '1998-09-08', 'last_game': '2011-09-28'}}\n",
      ">> (6/64) {'furcara02': {'debut': '2000-04-04', 'last_game': '2014-06-21'}}\n",
      ">> (7/64) {'garcifr03': {'debut': '1999-04-07', 'last_game': '2013-09-24'}}\n",
      ">> (8/64) {'hincha.01': {'debut': '1998-04-01', 'last_game': '2004-09-24'}}\n",
      ">> (9/64) {'jacquth01': {'debut': '2000-09-09', 'last_game': '2000-09-30'}}\n",
      ">> (10/64) {'johnsma05': {'debut': '2000-04-07', 'last_game': '2000-06-24'}}\n",
      ">> (11/64) {'lopezro02': {'debut': '2000-04-29', 'last_game': '2012-04-22'}}\n",
      ">> (12/64) {'mathet.01': {'debut': '1995-07-28', 'last_game': '2002-07-24'}}\n",
      ">> (13/64) {'morrija03': {'debut': '1999-09-18', 'last_game': '2000-05-09'}}\n",
      ">> (14/64) {'nichode01': {'debut': '2000-06-23', 'last_game': '2000-09-03'}}\n",
      ">> (15/64) {'nitkoc.01': {'debut': '1995-06-03', 'last_game': '2005-06-07'}}\n",
      ">> (16/64) {\"o'brich01\": {'debut': '1985-06-02', 'last_game': '2000-06-21'}}\n",
      ">> (17/64) {\"o'conbr02\": {'debut': '2000-05-13', 'last_game': '2000-09-27'}}\n",
      ">> (18/64) {\"o'leatr01\": {'debut': '1993-05-09', 'last_game': '2003-09-28'}}\n",
      ">> (19/64) {\"o'neipa01\": {'debut': '1985-09-03', 'last_game': '2001-10-07'}}\n",
      ">> (20/64) {'ortizjo04': {'debut': '2000-09-15', 'last_game': '2002-09-27'}}\n",
      ">> (21/64) {'ortizra02': {'debut': '1999-08-19', 'last_game': '2013-06-02'}}\n",
      ">> (22/64) {'pierza.01': {'debut': '1998-09-09', 'last_game': '2016-09-10'}}\n",
      ">> (23/64) {'redmaju01': {'debut': '2000-06-30', 'last_game': '2007-09-30'}}\n",
      ">> (24/64) {'romerj.01': {'debut': '1999-09-15', 'last_game': '2012-08-22'}}\n",
      ">> (25/64) {'ryanb.01': {'debut': '1999-07-28', 'last_game': '2009-07-05'}}\n",
      ">> (26/64) {'santaf.01': {'debut': '1995-08-02', 'last_game': '2001-10-07'}}\n",
      ">> (27/64) {'santajo02': {'debut': '2000-04-03', 'last_game': '2012-08-17'}}\n",
      ">> (28/64) {'schrest02': {'debut': '1999-07-03', 'last_game': '2000-07-16'}}\n",
      ">> (29/64) {'smithda07': {'debut': '1999-06-08', 'last_game': '2003-06-25'}}\n",
      ">> (30/64) {'snowj.01': {'debut': '1992-09-20', 'last_game': '2008-09-27'}}\n",
      ">> (31/64) {'stricsc02': {'debut': '1999-08-14', 'last_game': '2010-06-24'}}\n",
      ">> (32/64) {'surhob.01': {'debut': '1987-04-08', 'last_game': '2005-10-02'}}\n",
      ">> (33/64) {'tucket.01': {'debut': '2000-06-03', 'last_game': '2005-06-17'}}\n",
      ">> (34/64) {'walkeke02': {'debut': '2000-04-14', 'last_game': '2005-07-09'}}\n",
      ">> (35/64) {'waszgb.01': {'debut': '2000-07-29', 'last_game': '2000-10-01'}}\n",
      ">> (36/64) {'watsoma03': {'debut': '2000-05-19', 'last_game': '2003-08-21'}}\n",
      ">> (37/64) {'willima09': {'debut': '2000-04-05', 'last_game': '2000-04-29'}}\n",
      ">> (38/64) {'dicker.01': {'debut': '2001-04-22', 'last_game': nan}}\n",
      ">> (39/64) {'forbep.01': {'debut': '1998-07-21', 'last_game': '2001-10-07'}}\n",
      ">> (40/64) {\"jimend'01\": {'debut': '1999-09-15', 'last_game': '2007-09-29'}}\n",
      ">> (41/64) {'ramirju02': {'debut': '1999-09-10', 'last_game': '2005-10-02'}}\n",
      ">> (42/64) {'sabatc.01': {'debut': '2001-04-08', 'last_game': nan}}\n",
      ">> (43/64) {'smartj.01': {'debut': '1999-04-06', 'last_game': '2001-06-30'}}\n",
      ">> (44/64) {'rosajo01': {'debut': '2004-08-14', 'last_game': nan}}\n",
      ">> (45/64) {'sttuemi01': {'debut': '2011-04-25', 'last_game': '2013-09-28'}}\n",
      ">> (46/64) {'harriwi10': {'debut': '2012-08-13', 'last_game': nan}}\n",
      ">> (47/64) {'arrueba01': {'debut': '2014-05-23', 'last_game': '2014-09-28'}}\n",
      ">> (48/64) {'castiru02': {'debut': '2014-09-17', 'last_game': '2016-06-16'}}\n",
      ">> (49/64) {'pricebr10': {'debut': '2014-09-01', 'last_game': '2014-09-08'}}\n",
      ">> (50/64) {'alexasc02': {'debut': '2015-09-02', 'last_game': nan}}\n",
      ">> (51/64) {'davieza02': {'debut': '2015-09-02', 'last_game': nan}}\n",
      ">> (52/64) {'montafr02': {'debut': '2015-09-02', 'last_game': nan}}\n",
      ">> (53/64) {'murraco02': {'debut': '2015-09-02', 'last_game': '2016-10-02'}}\n",
      ">> (54/64) {'willima10': {'debut': '2015-06-12', 'last_game': nan}}\n",
      ">> (55/64) {'willima11': {'debut': '2015-09-23', 'last_game': nan}}\n",
      ">> (56/64) {'campovi01': {'debut': '2016-08-27', 'last_game': '2016-08-27'}}\n",
      ">> (57/64) {'dygesje01': {'debut': '2017-07-29', 'last_game': nan}}\n",
      ">> (58/64) {'lintz02': {'debut': '2017-06-24', 'last_game': nan}}\n",
      ">> (59/64) {'smithch10': {'debut': '2017-06-27', 'last_game': nan}}\n",
      ">> (60/64) {'taylobe10': {'debut': '2017-04-07', 'last_game': nan}}\n",
      ">> (61/64) {'beeksja02': {'debut': '2018-06-07', 'last_game': nan}}\n",
      ">> (62/64) {'lockewa01': {'debut': '2018-06-01', 'last_game': nan}}\n",
      ">> (63/64) {'taylobe11': {'debut': '2018-09-01', 'last_game': nan}}\n",
      ">> (64/64) {'rodrijo07': {'debut': '2019-07-27', 'last_game': nan}}\n"
     ]
    }
   ],
   "source": [
    "# 掌握缺漏的playerID\n",
    "no_match_platerID_lst = BR_WAR_all_FA_df[pd.isna(BR_WAR_all_FA_df[\"debut\"])][\"player_ID\"].unique()\n",
    "print(len(no_match_platerID_lst))\n",
    "\n",
    "# 建立補值字典\n",
    "fill_all_dict = {}\n",
    "for t, i in enumerate(no_match_platerID_lst):\n",
    "    result = find_debut_lastgame(i)\n",
    "    tmp_dict = {i:{\"debut\":result[0], \"last_game\":result[1]}}\n",
    "    print(f\">> ({t+1}/{len(no_match_platerID_lst)})\", tmp_dict)\n",
    "    fill_all_dict.update(tmp_dict)\n",
    "    \n",
    "# fill_all_dict"
   ]
  },
  {
   "cell_type": "code",
   "execution_count": 164,
   "metadata": {},
   "outputs": [],
   "source": [
    "# 用字典補回去\n",
    "loss_mask = BR_WAR_all_FA_df.loc[:, \"player_ID\"].isin(no_match_platerID_lst)\n",
    "BR_WAR_all_FA_df.loc[loss_mask, \"debut\"] = BR_WAR_all_FA_df.loc[loss_mask, \"player_ID\"].apply(lambda _id:  fill_all_dict[_id]['debut'])\n",
    "BR_WAR_all_FA_df.loc[loss_mask, \"finalGame\"] = BR_WAR_all_FA_df.loc[loss_mask, \"player_ID\"].apply(lambda _id:  fill_all_dict[_id]['last_game'])"
   ]
  },
  {
   "cell_type": "code",
   "execution_count": 165,
   "metadata": {},
   "outputs": [],
   "source": [
    "# LM_people_df[LM_people_df[\"player_ID\"].isin(no_match_platerID_lst)]"
   ]
  },
  {
   "cell_type": "code",
   "execution_count": 166,
   "metadata": {},
   "outputs": [
    {
     "data": {
      "text/plain": [
       "Index(['G', 'age', 'lg_ID', 'mlb_ID', 'name_common', 'player_ID', 'salary_BR',\n",
       "       'stint_ID', 'team_ID', 'type', 'year_ID', 'POS', 'salary_LM',\n",
       "       'salary_max', 'salary_max_delf', 'WAR', 'Yrs_BR', 'FA_key', 'Date',\n",
       "       'To Team ID', 'Yrs_FA', 'is_FA_signed', 'bats', 'throws', 'debut',\n",
       "       'finalGame'],\n",
       "      dtype='object')"
      ]
     },
     "execution_count": 166,
     "metadata": {},
     "output_type": "execute_result"
    }
   ],
   "source": [
    "BR_WAR_all_FA_df.columns"
   ]
  },
  {
   "cell_type": "markdown",
   "metadata": {},
   "source": [
    "## is_最後出賽年"
   ]
  },
  {
   "cell_type": "code",
   "execution_count": 167,
   "metadata": {},
   "outputs": [],
   "source": [
    "BR_WAR_all_FA_df[\"is_finalGame_year\"] = BR_WAR_all_FA_df.apply(\n",
    "    lambda row: row['year_ID']==(int(row['finalGame'].split(\"-\")[0])) \n",
    "    if pd.notna(row['finalGame']) else False, axis=1)"
   ]
  },
  {
   "cell_type": "code",
   "execution_count": 168,
   "metadata": {},
   "outputs": [
    {
     "data": {
      "text/plain": [
       "False    21225\n",
       "True      5791\n",
       "Name: is_finalGame_year, dtype: int64"
      ]
     },
     "execution_count": 168,
     "metadata": {},
     "output_type": "execute_result"
    }
   ],
   "source": [
    "BR_WAR_all_FA_df[\"is_finalGame_year\"].value_counts()"
   ]
  },
  {
   "cell_type": "markdown",
   "metadata": {},
   "source": [
    "## 年齡平方"
   ]
  },
  {
   "cell_type": "code",
   "execution_count": 169,
   "metadata": {},
   "outputs": [],
   "source": [
    "# 製作age平方 (age2)\n",
    "BR_WAR_all_FA_df[\"age2\"] = BR_WAR_all_FA_df[\"age\"]*BR_WAR_all_FA_df[\"age\"]"
   ]
  },
  {
   "cell_type": "markdown",
   "metadata": {},
   "source": [
    "## 入明星賽次數 ~2020"
   ]
  },
  {
   "cell_type": "code",
   "execution_count": 170,
   "metadata": {},
   "outputs": [
    {
     "data": {
      "text/plain": [
       "Index(['playerID', 'yearID', 'gameNum', 'gameID', 'teamID', 'lgID', 'GP',\n",
       "       'startingPos'],\n",
       "      dtype='object')"
      ]
     },
     "execution_count": 170,
     "metadata": {},
     "output_type": "execute_result"
    }
   ],
   "source": [
    "LM_AllStar_df.columns"
   ]
  },
  {
   "cell_type": "code",
   "execution_count": 171,
   "metadata": {},
   "outputs": [],
   "source": [
    "LM_AllStar_df.drop_duplicates(subset=[\"playerID\",\"yearID\"], keep=\"first\", inplace=True)"
   ]
  },
  {
   "cell_type": "code",
   "execution_count": 172,
   "metadata": {},
   "outputs": [],
   "source": [
    "# LM_AllStar_df[LM_AllStar_df[\"playerID\"].isin([\"aaronha01\"])]"
   ]
  },
  {
   "cell_type": "code",
   "execution_count": 173,
   "metadata": {},
   "outputs": [],
   "source": [
    "LM_AllStar_times_df = LM_AllStar_df.groupby(\"playerID\").count().reset_index()\n",
    "LM_AllStar_times_dict = dict(zip(LM_AllStar_times_df.playerID, LM_AllStar_times_df.yearID))"
   ]
  },
  {
   "cell_type": "code",
   "execution_count": 174,
   "metadata": {},
   "outputs": [],
   "source": [
    "BR_WAR_all_FA_df.loc[:,\"Allstar_times\"] = BR_WAR_all_FA_df.loc[:,\"player_ID\"].apply(\n",
    "    lambda p_id: LM_AllStar_times_dict[p_id] \n",
    "    if p_id in LM_AllStar_times_dict.keys() \n",
    "    else 0)"
   ]
  },
  {
   "cell_type": "code",
   "execution_count": 175,
   "metadata": {},
   "outputs": [
    {
     "data": {
      "text/plain": [
       "<AxesSubplot:>"
      ]
     },
     "execution_count": 175,
     "metadata": {},
     "output_type": "execute_result"
    },
    {
     "data": {
      "image/png": "[encoded data removed]",
      "text/plain": [
       "<Figure size 432x288 with 1 Axes>"
      ]
     },
     "metadata": {
      "needs_background": "light"
     },
     "output_type": "display_data"
    }
   ],
   "source": [
    "BR_WAR_all_FA_df[\"Allstar_times\"].value_counts().plot()"
   ]
  },
  {
   "cell_type": "markdown",
   "metadata": {},
   "source": [
    "## is_當年年資不超過6年"
   ]
  },
  {
   "cell_type": "code",
   "execution_count": 176,
   "metadata": {},
   "outputs": [],
   "source": [
    "Yrs_less_6_mask = BR_WAR_all_FA_df[\"Yrs_BR\"]<=6\n",
    "BR_WAR_all_FA_df.loc[: , \"is_Yrs_less_6\"] = False\n",
    "BR_WAR_all_FA_df.loc[Yrs_less_6_mask , \"is_Yrs_less_6\"] = True"
   ]
  },
  {
   "cell_type": "code",
   "execution_count": 177,
   "metadata": {},
   "outputs": [
    {
     "data": {
      "text/plain": [
       "True     18578\n",
       "False     8438\n",
       "Name: is_Yrs_less_6, dtype: int64"
      ]
     },
     "execution_count": 177,
     "metadata": {},
     "output_type": "execute_result"
    }
   ],
   "source": [
    "BR_WAR_all_FA_df[\"is_Yrs_less_6\"].value_counts()"
   ]
  },
  {
   "cell_type": "code",
   "execution_count": 178,
   "metadata": {},
   "outputs": [
    {
     "name": "stdout",
     "output_type": "stream",
     "text": [
      "<class 'pandas.core.frame.DataFrame'>\n",
      "Int64Index: 27016 entries, 0 to 27015\n",
      "Data columns (total 30 columns):\n",
      "G                    27016 non-null int64\n",
      "age                  27016 non-null float64\n",
      "lg_ID                27016 non-null object\n",
      "mlb_ID               27016 non-null float64\n",
      "name_common          27016 non-null object\n",
      "player_ID            27016 non-null object\n",
      "salary_BR            17014 non-null float64\n",
      "stint_ID             27016 non-null int64\n",
      "team_ID              27016 non-null object\n",
      "type                 27016 non-null object\n",
      "year_ID              27016 non-null int64\n",
      "POS                  27016 non-null object\n",
      "salary_LM            8247 non-null float64\n",
      "salary_max           17110 non-null float64\n",
      "salary_max_delf      17110 non-null float64\n",
      "WAR                  27016 non-null float64\n",
      "Yrs_BR               27016 non-null int64\n",
      "FA_key               27016 non-null object\n",
      "Date                 2908 non-null object\n",
      "To Team ID           2908 non-null object\n",
      "Yrs_FA               2908 non-null float64\n",
      "is_FA_signed         27016 non-null bool\n",
      "bats                 26671 non-null object\n",
      "throws               26671 non-null object\n",
      "debut                27016 non-null object\n",
      "finalGame            26911 non-null object\n",
      "is_finalGame_year    27016 non-null bool\n",
      "age2                 27016 non-null float64\n",
      "Allstar_times        27016 non-null int64\n",
      "is_Yrs_less_6        27016 non-null bool\n",
      "dtypes: bool(3), float64(9), int64(5), object(13)\n",
      "memory usage: 5.8+ MB\n"
     ]
    }
   ],
   "source": [
    "BR_WAR_all_FA_df.info()"
   ]
  },
  {
   "cell_type": "markdown",
   "metadata": {},
   "source": [
    "## 輸出"
   ]
  },
  {
   "cell_type": "code",
   "execution_count": 180,
   "metadata": {},
   "outputs": [],
   "source": [
    "BR_WAR_all_FA_df_pitch = BR_WAR_all_FA_df[BR_WAR_all_FA_df['type'].isin([\"pitch\"])].reset_index(drop=True)\n",
    "BR_WAR_all_FA_df_bat = BR_WAR_all_FA_df[BR_WAR_all_FA_df['type'].isin([\"bat\"])].reset_index(drop=True)"
   ]
  },
  {
   "cell_type": "code",
   "execution_count": 181,
   "metadata": {},
   "outputs": [
    {
     "name": "stderr",
     "output_type": "stream",
     "text": [
      "C:\\Users\\Daguan\\miniconda3\\lib\\site-packages\\pandas\\io\\stata.py:2303: InvalidColumnName: \n",
      "Not all pandas column names were valid Stata variable names.\n",
      "The following replacements have been made:\n",
      "\n",
      "    b'To Team ID'   ->   To_Team_ID\n",
      "\n",
      "If this is not what you expect, please make sure you have Stata-compliant\n",
      "column names in your DataFrame (strings only, max 32 characters, only\n",
      "alphanumerics and underscores, no Stata reserved words)\n",
      "\n",
      "  warnings.warn(ws, InvalidColumnName)\n"
     ]
    },
    {
     "name": "stdout",
     "output_type": "stream",
     "text": [
      " ==輸出備份xlsx== ::: pitch_WAR_20210313_14.55.54.xlsx\n",
      " ==輸出備份xlsx== ::: bat_WAR_20210313_14.56.45.xlsx\n"
     ]
    }
   ],
   "source": [
    "BR_WAR_all_FA_df_pitch.to_stata('pitch_WAR.dta')\n",
    "BR_WAR_all_FA_df_bat.to_stata('bat_WAR.dta')\n",
    "\n",
    "formtoXlsx(BR_WAR_all_FA_df_pitch, \"pitch_WAR\")\n",
    "formtoXlsx(BR_WAR_all_FA_df_bat, \"bat_WAR\")"
   ]
  },
  {
   "cell_type": "markdown",
   "metadata": {},
   "source": [
    "# STATA Tips"
   ]
  },
  {
   "cell_type": "markdown",
   "metadata": {},
   "source": [
    "stata [固定效果model](https://www.stata.com/features/overview/linear-fixed-and-random-effects-models/) "
   ]
  },
  {
   "cell_type": "markdown",
   "metadata": {},
   "source": [
    "虛擬變數製作(is_XX球隊) >> stata [建立虛擬變數](https://www.stata.com/support/faqs/data-management/creating-dummy-variables/)"
   ]
  },
  {
   "cell_type": "code",
   "execution_count": null,
   "metadata": {},
   "outputs": [],
   "source": []
  }
 ],
 "metadata": {
  "kernelspec": {
   "display_name": "Python 3",
   "language": "python",
   "name": "python3"
  },
  "language_info": {
   "codemirror_mode": {
    "name": "ipython",
    "version": 3
   },
   "file_extension": ".py",
   "mimetype": "text/x-python",
   "name": "python",
   "nbconvert_exporter": "python",
   "pygments_lexer": "ipython3",
   "version": "3.8.5"
  },
  "toc-autonumbering": true,
  "toc-showmarkdowntxt": false
 },
 "nbformat": 4,
 "nbformat_minor": 4
}
